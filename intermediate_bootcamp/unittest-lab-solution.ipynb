{
 "cells": [
  {
   "cell_type": "markdown",
   "metadata": {},
   "source": [
    "# Unit testing lab\n",
    "\n",
    "### Testing cards\n",
    "\n",
    "Using the `cards.py` module as our 'unit under test', create a `unittest.TestCase` with tests check that\n",
    "\n",
    "- a new deck has 52 cards\n",
    "- a new deck does not repeat any cards\n",
    "- two cards with the same rank & suit compare as the same\n",
    "- adding invalid ranks/suits raises an appropriate exception"
   ]
  },
  {
   "cell_type": "code",
   "execution_count": 1,
   "metadata": {},
   "outputs": [
    {
     "name": "stdout",
     "output_type": "stream",
     "text": [
      "Overwriting data/test-examples/card-test-lab.py\n"
     ]
    }
   ],
   "source": [
    "%%file data/test-examples/card-test-lab.py\n",
    "import unittest\n",
    "\n",
    "from cards import Hand, Card, Deck\n",
    "\n",
    "class TestDeck(unittest.TestCase):\n",
    "    \n",
    "    def setUp(self):\n",
    "        self.deck = Deck()\n",
    "        \n",
    "    def test52(self):\n",
    "        self.assertEqual(len(self.deck), 52)\n",
    "        \n",
    "    def test_no_dupes(self):\n",
    "        seen = set()\n",
    "        for card in self.deck:\n",
    "            self.assertNotIn(card, seen)\n",
    "            seen.add(card)\n",
    "            \n",
    "    def test_no_dupes2(self):\n",
    "        self.assertEqual(len(set(self.deck)), len(self.deck))\n",
    "            \n",
    "class TestCards(unittest.TestCase):\n",
    "    \n",
    "    def test_same_card(self):\n",
    "        c0 = Card(rank='A', suit='club')\n",
    "        c1 = Card(rank='A', suit='club')\n",
    "        self.assertEqual(c0, c1)\n",
    "        \n",
    "    def test_invalid_rank(self):\n",
    "        with self.assertRaises(ValueError):\n",
    "            Card(rank='B', suit='club')\n",
    "            \n",
    "    def test_invalid_suit(self):\n",
    "        with self.assertRaises(ValueError):\n",
    "            Card(rank='A', suit='clubsoda')\n",
    "            \n",
    "\n",
    "class TestHand(unittest.TestCase):\n",
    "    \n",
    "    def test_simple(self):\n",
    "        hand = Hand([Card(rank='5', suit='spade')])\n",
    "        self.assertEqual(hand.score(), 5)\n",
    "        \n",
    "    def test_soft_17(self):\n",
    "        hand = Hand([\n",
    "            Card(rank='A', suit='spade'),\n",
    "            Card(rank='6', suit='spade'),\n",
    "        ])\n",
    "        self.assertEqual(hand.score(), 17)\n",
    "            \n",
    "    def test_hard_17(self):\n",
    "        hand = Hand([\n",
    "            Card(rank='A', suit='spade'),\n",
    "            Card(rank='K', suit='spade'),\n",
    "            Card(rank='6', suit='spade'),\n",
    "        ])\n",
    "        self.assertEqual(hand.score(), 17)\n",
    "        \n",
    "    def test_really_hard_14(self):\n",
    "        hand = Hand([\n",
    "            Card(rank='A', suit='spade'),\n",
    "            Card(rank='A', suit='club'),\n",
    "            Card(rank='A', suit='heart'),\n",
    "            Card(rank='A', suit='diamond'),\n",
    "            Card(rank='K', suit='spade')\n",
    "        ])\n",
    "        self.assertEqual(hand.score(), 14)\n",
    "        \n"
   ]
  },
  {
   "cell_type": "code",
   "execution_count": 2,
   "metadata": {},
   "outputs": [
    {
     "name": "stderr",
     "output_type": "stream",
     "text": [
      "..........\n",
      "----------------------------------------------------------------------\n",
      "Ran 10 tests in 0.001s\n",
      "\n",
      "OK\n"
     ]
    }
   ],
   "source": [
    "%%bash\n",
    "cd data/test-examples\n",
    "python -m unittest card-test-lab.py"
   ]
  },
  {
   "cell_type": "markdown",
   "metadata": {},
   "source": [
    "### Evaulating coverage\n",
    "\n",
    "Use the coverage module to see which lines are missing test coverage. Add tests that exercise these lines in cards.py"
   ]
  },
  {
   "cell_type": "code",
   "execution_count": 3,
   "metadata": {},
   "outputs": [
    {
     "name": "stdout",
     "output_type": "stream",
     "text": [
      "Name               Stmts   Miss  Cover   Missing\n",
      "------------------------------------------------\n",
      "card-test-lab.py      38      0   100%\n",
      "cards.py              46      6    87%   27, 42, 51, 54, 57, 75\n",
      "------------------------------------------------\n",
      "TOTAL                 84      6    93%\n"
     ]
    },
    {
     "name": "stderr",
     "output_type": "stream",
     "text": [
      "..........\n",
      "----------------------------------------------------------------------\n",
      "Ran 10 tests in 0.001s\n",
      "\n",
      "OK\n"
     ]
    }
   ],
   "source": [
    "%%bash\n",
    "cd data/test-examples\n",
    "coverage run -m unittest card-test-lab.py\n",
    "coverage report -m"
   ]
  },
  {
   "cell_type": "code",
   "execution_count": 6,
   "metadata": {},
   "outputs": [
    {
     "name": "stderr",
     "output_type": "stream",
     "text": [
      "..........\n",
      "----------------------------------------------------------------------\n",
      "Ran 10 tests in 0.002s\n",
      "\n",
      "OK\n"
     ]
    }
   ],
   "source": [
    "%%bash\n",
    "cd data/test-examples\n",
    "coverage erase\n",
    "coverage run -m unittest card-test-lab.py\n",
    "coverage annotate"
   ]
  },
  {
   "cell_type": "code",
   "execution_count": 7,
   "metadata": {},
   "outputs": [
    {
     "name": "stdout",
     "output_type": "stream",
     "text": [
      "> import unicodedata\r\n",
      "  \r\n",
      "> ranks = '2 3 4 5 6 7 8 9 10 J Q K A'.split()\r\n",
      "> suits = 'spade heart club diamond'.split()\r\n",
      "  \r\n",
      "> class Card:\r\n",
      ">     suit_repr = {\r\n",
      ">         'spade': unicodedata.lookup('black spade suit'),\r\n",
      ">         'heart': unicodedata.lookup('black heart suit'),\r\n",
      ">         'diamond': unicodedata.lookup('black diamond suit'),\r\n",
      ">         'club': unicodedata.lookup('black club suit')}\r\n",
      "      \r\n",
      ">     def __init__(self, rank, suit):\r\n",
      ">         if rank not in ranks:\r\n",
      "-             raise ValueError('invalid rank')  # pragma: no cover\r\n",
      ">         if suit not in suits:\r\n",
      ">             raise ValueError('invalid suit')\r\n",
      ">         self.rank, self.suit = rank, suit\r\n",
      "          \r\n",
      ">     def __eq__(self, other):   \r\n",
      ">         return self.rank == other.rank and self.suit == other.suit\r\n",
      "      \r\n",
      ">     def __hash__(self):\r\n",
      ">         return hash((self.rank, self.suit))\r\n",
      "      \r\n",
      ">     def __repr__(self):\r\n",
      "!         return f'{self.rank}{self.suit_repr[self.suit]}'\r\n",
      "      \r\n",
      "      \r\n",
      "> class CardStack:\r\n",
      "      \r\n",
      ">     def __init__(self, cards):\r\n",
      ">         self.cards = list(cards)\r\n",
      "          \r\n",
      ">     def __len__(self):\r\n",
      ">         return len(self.cards)\r\n",
      "      \r\n",
      ">     def __getitem__(self, i):\r\n",
      ">         return self.cards[i]\r\n",
      "      \r\n",
      ">     def __repr__(self):\r\n",
      "!         return ' '.join(repr(c) for c in self)\r\n",
      "      \r\n",
      "      \r\n",
      "> class Deck(CardStack):\r\n",
      "      \r\n",
      ">     def __init__(self):\r\n",
      ">         super().__init__(Card(r, s) for r in ranks for s in suits)\r\n",
      "  \r\n",
      ">     def __setitem__(self, i, value):\r\n",
      "!         self.cards[i] = value\r\n",
      "  \r\n",
      ">     def deal(self, n):\r\n",
      "!         return Hand([self.cards.pop() for i in range(n)])\r\n",
      "      \r\n",
      ">     def draw(self, hand):\r\n",
      "!         hand.add(self.cards.pop())\r\n",
      "      \r\n",
      "  \r\n",
      "> class Hand(CardStack):\r\n",
      "      \r\n",
      ">     def score(self):\r\n",
      ">         aces = [c for c in self if c.rank == 'A']\r\n",
      ">         others = [c for c in self if c.rank != 'A']\r\n",
      ">         subtotal = sum(\r\n",
      ">             int(c.rank) if c.rank.isdigit() else 10\r\n",
      ">             for c in others)\r\n",
      ">         subtotal += 11 * len(aces)\r\n",
      ">         while subtotal > 21 and aces:\r\n",
      ">             aces.pop()\r\n",
      ">             subtotal -= 10\r\n",
      ">         return subtotal\r\n",
      "      \r\n",
      ">     def add(self, card):\r\n",
      "!         self.cards.append(card)\r\n",
      "              \r\n",
      "      \r\n"
     ]
    }
   ],
   "source": [
    "!cat data/test-examples/cards.py,cover"
   ]
  },
  {
   "cell_type": "code",
   "execution_count": 8,
   "metadata": {},
   "outputs": [
    {
     "name": "stdout",
     "output_type": "stream",
     "text": [
      "Overwriting data/test-examples/card-test-lab2.py\n"
     ]
    }
   ],
   "source": [
    "%%file data/test-examples/card-test-lab2.py\n",
    "import unittest\n",
    "import random\n",
    "\n",
    "from cards import Hand, Card, Deck\n",
    "\n",
    "class TestDeck(unittest.TestCase):\n",
    "    \n",
    "    def setUp(self):\n",
    "        self.deck = Deck()\n",
    "        \n",
    "    def test52(self):\n",
    "        self.assertEqual(len(self.deck), 52)\n",
    "        \n",
    "    def test_no_dupes(self):\n",
    "        seen = set()\n",
    "        for card in self.deck:\n",
    "            self.assertNotIn(card, seen)\n",
    "            seen.add(card)\n",
    "            \n",
    "    def test_repr_string(self):\n",
    "        \"smoke test\"\n",
    "        self.assertIsInstance(repr(self.deck), str)\n",
    "        \n",
    "    def test_shuffle(self):\n",
    "        deck2 = Deck()\n",
    "        random.shuffle(deck2)\n",
    "        self.assertNotEqual(self.deck.cards, deck2.cards)\n",
    "        \n",
    "    def test_deal_5(self):\n",
    "        hand = self.deck.deal(5)\n",
    "        self.assertEqual(len(hand), 5)\n",
    "        \n",
    "    def test_draw(self):\n",
    "        hand = self.deck.deal(5)\n",
    "        self.deck.draw(hand)\n",
    "        self.assertEqual(len(hand), 6)\n",
    "            \n",
    "class TestCards(unittest.TestCase):\n",
    "    \n",
    "    def test_repr_string(self):\n",
    "        self.assertIsInstance(repr(Card(rank='A', suit='club')), str)\n",
    "            \n",
    "    def test_same_card(self):\n",
    "        c0 = Card(rank='A', suit='club')\n",
    "        c1 = Card(rank='A', suit='club')\n",
    "        self.assertEqual(c0, c1)\n",
    "        \n",
    "    def test_invalid_rank(self):\n",
    "        with self.assertRaises(ValueError):\n",
    "            Card(rank='B', suit='club')\n",
    "            \n",
    "    def test_invalid_suit(self):\n",
    "        with self.assertRaises(ValueError):\n",
    "            Card(rank='A', suit='clubs')\n",
    "            \n",
    "\n",
    "class TestHand(unittest.TestCase):\n",
    "    \n",
    "    def test_simple(self):\n",
    "        hand = Hand([Card(rank='5', suit='spade')])\n",
    "        self.assertEqual(hand.score(), 5)\n",
    "        \n",
    "    def test_soft_17(self):\n",
    "        hand = Hand([\n",
    "            Card(rank='A', suit='spade'),\n",
    "            Card(rank='6', suit='spade'),\n",
    "        ])\n",
    "        self.assertEqual(hand.score(), 17)\n",
    "            \n",
    "    def test_hard_17(self):\n",
    "        hand = Hand([\n",
    "            Card(rank='A', suit='spade'),\n",
    "            Card(rank='K', suit='spade'),\n",
    "            Card(rank='6', suit='spade'),\n",
    "        ])\n",
    "        self.assertEqual(hand.score(), 17)\n",
    "        \n",
    "    def test_really_hard_14(self):\n",
    "        hand = Hand([\n",
    "            Card(rank='A', suit='spade'),\n",
    "            Card(rank='A', suit='club'),\n",
    "            Card(rank='A', suit='heart'),\n",
    "            Card(rank='A', suit='diamond'),\n",
    "            Card(rank='K', suit='spade')\n",
    "        ])\n",
    "        self.assertEqual(hand.score(), 14)\n",
    "        \n"
   ]
  },
  {
   "cell_type": "code",
   "execution_count": 9,
   "metadata": {},
   "outputs": [
    {
     "name": "stdout",
     "output_type": "stream",
     "text": [
      "Name                Stmts   Miss  Cover   Missing\n",
      "-------------------------------------------------\n",
      "card-test-lab2.py      52      0   100%\n",
      "cards.py               46      0   100%\n",
      "-------------------------------------------------\n",
      "TOTAL                  98      0   100%\n"
     ]
    },
    {
     "name": "stderr",
     "output_type": "stream",
     "text": [
      "..............\n",
      "----------------------------------------------------------------------\n",
      "Ran 14 tests in 0.002s\n",
      "\n",
      "OK\n"
     ]
    }
   ],
   "source": [
    "%%bash\n",
    "cd data/test-examples\n",
    "coverage erase\n",
    "coverage run -m unittest card-test-lab2.py\n",
    "coverage report -m"
   ]
  },
  {
   "cell_type": "code",
   "execution_count": 10,
   "metadata": {},
   "outputs": [
    {
     "name": "stdout",
     "output_type": "stream",
     "text": [
      "Name                Stmts   Miss Branch BrPart  Cover   Missing\n",
      "---------------------------------------------------------------\n",
      "card-test-lab2.py      52      0      2      0   100%\n",
      "cards.py               46      0     16      0   100%\n",
      "---------------------------------------------------------------\n",
      "TOTAL                  98      0     18      0   100%\n"
     ]
    },
    {
     "name": "stderr",
     "output_type": "stream",
     "text": [
      "..............\n",
      "----------------------------------------------------------------------\n",
      "Ran 14 tests in 0.004s\n",
      "\n",
      "OK\n"
     ]
    }
   ],
   "source": [
    "%%bash\n",
    "cd data/test-examples\n",
    "coverage erase\n",
    "coverage run --branch -m unittest card-test-lab2.py\n",
    "coverage report -m"
   ]
  },
  {
   "cell_type": "code",
   "execution_count": null,
   "metadata": {},
   "outputs": [],
   "source": [
    "if condition:\n",
    "    something()\n",
    "something_else()"
   ]
  }
 ],
 "metadata": {
  "kernelspec": {
   "display_name": "Python 3",
   "language": "python",
   "name": "python3"
  },
  "language_info": {
   "codemirror_mode": {
    "name": "ipython",
    "version": 3
   },
   "file_extension": ".py",
   "mimetype": "text/x-python",
   "name": "python",
   "nbconvert_exporter": "python",
   "pygments_lexer": "ipython3",
   "version": "3.7.6"
  }
 },
 "nbformat": 4,
 "nbformat_minor": 2
}
