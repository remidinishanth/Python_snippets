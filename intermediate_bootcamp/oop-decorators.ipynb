{
 "cells": [
  {
   "cell_type": "markdown",
   "metadata": {},
   "source": [
    "# Decorators and Object-Oriented Programming\n"
   ]
  },
  {
   "cell_type": "markdown",
   "metadata": {},
   "source": [
    "## The `@property` decorator\n",
    "\n",
    "In some languages, it is _strongly discouraged_ to make any data attributes public, as we do here with a `Duck` class:"
   ]
  },
  {
   "cell_type": "code",
   "execution_count": 1,
   "metadata": {},
   "outputs": [
    {
     "data": {
      "text/plain": [
       "'Donald'"
      ]
     },
     "execution_count": 1,
     "metadata": {},
     "output_type": "execute_result"
    }
   ],
   "source": [
    "class DuckV1:\n",
    "    def __init__(self, name):\n",
    "        self.name = name\n",
    "        \n",
    "d1 = DuckV1('Donald')\n",
    "d1.name"
   ]
  },
  {
   "cell_type": "markdown",
   "metadata": {},
   "source": [
    "Let's say we have some code that _uses_ the `Duck` class:"
   ]
  },
  {
   "cell_type": "code",
   "execution_count": 2,
   "metadata": {},
   "outputs": [
    {
     "name": "stdout",
     "output_type": "stream",
     "text": [
      "Donald the Duck says \"Hey there, Daisy!\"\n"
     ]
    }
   ],
   "source": [
    "def talk_like_a(duck, message):\n",
    "    print(f'{duck.name} the Duck says \"{message}\"')\n",
    "    \n",
    "talk_like_a(d1, 'Hey there, Daisy!')"
   ]
  },
  {
   "cell_type": "markdown",
   "metadata": {},
   "source": [
    "Now let's imagine that we have allowed users to create their own `Duck`s, with the ability to update the duck's name. Unfortunately, our target audience is using \"inappropriate\" name, and, and we want to ensure that the duck names are \"appropriate,\" so we replace the public attribute with a \"getter\" and a \"setter\":"
   ]
  },
  {
   "cell_type": "code",
   "execution_count": 3,
   "metadata": {},
   "outputs": [
    {
     "data": {
      "text/plain": [
       "'Donald'"
      ]
     },
     "execution_count": 3,
     "metadata": {},
     "output_type": "execute_result"
    }
   ],
   "source": [
    "class DuckV2:\n",
    "    def __init__(self, name):\n",
    "        self._name = name\n",
    "        \n",
    "    def get_name(self):\n",
    "        return self._name\n",
    "    \n",
    "    def set_name(self, value):\n",
    "        if value.lower() in ('porky', 'ed', 'bugs'):\n",
    "            raise ValueError('Inappropriate name!')\n",
    "        self._name = value\n",
    "    \n",
    "        \n",
    "d2 = DuckV2('Donald')\n",
    "d2.get_name()"
   ]
  },
  {
   "cell_type": "code",
   "execution_count": 4,
   "metadata": {},
   "outputs": [
    {
     "ename": "ValueError",
     "evalue": "Inappropriate name!",
     "output_type": "error",
     "traceback": [
      "\u001b[0;31m---------------------------------------------------------------------------\u001b[0m",
      "\u001b[0;31mValueError\u001b[0m                                Traceback (most recent call last)",
      "\u001b[0;32m<ipython-input-4-c92f908baf51>\u001b[0m in \u001b[0;36m<module>\u001b[0;34m\u001b[0m\n\u001b[0;32m----> 1\u001b[0;31m \u001b[0md2\u001b[0m\u001b[0;34m.\u001b[0m\u001b[0mset_name\u001b[0m\u001b[0;34m(\u001b[0m\u001b[0;34m'Ed'\u001b[0m\u001b[0;34m)\u001b[0m\u001b[0;34m\u001b[0m\u001b[0;34m\u001b[0m\u001b[0m\n\u001b[0m",
      "\u001b[0;32m<ipython-input-3-1cfd46f6b833>\u001b[0m in \u001b[0;36mset_name\u001b[0;34m(self, value)\u001b[0m\n\u001b[1;32m      8\u001b[0m     \u001b[0;32mdef\u001b[0m \u001b[0mset_name\u001b[0m\u001b[0;34m(\u001b[0m\u001b[0mself\u001b[0m\u001b[0;34m,\u001b[0m \u001b[0mvalue\u001b[0m\u001b[0;34m)\u001b[0m\u001b[0;34m:\u001b[0m\u001b[0;34m\u001b[0m\u001b[0;34m\u001b[0m\u001b[0m\n\u001b[1;32m      9\u001b[0m         \u001b[0;32mif\u001b[0m \u001b[0mvalue\u001b[0m\u001b[0;34m.\u001b[0m\u001b[0mlower\u001b[0m\u001b[0;34m(\u001b[0m\u001b[0;34m)\u001b[0m \u001b[0;32min\u001b[0m \u001b[0;34m(\u001b[0m\u001b[0;34m'porky'\u001b[0m\u001b[0;34m,\u001b[0m \u001b[0;34m'ed'\u001b[0m\u001b[0;34m,\u001b[0m \u001b[0;34m'bugs'\u001b[0m\u001b[0;34m)\u001b[0m\u001b[0;34m:\u001b[0m\u001b[0;34m\u001b[0m\u001b[0;34m\u001b[0m\u001b[0m\n\u001b[0;32m---> 10\u001b[0;31m             \u001b[0;32mraise\u001b[0m \u001b[0mValueError\u001b[0m\u001b[0;34m(\u001b[0m\u001b[0;34m'Inappropriate name!'\u001b[0m\u001b[0;34m)\u001b[0m\u001b[0;34m\u001b[0m\u001b[0;34m\u001b[0m\u001b[0m\n\u001b[0m\u001b[1;32m     11\u001b[0m         \u001b[0mself\u001b[0m\u001b[0;34m.\u001b[0m\u001b[0m_name\u001b[0m \u001b[0;34m=\u001b[0m \u001b[0mvalue\u001b[0m\u001b[0;34m\u001b[0m\u001b[0;34m\u001b[0m\u001b[0m\n\u001b[1;32m     12\u001b[0m \u001b[0;34m\u001b[0m\u001b[0m\n",
      "\u001b[0;31mValueError\u001b[0m: Inappropriate name!"
     ]
    }
   ],
   "source": [
    "d2.set_name('Ed')"
   ]
  },
  {
   "cell_type": "markdown",
   "metadata": {},
   "source": [
    "The problem is that now, we've broken our `talk_like_a` function:"
   ]
  },
  {
   "cell_type": "code",
   "execution_count": 5,
   "metadata": {},
   "outputs": [
    {
     "ename": "AttributeError",
     "evalue": "'DuckV2' object has no attribute 'name'",
     "output_type": "error",
     "traceback": [
      "\u001b[0;31m---------------------------------------------------------------------------\u001b[0m",
      "\u001b[0;31mAttributeError\u001b[0m                            Traceback (most recent call last)",
      "\u001b[0;32m<ipython-input-5-a8af19090316>\u001b[0m in \u001b[0;36m<module>\u001b[0;34m\u001b[0m\n\u001b[0;32m----> 1\u001b[0;31m \u001b[0mtalk_like_a\u001b[0m\u001b[0;34m(\u001b[0m\u001b[0md2\u001b[0m\u001b[0;34m,\u001b[0m \u001b[0;34m\"Hey there, Daisy!\"\u001b[0m\u001b[0;34m)\u001b[0m\u001b[0;34m\u001b[0m\u001b[0;34m\u001b[0m\u001b[0m\n\u001b[0m",
      "\u001b[0;32m<ipython-input-2-cae50aad4b0a>\u001b[0m in \u001b[0;36mtalk_like_a\u001b[0;34m(duck, message)\u001b[0m\n\u001b[1;32m      1\u001b[0m \u001b[0;32mdef\u001b[0m \u001b[0mtalk_like_a\u001b[0m\u001b[0;34m(\u001b[0m\u001b[0mduck\u001b[0m\u001b[0;34m,\u001b[0m \u001b[0mmessage\u001b[0m\u001b[0;34m)\u001b[0m\u001b[0;34m:\u001b[0m\u001b[0;34m\u001b[0m\u001b[0;34m\u001b[0m\u001b[0m\n\u001b[0;32m----> 2\u001b[0;31m     \u001b[0mprint\u001b[0m\u001b[0;34m(\u001b[0m\u001b[0;34mf'{duck.name} the Duck says \"{message}\"'\u001b[0m\u001b[0;34m)\u001b[0m\u001b[0;34m\u001b[0m\u001b[0;34m\u001b[0m\u001b[0m\n\u001b[0m\u001b[1;32m      3\u001b[0m \u001b[0;34m\u001b[0m\u001b[0m\n\u001b[1;32m      4\u001b[0m \u001b[0mtalk_like_a\u001b[0m\u001b[0;34m(\u001b[0m\u001b[0md1\u001b[0m\u001b[0;34m,\u001b[0m \u001b[0;34m'Hey there, Daisy!'\u001b[0m\u001b[0;34m)\u001b[0m\u001b[0;34m\u001b[0m\u001b[0;34m\u001b[0m\u001b[0m\n",
      "\u001b[0;31mAttributeError\u001b[0m: 'DuckV2' object has no attribute 'name'"
     ]
    }
   ],
   "source": [
    "talk_like_a(d2, \"Hey there, Daisy!\")"
   ]
  },
  {
   "cell_type": "markdown",
   "metadata": {},
   "source": [
    "(and that's why some languages say to _start_ with getters and setters)\n",
    "\n",
    "Python, however, has a solution for this: the `property` function creates a special \"descriptor\" object that allows us to use getters and setters that are accessed _just like attributes_:"
   ]
  },
  {
   "cell_type": "code",
   "execution_count": 6,
   "metadata": {},
   "outputs": [
    {
     "data": {
      "text/plain": [
       "'Donald'"
      ]
     },
     "execution_count": 6,
     "metadata": {},
     "output_type": "execute_result"
    }
   ],
   "source": [
    "class DuckV3:\n",
    "    def __init__(self, name):\n",
    "        self._name = name\n",
    "        \n",
    "    def get_name(self):\n",
    "        return self._name\n",
    "    \n",
    "    def set_name(self, value):\n",
    "        if value.lower() in ('porky', 'ed', 'bugs'):\n",
    "            raise ValueError('Inappropriate name!')\n",
    "        self._name = value\n",
    "        \n",
    "    name = property(get_name, set_name)\n",
    "    \n",
    "        \n",
    "d3 = DuckV3('Donald')\n",
    "d3.name"
   ]
  },
  {
   "cell_type": "code",
   "execution_count": 7,
   "metadata": {},
   "outputs": [
    {
     "ename": "ValueError",
     "evalue": "Inappropriate name!",
     "output_type": "error",
     "traceback": [
      "\u001b[0;31m---------------------------------------------------------------------------\u001b[0m",
      "\u001b[0;31mValueError\u001b[0m                                Traceback (most recent call last)",
      "\u001b[0;32m<ipython-input-7-e3a0ecaf518d>\u001b[0m in \u001b[0;36m<module>\u001b[0;34m\u001b[0m\n\u001b[0;32m----> 1\u001b[0;31m \u001b[0md3\u001b[0m\u001b[0;34m.\u001b[0m\u001b[0mname\u001b[0m \u001b[0;34m=\u001b[0m \u001b[0;34m'Ed'\u001b[0m\u001b[0;34m\u001b[0m\u001b[0;34m\u001b[0m\u001b[0m\n\u001b[0m",
      "\u001b[0;32m<ipython-input-6-56a91bc3f455>\u001b[0m in \u001b[0;36mset_name\u001b[0;34m(self, value)\u001b[0m\n\u001b[1;32m      8\u001b[0m     \u001b[0;32mdef\u001b[0m \u001b[0mset_name\u001b[0m\u001b[0;34m(\u001b[0m\u001b[0mself\u001b[0m\u001b[0;34m,\u001b[0m \u001b[0mvalue\u001b[0m\u001b[0;34m)\u001b[0m\u001b[0;34m:\u001b[0m\u001b[0;34m\u001b[0m\u001b[0;34m\u001b[0m\u001b[0m\n\u001b[1;32m      9\u001b[0m         \u001b[0;32mif\u001b[0m \u001b[0mvalue\u001b[0m\u001b[0;34m.\u001b[0m\u001b[0mlower\u001b[0m\u001b[0;34m(\u001b[0m\u001b[0;34m)\u001b[0m \u001b[0;32min\u001b[0m \u001b[0;34m(\u001b[0m\u001b[0;34m'porky'\u001b[0m\u001b[0;34m,\u001b[0m \u001b[0;34m'ed'\u001b[0m\u001b[0;34m,\u001b[0m \u001b[0;34m'bugs'\u001b[0m\u001b[0;34m)\u001b[0m\u001b[0;34m:\u001b[0m\u001b[0;34m\u001b[0m\u001b[0;34m\u001b[0m\u001b[0m\n\u001b[0;32m---> 10\u001b[0;31m             \u001b[0;32mraise\u001b[0m \u001b[0mValueError\u001b[0m\u001b[0;34m(\u001b[0m\u001b[0;34m'Inappropriate name!'\u001b[0m\u001b[0;34m)\u001b[0m\u001b[0;34m\u001b[0m\u001b[0;34m\u001b[0m\u001b[0m\n\u001b[0m\u001b[1;32m     11\u001b[0m         \u001b[0mself\u001b[0m\u001b[0;34m.\u001b[0m\u001b[0m_name\u001b[0m \u001b[0;34m=\u001b[0m \u001b[0mvalue\u001b[0m\u001b[0;34m\u001b[0m\u001b[0;34m\u001b[0m\u001b[0m\n\u001b[1;32m     12\u001b[0m \u001b[0;34m\u001b[0m\u001b[0m\n",
      "\u001b[0;31mValueError\u001b[0m: Inappropriate name!"
     ]
    }
   ],
   "source": [
    "d3.name = 'Ed'"
   ]
  },
  {
   "cell_type": "markdown",
   "metadata": {},
   "source": [
    "... and it works with our function now:"
   ]
  },
  {
   "cell_type": "code",
   "execution_count": 8,
   "metadata": {},
   "outputs": [
    {
     "name": "stdout",
     "output_type": "stream",
     "text": [
      "Donald the Duck says \"Hey there, Daisy!\"\n"
     ]
    }
   ],
   "source": [
    "talk_like_a(d3, \"Hey there, Daisy!\")"
   ]
  },
  {
   "cell_type": "markdown",
   "metadata": {},
   "source": [
    "### The decorator syntax\n",
    "\n",
    "The code above is *ok*, but could be improved:\n",
    "\n",
    "- We don't need access to the old `get_name` and `set_name` functions any more since we can use them via the `property`\n",
    "- The fact that the getter and setter are later wrapped up in a property is kind of obscured by being lower in the class definition.\n",
    "\n",
    "To rectify this, we can use the decorator syntax:\n",
    "\n",
    "If we type:\n",
    "\n",
    "```python\n",
    "@foo\n",
    "def my_function():\n",
    "    ...\n",
    "```\n",
    "\n",
    "then Python \"re-writes\" this as:\n",
    "\n",
    "```python\n",
    "def my_function():\n",
    "    ...\n",
    "my_function = foo(my_function)\n",
    "```"
   ]
  },
  {
   "cell_type": "markdown",
   "metadata": {},
   "source": [
    "### The @property decorator\n",
    "\n",
    "The `property` function can be used as a decorator, as well, with the following syntax:"
   ]
  },
  {
   "cell_type": "code",
   "execution_count": 9,
   "metadata": {},
   "outputs": [],
   "source": [
    "class DuckV4(object):\n",
    "    def __init__(self, name):\n",
    "        self._name = name\n",
    "        \n",
    "    @property\n",
    "    def name(self):\n",
    "        '''getter for name attribute'''\n",
    "        return self._name\n",
    "    \n",
    "    @name.setter\n",
    "    def name(self, val):\n",
    "        '''setter for name attribute'''\n",
    "        if val.lower() in ('porky', 'ed', 'bugs'):\n",
    "            raise ValueError('Inappropriate name!')\n",
    "        self._name = val\n",
    "    "
   ]
  },
  {
   "cell_type": "code",
   "execution_count": 10,
   "metadata": {},
   "outputs": [
    {
     "data": {
      "text/plain": [
       "'Donald'"
      ]
     },
     "execution_count": 10,
     "metadata": {},
     "output_type": "execute_result"
    }
   ],
   "source": [
    "d4 = DuckV4('Donald')\n",
    "d4.name"
   ]
  },
  {
   "cell_type": "code",
   "execution_count": 11,
   "metadata": {},
   "outputs": [
    {
     "data": {
      "text/plain": [
       "'Daffy'"
      ]
     },
     "execution_count": 11,
     "metadata": {},
     "output_type": "execute_result"
    }
   ],
   "source": [
    "d4.name = 'Daffy'\n",
    "d4.name"
   ]
  },
  {
   "cell_type": "code",
   "execution_count": 12,
   "metadata": {},
   "outputs": [
    {
     "ename": "ValueError",
     "evalue": "Inappropriate name!",
     "output_type": "error",
     "traceback": [
      "\u001b[0;31m---------------------------------------------------------------------------\u001b[0m",
      "\u001b[0;31mValueError\u001b[0m                                Traceback (most recent call last)",
      "\u001b[0;32m<ipython-input-12-657bb04cc7e0>\u001b[0m in \u001b[0;36m<module>\u001b[0;34m\u001b[0m\n\u001b[0;32m----> 1\u001b[0;31m \u001b[0md4\u001b[0m\u001b[0;34m.\u001b[0m\u001b[0mname\u001b[0m \u001b[0;34m=\u001b[0m \u001b[0;34m'Bugs'\u001b[0m\u001b[0;34m\u001b[0m\u001b[0;34m\u001b[0m\u001b[0m\n\u001b[0m",
      "\u001b[0;32m<ipython-input-9-79a9f7f2ee67>\u001b[0m in \u001b[0;36mname\u001b[0;34m(self, val)\u001b[0m\n\u001b[1;32m     12\u001b[0m         \u001b[0;34m'''setter for name attribute'''\u001b[0m\u001b[0;34m\u001b[0m\u001b[0;34m\u001b[0m\u001b[0m\n\u001b[1;32m     13\u001b[0m         \u001b[0;32mif\u001b[0m \u001b[0mval\u001b[0m\u001b[0;34m.\u001b[0m\u001b[0mlower\u001b[0m\u001b[0;34m(\u001b[0m\u001b[0;34m)\u001b[0m \u001b[0;32min\u001b[0m \u001b[0;34m(\u001b[0m\u001b[0;34m'porky'\u001b[0m\u001b[0;34m,\u001b[0m \u001b[0;34m'ed'\u001b[0m\u001b[0;34m,\u001b[0m \u001b[0;34m'bugs'\u001b[0m\u001b[0;34m)\u001b[0m\u001b[0;34m:\u001b[0m\u001b[0;34m\u001b[0m\u001b[0;34m\u001b[0m\u001b[0m\n\u001b[0;32m---> 14\u001b[0;31m             \u001b[0;32mraise\u001b[0m \u001b[0mValueError\u001b[0m\u001b[0;34m(\u001b[0m\u001b[0;34m'Inappropriate name!'\u001b[0m\u001b[0;34m)\u001b[0m\u001b[0;34m\u001b[0m\u001b[0;34m\u001b[0m\u001b[0m\n\u001b[0m\u001b[1;32m     15\u001b[0m         \u001b[0mself\u001b[0m\u001b[0;34m.\u001b[0m\u001b[0m_name\u001b[0m \u001b[0;34m=\u001b[0m \u001b[0mval\u001b[0m\u001b[0;34m\u001b[0m\u001b[0;34m\u001b[0m\u001b[0m\n\u001b[1;32m     16\u001b[0m \u001b[0;34m\u001b[0m\u001b[0m\n",
      "\u001b[0;31mValueError\u001b[0m: Inappropriate name!"
     ]
    }
   ],
   "source": [
    "d4.name = 'Bugs'"
   ]
  },
  {
   "cell_type": "code",
   "execution_count": 13,
   "metadata": {},
   "outputs": [
    {
     "name": "stdout",
     "output_type": "stream",
     "text": [
      "Daffy the Duck says \"Hey there, Daisy!\"\n"
     ]
    }
   ],
   "source": [
    "talk_like_a(d4, 'Hey there, Daisy!')"
   ]
  },
  {
   "cell_type": "markdown",
   "metadata": {},
   "source": [
    "Practically speaking, we can also use `@property` to create computed attributes:"
   ]
  },
  {
   "cell_type": "code",
   "execution_count": 14,
   "metadata": {},
   "outputs": [],
   "source": [
    "class Rect(object):\n",
    "    \n",
    "    def __init__(self, w, h):\n",
    "        self.w, self.h = w, h\n",
    "        \n",
    "    @property\n",
    "    def area(self):\n",
    "        return self.w * self.h\n",
    "        \n",
    "r = Rect(3,4)"
   ]
  },
  {
   "cell_type": "code",
   "execution_count": 15,
   "metadata": {},
   "outputs": [
    {
     "data": {
      "text/plain": [
       "12"
      ]
     },
     "execution_count": 15,
     "metadata": {},
     "output_type": "execute_result"
    }
   ],
   "source": [
    "r.area"
   ]
  },
  {
   "cell_type": "code",
   "execution_count": 16,
   "metadata": {},
   "outputs": [
    {
     "data": {
      "text/plain": [
       "16"
      ]
     },
     "execution_count": 16,
     "metadata": {},
     "output_type": "execute_result"
    }
   ],
   "source": [
    "r.w = 4\n",
    "r.area"
   ]
  },
  {
   "cell_type": "code",
   "execution_count": 17,
   "metadata": {},
   "outputs": [
    {
     "ename": "AttributeError",
     "evalue": "can't set attribute",
     "output_type": "error",
     "traceback": [
      "\u001b[0;31m---------------------------------------------------------------------------\u001b[0m",
      "\u001b[0;31mAttributeError\u001b[0m                            Traceback (most recent call last)",
      "\u001b[0;32m<ipython-input-17-2824d5c7497d>\u001b[0m in \u001b[0;36m<module>\u001b[0;34m\u001b[0m\n\u001b[0;32m----> 1\u001b[0;31m \u001b[0mr\u001b[0m\u001b[0;34m.\u001b[0m\u001b[0marea\u001b[0m \u001b[0;34m=\u001b[0m \u001b[0;36m5\u001b[0m\u001b[0;34m\u001b[0m\u001b[0;34m\u001b[0m\u001b[0m\n\u001b[0m",
      "\u001b[0;31mAttributeError\u001b[0m: can't set attribute"
     ]
    }
   ],
   "source": [
    "r.area = 5"
   ]
  },
  {
   "cell_type": "markdown",
   "metadata": {},
   "source": [
    "We can even enhance the above by *caching* our computed attribute"
   ]
  },
  {
   "cell_type": "code",
   "execution_count": 18,
   "metadata": {},
   "outputs": [],
   "source": [
    "class Rect(object):\n",
    "    \n",
    "    def __init__(self, w, h):\n",
    "        self._w, self._h = w, h\n",
    "        self._area = None\n",
    "        \n",
    "    @property\n",
    "    def w(self):\n",
    "        return self._w\n",
    "    @w.setter\n",
    "    def w(self, value):\n",
    "        self._w = value\n",
    "        self._area = None\n",
    "        \n",
    "    @property\n",
    "    def h(self):\n",
    "        return self._h\n",
    "    @h.setter\n",
    "    def h(self, value):\n",
    "        self._h = value\n",
    "        self._area = None\n",
    "        \n",
    "    @property\n",
    "    def area(self):\n",
    "        print('get area')\n",
    "        if self._area is None:\n",
    "            self._area = self._calc_area()\n",
    "        return self._area\n",
    "        \n",
    "    def _calc_area(self):\n",
    "        print('calc area')\n",
    "        return self._w * self._h\n",
    "    \n",
    "r = Rect(3,4)\n"
   ]
  },
  {
   "cell_type": "code",
   "execution_count": 19,
   "metadata": {},
   "outputs": [
    {
     "name": "stdout",
     "output_type": "stream",
     "text": [
      "get area\n",
      "calc area\n"
     ]
    },
    {
     "data": {
      "text/plain": [
       "12"
      ]
     },
     "execution_count": 19,
     "metadata": {},
     "output_type": "execute_result"
    }
   ],
   "source": [
    "r.area"
   ]
  },
  {
   "cell_type": "code",
   "execution_count": 20,
   "metadata": {},
   "outputs": [
    {
     "data": {
      "text/plain": [
       "{'_w': 3, '_h': 4, '_area': 12}"
      ]
     },
     "execution_count": 20,
     "metadata": {},
     "output_type": "execute_result"
    }
   ],
   "source": [
    "r.__dict__"
   ]
  },
  {
   "cell_type": "code",
   "execution_count": 21,
   "metadata": {},
   "outputs": [
    {
     "name": "stdout",
     "output_type": "stream",
     "text": [
      "get area\n"
     ]
    },
    {
     "data": {
      "text/plain": [
       "12"
      ]
     },
     "execution_count": 21,
     "metadata": {},
     "output_type": "execute_result"
    }
   ],
   "source": [
    "r.area"
   ]
  },
  {
   "cell_type": "code",
   "execution_count": 22,
   "metadata": {},
   "outputs": [],
   "source": [
    "r.w = 4"
   ]
  },
  {
   "cell_type": "code",
   "execution_count": 23,
   "metadata": {},
   "outputs": [
    {
     "data": {
      "text/plain": [
       "{'_w': 4, '_h': 4, '_area': None}"
      ]
     },
     "execution_count": 23,
     "metadata": {},
     "output_type": "execute_result"
    }
   ],
   "source": [
    "r.__dict__"
   ]
  },
  {
   "cell_type": "code",
   "execution_count": 24,
   "metadata": {},
   "outputs": [
    {
     "name": "stdout",
     "output_type": "stream",
     "text": [
      "get area\n",
      "calc area\n"
     ]
    },
    {
     "data": {
      "text/plain": [
       "16"
      ]
     },
     "execution_count": 24,
     "metadata": {},
     "output_type": "execute_result"
    }
   ],
   "source": [
    "r.area"
   ]
  },
  {
   "cell_type": "code",
   "execution_count": 25,
   "metadata": {
    "scrolled": true
   },
   "outputs": [
    {
     "ename": "AttributeError",
     "evalue": "can't set attribute",
     "output_type": "error",
     "traceback": [
      "\u001b[0;31m---------------------------------------------------------------------------\u001b[0m",
      "\u001b[0;31mAttributeError\u001b[0m                            Traceback (most recent call last)",
      "\u001b[0;32m<ipython-input-25-2824d5c7497d>\u001b[0m in \u001b[0;36m<module>\u001b[0;34m\u001b[0m\n\u001b[0;32m----> 1\u001b[0;31m \u001b[0mr\u001b[0m\u001b[0;34m.\u001b[0m\u001b[0marea\u001b[0m \u001b[0;34m=\u001b[0m \u001b[0;36m5\u001b[0m\u001b[0;34m\u001b[0m\u001b[0;34m\u001b[0m\u001b[0m\n\u001b[0m",
      "\u001b[0;31mAttributeError\u001b[0m: can't set attribute"
     ]
    }
   ],
   "source": [
    "r.area = 5"
   ]
  },
  {
   "cell_type": "markdown",
   "metadata": {
    "collapsed": true,
    "slideshow": {
     "slide_type": "subslide"
    }
   },
   "source": [
    "## Class attributes vs. Instance attributes\n",
    "* attributes set outside `__init__` belong to the *class* (as opposed to the *instance*) and are shared by all instances of the class\n",
    "    * these attributes can be accessed via __`ClassName.var`__ and __`classInstance.var`__\n",
    "* attributes created inside `__init__` (and all other method functions) and prefaced with __`self.`__ belong to the object *instance* and cannot be accessed via __`ClassName.`__"
   ]
  },
  {
   "cell_type": "code",
   "execution_count": 26,
   "metadata": {},
   "outputs": [],
   "source": [
    "class Person(object):\n",
    "    species = 'Human'\n",
    "    \n",
    "    def __init__(self, name):\n",
    "        self.name = name\n",
    "        print(\n",
    "            \"{}'s species is {}\".format(\n",
    "            self.name, self.species))"
   ]
  },
  {
   "cell_type": "code",
   "execution_count": 27,
   "metadata": {},
   "outputs": [
    {
     "name": "stdout",
     "output_type": "stream",
     "text": [
      "Godzilla's species is Human\n"
     ]
    }
   ],
   "source": [
    "p1 = Person('Godzilla')"
   ]
  },
  {
   "cell_type": "code",
   "execution_count": 28,
   "metadata": {},
   "outputs": [
    {
     "data": {
      "text/plain": [
       "('Human', 'Human', 'Godzilla')"
      ]
     },
     "execution_count": 28,
     "metadata": {},
     "output_type": "execute_result"
    }
   ],
   "source": [
    "Person.species, p1.species, p1.name"
   ]
  },
  {
   "cell_type": "code",
   "execution_count": 29,
   "metadata": {},
   "outputs": [
    {
     "ename": "AttributeError",
     "evalue": "type object 'Person' has no attribute 'name'",
     "output_type": "error",
     "traceback": [
      "\u001b[0;31m---------------------------------------------------------------------------\u001b[0m",
      "\u001b[0;31mAttributeError\u001b[0m                            Traceback (most recent call last)",
      "\u001b[0;32m<ipython-input-29-d6ea30305f24>\u001b[0m in \u001b[0;36m<module>\u001b[0;34m\u001b[0m\n\u001b[0;32m----> 1\u001b[0;31m \u001b[0mPerson\u001b[0m\u001b[0;34m.\u001b[0m\u001b[0mname\u001b[0m\u001b[0;34m\u001b[0m\u001b[0;34m\u001b[0m\u001b[0m\n\u001b[0m",
      "\u001b[0;31mAttributeError\u001b[0m: type object 'Person' has no attribute 'name'"
     ]
    }
   ],
   "source": [
    "Person.name"
   ]
  },
  {
   "cell_type": "markdown",
   "metadata": {},
   "source": [
    "http://www.pythontutor.com/"
   ]
  },
  {
   "cell_type": "code",
   "execution_count": 30,
   "metadata": {},
   "outputs": [
    {
     "name": "stdout",
     "output_type": "stream",
     "text": [
      "Mothra's species is Human\n"
     ]
    },
    {
     "data": {
      "text/plain": [
       "('Mothra', 'Human')"
      ]
     },
     "execution_count": 30,
     "metadata": {},
     "output_type": "execute_result"
    }
   ],
   "source": [
    "p2 = Person('Mothra')\n",
    "p2.name, p2.species"
   ]
  },
  {
   "cell_type": "code",
   "execution_count": 31,
   "metadata": {},
   "outputs": [],
   "source": [
    "Person.species = 'animal'"
   ]
  },
  {
   "cell_type": "code",
   "execution_count": 32,
   "metadata": {},
   "outputs": [
    {
     "data": {
      "text/plain": [
       "('animal', 'animal', 'animal')"
      ]
     },
     "execution_count": 32,
     "metadata": {},
     "output_type": "execute_result"
    }
   ],
   "source": [
    "p1.species, p2.species, Person.species"
   ]
  },
  {
   "cell_type": "code",
   "execution_count": 33,
   "metadata": {},
   "outputs": [],
   "source": [
    "p1.species = 'monster'"
   ]
  },
  {
   "cell_type": "code",
   "execution_count": 34,
   "metadata": {},
   "outputs": [
    {
     "data": {
      "text/plain": [
       "('animal', 'monster', 'animal')"
      ]
     },
     "execution_count": 34,
     "metadata": {},
     "output_type": "execute_result"
    }
   ],
   "source": [
    "Person.species, p1.species, p2.species"
   ]
  },
  {
   "cell_type": "markdown",
   "metadata": {
    "collapsed": true,
    "slideshow": {
     "slide_type": "subslide"
    }
   },
   "source": [
    "# Static and Class Methods\n",
    "* static methods are methods that don't operate on an instance of the object and therefore are shared by all instances of the object\n",
    "* class methods are methods that operate on the class itself, rather than instance of the class"
   ]
  },
  {
   "cell_type": "code",
   "execution_count": 35,
   "metadata": {},
   "outputs": [],
   "source": [
    "class Duck(object):\n",
    "    def __init__(self, name):\n",
    "        self._name = name\n",
    "        \n",
    "    @property\n",
    "    def name(self):\n",
    "        '''getter for name attribute'''\n",
    "        return self._name\n",
    "\n",
    "    @name.setter\n",
    "    def name(self, val):\n",
    "        '''setter for name attribute'''\n",
    "        self._name = val\n",
    "    \n",
    "    @staticmethod\n",
    "    def myprint(thing):\n",
    "        '''note that self is NOT the first param'''\n",
    "        print('-' * len(thing))\n",
    "        print(thing)\n",
    "        print('-' * len(thing))"
   ]
  },
  {
   "cell_type": "code",
   "execution_count": 36,
   "metadata": {},
   "outputs": [
    {
     "name": "stdout",
     "output_type": "stream",
     "text": [
      "----------\n",
      "Some thing\n",
      "----------\n"
     ]
    }
   ],
   "source": [
    "d = Duck('Donald')\n",
    "d.myprint('Some thing')"
   ]
  },
  {
   "cell_type": "code",
   "execution_count": 37,
   "metadata": {},
   "outputs": [
    {
     "name": "stdout",
     "output_type": "stream",
     "text": [
      "------------------------\n",
      "Some thing via the class\n",
      "------------------------\n"
     ]
    }
   ],
   "source": [
    "Duck.myprint('Some thing via the class')"
   ]
  },
  {
   "cell_type": "code",
   "execution_count": 38,
   "metadata": {},
   "outputs": [],
   "source": [
    "class Duck(object):\n",
    "    def __init__(self, name):\n",
    "        self._name = name\n",
    "        \n",
    "    @property\n",
    "    def name(self):\n",
    "        '''getter for name attribute'''\n",
    "        return self._name\n",
    "\n",
    "    @name.setter\n",
    "    def name(self, val):\n",
    "        '''setter for name attribute'''\n",
    "        self._name = val\n",
    "    \n",
    "    @staticmethod\n",
    "    def myprint(thing):\n",
    "        '''note that self is NOT the first param'''\n",
    "        print('-' * len(thing))\n",
    "        print(thing)\n",
    "        print('-' * len(thing))\n",
    "        \n",
    "    @classmethod\n",
    "    def myprint_cls(cls, thing):\n",
    "        '''note that self is NOT the first param'''\n",
    "        msg = f'{cls.__name__}: {thing}'\n",
    "        print('-' * len(msg))\n",
    "        print(msg)\n",
    "        print('-' * len(msg))\n",
    "        \n",
    "    #myprint = staticmethod(myprint)"
   ]
  },
  {
   "cell_type": "code",
   "execution_count": 39,
   "metadata": {},
   "outputs": [
    {
     "name": "stdout",
     "output_type": "stream",
     "text": [
      "----------------\n",
      "Duck: Some thing\n",
      "----------------\n"
     ]
    }
   ],
   "source": [
    "d = Duck('Donald')\n",
    "d.myprint_cls('Some thing')"
   ]
  },
  {
   "cell_type": "code",
   "execution_count": 41,
   "metadata": {},
   "outputs": [],
   "source": [
    "class Mallard(Duck): pass"
   ]
  },
  {
   "cell_type": "code",
   "execution_count": 42,
   "metadata": {},
   "outputs": [
    {
     "name": "stdout",
     "output_type": "stream",
     "text": [
      "-------------------\n",
      "Mallard: Some thing\n",
      "-------------------\n"
     ]
    }
   ],
   "source": [
    "d = Mallard('Daffy')\n",
    "d.myprint_cls('Some thing')"
   ]
  },
  {
   "cell_type": "markdown",
   "metadata": {},
   "source": [
    "### class/static methods as \"virtual constructors\"\n",
    "\n",
    "Suppose we want to let users create Ducks with a randomly-selected name. \n",
    "\n",
    "We *could* do this with a @staticmethod as follows:"
   ]
  },
  {
   "cell_type": "code",
   "execution_count": 43,
   "metadata": {},
   "outputs": [],
   "source": [
    "import random\n",
    "\n",
    "class Duck(object):\n",
    "    def __init__(self, name):\n",
    "        self._name = name\n",
    "        \n",
    "    @property\n",
    "    def name(self):\n",
    "        '''getter for name attribute'''\n",
    "        return self._name\n",
    "\n",
    "    @name.setter\n",
    "    def name(self, val):\n",
    "        '''setter for name attribute'''\n",
    "        self._name = val\n",
    "        \n",
    "    @staticmethod\n",
    "    def with_random_name(*options):\n",
    "        name = random.choice(options)\n",
    "        result = Duck(name)\n",
    "        return result"
   ]
  },
  {
   "cell_type": "code",
   "execution_count": 50,
   "metadata": {},
   "outputs": [
    {
     "data": {
      "text/plain": [
       "'Daffy'"
      ]
     },
     "execution_count": 50,
     "metadata": {},
     "output_type": "execute_result"
    }
   ],
   "source": [
    "d = Duck.with_random_name('Daffy', 'Donald', 'Scrooge')\n",
    "d.name"
   ]
  },
  {
   "cell_type": "markdown",
   "metadata": {},
   "source": [
    "This breaks down with our Mallard class, though..."
   ]
  },
  {
   "cell_type": "code",
   "execution_count": 52,
   "metadata": {},
   "outputs": [],
   "source": [
    "class Mallard(Duck): pass"
   ]
  },
  {
   "cell_type": "code",
   "execution_count": 53,
   "metadata": {},
   "outputs": [
    {
     "name": "stdout",
     "output_type": "stream",
     "text": [
      "Daffy is a <class '__main__.Duck'>\n"
     ]
    }
   ],
   "source": [
    "d = Mallard.with_random_name('Daffy', 'Donald', 'Scrooge')\n",
    "print(d.name, 'is a', type(d))"
   ]
  },
  {
   "cell_type": "markdown",
   "metadata": {},
   "source": [
    "We can fix this by making our method a @classmethod:"
   ]
  },
  {
   "cell_type": "code",
   "execution_count": 61,
   "metadata": {},
   "outputs": [],
   "source": [
    "import random\n",
    "\n",
    "class Duck(object):\n",
    "    def __init__(self, name):\n",
    "        self._name = name\n",
    "        \n",
    "    @property\n",
    "    def name(self):\n",
    "        '''getter for name attribute'''\n",
    "        return self._name\n",
    "\n",
    "    @name.setter\n",
    "    def name(self, val):\n",
    "        '''setter for name attribute'''\n",
    "        self._name = val\n",
    "        \n",
    "    @classmethod\n",
    "    def with_random_name(cls, *options):\n",
    "        name = random.choice(options)\n",
    "        result = cls(name)\n",
    "        return result"
   ]
  },
  {
   "cell_type": "code",
   "execution_count": 62,
   "metadata": {},
   "outputs": [
    {
     "data": {
      "text/plain": [
       "'Daffy'"
      ]
     },
     "execution_count": 62,
     "metadata": {},
     "output_type": "execute_result"
    }
   ],
   "source": [
    "d = Duck.with_random_name('Daffy', 'Donald', 'Scrooge')\n",
    "d.name"
   ]
  },
  {
   "cell_type": "code",
   "execution_count": 63,
   "metadata": {},
   "outputs": [],
   "source": [
    "class Mallard(Duck): pass"
   ]
  },
  {
   "cell_type": "code",
   "execution_count": 64,
   "metadata": {},
   "outputs": [
    {
     "name": "stdout",
     "output_type": "stream",
     "text": [
      "Daffy is a <class '__main__.Mallard'>\n"
     ]
    }
   ],
   "source": [
    "d = Mallard.with_random_name('Daffy', 'Donald', 'Scrooge')\n",
    "print(d.name, 'is a', type(d))"
   ]
  },
  {
   "cell_type": "markdown",
   "metadata": {},
   "source": [
    "### class methods for accessing  class data\n",
    "\n",
    "Although we can always \"hard-code\" the class name when accessing class data attributes directly, it's less fragile to use a `@classmethod`:"
   ]
  },
  {
   "cell_type": "code",
   "execution_count": 65,
   "metadata": {},
   "outputs": [],
   "source": [
    "import random\n",
    "\n",
    "class Duck(object):\n",
    "    # Key is the name of the duck, value is the Duck\n",
    "    _ducks = {}\n",
    "    \n",
    "    def __init__(self, name):\n",
    "        self._name = name\n",
    "        self._ducks[name] = self\n",
    "        \n",
    "    def __repr__(self):\n",
    "        return f'<{type(self).__name__}: {self._name}>'\n",
    "        \n",
    "    @property\n",
    "    def name(self):\n",
    "        '''getter for name attribute'''\n",
    "        return self._name\n",
    "\n",
    "    @name.setter\n",
    "    def name(self, val):\n",
    "        '''setter for name attribute'''\n",
    "        self._name = val\n",
    "        \n",
    "    @classmethod\n",
    "    def by_name(cls, name):\n",
    "        return cls._ducks[name]"
   ]
  },
  {
   "cell_type": "code",
   "execution_count": 70,
   "metadata": {},
   "outputs": [],
   "source": [
    "Duck('Daffy')\n",
    "Duck('Donald')\n",
    "Duck('Dewey');"
   ]
  },
  {
   "cell_type": "code",
   "execution_count": 67,
   "metadata": {},
   "outputs": [
    {
     "data": {
      "text/plain": [
       "<Duck: Donald>"
      ]
     },
     "execution_count": 67,
     "metadata": {},
     "output_type": "execute_result"
    }
   ],
   "source": [
    "Duck.by_name('Donald')"
   ]
  },
  {
   "cell_type": "code",
   "execution_count": 68,
   "metadata": {},
   "outputs": [
    {
     "data": {
      "text/plain": [
       "<Duck: Daffy>"
      ]
     },
     "execution_count": 68,
     "metadata": {},
     "output_type": "execute_result"
    }
   ],
   "source": [
    "Duck.by_name('Daffy')"
   ]
  },
  {
   "cell_type": "markdown",
   "metadata": {},
   "source": [
    "Now if we have a `Mallard` class, we can choose to either maintain all the Mallards in the `Duck` registry or create their own registry:"
   ]
  },
  {
   "cell_type": "code",
   "execution_count": 71,
   "metadata": {},
   "outputs": [],
   "source": [
    "class SharedRegistryMallard(Duck): pass\n",
    "\n",
    "class PrivateRegistryMallard(Duck):\n",
    "    _ducks = {}  # Shadows the Duck._ducks class attribute"
   ]
  },
  {
   "cell_type": "code",
   "execution_count": 72,
   "metadata": {},
   "outputs": [],
   "source": [
    "SharedRegistryMallard('Gus')\n",
    "SharedRegistryMallard('Kishore')\n",
    "PrivateRegistryMallard('Horatio')\n",
    "PrivateRegistryMallard('Max');"
   ]
  },
  {
   "cell_type": "code",
   "execution_count": 73,
   "metadata": {},
   "outputs": [
    {
     "data": {
      "text/plain": [
       "{'Daffy': <Duck: Daffy>,\n",
       " 'Donald': <Duck: Donald>,\n",
       " 'Dewey': <Duck: Dewey>,\n",
       " 'Gus': <SharedRegistryMallard: Gus>,\n",
       " 'Kishore': <SharedRegistryMallard: Kishore>}"
      ]
     },
     "execution_count": 73,
     "metadata": {},
     "output_type": "execute_result"
    }
   ],
   "source": [
    "Duck._ducks"
   ]
  },
  {
   "cell_type": "code",
   "execution_count": 74,
   "metadata": {},
   "outputs": [
    {
     "data": {
      "text/plain": [
       "{'Horatio': <PrivateRegistryMallard: Horatio>,\n",
       " 'Max': <PrivateRegistryMallard: Max>}"
      ]
     },
     "execution_count": 74,
     "metadata": {},
     "output_type": "execute_result"
    }
   ],
   "source": [
    "PrivateRegistryMallard._ducks"
   ]
  },
  {
   "cell_type": "markdown",
   "metadata": {},
   "source": [
    "## Summary of instance, static, and class methods"
   ]
  },
  {
   "cell_type": "code",
   "execution_count": 91,
   "metadata": {},
   "outputs": [],
   "source": [
    "class Foo(object):\n",
    "    def __init__(self, name):\n",
    "        self._name = name\n",
    "    \n",
    "    def __repr__(self):\n",
    "        return f'<{self._name}>'\n",
    "    \n",
    "    def method(*args):\n",
    "        print(f'method{args}')\n",
    "        \n",
    "    @staticmethod\n",
    "    def static(*args):\n",
    "        print(f'static{args}')\n",
    "        \n",
    "    @classmethod\n",
    "    def clsmethod(*args):\n",
    "        print(f'classmethod({args})')"
   ]
  },
  {
   "cell_type": "code",
   "execution_count": 92,
   "metadata": {},
   "outputs": [],
   "source": [
    "bar = Foo('bar')"
   ]
  },
  {
   "cell_type": "code",
   "execution_count": 93,
   "metadata": {},
   "outputs": [
    {
     "name": "stdout",
     "output_type": "stream",
     "text": [
      "method(1, 2)\n"
     ]
    }
   ],
   "source": [
    "Foo.method(1, 2)"
   ]
  },
  {
   "cell_type": "code",
   "execution_count": 94,
   "metadata": {},
   "outputs": [
    {
     "name": "stdout",
     "output_type": "stream",
     "text": [
      "method(<bar>, 1, 2)\n"
     ]
    }
   ],
   "source": [
    "bar.method(1, 2)"
   ]
  },
  {
   "cell_type": "code",
   "execution_count": 95,
   "metadata": {},
   "outputs": [
    {
     "name": "stdout",
     "output_type": "stream",
     "text": [
      "static(1, 2)\n"
     ]
    }
   ],
   "source": [
    "Foo.static(1, 2)"
   ]
  },
  {
   "cell_type": "code",
   "execution_count": 96,
   "metadata": {},
   "outputs": [
    {
     "name": "stdout",
     "output_type": "stream",
     "text": [
      "static(1, 2)\n"
     ]
    }
   ],
   "source": [
    "bar.static(1, 2)"
   ]
  },
  {
   "cell_type": "code",
   "execution_count": 97,
   "metadata": {},
   "outputs": [
    {
     "name": "stdout",
     "output_type": "stream",
     "text": [
      "classmethod((<class '__main__.Foo'>, 1, 2))\n"
     ]
    }
   ],
   "source": [
    "Foo.clsmethod(1, 2)"
   ]
  },
  {
   "cell_type": "code",
   "execution_count": 98,
   "metadata": {
    "scrolled": true
   },
   "outputs": [
    {
     "name": "stdout",
     "output_type": "stream",
     "text": [
      "classmethod((<class '__main__.Foo'>, 1, 2))\n"
     ]
    }
   ],
   "source": [
    "bar.clsmethod(1, 2)"
   ]
  },
  {
   "cell_type": "markdown",
   "metadata": {},
   "source": [
    "# Lab\n",
    "\n",
    "Open the [OOP Decorators Lab][oop-decorators-lab]\n",
    "\n",
    "[oop-decorators-lab]: ./oop-decorators-lab.ipynb"
   ]
  }
 ],
 "metadata": {
  "kernelspec": {
   "display_name": "Python 3",
   "language": "python",
   "name": "python3"
  },
  "language_info": {
   "codemirror_mode": {
    "name": "ipython",
    "version": 3
   },
   "file_extension": ".py",
   "mimetype": "text/x-python",
   "name": "python",
   "nbconvert_exporter": "python",
   "pygments_lexer": "ipython3",
   "version": "3.7.6"
  }
 },
 "nbformat": 4,
 "nbformat_minor": 1
}
