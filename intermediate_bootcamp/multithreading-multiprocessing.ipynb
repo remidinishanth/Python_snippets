{
 "cells": [
  {
   "cell_type": "markdown",
   "metadata": {
    "slideshow": {
     "slide_type": "slide"
    }
   },
   "source": [
    "# Multithreading and Multiprocessing\n",
    "\n",
    "In this module, you'll learn\n",
    "\n",
    "- How much (or little) concurrency you can get with Python threads\n",
    "- How to use synchronization primitives with threading\n",
    "- How to use the multiprocessing module to better utilize multicore machines\n"
   ]
  },
  {
   "cell_type": "markdown",
   "metadata": {
    "slideshow": {
     "slide_type": "slide"
    }
   },
   "source": [
    "# Threading: the Global Interpreter Lock\n",
    "\n",
    "- Only one Python thread active at a time\n",
    "- C libraries can release the GIL\n",
    "  - I/O libraries, NumPy, etc.\n",
    "- Python threads are real, preemptive OS threads\n"
   ]
  },
  {
   "cell_type": "markdown",
   "metadata": {
    "slideshow": {
     "slide_type": "slide"
    }
   },
   "source": [
    "# Python Threads\n",
    "\n",
    "`threading.Thread(target, args=(), kwargs=None)`\n",
    "- target - Python function to call\n",
    "- args, kwargs - arguments to function\n",
    "- can also subclass & override run()\n"
   ]
  },
  {
   "cell_type": "markdown",
   "metadata": {
    "slideshow": {
     "slide_type": "slide"
    }
   },
   "source": [
    "## Basic threading example"
   ]
  },
  {
   "cell_type": "code",
   "execution_count": 2,
   "metadata": {},
   "outputs": [
    {
     "name": "stdout",
     "output_type": "stream",
     "text": [
      "Press enter to begin: \n",
      "Enter something: something\n",
      "calculated squares up to 1637700 * 1637700 = 2,682,058,014,601 while you typed something\n"
     ]
    }
   ],
   "source": [
    "import threading\n",
    "\n",
    "class MyThread(threading.Thread):\n",
    "    \n",
    "    def run(self):\n",
    "        self.text = input('Enter something: ')\n",
    "        \n",
    "input('Press enter to begin: ')\n",
    "thread = MyThread()\n",
    "thread.start()\n",
    "\n",
    "count, result = 1, 1\n",
    "\n",
    "while thread.is_alive():\n",
    "    result = count * count\n",
    "    count += 1\n",
    "        \n",
    "print(f'calculated squares up to {count} * {count} = {result:,} while you typed {thread.text}')"
   ]
  },
  {
   "cell_type": "markdown",
   "metadata": {},
   "source": [
    "## Classless threading"
   ]
  },
  {
   "cell_type": "code",
   "execution_count": 3,
   "metadata": {
    "scrolled": true
   },
   "outputs": [
    {
     "name": "stdout",
     "output_type": "stream",
     "text": [
      "Press enter to begin: \n",
      "Enter something: carrots\n",
      "calculated squares up to 1539490 * 1539490 = 2,370,026,381,121 while you typed carrots\n"
     ]
    }
   ],
   "source": [
    "def cabbage():\n",
    "    global text\n",
    "    text = input('Enter something: ')\n",
    "    \n",
    "input('Press enter to begin: ')\n",
    "thread = threading.Thread(target=cabbage)\n",
    "thread.start()\n",
    "\n",
    "count, result = 1, 1\n",
    "\n",
    "while thread.is_alive():\n",
    "    result = count * count\n",
    "    count += 1\n",
    "    \n",
    "print(f'calculated squares up to {count} * {count} = {result:,} while you typed {text}')    "
   ]
  },
  {
   "cell_type": "markdown",
   "metadata": {},
   "source": [
    "# Threading for performance (?!)"
   ]
  },
  {
   "cell_type": "code",
   "execution_count": 4,
   "metadata": {},
   "outputs": [],
   "source": [
    "import time\n",
    "import json\n",
    "from urllib.request import urlopen\n",
    "from urllib.parse import urlencode\n",
    "\n",
    "APPID = '10d4440bbaa8581bb8da9bd1fbea5617'\n",
    "UNITS = 'metric'\n",
    "\n",
    "cities = [\n",
    "    'Boulder', 'Atlanta', 'San Francisco',\n",
    "    'Reno', 'Honolulu', 'Zurich', 'Dubai',\n",
    "    'Dublin','Stuttgart', 'Rome', 'Singapore', \n",
    "    'Bangalore', 'Hyderabad', 'Hong Kong',\n",
    "]\n",
    "\n",
    "def get_temp(city, temps, units=UNITS, appid=APPID):\n",
    "    qs = urlencode({\n",
    "        'q': city,\n",
    "        'units': units,\n",
    "        'appid': appid,\n",
    "    })\n",
    "    url = f'http://api.openweathermap.org/data/2.5/weather?{qs}'\n",
    "    with urlopen(url) as resp:\n",
    "        data = json.load(resp)\n",
    "        temps[city] = data['main']['temp']\n",
    "        \n",
    "def run_serially():\n",
    "    for city in cities:\n",
    "        get_temp(city, temps)\n",
    "        \n",
    "def run_threaded():\n",
    "    # Create the threads\n",
    "    threads = [\n",
    "        threading.Thread(target=get_temp, args=(c, temps)) \n",
    "        for c in cities\n",
    "    ]\n",
    "\n",
    "    # start all threads\n",
    "    for thread in threads:\n",
    "        thread.start() # not run()\n",
    "\n",
    "    # wait for all threads to complete\n",
    "    for thread in threads:\n",
    "        thread.join()"
   ]
  },
  {
   "cell_type": "code",
   "execution_count": 5,
   "metadata": {},
   "outputs": [
    {
     "name": "stdout",
     "output_type": "stream",
     "text": [
      "it is 15°C in Atlanta\n",
      "it is 33°C in Bangalore\n",
      "it is 3°C in Boulder\n",
      "it is 31°C in Dubai\n",
      "it is 7°C in Dublin\n",
      "it is 20°C in Hong Kong\n",
      "it is 21°C in Honolulu\n",
      "it is 33°C in Hyderabad\n",
      "it is -3°C in Reno\n",
      "it is 15°C in Rome\n",
      "it is 7°C in San Francisco\n",
      "it is 31°C in Singapore\n",
      "it is 14°C in Stuttgart\n",
      "it is 13°C in Zurich\n",
      "CPU times: user 21.2 ms, sys: 10.1 ms, total: 31.2 ms\n",
      "Wall time: 1.02 s\n"
     ]
    }
   ],
   "source": [
    "%%time\n",
    "temps = {}\n",
    "\n",
    "run_serially()\n",
    "\n",
    "for k, v in sorted(temps.items()):\n",
    "    print(f'it is {v:.0f}°C in {k}')"
   ]
  },
  {
   "cell_type": "code",
   "execution_count": 6,
   "metadata": {},
   "outputs": [
    {
     "name": "stdout",
     "output_type": "stream",
     "text": [
      "it is 15°C in Atlanta\n",
      "it is 33°C in Bangalore\n",
      "it is 3°C in Boulder\n",
      "it is 31°C in Dubai\n",
      "it is 7°C in Dublin\n",
      "it is 20°C in Hong Kong\n",
      "it is 21°C in Honolulu\n",
      "it is 33°C in Hyderabad\n",
      "it is -3°C in Reno\n",
      "it is 15°C in Rome\n",
      "it is 7°C in San Francisco\n",
      "it is 31°C in Singapore\n",
      "it is 14°C in Stuttgart\n",
      "it is 13°C in Zurich\n",
      "CPU times: user 16.3 ms, sys: 9.12 ms, total: 25.4 ms\n",
      "Wall time: 259 ms\n"
     ]
    }
   ],
   "source": [
    "%%time\n",
    "temps = {}\n",
    "\n",
    "run_threaded()\n",
    "\n",
    "for k, v in sorted(temps.items()):\n",
    "    print(f'it is {v:.0f}°C in {k}')"
   ]
  },
  {
   "cell_type": "markdown",
   "metadata": {},
   "source": [
    "# Synchronization primitives\n",
    "\n",
    "Like other threading libraries, Python has support for `Lock`s, `Event`s, and `Semaphore`s:"
   ]
  },
  {
   "cell_type": "code",
   "execution_count": 7,
   "metadata": {},
   "outputs": [],
   "source": [
    "lock = threading.Lock()\n",
    "lock.acquire()\n",
    "# critical work here\n",
    "lock.release()"
   ]
  },
  {
   "cell_type": "code",
   "execution_count": 8,
   "metadata": {},
   "outputs": [
    {
     "name": "stdout",
     "output_type": "stream",
     "text": [
      "Do things with lock locked, will be released after block\n"
     ]
    }
   ],
   "source": [
    "# Better\n",
    "lock = threading.Lock()\n",
    "with lock:\n",
    "    print('Do things with lock locked, will be released after block')"
   ]
  },
  {
   "cell_type": "code",
   "execution_count": 9,
   "metadata": {},
   "outputs": [],
   "source": [
    "sem = threading.Semaphore(4)\n",
    "sem.acquire()\n",
    "sem.acquire()\n",
    "sem.acquire()\n",
    "sem.acquire()\n",
    "# sem.acquire() would block\n",
    "sem.release()"
   ]
  },
  {
   "cell_type": "code",
   "execution_count": 10,
   "metadata": {},
   "outputs": [
    {
     "name": "stdout",
     "output_type": "stream",
     "text": [
      "Do things with semaphore acquired, will be released after block\n"
     ]
    }
   ],
   "source": [
    "# Better\n",
    "sem = threading.Semaphore(4)\n",
    "with sem:\n",
    "    with sem:\n",
    "        with sem:\n",
    "            with sem:\n",
    "                print('Do things with semaphore acquired, will be released after block')"
   ]
  },
  {
   "cell_type": "markdown",
   "metadata": {},
   "source": [
    "### Threadsafe queue class\n",
    "\n",
    "If you structure your threads to send/receive data rather than just _share_ data, you can use a `queue.Queue`:"
   ]
  },
  {
   "cell_type": "code",
   "execution_count": 11,
   "metadata": {},
   "outputs": [],
   "source": [
    "import queue\n",
    "import threading \n",
    "\n",
    "def worker(q):\n",
    "    while True:\n",
    "        value = q.get()\n",
    "        print('I got a {}'.format(value))\n",
    "        if value is None:\n",
    "            break\n",
    "\n",
    "q = queue.Queue()\n",
    "thd = threading.Thread(target=worker, args=(q, ))\n",
    "thd.start()        "
   ]
  },
  {
   "cell_type": "code",
   "execution_count": 12,
   "metadata": {},
   "outputs": [
    {
     "name": "stdout",
     "output_type": "stream",
     "text": [
      "I got a Hello there\n"
     ]
    }
   ],
   "source": [
    "q.put('Hello there')"
   ]
  },
  {
   "cell_type": "code",
   "execution_count": 13,
   "metadata": {},
   "outputs": [
    {
     "name": "stdout",
     "output_type": "stream",
     "text": [
      "I got a General Kenobi\n"
     ]
    }
   ],
   "source": [
    "q.put('General Kenobi')"
   ]
  },
  {
   "cell_type": "code",
   "execution_count": 14,
   "metadata": {},
   "outputs": [
    {
     "name": "stdout",
     "output_type": "stream",
     "text": [
      "I got a None\n"
     ]
    }
   ],
   "source": [
    "q.put(None)"
   ]
  },
  {
   "cell_type": "code",
   "execution_count": 16,
   "metadata": {},
   "outputs": [
    {
     "data": {
      "text/plain": [
       "False"
      ]
     },
     "execution_count": 16,
     "metadata": {},
     "output_type": "execute_result"
    }
   ],
   "source": [
    "thd.is_alive()"
   ]
  },
  {
   "cell_type": "markdown",
   "metadata": {},
   "source": [
    "### Simple thread pool\n",
    "\n",
    "(There is also a thread pool in `multiprocessing.pool.ThreadPool`)"
   ]
  },
  {
   "cell_type": "code",
   "execution_count": 17,
   "metadata": {},
   "outputs": [],
   "source": [
    "class Pool():\n",
    "    def __init__(self, count):\n",
    "        self.count = count\n",
    "        self.job = queue.Queue()\n",
    "        self.result = queue.Queue()\n",
    "        self.threads = [\n",
    "            threading.Thread(target=self.worker)\n",
    "            for i in range(count)\n",
    "        ]\n",
    "        for t in self.threads:\n",
    "            t.setDaemon(True)\n",
    "            t.start()\n",
    "            \n",
    "    def worker(self):\n",
    "        while True:\n",
    "            job = self.job.get()\n",
    "            try:\n",
    "                result = job()\n",
    "            except Exception as err:\n",
    "                self.result.put(err)\n",
    "            else:\n",
    "                self.result.put(result)\n",
    "                "
   ]
  },
  {
   "cell_type": "code",
   "execution_count": 18,
   "metadata": {},
   "outputs": [
    {
     "name": "stdout",
     "output_type": "stream",
     "text": [
      "Jobs created!\n",
      "Starting jobStarting jobStarting job\n",
      "\n",
      "\n",
      "Starting job\n",
      "exiting jobexiting job\n",
      "exiting job\n",
      "exiting job\n",
      "Starting job\n",
      "Starting job\n",
      "\n",
      "Starting job\n",
      "Starting job\n",
      "exiting jobexiting jobexiting job\n",
      "\n",
      "exiting job\n",
      "Starting job\n",
      "Starting job\n",
      "\n",
      "exiting jobexiting job\n",
      "\n"
     ]
    }
   ],
   "source": [
    "pool = Pool(4)\n",
    "import time\n",
    "\n",
    "def job():\n",
    "    print('Starting job', flush=True)\n",
    "    time.sleep(3)\n",
    "    print('exiting job', flush=True)\n",
    "\n",
    "for i in range(10):\n",
    "    pool.job.put(job)\n",
    "print('Jobs created!', flush=True)"
   ]
  },
  {
   "cell_type": "markdown",
   "metadata": {
    "slideshow": {
     "slide_type": "slide"
    }
   },
   "source": [
    "# Multiprocessing with Python\n",
    "\n",
    "In this module, you'll learn\n",
    "\n",
    "- How to use the multiprocessing module \n",
    "- How to use multiprocessing's support for synchronization and communication"
   ]
  },
  {
   "cell_type": "markdown",
   "metadata": {
    "slideshow": {
     "slide_type": "slide"
    }
   },
   "source": [
    "# Multiprocessing\n",
    "\n",
    "- Based on Threading\n",
    "- No GIL, no shared memory without extra work\n",
    "- Uses multicore well"
   ]
  },
  {
   "cell_type": "markdown",
   "metadata": {},
   "source": [
    "# Simple Multiprocessing example"
   ]
  },
  {
   "cell_type": "code",
   "execution_count": 21,
   "metadata": {},
   "outputs": [
    {
     "name": "stdout",
     "output_type": "stream",
     "text": [
      "Running...\n",
      "94122\n",
      "__main__\n",
      "94123\n",
      "__main__\n",
      "94125\n",
      "94126\n",
      "__main__\n",
      "94127\n",
      "__main__\n",
      "94128\n",
      "__main__\n",
      "__main__\n",
      "94129\n",
      "__main__\n",
      "94130\n",
      "__main__\n",
      "work took 3.9555437564849854 seconds\n"
     ]
    }
   ],
   "source": [
    "from multiprocessing import Process, cpu_count\n",
    "import time\n",
    "import os\n",
    "\n",
    "class MuchCPU(Process):\n",
    "    def run(self):\n",
    "        print(os.getpid())\n",
    "        print(__name__)\n",
    "        for i in range(20_000_000):\n",
    "            result = i * i\n",
    "\n",
    "if __name__ == '__main__':\n",
    "    print('Running...')\n",
    "    procs = [MuchCPU() for f in range(cpu_count())]\n",
    "    # procs = [MuchCPU(), MuchCPU()]\n",
    "    t = time.time()\n",
    "    for p in procs:\n",
    "        p.start()\n",
    "        #p.join()\n",
    "    \n",
    "    for p in procs:\n",
    "        p.join()\n",
    "    \n",
    "    print('work took {} seconds'.format(time.time() - t))"
   ]
  },
  {
   "cell_type": "code",
   "execution_count": 22,
   "metadata": {},
   "outputs": [
    {
     "name": "stdout",
     "output_type": "stream",
     "text": [
      "Running...\n",
      "94135\n",
      "__main__\n",
      "94136\n",
      "94137\n",
      "__main__\n",
      "94138\n",
      "__main__\n",
      "__main__\n",
      "94139\n",
      "94140\n",
      "__main__\n",
      "94141\n",
      "__main__\n",
      "__main__\n",
      "94142\n",
      "__main__\n",
      "work took 4.530237913131714 seconds\n"
     ]
    }
   ],
   "source": [
    "from multiprocessing import Process, cpu_count\n",
    "import time\n",
    "import os\n",
    "\n",
    "def target():\n",
    "    print(os.getpid())\n",
    "    print(__name__)\n",
    "    for i in range(20_000_000):\n",
    "        result = i * i\n",
    "\n",
    "print('Running...')\n",
    "procs = [Process(target=target) for f in range(cpu_count())]\n",
    "t = time.time()\n",
    "for p in procs:\n",
    "    p.start()\n",
    "    # p.join()\n",
    "\n",
    "for p in procs:\n",
    "    p.join()\n",
    "\n",
    "print('work took {} seconds'.format(time.time() - t))"
   ]
  },
  {
   "cell_type": "markdown",
   "metadata": {},
   "source": [
    "# Pools"
   ]
  },
  {
   "cell_type": "code",
   "execution_count": 23,
   "metadata": {},
   "outputs": [],
   "source": [
    "from multiprocessing import Pool"
   ]
  },
  {
   "cell_type": "code",
   "execution_count": 24,
   "metadata": {},
   "outputs": [],
   "source": [
    "def much_cpu(n):\n",
    "    for i in range(n):\n",
    "        result = i * i    \n",
    "    return result"
   ]
  },
  {
   "cell_type": "code",
   "execution_count": 25,
   "metadata": {},
   "outputs": [
    {
     "data": {
      "text/plain": [
       "[20000000,\n",
       " 20000000,\n",
       " 20000000,\n",
       " 20000000,\n",
       " 20000000,\n",
       " 20000000,\n",
       " 20000000,\n",
       " 20000000,\n",
       " 20000000,\n",
       " 20000000,\n",
       " 20000000,\n",
       " 20000000,\n",
       " 20000000,\n",
       " 20000000]"
      ]
     },
     "execution_count": 25,
     "metadata": {},
     "output_type": "execute_result"
    }
   ],
   "source": [
    "args_list = [20_000_000] * 14\n",
    "args_list"
   ]
  },
  {
   "cell_type": "markdown",
   "metadata": {},
   "source": [
    "multiprocessing.Pool\n",
    " \n",
    " - map(f, args) => list\n",
    " - imap(f, args) => iterator\n",
    " - imap_unordered(f, args) => iterator but unordered"
   ]
  },
  {
   "cell_type": "code",
   "execution_count": 27,
   "metadata": {
    "scrolled": true
   },
   "outputs": [
    {
     "name": "stdout",
     "output_type": "stream",
     "text": [
      "399999960000001\n",
      "399999960000001\n",
      "399999960000001\n",
      "399999960000001\n",
      "399999960000001\n",
      "399999960000001\n",
      "399999960000001\n",
      "399999960000001\n",
      "399999960000001\n",
      "399999960000001\n",
      "399999960000001\n",
      "399999960000001\n",
      "399999960000001\n",
      "399999960000001\n"
     ]
    }
   ],
   "source": [
    "with Pool(processes=4) as p:\n",
    "    for result in p.imap_unordered(much_cpu, args_list):\n",
    "        print(result)"
   ]
  },
  {
   "cell_type": "markdown",
   "metadata": {
    "slideshow": {
     "slide_type": "slide"
    }
   },
   "source": [
    "# Multiprocess synchronization and communication\n",
    "\n",
    "- Lock, Condition, Semaphore, Event\n",
    "- Queue & Pipe\n",
    "- Shared Memory"
   ]
  },
  {
   "cell_type": "markdown",
   "metadata": {},
   "source": [
    "### Multiprocessing basic shared memory"
   ]
  },
  {
   "cell_type": "code",
   "execution_count": 28,
   "metadata": {},
   "outputs": [
    {
     "name": "stdout",
     "output_type": "stream",
     "text": [
      "CPU times: user 219 ms, sys: 30.4 ms, total: 249 ms\n",
      "Wall time: 250 ms\n"
     ]
    }
   ],
   "source": [
    "%%time\n",
    "import random\n",
    "import multiprocessing\n",
    "\n",
    "ROWS = 100_000\n",
    "COLS = 8\n",
    "\n",
    "X = [random.random() for i in range(ROWS * COLS)]\n",
    "Y = [random.random() for i in range(ROWS * COLS)]"
   ]
  },
  {
   "cell_type": "code",
   "execution_count": 29,
   "metadata": {},
   "outputs": [],
   "source": [
    "def mularray(X, Y):\n",
    "    return [x * y for x, y in zip(X, Y)]"
   ]
  },
  {
   "cell_type": "markdown",
   "metadata": {},
   "source": [
    "Run #1: single-process"
   ]
  },
  {
   "cell_type": "code",
   "execution_count": 30,
   "metadata": {},
   "outputs": [
    {
     "name": "stdout",
     "output_type": "stream",
     "text": [
      "CPU times: user 70.2 ms, sys: 18 ms, total: 88.1 ms\n",
      "Wall time: 88.3 ms\n"
     ]
    }
   ],
   "source": [
    "%%time\n",
    "Z = mularray(X, Y)"
   ]
  },
  {
   "cell_type": "code",
   "execution_count": 31,
   "metadata": {},
   "outputs": [
    {
     "data": {
      "text/plain": [
       "[0.36843399973405455,\n",
       " 0.1605392364981037,\n",
       " 0.16724758172989154,\n",
       " 0.20537871617059872,\n",
       " 0.031997214062215285,\n",
       " 0.14615601862759336,\n",
       " 0.3288515721557365,\n",
       " 0.13964027822644307,\n",
       " 0.3875046208441948,\n",
       " 0.3690174313243539]"
      ]
     },
     "execution_count": 31,
     "metadata": {},
     "output_type": "execute_result"
    }
   ],
   "source": [
    "Z[:10]"
   ]
  },
  {
   "cell_type": "markdown",
   "metadata": {},
   "source": [
    "Run #2: multiprocess (pool)"
   ]
  },
  {
   "cell_type": "code",
   "execution_count": 32,
   "metadata": {},
   "outputs": [
    {
     "data": {
      "text/plain": [
       "[0, 100000, 200000, 300000, 400000, 500000, 600000, 700000]"
      ]
     },
     "execution_count": 32,
     "metadata": {},
     "output_type": "execute_result"
    }
   ],
   "source": [
    "offsets = [c * ROWS for c in range(COLS)]\n",
    "\n",
    "offsets"
   ]
  },
  {
   "cell_type": "code",
   "execution_count": 33,
   "metadata": {},
   "outputs": [
    {
     "name": "stdout",
     "output_type": "stream",
     "text": [
      "CPU times: user 70.2 ms, sys: 72.5 ms, total: 143 ms\n",
      "Wall time: 276 ms\n"
     ]
    }
   ],
   "source": [
    "%%time\n",
    "#offsets = [c * ROWS for c in range(COLS)]\n",
    "\n",
    "def pmul(offset):\n",
    "    return mularray(\n",
    "        X[offset:offset + ROWS], \n",
    "        Y[offset:offset + ROWS],\n",
    "    )\n",
    "\n",
    "Z = []\n",
    "with multiprocessing.Pool() as pool:\n",
    "    for Zpart in pool.imap(pmul, offsets):\n",
    "        Z += Zpart\n",
    "    "
   ]
  },
  {
   "cell_type": "code",
   "execution_count": 34,
   "metadata": {},
   "outputs": [
    {
     "data": {
      "text/plain": [
       "[0.36843399973405455,\n",
       " 0.1605392364981037,\n",
       " 0.16724758172989154,\n",
       " 0.20537871617059872,\n",
       " 0.031997214062215285,\n",
       " 0.14615601862759336,\n",
       " 0.3288515721557365,\n",
       " 0.13964027822644307,\n",
       " 0.3875046208441948,\n",
       " 0.3690174313243539]"
      ]
     },
     "execution_count": 34,
     "metadata": {},
     "output_type": "execute_result"
    }
   ],
   "source": [
    "Z[:10]"
   ]
  },
  {
   "cell_type": "markdown",
   "metadata": {},
   "source": [
    "Run #3: multiprocess (pool), shared memory"
   ]
  },
  {
   "cell_type": "code",
   "execution_count": 35,
   "metadata": {},
   "outputs": [
    {
     "data": {
      "text/plain": [
       "[0, 100000, 200000, 300000, 400000, 500000, 600000, 700000]"
      ]
     },
     "execution_count": 35,
     "metadata": {},
     "output_type": "execute_result"
    }
   ],
   "source": [
    "offsets"
   ]
  },
  {
   "cell_type": "code",
   "execution_count": 38,
   "metadata": {},
   "outputs": [],
   "source": [
    "sX = multiprocessing.Array('f', X)\n",
    "sY = multiprocessing.Array('f', Y)\n",
    "sZ = multiprocessing.Array('f', ROWS * COLS)"
   ]
  },
  {
   "cell_type": "code",
   "execution_count": 39,
   "metadata": {},
   "outputs": [
    {
     "name": "stdout",
     "output_type": "stream",
     "text": [
      "CPU times: user 17.3 ms, sys: 27.6 ms, total: 44.9 ms\n",
      "Wall time: 6.42 s\n"
     ]
    }
   ],
   "source": [
    "%%time\n",
    "def pmul(offset):\n",
    "    for i in range(offset, offset + ROWS):\n",
    "        sZ[i] = sX[i] * sY[i]\n",
    "        \n",
    "with multiprocessing.Pool() as pool:\n",
    "    pool.map(pmul, offsets)"
   ]
  },
  {
   "cell_type": "markdown",
   "metadata": {},
   "source": [
    "### Aside: if you _really_ want it fast, just use numpy (or better yet, numpy + multiprocessing)"
   ]
  },
  {
   "cell_type": "code",
   "execution_count": 40,
   "metadata": {},
   "outputs": [
    {
     "name": "stdout",
     "output_type": "stream",
     "text": [
      "Looking in links: /Users/rick446/src/wheelhouse\n",
      "Requirement already satisfied: numpy in /Users/rick446/.virtualenvs/py37/lib/python3.7/site-packages (1.16.4)\n",
      "\u001b[33mYou are using pip version 19.0.3, however version 20.0.2 is available.\n",
      "You should consider upgrading via the 'pip install --upgrade pip' command.\u001b[0m\n"
     ]
    }
   ],
   "source": [
    "!pip install numpy"
   ]
  },
  {
   "cell_type": "code",
   "execution_count": 41,
   "metadata": {},
   "outputs": [],
   "source": [
    "import numpy as np"
   ]
  },
  {
   "cell_type": "code",
   "execution_count": 42,
   "metadata": {},
   "outputs": [],
   "source": [
    "X = np.random.random(80000)\n",
    "Y = np.random.random(80000)"
   ]
  },
  {
   "cell_type": "code",
   "execution_count": 43,
   "metadata": {},
   "outputs": [
    {
     "name": "stdout",
     "output_type": "stream",
     "text": [
      "CPU times: user 10.6 ms, sys: 8.05 ms, total: 18.7 ms\n",
      "Wall time: 18.1 ms\n"
     ]
    }
   ],
   "source": [
    "%%time\n",
    "Z = X * Y"
   ]
  },
  {
   "cell_type": "markdown",
   "metadata": {},
   "source": [
    "# Lab\n",
    "\n",
    "Open [concurrency lab][multithreading-multiprocessing-lab]\n",
    "\n",
    "[multithreading-multiprocessing-lab]: ./multithreading-multiprocessing-lab.ipynb"
   ]
  },
  {
   "cell_type": "code",
   "execution_count": 47,
   "metadata": {},
   "outputs": [
    {
     "data": {
      "text/plain": [
       "[multiprocessing.pool.ThreadPool, multiprocessing.pool.Pool, object]"
      ]
     },
     "execution_count": 47,
     "metadata": {},
     "output_type": "execute_result"
    }
   ],
   "source": [
    "multiprocessing.pool.ThreadPool.mro()"
   ]
  },
  {
   "cell_type": "code",
   "execution_count": null,
   "metadata": {},
   "outputs": [],
   "source": []
  }
 ],
 "metadata": {
  "kernelspec": {
   "display_name": "Python 3",
   "language": "python",
   "name": "python3"
  },
  "language_info": {
   "codemirror_mode": {
    "name": "ipython",
    "version": 3
   },
   "file_extension": ".py",
   "mimetype": "text/x-python",
   "name": "python",
   "nbconvert_exporter": "python",
   "pygments_lexer": "ipython3",
   "version": "3.7.6"
  }
 },
 "nbformat": 4,
 "nbformat_minor": 2
}
