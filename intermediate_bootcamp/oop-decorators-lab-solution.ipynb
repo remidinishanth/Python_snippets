{
 "cells": [
  {
   "cell_type": "markdown",
   "metadata": {},
   "source": [
    "## Lab\n",
    "\n",
    "Create a class with an instance variable called `name` which keeps track of all the `name`s of objects that have ever been created in a **class** attribute.\n",
    "\n",
    "Create classmethods \n",
    " - `all_names` which returns a list of all the names of objects that have ever been created\n",
    " - `total_count` which returns the number of instances ever created"
   ]
  },
  {
   "cell_type": "code",
   "execution_count": 1,
   "metadata": {},
   "outputs": [],
   "source": [
    "class Named:\n",
    "    _names = []\n",
    "    \n",
    "    def __init__(self, name):\n",
    "        self._name = name\n",
    "        self._names.append(name)\n",
    "        \n",
    "    @classmethod\n",
    "    def all_names(cls):\n",
    "        return cls._names\n",
    "    \n",
    "    @classmethod\n",
    "    def total_count(cls):\n",
    "        return len(cls._names)"
   ]
  },
  {
   "cell_type": "code",
   "execution_count": 2,
   "metadata": {},
   "outputs": [
    {
     "data": {
      "text/plain": [
       "['Rick', 'Nancy', 'Matthew', 'Anna', 'Anna', 'Anna']"
      ]
     },
     "execution_count": 2,
     "metadata": {},
     "output_type": "execute_result"
    }
   ],
   "source": [
    "objs = [\n",
    "    Named('Rick'), \n",
    "    Named('Nancy'),\n",
    "    Named('Matthew'),\n",
    "    Named('Anna'),\n",
    "    Named('Anna'),\n",
    "    Named('Anna'),\n",
    "]\n",
    "Named.all_names()"
   ]
  },
  {
   "cell_type": "code",
   "execution_count": 3,
   "metadata": {},
   "outputs": [
    {
     "data": {
      "text/plain": [
       "6"
      ]
     },
     "execution_count": 3,
     "metadata": {},
     "output_type": "execute_result"
    }
   ],
   "source": [
    "Named.total_count()"
   ]
  },
  {
   "cell_type": "markdown",
   "metadata": {},
   "source": [
    "Enhance the class above to also keep track of the objects that *currently* exist\n",
    "\n",
    "- The `__del__` magic method will be called when an object is garbage-collectedl_\n",
    "- You can use the `id()` function to get a unique number that identifies an object in memory\n",
    "\n",
    "Create the classmethods:\n",
    "\n",
    "- `curr_names` which returns a list of all the currently-existing object names\n",
    "- `curr_count` which returns the total # of currently-exisiting objects"
   ]
  },
  {
   "cell_type": "code",
   "execution_count": 4,
   "metadata": {},
   "outputs": [],
   "source": [
    "class Named:\n",
    "    _names_by_id = {}\n",
    "    _live_ids = set()\n",
    "    \n",
    "    def __init__(self, name):\n",
    "        self._name = name\n",
    "        self._names_by_id[id(self)] = name\n",
    "        self._live_ids.add(id(self))\n",
    "        \n",
    "    def __del__(self):\n",
    "        self._live_ids.discard(id(self))\n",
    "        \n",
    "    @classmethod\n",
    "    def all_names(cls):\n",
    "        return list(cls._names_by_id.values())\n",
    "    \n",
    "    @classmethod\n",
    "    def total_count(cls):\n",
    "        return len(cls._names_by_id)\n",
    "    \n",
    "    @classmethod\n",
    "    def curr_names(cls):\n",
    "        return [cls._names_by_id[i] for i in cls._live_ids]\n",
    "\n",
    "    @classmethod\n",
    "    def curr_count(cls):\n",
    "        return len(cls._live_ids)\n",
    "    \n",
    "    "
   ]
  },
  {
   "cell_type": "code",
   "execution_count": 5,
   "metadata": {},
   "outputs": [
    {
     "data": {
      "text/plain": [
       "['Rick', 'Nancy', 'Matthew', 'Anna', 'Anna', 'Anna']"
      ]
     },
     "execution_count": 5,
     "metadata": {},
     "output_type": "execute_result"
    }
   ],
   "source": [
    "objs = [\n",
    "    Named('Rick'), \n",
    "    Named('Nancy'),\n",
    "    Named('Matthew'),\n",
    "    Named('Anna'),\n",
    "    Named('Anna'),\n",
    "    Named('Anna'),\n",
    "]\n",
    "Named.all_names()"
   ]
  },
  {
   "cell_type": "code",
   "execution_count": 6,
   "metadata": {},
   "outputs": [
    {
     "data": {
      "text/plain": [
       "['Rick', 'Matthew', 'Anna', 'Anna', 'Nancy', 'Anna']"
      ]
     },
     "execution_count": 6,
     "metadata": {},
     "output_type": "execute_result"
    }
   ],
   "source": [
    "Named.curr_names()"
   ]
  },
  {
   "cell_type": "code",
   "execution_count": 7,
   "metadata": {},
   "outputs": [
    {
     "data": {
      "text/plain": [
       "6"
      ]
     },
     "execution_count": 7,
     "metadata": {},
     "output_type": "execute_result"
    }
   ],
   "source": [
    "Named.curr_count()"
   ]
  },
  {
   "cell_type": "code",
   "execution_count": 8,
   "metadata": {},
   "outputs": [],
   "source": [
    "del objs[4:]"
   ]
  },
  {
   "cell_type": "code",
   "execution_count": 9,
   "metadata": {},
   "outputs": [
    {
     "data": {
      "text/plain": [
       "['Rick', 'Matthew', 'Anna', 'Nancy']"
      ]
     },
     "execution_count": 9,
     "metadata": {},
     "output_type": "execute_result"
    }
   ],
   "source": [
    "Named.curr_names()"
   ]
  },
  {
   "cell_type": "code",
   "execution_count": 10,
   "metadata": {},
   "outputs": [
    {
     "data": {
      "text/plain": [
       "4"
      ]
     },
     "execution_count": 10,
     "metadata": {},
     "output_type": "execute_result"
    }
   ],
   "source": [
    "Named.curr_count()"
   ]
  },
  {
   "cell_type": "code",
   "execution_count": 11,
   "metadata": {},
   "outputs": [
    {
     "data": {
      "text/plain": [
       "['Rick', 'Nancy', 'Matthew', 'Anna', 'Anna', 'Anna']"
      ]
     },
     "execution_count": 11,
     "metadata": {},
     "output_type": "execute_result"
    }
   ],
   "source": [
    "Named.all_names()"
   ]
  },
  {
   "cell_type": "code",
   "execution_count": null,
   "metadata": {},
   "outputs": [],
   "source": []
  }
 ],
 "metadata": {
  "kernelspec": {
   "display_name": "Python 3",
   "language": "python",
   "name": "python3"
  },
  "language_info": {
   "codemirror_mode": {
    "name": "ipython",
    "version": 3
   },
   "file_extension": ".py",
   "mimetype": "text/x-python",
   "name": "python",
   "nbconvert_exporter": "python",
   "pygments_lexer": "ipython3",
   "version": "3.7.6"
  }
 },
 "nbformat": 4,
 "nbformat_minor": 2
}
