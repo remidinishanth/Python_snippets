{
 "cells": [
  {
   "cell_type": "markdown",
   "metadata": {},
   "source": [
    "# Context Managers"
   ]
  },
  {
   "cell_type": "code",
   "execution_count": 1,
   "metadata": {},
   "outputs": [
    {
     "name": "stdout",
     "output_type": "stream",
     "text": [
      "##\n",
      "# Host Database\n",
      "#\n",
      "# localhost is used to configure the loopback interface\n",
      "# when the system is booting.  Do not change this entry.\n",
      "##\n",
      "127.0.0.1\tlocalhost localhost.carefol.io\n",
      "255.255.255.255\tbroadcasthost\n",
      "::1             localhost\n",
      "fe80::1%lo0\tlocalhost\n",
      "# 192.168.11.3\taragorn\n",
      "# 208.113.226.104 www.ricksresources.com\n",
      "127.0.0.1\teht_cf-web_1 eht_sso-web_1 eht_blob-web_1 eht_pcc-gw-web_1\n",
      "# 127.0.0.1\tapp.development.maphabit.com\n",
      "# Added by Docker Desktop\n",
      "# To allow the same kube context to work on the host and the container:\n",
      "127.0.0.1 kubernetes.docker.internal\n",
      "# End of section\n",
      "\n"
     ]
    }
   ],
   "source": [
    "# Old way\n",
    "fp = open('/etc/hosts')\n",
    "try:\n",
    "    print(fp.read())\n",
    "finally:\n",
    "    fp.close()"
   ]
  },
  {
   "cell_type": "code",
   "execution_count": 2,
   "metadata": {},
   "outputs": [
    {
     "name": "stdout",
     "output_type": "stream",
     "text": [
      "##\n",
      "# Host Database\n",
      "#\n",
      "# localhost is used to configure the loopback interface\n",
      "# when the system is booting.  Do not change this entry.\n",
      "##\n",
      "127.0.0.1\tlocalhost localhost.carefol.io\n",
      "255.255.255.255\tbroadcasthost\n",
      "::1             localhost\n",
      "fe80::1%lo0\tlocalhost\n",
      "# 192.168.11.3\taragorn\n",
      "# 208.113.226.104 www.ricksresources.com\n",
      "127.0.0.1\teht_cf-web_1 eht_sso-web_1 eht_blob-web_1 eht_pcc-gw-web_1\n",
      "# 127.0.0.1\tapp.development.maphabit.com\n",
      "# Added by Docker Desktop\n",
      "# To allow the same kube context to work on the host and the container:\n",
      "127.0.0.1 kubernetes.docker.internal\n",
      "# End of section\n",
      "\n",
      "<_io.TextIOWrapper name='/etc/hosts' mode='r' encoding='UTF-8'>\n"
     ]
    }
   ],
   "source": [
    "with open('/etc/hosts') as fp:\n",
    "    print(fp.read())\n",
    "print(fp)"
   ]
  },
  {
   "cell_type": "code",
   "execution_count": 3,
   "metadata": {},
   "outputs": [
    {
     "data": {
      "text/plain": [
       "True"
      ]
     },
     "execution_count": 3,
     "metadata": {},
     "output_type": "execute_result"
    }
   ],
   "source": [
    "fp.closed"
   ]
  },
  {
   "cell_type": "code",
   "execution_count": 4,
   "metadata": {},
   "outputs": [
    {
     "name": "stdout",
     "output_type": "stream",
     "text": [
      "handle keyerror\n",
      "True\n"
     ]
    }
   ],
   "source": [
    "try:\n",
    "    with open('/etc/hosts') as fp:\n",
    "        raise KeyError\n",
    "        print(fp.read())\n",
    "except KeyError:\n",
    "    print('handle keyerror')\n",
    "\n",
    "print(fp.closed)"
   ]
  },
  {
   "cell_type": "code",
   "execution_count": 5,
   "metadata": {},
   "outputs": [],
   "source": [
    "with open('/etc/hosts') as fp_i, open('/tmp/hosts', 'w') as fp_o:\n",
    "    fp_o.write(fp_i.read())"
   ]
  },
  {
   "cell_type": "code",
   "execution_count": 6,
   "metadata": {},
   "outputs": [
    {
     "data": {
      "text/plain": [
       "(True, True)"
      ]
     },
     "execution_count": 6,
     "metadata": {},
     "output_type": "execute_result"
    }
   ],
   "source": [
    "fp_i.closed, fp_o.closed"
   ]
  },
  {
   "cell_type": "code",
   "execution_count": 7,
   "metadata": {},
   "outputs": [
    {
     "name": "stdout",
     "output_type": "stream",
     "text": [
      "##\n",
      "# Host Database\n",
      "#\n",
      "# localhost is used to configure the loopback interface\n",
      "# when the system is booting.  Do not change this entry.\n",
      "##\n",
      "127.0.0.1\tlocalhost localhost.carefol.io\n",
      "255.255.255.255\tbroadcasthost\n",
      "::1             localhost\n",
      "fe80::1%lo0\tlocalhost\n",
      "# 192.168.11.3\taragorn\n",
      "# 208.113.226.104 www.ricksresources.com\n",
      "127.0.0.1\teht_cf-web_1 eht_sso-web_1 eht_blob-web_1 eht_pcc-gw-web_1\n",
      "# 127.0.0.1\tapp.development.maphabit.com\n",
      "# Added by Docker Desktop\n",
      "# To allow the same kube context to work on the host and the container:\n",
      "127.0.0.1 kubernetes.docker.internal\n",
      "# End of section\n",
      "\n"
     ]
    }
   ],
   "source": [
    "with open('/tmp/hosts') as fp:\n",
    "    print(fp.read())"
   ]
  },
  {
   "cell_type": "markdown",
   "metadata": {},
   "source": [
    "## Context manager protocol"
   ]
  },
  {
   "cell_type": "code",
   "execution_count": 13,
   "metadata": {},
   "outputs": [],
   "source": [
    "class CM(object):\n",
    "    def __enter__(self):\n",
    "        print('Entering CM')\n",
    "        return self\n",
    "    def __exit__(self, ex_type, ex_val, ex_tb):\n",
    "        print('Exiting CM')\n",
    "        if ex_type == KeyError: \n",
    "            # Re-raise same exception\n",
    "            print('Re-raise the key error')\n",
    "            return False\n",
    "        # Don't re-raise\n",
    "        if ex_type is not None:\n",
    "            print('Swallowing %s inside CM' % ex_type)\n",
    "        return True"
   ]
  },
  {
   "cell_type": "code",
   "execution_count": 14,
   "metadata": {},
   "outputs": [
    {
     "name": "stdout",
     "output_type": "stream",
     "text": [
      "Entering CM\n",
      "Inside with statement <__main__.CM object at 0x104a9ae50>\n",
      "Exiting CM\n"
     ]
    }
   ],
   "source": [
    "with CM() as cm:\n",
    "    print('Inside with statement', cm)"
   ]
  },
  {
   "cell_type": "code",
   "execution_count": 15,
   "metadata": {},
   "outputs": [
    {
     "name": "stdout",
     "output_type": "stream",
     "text": [
      "Entering CM\n",
      "About to raise KeyError\n",
      "Exiting CM\n",
      "Re-raise the key error\n"
     ]
    },
    {
     "ename": "KeyError",
     "evalue": "",
     "output_type": "error",
     "traceback": [
      "\u001b[0;31m---------------------------------------------------------------------------\u001b[0m",
      "\u001b[0;31mKeyError\u001b[0m                                  Traceback (most recent call last)",
      "\u001b[0;32m<ipython-input-15-4ae5a10afcba>\u001b[0m in \u001b[0;36m<module>\u001b[0;34m\u001b[0m\n\u001b[1;32m      1\u001b[0m \u001b[0;32mwith\u001b[0m \u001b[0mCM\u001b[0m\u001b[0;34m(\u001b[0m\u001b[0;34m)\u001b[0m\u001b[0;34m:\u001b[0m\u001b[0;34m\u001b[0m\u001b[0;34m\u001b[0m\u001b[0m\n\u001b[1;32m      2\u001b[0m     \u001b[0mprint\u001b[0m\u001b[0;34m(\u001b[0m\u001b[0;34m'About to raise KeyError'\u001b[0m\u001b[0;34m)\u001b[0m\u001b[0;34m\u001b[0m\u001b[0;34m\u001b[0m\u001b[0m\n\u001b[0;32m----> 3\u001b[0;31m     \u001b[0;32mraise\u001b[0m \u001b[0mKeyError\u001b[0m\u001b[0;34m\u001b[0m\u001b[0;34m\u001b[0m\u001b[0m\n\u001b[0m",
      "\u001b[0;31mKeyError\u001b[0m: "
     ]
    }
   ],
   "source": [
    "with CM():\n",
    "    print('About to raise KeyError')\n",
    "    raise KeyError"
   ]
  },
  {
   "cell_type": "code",
   "execution_count": 16,
   "metadata": {},
   "outputs": [
    {
     "name": "stdout",
     "output_type": "stream",
     "text": [
      "Entering CM\n",
      "About to raise ValueError\n",
      "Exiting CM\n",
      "Swallowing <class 'ValueError'> inside CM\n"
     ]
    }
   ],
   "source": [
    "with CM():\n",
    "    print('About to raise ValueError')\n",
    "    raise ValueError"
   ]
  },
  {
   "cell_type": "markdown",
   "metadata": {},
   "source": [
    "## Contextlib"
   ]
  },
  {
   "cell_type": "code",
   "execution_count": 17,
   "metadata": {},
   "outputs": [],
   "source": [
    "import contextlib"
   ]
  },
  {
   "cell_type": "code",
   "execution_count": 18,
   "metadata": {},
   "outputs": [],
   "source": [
    "@contextlib.contextmanager\n",
    "def so_much_easier():\n",
    "    print('Entering block')\n",
    "    try:\n",
    "        yield # optional \"as\" value here\n",
    "        print('Exiting block cleanly')\n",
    "    except:\n",
    "        print('Exiting block with exception')"
   ]
  },
  {
   "cell_type": "code",
   "execution_count": 19,
   "metadata": {},
   "outputs": [
    {
     "name": "stdout",
     "output_type": "stream",
     "text": [
      "Entering block\n",
      "Inside block None\n",
      "Exiting block cleanly\n"
     ]
    }
   ],
   "source": [
    "with so_much_easier() as as_value:    \n",
    "    print('Inside block', as_value)"
   ]
  },
  {
   "cell_type": "code",
   "execution_count": 20,
   "metadata": {},
   "outputs": [
    {
     "name": "stdout",
     "output_type": "stream",
     "text": [
      "Entering block\n",
      "Raising ValueError\n",
      "Exiting block with exception\n"
     ]
    }
   ],
   "source": [
    "with so_much_easier():\n",
    "    print('Raising ValueError')\n",
    "    raise ValueError"
   ]
  },
  {
   "cell_type": "markdown",
   "metadata": {},
   "source": [
    "(mostly obsolete) \n",
    "\n",
    "`contextlib` also provides a facility to support the `with` statement with context manager-like\n",
    "objects that don't actually support the protocol, but *do* have a `close()` method:"
   ]
  },
  {
   "cell_type": "code",
   "execution_count": 21,
   "metadata": {},
   "outputs": [],
   "source": [
    "class MyClass(object):\n",
    "    def __init__(self):\n",
    "        print('Perform some resource acquisition')\n",
    "    def close(self):\n",
    "        print('Close the resource')"
   ]
  },
  {
   "cell_type": "code",
   "execution_count": 22,
   "metadata": {},
   "outputs": [
    {
     "name": "stdout",
     "output_type": "stream",
     "text": [
      "Perform some resource acquisition\n",
      "myobj is <__main__.MyClass object at 0x104b48390>\n",
      "Close the resource\n"
     ]
    }
   ],
   "source": [
    "with contextlib.closing(MyClass()) as myobj:\n",
    "    print('myobj is', myobj)"
   ]
  },
  {
   "cell_type": "code",
   "execution_count": 23,
   "metadata": {},
   "outputs": [
    {
     "name": "stdout",
     "output_type": "stream",
     "text": [
      "Perform some resource acquisition\n",
      "raising ValueError\n",
      "Close the resource\n",
      "handling exception\n"
     ]
    }
   ],
   "source": [
    "try:\n",
    "    with contextlib.closing(MyClass()) as myobj:\n",
    "        print('raising ValueError')\n",
    "        raise ValueError\n",
    "except:\n",
    "    print('handling exception')\n",
    "        "
   ]
  },
  {
   "cell_type": "code",
   "execution_count": 24,
   "metadata": {},
   "outputs": [],
   "source": [
    "import sys\n",
    "\n",
    "@contextlib.contextmanager\n",
    "def reversit():\n",
    "    old_write = sys.stdout.write\n",
    "    sys.stdout.write = lambda text: old_write(text[::-1])\n",
    "    yield\n",
    "    sys.stdout.write = old_write"
   ]
  },
  {
   "cell_type": "code",
   "execution_count": 25,
   "metadata": {},
   "outputs": [
    {
     "name": "stdout",
     "output_type": "stream",
     "text": [
      "gnirts desrever a si sihT\n"
     ]
    }
   ],
   "source": [
    "with reversit():\n",
    "    print('This is a reversed string')"
   ]
  },
  {
   "cell_type": "code",
   "execution_count": 26,
   "metadata": {},
   "outputs": [
    {
     "name": "stdout",
     "output_type": "stream",
     "text": [
      "hello\n"
     ]
    }
   ],
   "source": [
    "print('hello')"
   ]
  },
  {
   "cell_type": "code",
   "execution_count": 28,
   "metadata": {},
   "outputs": [
    {
     "name": "stdout",
     "output_type": "stream",
     "text": [
      "llorraC siweL\n",
      "YKCOWREBBAJ\n"
     ]
    }
   ],
   "source": [
    "with reversit():\n",
    "    print('Lewis Carroll')\n",
    "    print('JABBERWOCKY')"
   ]
  },
  {
   "cell_type": "code",
   "execution_count": 29,
   "metadata": {},
   "outputs": [
    {
     "name": "stdout",
     "output_type": "stream",
     "text": [
      "hello\n"
     ]
    }
   ],
   "source": [
    "print('hello')"
   ]
  },
  {
   "cell_type": "markdown",
   "metadata": {},
   "source": [
    "# Lab\n",
    "\n",
    "Open [Context Managers Lab][context-lab]\n",
    "\n",
    "[context-lab]: ./context-lab.ipynb"
   ]
  }
 ],
 "metadata": {
  "kernelspec": {
   "display_name": "Python 3",
   "language": "python",
   "name": "python3"
  },
  "language_info": {
   "codemirror_mode": {
    "name": "ipython",
    "version": 3
   },
   "file_extension": ".py",
   "mimetype": "text/x-python",
   "name": "python",
   "nbconvert_exporter": "python",
   "pygments_lexer": "ipython3",
   "version": "3.7.6"
  }
 },
 "nbformat": 4,
 "nbformat_minor": 1
}
