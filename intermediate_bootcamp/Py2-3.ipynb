{
 "cells": [
  {
   "cell_type": "markdown",
   "metadata": {},
   "source": [
    "# Python 3 Migration\n",
    "\n",
    "Existing code: use 2to3 if possible\n",
    "New code: use `six` (third party module) and the following statements:\n",
    "\n",
    "```python\n",
    "from __future__ import print_function\n",
    "from __future__ import division\n",
    "from __future__ import absolute_import\n",
    "```"
   ]
  },
  {
   "cell_type": "markdown",
   "metadata": {},
   "source": [
    "# Lists to Iterators\n",
    "\n",
    "Most things that return lists in Python2 return iterators in Python3 (\"lazy lists\"). The (approximate) correspondence is below. (\"i\" functions like ifilter and imap are found in the `itertools` library module in Python2)\n",
    "\n",
    "| Python2           | Python 3            |\n",
    "|-------------------|---------------------|\n",
    "| range             | list(range)         |\n",
    "| map               | list(map)           |\n",
    "| filter            | list(filter)        |\n",
    "| dict.keys()       | list(dict.keys())   |\n",
    "| dict.values()     | list(dict.values()) |\n",
    "| dict.items()      | list(dict.items())  |\n",
    "| xrange            | range               |\n",
    "| imap              | map                 |\n",
    "| ifilter           | filter              |\n",
    "| dict.iterkeys()   | dict.keys()         |\n",
    "| dict.itervalues() | dict.values()       |\n",
    "| dict.iteritems()  | dict.items()        |\n"
   ]
  },
  {
   "cell_type": "code",
   "execution_count": null,
   "metadata": {},
   "outputs": [],
   "source": []
  }
 ],
 "metadata": {
  "kernelspec": {
   "display_name": "Python 3",
   "language": "python",
   "name": "python3"
  },
  "language_info": {
   "codemirror_mode": {
    "name": "ipython",
    "version": 3
   },
   "file_extension": ".py",
   "mimetype": "text/x-python",
   "name": "python",
   "nbconvert_exporter": "python",
   "pygments_lexer": "ipython3",
   "version": "3.7.2"
  }
 },
 "nbformat": 4,
 "nbformat_minor": 2
}
