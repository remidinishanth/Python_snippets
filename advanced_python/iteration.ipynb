{
 "cells": [
  {
   "cell_type": "markdown",
   "metadata": {},
   "source": [
    "# Generators and Iterators\n",
    "\n",
    "![Iterables and Iterators](./data/img/Iterable.png)"
   ]
  },
  {
   "cell_type": "code",
   "execution_count": 1,
   "metadata": {},
   "outputs": [],
   "source": [
    "lst = [3,2,1]"
   ]
  },
  {
   "cell_type": "code",
   "execution_count": 2,
   "metadata": {},
   "outputs": [],
   "source": [
    "lst_iter = iter(lst)"
   ]
  },
  {
   "cell_type": "code",
   "execution_count": 3,
   "metadata": {},
   "outputs": [
    {
     "data": {
      "text/plain": [
       "3"
      ]
     },
     "execution_count": 3,
     "metadata": {},
     "output_type": "execute_result"
    }
   ],
   "source": [
    "next(lst_iter)"
   ]
  },
  {
   "cell_type": "code",
   "execution_count": 6,
   "metadata": {},
   "outputs": [
    {
     "ename": "StopIteration",
     "evalue": "",
     "output_type": "error",
     "traceback": [
      "\u001b[0;31m---------------------------------------------------------------------------\u001b[0m",
      "\u001b[0;31mStopIteration\u001b[0m                             Traceback (most recent call last)",
      "\u001b[0;32m<ipython-input-6-f4150a031734>\u001b[0m in \u001b[0;36m<module>\u001b[0;34m\u001b[0m\n\u001b[0;32m----> 1\u001b[0;31m \u001b[0mnext\u001b[0m\u001b[0;34m(\u001b[0m\u001b[0mlst_iter\u001b[0m\u001b[0;34m)\u001b[0m\u001b[0;34m\u001b[0m\u001b[0;34m\u001b[0m\u001b[0m\n\u001b[0m",
      "\u001b[0;31mStopIteration\u001b[0m: "
     ]
    }
   ],
   "source": [
    "next(lst_iter)"
   ]
  },
  {
   "cell_type": "markdown",
   "metadata": {},
   "source": [
    "## Building your own generators with `yield`"
   ]
  },
  {
   "cell_type": "code",
   "execution_count": 7,
   "metadata": {},
   "outputs": [],
   "source": [
    "def counter(start, end):\n",
    "    current = start\n",
    "    while current < end:\n",
    "        yield current\n",
    "        current += 1"
   ]
  },
  {
   "cell_type": "code",
   "execution_count": 8,
   "metadata": {},
   "outputs": [
    {
     "data": {
      "text/plain": [
       "<generator object counter at 0x10b3b6ad0>"
      ]
     },
     "execution_count": 8,
     "metadata": {},
     "output_type": "execute_result"
    }
   ],
   "source": [
    "counter(1, 10)"
   ]
  },
  {
   "cell_type": "code",
   "execution_count": 9,
   "metadata": {},
   "outputs": [
    {
     "data": {
      "text/plain": [
       "1"
      ]
     },
     "execution_count": 9,
     "metadata": {},
     "output_type": "execute_result"
    }
   ],
   "source": [
    "x = counter(1,10)\n",
    "next(x)"
   ]
  },
  {
   "cell_type": "code",
   "execution_count": 10,
   "metadata": {},
   "outputs": [
    {
     "data": {
      "text/plain": [
       "2"
      ]
     },
     "execution_count": 10,
     "metadata": {},
     "output_type": "execute_result"
    }
   ],
   "source": [
    "next(x)"
   ]
  },
  {
   "cell_type": "code",
   "execution_count": 11,
   "metadata": {},
   "outputs": [
    {
     "data": {
      "text/plain": [
       "3"
      ]
     },
     "execution_count": 11,
     "metadata": {},
     "output_type": "execute_result"
    }
   ],
   "source": [
    "next(x)"
   ]
  },
  {
   "cell_type": "code",
   "execution_count": 12,
   "metadata": {},
   "outputs": [
    {
     "data": {
      "text/plain": [
       "[1, 2, 3, 4, 5, 6, 7, 8, 9]"
      ]
     },
     "execution_count": 12,
     "metadata": {},
     "output_type": "execute_result"
    }
   ],
   "source": [
    "x = counter(1,10)\n",
    "list(x)"
   ]
  },
  {
   "cell_type": "code",
   "execution_count": 13,
   "metadata": {},
   "outputs": [
    {
     "name": "stdout",
     "output_type": "stream",
     "text": [
      "1 2 3 4 5 6 7 8 9 "
     ]
    }
   ],
   "source": [
    "for item in counter(1, 10):\n",
    "    print(item, end=' ')"
   ]
  },
  {
   "cell_type": "code",
   "execution_count": 14,
   "metadata": {},
   "outputs": [
    {
     "ename": "StopIteration",
     "evalue": "",
     "output_type": "error",
     "traceback": [
      "\u001b[0;31m---------------------------------------------------------------------------\u001b[0m",
      "\u001b[0;31mStopIteration\u001b[0m                             Traceback (most recent call last)",
      "\u001b[0;32m<ipython-input-14-92de4e9f6b1e>\u001b[0m in \u001b[0;36m<module>\u001b[0;34m\u001b[0m\n\u001b[0;32m----> 1\u001b[0;31m \u001b[0mnext\u001b[0m\u001b[0;34m(\u001b[0m\u001b[0mx\u001b[0m\u001b[0;34m)\u001b[0m\u001b[0;34m\u001b[0m\u001b[0;34m\u001b[0m\u001b[0m\n\u001b[0m",
      "\u001b[0;31mStopIteration\u001b[0m: "
     ]
    }
   ],
   "source": [
    "next(x)"
   ]
  },
  {
   "cell_type": "markdown",
   "metadata": {},
   "source": [
    "`yield` can also be used as a expression, along with the `send()` method"
   ]
  },
  {
   "cell_type": "code",
   "execution_count": 15,
   "metadata": {},
   "outputs": [],
   "source": [
    "def accumulator(start=0):\n",
    "    current = start\n",
    "    while True:\n",
    "        current += (yield current)\n",
    "#         output(current)\n",
    "#         suspend\n",
    "#         current += input()"
   ]
  },
  {
   "cell_type": "code",
   "execution_count": 16,
   "metadata": {},
   "outputs": [
    {
     "data": {
      "text/plain": [
       "0"
      ]
     },
     "execution_count": 16,
     "metadata": {},
     "output_type": "execute_result"
    }
   ],
   "source": [
    "x = accumulator()\n",
    "next(x)"
   ]
  },
  {
   "cell_type": "code",
   "execution_count": 17,
   "metadata": {},
   "outputs": [
    {
     "data": {
      "text/plain": [
       "1"
      ]
     },
     "execution_count": 17,
     "metadata": {},
     "output_type": "execute_result"
    }
   ],
   "source": [
    "x.send(1)"
   ]
  },
  {
   "cell_type": "code",
   "execution_count": 18,
   "metadata": {},
   "outputs": [
    {
     "data": {
      "text/plain": [
       "2"
      ]
     },
     "execution_count": 18,
     "metadata": {},
     "output_type": "execute_result"
    }
   ],
   "source": [
    "x.send(1)"
   ]
  },
  {
   "cell_type": "code",
   "execution_count": 19,
   "metadata": {},
   "outputs": [
    {
     "data": {
      "text/plain": [
       "12"
      ]
     },
     "execution_count": 19,
     "metadata": {},
     "output_type": "execute_result"
    }
   ],
   "source": [
    "x.send(10)"
   ]
  },
  {
   "cell_type": "markdown",
   "metadata": {},
   "source": [
    "### Composition of generators"
   ]
  },
  {
   "cell_type": "code",
   "execution_count": 22,
   "metadata": {},
   "outputs": [
    {
     "name": "stdout",
     "output_type": "stream",
     "text": [
      "0\n",
      "1\n",
      "2\n",
      "3\n",
      "4\n",
      "0\n",
      "1\n",
      "2\n"
     ]
    }
   ],
   "source": [
    "def gen1(n):\n",
    "    for i in range(n):\n",
    "        yield i\n",
    "        \n",
    "def gen2(m, n):\n",
    "    yield from gen1(m)\n",
    "    yield from gen1(n)\n",
    "    \n",
    "for item in gen2(5, 3):\n",
    "    print(item)"
   ]
  },
  {
   "cell_type": "markdown",
   "metadata": {},
   "source": [
    "## The iterator protocol\n",
    "\n",
    "What does `for x in sequence:` *really* do?"
   ]
  },
  {
   "cell_type": "code",
   "execution_count": 23,
   "metadata": {},
   "outputs": [
    {
     "name": "stdout",
     "output_type": "stream",
     "text": [
      "0\n",
      "1\n",
      "2\n",
      "3\n"
     ]
    }
   ],
   "source": [
    "seq = range(4)\n",
    "for x in seq: \n",
    "    print(x)"
   ]
  },
  {
   "cell_type": "code",
   "execution_count": 24,
   "metadata": {},
   "outputs": [
    {
     "name": "stdout",
     "output_type": "stream",
     "text": [
      "<range_iterator object at 0x10b30db10>\n"
     ]
    }
   ],
   "source": [
    "iter_seq = iter(seq)\n",
    "print(iter_seq)"
   ]
  },
  {
   "cell_type": "code",
   "execution_count": 25,
   "metadata": {},
   "outputs": [
    {
     "name": "stdout",
     "output_type": "stream",
     "text": [
      "0\n",
      "1\n",
      "2\n",
      "3\n"
     ]
    }
   ],
   "source": [
    "iter_seq = iter(seq)\n",
    "try:\n",
    "    while True:\n",
    "        x = next(iter_seq)\n",
    "        print(x)\n",
    "except StopIteration:\n",
    "    pass"
   ]
  },
  {
   "cell_type": "code",
   "execution_count": 26,
   "metadata": {},
   "outputs": [
    {
     "data": {
      "text/plain": [
       "1"
      ]
     },
     "execution_count": 26,
     "metadata": {},
     "output_type": "execute_result"
    }
   ],
   "source": [
    "lst = [1,2,3]\n",
    "next(iter(lst))"
   ]
  },
  {
   "cell_type": "code",
   "execution_count": 27,
   "metadata": {},
   "outputs": [],
   "source": [
    "li = iter([1,2,3])"
   ]
  },
  {
   "cell_type": "code",
   "execution_count": 28,
   "metadata": {},
   "outputs": [
    {
     "data": {
      "text/plain": [
       "<list_iterator at 0x10b3f8290>"
      ]
     },
     "execution_count": 28,
     "metadata": {},
     "output_type": "execute_result"
    }
   ],
   "source": [
    "li"
   ]
  },
  {
   "cell_type": "code",
   "execution_count": 29,
   "metadata": {},
   "outputs": [
    {
     "data": {
      "text/plain": [
       "1"
      ]
     },
     "execution_count": 29,
     "metadata": {},
     "output_type": "execute_result"
    }
   ],
   "source": [
    "next(li)"
   ]
  },
  {
   "cell_type": "code",
   "execution_count": 30,
   "metadata": {},
   "outputs": [
    {
     "data": {
      "text/plain": [
       "<list_reverseiterator at 0x10b3fd110>"
      ]
     },
     "execution_count": 30,
     "metadata": {},
     "output_type": "execute_result"
    }
   ],
   "source": [
    "reversed([1,2,3])"
   ]
  },
  {
   "cell_type": "markdown",
   "metadata": {},
   "source": [
    "Generators are their own iterators:"
   ]
  },
  {
   "cell_type": "code",
   "execution_count": 31,
   "metadata": {},
   "outputs": [
    {
     "name": "stdout",
     "output_type": "stream",
     "text": [
      "<generator object counter at 0x10b301ad0>\n",
      "<generator object counter at 0x10b301ad0>\n"
     ]
    },
    {
     "data": {
      "text/plain": [
       "True"
      ]
     },
     "execution_count": 31,
     "metadata": {},
     "output_type": "execute_result"
    }
   ],
   "source": [
    "x = counter(0, 4)\n",
    "print(x)\n",
    "print(iter(x))\n",
    "x is iter(x)  #"
   ]
  },
  {
   "cell_type": "code",
   "execution_count": 32,
   "metadata": {},
   "outputs": [],
   "source": [
    "def isiterator(x):\n",
    "    try:\n",
    "        return x is iter(x)\n",
    "    except:\n",
    "        return False"
   ]
  },
  {
   "cell_type": "code",
   "execution_count": 33,
   "metadata": {},
   "outputs": [
    {
     "name": "stdout",
     "output_type": "stream",
     "text": [
      "0\n",
      "1\n",
      "2\n",
      "3\n"
     ]
    }
   ],
   "source": [
    "for item in counter(0, 4): \n",
    "    print(item)"
   ]
  },
  {
   "cell_type": "code",
   "execution_count": 34,
   "metadata": {},
   "outputs": [
    {
     "ename": "StopIteration",
     "evalue": "",
     "output_type": "error",
     "traceback": [
      "\u001b[0;31m---------------------------------------------------------------------------\u001b[0m",
      "\u001b[0;31mStopIteration\u001b[0m                             Traceback (most recent call last)",
      "\u001b[0;32m<ipython-input-34-b1b414e633b5>\u001b[0m in \u001b[0;36m<module>\u001b[0;34m\u001b[0m\n\u001b[1;32m      1\u001b[0m \u001b[0mx\u001b[0m \u001b[0;34m=\u001b[0m \u001b[0mcounter\u001b[0m\u001b[0;34m(\u001b[0m\u001b[0;36m0\u001b[0m\u001b[0;34m,\u001b[0m \u001b[0;36m4\u001b[0m\u001b[0;34m)\u001b[0m\u001b[0;34m\u001b[0m\u001b[0;34m\u001b[0m\u001b[0m\n\u001b[1;32m      2\u001b[0m \u001b[0;32mwhile\u001b[0m \u001b[0;32mTrue\u001b[0m\u001b[0;34m:\u001b[0m\u001b[0;34m\u001b[0m\u001b[0;34m\u001b[0m\u001b[0m\n\u001b[0;32m----> 3\u001b[0;31m     \u001b[0mnext\u001b[0m\u001b[0;34m(\u001b[0m\u001b[0mx\u001b[0m\u001b[0;34m)\u001b[0m\u001b[0;34m\u001b[0m\u001b[0;34m\u001b[0m\u001b[0m\n\u001b[0m",
      "\u001b[0;31mStopIteration\u001b[0m: "
     ]
    }
   ],
   "source": [
    "x = counter(0, 4)\n",
    "while True:\n",
    "    next(x)"
   ]
  },
  {
   "cell_type": "markdown",
   "metadata": {},
   "source": [
    "We can also define our own iterator classes (though generators are usually more readable):"
   ]
  },
  {
   "cell_type": "code",
   "execution_count": null,
   "metadata": {},
   "outputs": [],
   "source": [
    "class Counter(object):\n",
    "    def __init__(self, start, end):\n",
    "        self._start = start\n",
    "        self._end = end\n",
    "    def __iter__(self):\n",
    "        return CounterIterator(self._start, self._end)\n",
    "    \n",
    "class CounterIterator(object):\n",
    "    def __init__(self, start, end):\n",
    "        self._cur = start\n",
    "        self._end = end\n",
    "    def __next__(self):\n",
    "        result = self._cur\n",
    "        self._cur += 1\n",
    "        if result < self._end:\n",
    "            return result\n",
    "        else:\n",
    "            raise StopIteration"
   ]
  },
  {
   "cell_type": "code",
   "execution_count": 35,
   "metadata": {},
   "outputs": [
    {
     "name": "stdout",
     "output_type": "stream",
     "text": [
      "[0, 1, 2, 3, 4]\n"
     ]
    }
   ],
   "source": [
    "ctr = Counter(0, 5)\n",
    "print(list(ctr))"
   ]
  },
  {
   "cell_type": "code",
   "execution_count": 38,
   "metadata": {},
   "outputs": [],
   "source": [
    "class Counter(object):\n",
    "\n",
    "    def __init__(self, start, end):\n",
    "        self._start = start\n",
    "        self._end = end\n",
    "\n",
    "    def __iter__(self):\n",
    "        cur = self._start\n",
    "        while cur < self._end:\n",
    "            yield cur\n",
    "            cur += 1"
   ]
  },
  {
   "cell_type": "code",
   "execution_count": 39,
   "metadata": {},
   "outputs": [
    {
     "name": "stdout",
     "output_type": "stream",
     "text": [
      "[0, 1, 2, 3, 4]\n"
     ]
    }
   ],
   "source": [
    "ctr = Counter(0, 5)\n",
    "print(list(ctr))"
   ]
  },
  {
   "cell_type": "markdown",
   "metadata": {},
   "source": [
    "# Set and dict comprehensions"
   ]
  },
  {
   "cell_type": "code",
   "execution_count": 40,
   "metadata": {},
   "outputs": [
    {
     "data": {
      "text/plain": [
       "[0, 2, 4, 6]"
      ]
     },
     "execution_count": 40,
     "metadata": {},
     "output_type": "execute_result"
    }
   ],
   "source": [
    "[2*x for x in range(4)]"
   ]
  },
  {
   "cell_type": "code",
   "execution_count": 41,
   "metadata": {},
   "outputs": [
    {
     "data": {
      "text/plain": [
       "{0, 2, 4, 6}"
      ]
     },
     "execution_count": 41,
     "metadata": {},
     "output_type": "execute_result"
    }
   ],
   "source": [
    "{2*x for x in range(4)}"
   ]
  },
  {
   "cell_type": "code",
   "execution_count": 42,
   "metadata": {},
   "outputs": [
    {
     "data": {
      "text/plain": [
       "{0: 'y', 2: 'y', 4: 'y', 6: 'y'}"
      ]
     },
     "execution_count": 42,
     "metadata": {},
     "output_type": "execute_result"
    }
   ],
   "source": [
    "{2*x:'y' for x in range(4)}"
   ]
  },
  {
   "cell_type": "markdown",
   "metadata": {},
   "source": [
    "## Generator expressions"
   ]
  },
  {
   "cell_type": "code",
   "execution_count": 44,
   "metadata": {},
   "outputs": [
    {
     "data": {
      "text/plain": [
       "<generator object <genexpr> at 0x10b3da2d0>"
      ]
     },
     "execution_count": 44,
     "metadata": {},
     "output_type": "execute_result"
    }
   ],
   "source": [
    "( x for x in range(10) if x % 2 == 0 )"
   ]
  },
  {
   "cell_type": "code",
   "execution_count": 45,
   "metadata": {},
   "outputs": [],
   "source": [
    "gen = ( x for x in range(10) if x % 2 == 0 )"
   ]
  },
  {
   "cell_type": "code",
   "execution_count": 46,
   "metadata": {},
   "outputs": [
    {
     "data": {
      "text/plain": [
       "0"
      ]
     },
     "execution_count": 46,
     "metadata": {},
     "output_type": "execute_result"
    }
   ],
   "source": [
    "next(gen)"
   ]
  },
  {
   "cell_type": "code",
   "execution_count": 47,
   "metadata": {},
   "outputs": [
    {
     "data": {
      "text/plain": [
       "2"
      ]
     },
     "execution_count": 47,
     "metadata": {},
     "output_type": "execute_result"
    }
   ],
   "source": [
    "next(gen)"
   ]
  },
  {
   "cell_type": "code",
   "execution_count": 48,
   "metadata": {},
   "outputs": [
    {
     "data": {
      "text/plain": [
       "[4, 6, 8]"
      ]
     },
     "execution_count": 48,
     "metadata": {},
     "output_type": "execute_result"
    }
   ],
   "source": [
    "list(gen)"
   ]
  },
  {
   "cell_type": "code",
   "execution_count": 52,
   "metadata": {},
   "outputs": [
    {
     "data": {
      "text/plain": [
       "'1-4-7-10-13-16-19'"
      ]
     },
     "execution_count": 52,
     "metadata": {},
     "output_type": "execute_result"
    }
   ],
   "source": [
    "'-'.join(str(x) for x in range(1, 20, 3))"
   ]
  },
  {
   "cell_type": "code",
   "execution_count": 53,
   "metadata": {},
   "outputs": [
    {
     "data": {
      "text/plain": [
       "[0, 4, 8, 12, 16]"
      ]
     },
     "execution_count": 53,
     "metadata": {},
     "output_type": "execute_result"
    }
   ],
   "source": [
    "gen = ( x for x in range(10) if x % 2 == 0 )\n",
    "gen = ( x * 2 for x in gen )\n",
    "list(gen)"
   ]
  },
  {
   "cell_type": "markdown",
   "metadata": {},
   "source": [
    "## The `itertools` module\n",
    "\n",
    "`itertools` provides a number of \"higher-order iterators\" that allow you to combine iterators in interesting ways."
   ]
  },
  {
   "cell_type": "code",
   "execution_count": 54,
   "metadata": {},
   "outputs": [],
   "source": [
    "from itertools import chain, count, groupby"
   ]
  },
  {
   "cell_type": "code",
   "execution_count": 55,
   "metadata": {},
   "outputs": [
    {
     "data": {
      "text/plain": [
       "[0, 1, 2, 3, 4, 5, 6, 7, 8, 9, 'a', 'b', 'c', 'd', 'e', 'f']"
      ]
     },
     "execution_count": 55,
     "metadata": {},
     "output_type": "execute_result"
    }
   ],
   "source": [
    "# chain links multiple iterators end-to-end\n",
    "xs = range(10)\n",
    "ys = 'abcdef'\n",
    "list(chain(xs, ys))\n"
   ]
  },
  {
   "cell_type": "code",
   "execution_count": 56,
   "metadata": {},
   "outputs": [
    {
     "data": {
      "text/plain": [
       "{'a': 'A',\n",
       " 'b': 'B',\n",
       " 'c': 'C',\n",
       " 'd': 'D',\n",
       " 'e': 'E',\n",
       " 'f': 'F',\n",
       " 'g': 'G',\n",
       " 'h': 'H',\n",
       " 'i': 'I',\n",
       " 'j': 'J'}"
      ]
     },
     "execution_count": 56,
     "metadata": {},
     "output_type": "execute_result"
    }
   ],
   "source": [
    "# The Python 3 built-in \"zip\" lets us iteratively zip multiple iterators. \n",
    "#  Useful when building a giant dictionary:\n",
    "import string\n",
    "dict(zip(string.ascii_lowercase, string.ascii_uppercase[:10]))"
   ]
  },
  {
   "cell_type": "code",
   "execution_count": 58,
   "metadata": {},
   "outputs": [],
   "source": [
    "from itertools import zip_longest"
   ]
  },
  {
   "cell_type": "code",
   "execution_count": 59,
   "metadata": {
    "scrolled": true
   },
   "outputs": [
    {
     "data": {
      "text/plain": [
       "{'a': 'A',\n",
       " 'b': 'B',\n",
       " 'c': 'C',\n",
       " 'd': 'D',\n",
       " 'e': 'E',\n",
       " 'f': 'F',\n",
       " 'g': 'G',\n",
       " 'h': 'H',\n",
       " 'i': 'I',\n",
       " 'j': 'J',\n",
       " 'k': None,\n",
       " 'l': None,\n",
       " 'm': None,\n",
       " 'n': None,\n",
       " 'o': None,\n",
       " 'p': None,\n",
       " 'q': None,\n",
       " 'r': None,\n",
       " 's': None,\n",
       " 't': None,\n",
       " 'u': None,\n",
       " 'v': None,\n",
       " 'w': None,\n",
       " 'x': None,\n",
       " 'y': None,\n",
       " 'z': None}"
      ]
     },
     "execution_count": 59,
     "metadata": {},
     "output_type": "execute_result"
    }
   ],
   "source": [
    "dict(zip_longest(\n",
    "    string.ascii_lowercase, \n",
    "    string.ascii_uppercase[:10]\n",
    "))"
   ]
  },
  {
   "cell_type": "code",
   "execution_count": 60,
   "metadata": {
    "scrolled": true
   },
   "outputs": [
    {
     "data": {
      "text/plain": [
       "{'a': 'A',\n",
       " 'b': 'B',\n",
       " 'c': 'C',\n",
       " 'd': 'D',\n",
       " 'e': 'E',\n",
       " 'f': 'F',\n",
       " 'g': 'G',\n",
       " 'h': 'H',\n",
       " 'i': 'I',\n",
       " 'j': 'J',\n",
       " 'k': '---',\n",
       " 'l': '---',\n",
       " 'm': '---',\n",
       " 'n': '---',\n",
       " 'o': '---',\n",
       " 'p': '---',\n",
       " 'q': '---',\n",
       " 'r': '---',\n",
       " 's': '---',\n",
       " 't': '---',\n",
       " 'u': '---',\n",
       " 'v': '---',\n",
       " 'w': '---',\n",
       " 'x': '---',\n",
       " 'y': '---',\n",
       " 'z': '---'}"
      ]
     },
     "execution_count": 60,
     "metadata": {},
     "output_type": "execute_result"
    }
   ],
   "source": [
    "dict(zip_longest(\n",
    "    string.ascii_lowercase, \n",
    "    string.ascii_uppercase[:10],\n",
    "    fillvalue='---'\n",
    "))"
   ]
  },
  {
   "cell_type": "code",
   "execution_count": 61,
   "metadata": {},
   "outputs": [
    {
     "name": "stdout",
     "output_type": "stream",
     "text": [
      "0 a\n",
      "1 b\n",
      "2 c\n",
      "3 d\n",
      "4 e\n",
      "5 f\n",
      "6 g\n",
      "7 h\n",
      "8 i\n",
      "9 j\n"
     ]
    }
   ],
   "source": [
    "# count() gives us a simple iterator of consecutive values\n",
    "\n",
    "for i, letter in zip(count(), string.ascii_letters[:10]):\n",
    "    print(i, letter)"
   ]
  },
  {
   "cell_type": "code",
   "execution_count": 62,
   "metadata": {},
   "outputs": [
    {
     "name": "stdout",
     "output_type": "stream",
     "text": [
      "0 a\n",
      "1 b\n",
      "2 c\n",
      "3 d\n",
      "4 e\n",
      "5 f\n",
      "6 g\n",
      "7 h\n",
      "8 i\n",
      "9 j\n"
     ]
    }
   ],
   "source": [
    "for i, letter in enumerate(string.ascii_letters[:10]):\n",
    "    print(i, letter)"
   ]
  },
  {
   "cell_type": "code",
   "execution_count": 63,
   "metadata": {},
   "outputs": [
    {
     "name": "stdout",
     "output_type": "stream",
     "text": [
      "0 a\n",
      "1 b\n",
      "2 c\n",
      "3 d\n",
      "4 e\n",
      "5 f\n",
      "6 g\n",
      "7 h\n",
      "8 i\n",
      "9 j\n"
     ]
    }
   ],
   "source": [
    "# Python anti-pattern\n",
    "for i in range(len(string.ascii_letters[:10])):\n",
    "    print(i, string.ascii_letters[i])"
   ]
  },
  {
   "cell_type": "code",
   "execution_count": 64,
   "metadata": {
    "scrolled": true
   },
   "outputs": [
    {
     "name": "stdout",
     "output_type": "stream",
     "text": [
      "a A\n",
      "b B\n",
      "c C\n",
      "d D\n",
      "e E\n",
      "f F\n",
      "g G\n",
      "h H\n",
      "i I\n",
      "j J\n"
     ]
    }
   ],
   "source": [
    "# also an anti-pattern\n",
    "d = dict(zip(string.ascii_lowercase, string.ascii_uppercase[:10]))\n",
    "for key in d.keys():\n",
    "    print(key, d[key])"
   ]
  },
  {
   "cell_type": "code",
   "execution_count": 65,
   "metadata": {},
   "outputs": [
    {
     "name": "stdout",
     "output_type": "stream",
     "text": [
      "a A\n",
      "b B\n",
      "c C\n",
      "d D\n",
      "e E\n",
      "f F\n",
      "g G\n",
      "h H\n",
      "i I\n",
      "j J\n"
     ]
    }
   ],
   "source": [
    "for key, value in d.items():\n",
    "    print(key, value)"
   ]
  },
  {
   "cell_type": "markdown",
   "metadata": {},
   "source": [
    "`groupby()` allows us to efficiently group values from an iterator into sub-iterators. For instance, we might have \n",
    "some datetime-based data that we wish to convert to date-based data:"
   ]
  },
  {
   "cell_type": "code",
   "execution_count": 66,
   "metadata": {
    "scrolled": true
   },
   "outputs": [
    {
     "name": "stdout",
     "output_type": "stream",
     "text": [
      "72\n"
     ]
    }
   ],
   "source": [
    "from random import random\n",
    "from datetime import datetime, timedelta\n",
    "\n",
    "trades = []\n",
    "dt = datetime(2016, 4, 24)\n",
    "while dt < datetime(2016,4,27):\n",
    "    trades.append((dt, random()))\n",
    "    dt += timedelta(hours=1)\n",
    "    \n",
    "print(len(trades))"
   ]
  },
  {
   "cell_type": "code",
   "execution_count": 67,
   "metadata": {},
   "outputs": [
    {
     "data": {
      "text/plain": [
       "[(datetime.datetime(2016, 4, 24, 0, 0), 0.712605860577327),\n",
       " (datetime.datetime(2016, 4, 24, 1, 0), 0.3142319590716284),\n",
       " (datetime.datetime(2016, 4, 24, 2, 0), 0.10977545415739876),\n",
       " (datetime.datetime(2016, 4, 24, 3, 0), 0.6055446602210595),\n",
       " (datetime.datetime(2016, 4, 24, 4, 0), 0.07201795624646012),\n",
       " (datetime.datetime(2016, 4, 24, 5, 0), 0.292449193880956),\n",
       " (datetime.datetime(2016, 4, 24, 6, 0), 0.6524101809447218),\n",
       " (datetime.datetime(2016, 4, 24, 7, 0), 0.6718237415207235),\n",
       " (datetime.datetime(2016, 4, 24, 8, 0), 0.6710779369986538),\n",
       " (datetime.datetime(2016, 4, 24, 9, 0), 0.575878034538624)]"
      ]
     },
     "execution_count": 67,
     "metadata": {},
     "output_type": "execute_result"
    }
   ],
   "source": [
    "trades[:10]"
   ]
  },
  {
   "cell_type": "code",
   "execution_count": 68,
   "metadata": {},
   "outputs": [
    {
     "name": "stdout",
     "output_type": "stream",
     "text": [
      "2016-04-24 24\n",
      "2016-04-25 24\n",
      "2016-04-26 24\n"
     ]
    }
   ],
   "source": [
    "def day_of_trade(val):\n",
    "    dt, value = val\n",
    "    return dt.date()\n",
    "\n",
    "for date, date_trades in groupby(trades, key=day_of_trade):\n",
    "    print(date, len(list(date_trades)))\n"
   ]
  },
  {
   "cell_type": "code",
   "execution_count": 69,
   "metadata": {},
   "outputs": [
    {
     "name": "stdout",
     "output_type": "stream",
     "text": [
      "2016-04-24 0.5405557851270745\n",
      "2016-04-25 0.5060172910712806\n",
      "2016-04-26 0.5354313239432843\n"
     ]
    }
   ],
   "source": [
    "for date, date_trades in groupby(trades, key=day_of_trade):\n",
    "    date_trades = list(date_trades)\n",
    "    print(date, sum(v for dt, v in date_trades) / len(date_trades))\n"
   ]
  },
  {
   "cell_type": "code",
   "execution_count": 72,
   "metadata": {},
   "outputs": [
    {
     "name": "stdout",
     "output_type": "stream",
     "text": [
      "    2746\r\n"
     ]
    }
   ],
   "source": [
    "cat data/Hamlet.txt | sort | uniq | wc -l"
   ]
  },
  {
   "cell_type": "code",
   "execution_count": 73,
   "metadata": {
    "scrolled": true
   },
   "outputs": [
    {
     "name": "stdout",
     "output_type": "stream",
     "text": [
      "2016-04-26 0.648007118862586\n",
      "2016-04-25 0.9282062578407122\n",
      "2016-04-24 0.8157383470007334\n",
      "2016-04-25 0.5091742497986625\n",
      "2016-04-24 0.3426601462146175\n",
      "2016-04-26 0.7740482546935521\n",
      "2016-04-25 0.35342254199676215\n",
      "2016-04-24 0.2113552453834281\n",
      "2016-04-25 0.4159434454903568\n",
      "2016-04-26 0.43882751936099407\n",
      "2016-04-25 0.3421737321039665\n",
      "2016-04-26 0.459745466927788\n",
      "2016-04-24 0.5922526168335008\n",
      "2016-04-26 0.35746605511601376\n",
      "2016-04-24 0.6710779369986538\n",
      "2016-04-26 0.7111958829595859\n",
      "2016-04-24 0.7509316368272133\n",
      "2016-04-26 0.12503505851675195\n",
      "2016-04-25 0.6710271144018972\n",
      "2016-04-26 0.5387492009616593\n",
      "2016-04-25 0.16724916083397512\n",
      "2016-04-26 0.24915285885571303\n",
      "2016-04-24 0.6976466413608643\n",
      "2016-04-25 0.490422995590842\n",
      "2016-04-26 0.47714732722831976\n",
      "2016-04-24 0.10977545415739876\n",
      "2016-04-26 0.6969301252905717\n",
      "2016-04-24 0.6055446602210595\n",
      "2016-04-25 0.5487342756294784\n",
      "2016-04-24 0.7317017679153627\n",
      "2016-04-26 0.8479656842330379\n",
      "2016-04-25 0.7796848137552005\n",
      "2016-04-26 0.8855498692914121\n",
      "2016-04-25 0.8157842635081853\n",
      "2016-04-24 0.07201795624646012\n",
      "2016-04-25 0.30707480284404864\n",
      "2016-04-26 0.9679787605697445\n",
      "2016-04-24 0.47320545940569064\n",
      "2016-04-26 0.3915878055896259\n",
      "2016-04-24 0.7013343580320773\n",
      "2016-04-26 0.3527811193871637\n",
      "2016-04-25 0.32209001015509464\n"
     ]
    }
   ],
   "source": [
    "import random\n",
    "random.shuffle(trades)\n",
    "\n",
    "for date, date_trades in groupby(trades, key=day_of_trade):\n",
    "    date_trades = list(date_trades)\n",
    "    print(date, sum(v for dt, v in date_trades) / len(list(date_trades)))\n"
   ]
  },
  {
   "cell_type": "markdown",
   "metadata": {},
   "source": [
    "### Note that your data *must* already be sorted in a \"grouped\" order if you use `groupby`. If you wish to group *unsorted* data, you should use a `defaultdict` instead."
   ]
  },
  {
   "cell_type": "code",
   "execution_count": 74,
   "metadata": {},
   "outputs": [],
   "source": [
    "from collections import defaultdict\n",
    "\n",
    "date_trades = defaultdict(list)\n",
    "for dt, value in trades:\n",
    "    day = dt.date()\n",
    "    date_trades[day].append(value)"
   ]
  },
  {
   "cell_type": "code",
   "execution_count": 75,
   "metadata": {},
   "outputs": [
    {
     "data": {
      "text/plain": [
       "{datetime.date(2016, 4, 26): 24,\n",
       " datetime.date(2016, 4, 25): 24,\n",
       " datetime.date(2016, 4, 24): 24}"
      ]
     },
     "execution_count": 75,
     "metadata": {},
     "output_type": "execute_result"
    }
   ],
   "source": [
    "{day: len(values) for day, values in date_trades.items()}"
   ]
  },
  {
   "cell_type": "code",
   "execution_count": 76,
   "metadata": {},
   "outputs": [],
   "source": [
    "import itertools\n",
    "itertools?"
   ]
  },
  {
   "cell_type": "markdown",
   "metadata": {},
   "source": [
    "# Lab\n",
    "\n",
    "Open [Generators and Iterators Lab][iteration-lab]\n",
    "\n",
    "[iteration-lab]: ./iteration-lab.ipynb"
   ]
  },
  {
   "cell_type": "code",
   "execution_count": null,
   "metadata": {},
   "outputs": [],
   "source": [
    "def gen(n):\n",
    "    ... \n",
    "    for item in gen(n-1):\n",
    "        yield item\n",
    "    ..."
   ]
  },
  {
   "cell_type": "code",
   "execution_count": null,
   "metadata": {},
   "outputs": [],
   "source": [
    "def gen(n):\n",
    "    ... \n",
    "    yield from gen(n-1)\n",
    "    ..."
   ]
  },
  {
   "cell_type": "code",
   "execution_count": 77,
   "metadata": {},
   "outputs": [],
   "source": [
    "ranks = '2 3 4 5 6 7 8 9 10 J Q K A'.split()\n",
    "suits = 'clubs spades hearts diamonds'.split()"
   ]
  },
  {
   "cell_type": "code",
   "execution_count": 78,
   "metadata": {},
   "outputs": [
    {
     "data": {
      "text/plain": [
       "['2', '3', '4', '5', '6', '7', '8', '9', '10', 'J', 'Q', 'K', 'A']"
      ]
     },
     "execution_count": 78,
     "metadata": {},
     "output_type": "execute_result"
    }
   ],
   "source": [
    "ranks"
   ]
  },
  {
   "cell_type": "code",
   "execution_count": 79,
   "metadata": {},
   "outputs": [
    {
     "data": {
      "text/plain": [
       "['clubs', 'spades', 'hearts', 'diamonds']"
      ]
     },
     "execution_count": 79,
     "metadata": {},
     "output_type": "execute_result"
    }
   ],
   "source": [
    "suits"
   ]
  },
  {
   "cell_type": "code",
   "execution_count": 80,
   "metadata": {},
   "outputs": [
    {
     "data": {
      "text/plain": [
       "[('2', 'clubs'),\n",
       " ('2', 'spades'),\n",
       " ('2', 'hearts'),\n",
       " ('2', 'diamonds'),\n",
       " ('3', 'clubs'),\n",
       " ('3', 'spades'),\n",
       " ('3', 'hearts'),\n",
       " ('3', 'diamonds'),\n",
       " ('4', 'clubs'),\n",
       " ('4', 'spades'),\n",
       " ('4', 'hearts'),\n",
       " ('4', 'diamonds'),\n",
       " ('5', 'clubs'),\n",
       " ('5', 'spades'),\n",
       " ('5', 'hearts'),\n",
       " ('5', 'diamonds'),\n",
       " ('6', 'clubs'),\n",
       " ('6', 'spades'),\n",
       " ('6', 'hearts'),\n",
       " ('6', 'diamonds'),\n",
       " ('7', 'clubs'),\n",
       " ('7', 'spades'),\n",
       " ('7', 'hearts'),\n",
       " ('7', 'diamonds'),\n",
       " ('8', 'clubs'),\n",
       " ('8', 'spades'),\n",
       " ('8', 'hearts'),\n",
       " ('8', 'diamonds'),\n",
       " ('9', 'clubs'),\n",
       " ('9', 'spades'),\n",
       " ('9', 'hearts'),\n",
       " ('9', 'diamonds'),\n",
       " ('10', 'clubs'),\n",
       " ('10', 'spades'),\n",
       " ('10', 'hearts'),\n",
       " ('10', 'diamonds'),\n",
       " ('J', 'clubs'),\n",
       " ('J', 'spades'),\n",
       " ('J', 'hearts'),\n",
       " ('J', 'diamonds'),\n",
       " ('Q', 'clubs'),\n",
       " ('Q', 'spades'),\n",
       " ('Q', 'hearts'),\n",
       " ('Q', 'diamonds'),\n",
       " ('K', 'clubs'),\n",
       " ('K', 'spades'),\n",
       " ('K', 'hearts'),\n",
       " ('K', 'diamonds'),\n",
       " ('A', 'clubs'),\n",
       " ('A', 'spades'),\n",
       " ('A', 'hearts'),\n",
       " ('A', 'diamonds')]"
      ]
     },
     "execution_count": 80,
     "metadata": {},
     "output_type": "execute_result"
    }
   ],
   "source": [
    "list(itertools.product(ranks, suits))"
   ]
  },
  {
   "cell_type": "code",
   "execution_count": null,
   "metadata": {},
   "outputs": [],
   "source": []
  }
 ],
 "metadata": {
  "kernelspec": {
   "display_name": "Python 3",
   "language": "python",
   "name": "python3"
  },
  "language_info": {
   "codemirror_mode": {
    "name": "ipython",
    "version": 3
   },
   "file_extension": ".py",
   "mimetype": "text/x-python",
   "name": "python",
   "nbconvert_exporter": "python",
   "pygments_lexer": "ipython3",
   "version": "3.7.6"
  }
 },
 "nbformat": 4,
 "nbformat_minor": 1
}
