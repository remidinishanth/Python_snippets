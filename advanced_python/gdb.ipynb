{
 "cells": [
  {
   "cell_type": "markdown",
   "metadata": {},
   "source": [
    "# Debugging with GDB\n",
    "\n",
    "## Get GDB Running\n",
    "\n",
    "Install gdb using homebrew\n",
    "\n",
    "On Mac, we must follow the directions at https://sourceware.org/gdb/wiki/PermissionsDarwin to sign the gdb app"
   ]
  },
  {
   "cell_type": "markdown",
   "metadata": {},
   "source": [
    "## Install Python extensions\n",
    "\n",
    "http://droettboom.com/blog/2015/11/20/gdb-python-extensions/"
   ]
  },
  {
   "cell_type": "markdown",
   "metadata": {},
   "source": [
    "# Install a Python with debug symbols\n",
    "\n",
    "Probably easiest to do this with [pyenv](https://github.com/pyenv/pyenv):"
   ]
  },
  {
   "cell_type": "code",
   "execution_count": 2,
   "metadata": {},
   "outputs": [
    {
     "name": "stdout",
     "output_type": "stream",
     "text": [
      "pyenv: /Users/rick446/.pyenv/versions/3.7.4-debug already exists\n",
      "continue with installation? (y/N) ^C\n"
     ]
    }
   ],
   "source": [
    "!pyenv install --debug --keep 3.7.4"
   ]
  },
  {
   "cell_type": "code",
   "execution_count": 3,
   "metadata": {},
   "outputs": [],
   "source": [
    "!pyenv local 3.7.4-debug"
   ]
  },
  {
   "cell_type": "markdown",
   "metadata": {},
   "source": [
    "# Running inside docker\n",
    "\n",
    "From https://github.com/tonyOreglia/argument-counter/wiki/How-to-use-GDB-within-Docker-Container\n",
    "\n",
    "`docker run --name gdb-example -it --cap-add=SYS_PTRACE --security-opt seccomp=unconfined -v $(pwd):/root/app ubuntu`\n",
    "\n",
    "```bash\n",
    "# apt update && apt install python3-dbg gdb\n",
    "```"
   ]
  },
  {
   "cell_type": "code",
   "execution_count": null,
   "metadata": {},
   "outputs": [],
   "source": []
  }
 ],
 "metadata": {
  "kernelspec": {
   "display_name": "Python 3",
   "language": "python",
   "name": "python3"
  },
  "language_info": {
   "codemirror_mode": {
    "name": "ipython",
    "version": 3
   },
   "file_extension": ".py",
   "mimetype": "text/x-python",
   "name": "python",
   "nbconvert_exporter": "python",
   "pygments_lexer": "ipython3",
   "version": "3.7.4"
  }
 },
 "nbformat": 4,
 "nbformat_minor": 2
}
