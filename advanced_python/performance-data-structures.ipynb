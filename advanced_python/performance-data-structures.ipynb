{
 "cells": [
  {
   "cell_type": "markdown",
   "metadata": {
    "slideshow": {
     "slide_type": "slide"
    }
   },
   "source": [
    "# Python Performance and Data Structures\n",
    "\n",
    "- Global Interpreter Lock\n",
    "- Space/Time Performance of Python Data Structures\n",
    "- Optimizing Class attribute access via `__slots__`"
   ]
  },
  {
   "cell_type": "markdown",
   "metadata": {},
   "source": [
    "# Threading: The GIL\n",
    "\n",
    "- Only one Python thread active at a time\n",
    "- C libraries can release the GIL\n",
    "  - I/O libraries, NumPy, etc.\n",
    "- Python threads are real OS threads\n",
    "- “Interesting” behavior on multicore systems\n",
    "- Python threads are pre-emptive"
   ]
  },
  {
   "cell_type": "markdown",
   "metadata": {},
   "source": [
    "# When to [not] worry about the GIL\n",
    "\n",
    "Worry\n",
    "- At least one CPU-bound Python thread\n",
    "- Multiple logical CPU cores\n",
    "\n",
    "Don't worry\n",
    "- Network-bound processing OR\n",
    "- Numpy and/or Pandas OR\n",
    "- Single logical CPU core"
   ]
  },
  {
   "cell_type": "markdown",
   "metadata": {},
   "source": [
    "# Threading vs Async\n",
    "\n",
    "- Asynchronous programming, via gevent or otherwise, does not help with the GIL\n",
    "- Asynchronous design helps with the memory and task switching overhead of threading, allowing you to have many 1000s of “green” threads"
   ]
  },
  {
   "cell_type": "markdown",
   "metadata": {},
   "source": [
    "# Data Structure Performance\n",
    "\n",
    "[notebook][data-structure-perf]\n",
    "\n",
    "[data-structure-perf]: ./performance-data-structures-2.ipynb"
   ]
  },
  {
   "cell_type": "code",
   "execution_count": null,
   "metadata": {},
   "outputs": [],
   "source": []
  }
 ],
 "metadata": {
  "kernelspec": {
   "display_name": "Python 3",
   "language": "python",
   "name": "python3"
  },
  "language_info": {
   "codemirror_mode": {
    "name": "ipython",
    "version": 3
   },
   "file_extension": ".py",
   "mimetype": "text/x-python",
   "name": "python",
   "nbconvert_exporter": "python",
   "pygments_lexer": "ipython3",
   "version": "3.7.6"
  }
 },
 "nbformat": 4,
 "nbformat_minor": 2
}
