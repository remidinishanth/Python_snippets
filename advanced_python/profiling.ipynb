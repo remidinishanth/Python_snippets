{
 "cells": [
  {
   "cell_type": "markdown",
   "metadata": {},
   "source": [
    "# Micro-benchmarks and timeit"
   ]
  },
  {
   "cell_type": "code",
   "execution_count": 1,
   "metadata": {},
   "outputs": [],
   "source": [
    "import io\n",
    "\n",
    "def build_concat(strings):\n",
    "    result = ''\n",
    "    for s in strings:\n",
    "        result += s\n",
    "    return result\n",
    "\n",
    "def build_join(strings):\n",
    "    return ''.join(strings)\n",
    "\n",
    "def build_sio(strings):\n",
    "    sio = io.StringIO()\n",
    "    for s in strings:\n",
    "        sio.write(s)\n",
    "    return sio.getvalue()\n",
    "\n",
    "strings = [str(i) for i in range(1000)]"
   ]
  },
  {
   "cell_type": "code",
   "execution_count": 2,
   "metadata": {},
   "outputs": [
    {
     "data": {
      "text/plain": [
       "True"
      ]
     },
     "execution_count": 2,
     "metadata": {},
     "output_type": "execute_result"
    }
   ],
   "source": [
    "build_concat(strings) == build_join(strings) == build_sio(strings) "
   ]
  },
  {
   "cell_type": "code",
   "execution_count": 3,
   "metadata": {},
   "outputs": [
    {
     "name": "stdout",
     "output_type": "stream",
     "text": [
      "import io\n",
      "\n",
      "def build_concat(strings):\n",
      "    result = ''\n",
      "    for s in strings:\n",
      "        result += s\n",
      "    return result\n",
      "\n",
      "def build_join(strings):\n",
      "    return ''.join(strings)\n",
      "\n",
      "def build_sio(strings):\n",
      "    sio = io.StringIO()\n",
      "    for s in strings:\n",
      "        sio.write(s)\n",
      "    return sio.getvalue()\n",
      "\n",
      "strings = [str(i) for i in range(1000)]\n"
     ]
    }
   ],
   "source": [
    "print(In[1])"
   ]
  },
  {
   "cell_type": "code",
   "execution_count": 4,
   "metadata": {},
   "outputs": [],
   "source": [
    "import timeit"
   ]
  },
  {
   "cell_type": "code",
   "execution_count": 6,
   "metadata": {},
   "outputs": [
    {
     "name": "stdout",
     "output_type": "stream",
     "text": [
      "concat 0.8521972469999994\n",
      "join 0.07722120599999727\n",
      "sio 0.8424774329999991\n"
     ]
    }
   ],
   "source": [
    "for fname in ('concat', 'join', 'sio'):\n",
    "    elapsed = timeit.timeit(\n",
    "        'build_%s(strings)' % fname, \n",
    "        In[1], number=10000)\n",
    "    print(fname, elapsed)"
   ]
  },
  {
   "cell_type": "markdown",
   "metadata": {},
   "source": [
    "## Jupyter Notebook (and IPython) provide a nice helper\n",
    "\n",
    "We can use `%timeit` (or usually just `timeit`) to run a version of `timeit` in IPython"
   ]
  },
  {
   "cell_type": "code",
   "execution_count": 7,
   "metadata": {},
   "outputs": [
    {
     "name": "stdout",
     "output_type": "stream",
     "text": [
      "87.4 µs ± 1.09 µs per loop (mean ± std. dev. of 7 runs, 10000 loops each)\n"
     ]
    }
   ],
   "source": [
    "%timeit build_concat(strings)"
   ]
  },
  {
   "cell_type": "code",
   "execution_count": 8,
   "metadata": {},
   "outputs": [
    {
     "name": "stdout",
     "output_type": "stream",
     "text": [
      "7.98 µs ± 176 ns per loop (mean ± std. dev. of 7 runs, 100000 loops each)\n"
     ]
    }
   ],
   "source": [
    "%timeit build_join(strings)"
   ]
  },
  {
   "cell_type": "code",
   "execution_count": 9,
   "metadata": {},
   "outputs": [
    {
     "name": "stdout",
     "output_type": "stream",
     "text": [
      "86.1 µs ± 773 ns per loop (mean ± std. dev. of 7 runs, 10000 loops each)\n"
     ]
    }
   ],
   "source": [
    "%timeit build_sio(strings)"
   ]
  },
  {
   "cell_type": "markdown",
   "metadata": {},
   "source": [
    "## Results of our microbenchmark\n",
    "\n",
    "- `''.join()` is the fastest, around 10x faster than concatenating strings\n",
    "- You should use `''.join` when you need to build a big string from a list of strings"
   ]
  },
  {
   "cell_type": "markdown",
   "metadata": {},
   "source": [
    "# Profiling Python Code\n",
    "\n",
    "You can profile an entire script by running it via `python -m cProfile` to get summary information about the whole thing:"
   ]
  },
  {
   "cell_type": "code",
   "execution_count": 10,
   "metadata": {},
   "outputs": [
    {
     "data": {
      "text/plain": [
       "'/Users/rick446/src/arborian-classes/src'"
      ]
     },
     "execution_count": 10,
     "metadata": {},
     "output_type": "execute_result"
    }
   ],
   "source": [
    "pwd"
   ]
  },
  {
   "cell_type": "code",
   "execution_count": 11,
   "metadata": {},
   "outputs": [
    {
     "name": "stdout",
     "output_type": "stream",
     "text": [
      "import re\r\n",
      "def make_re(pattern):\r\n",
      "    return re.compile(pattern)\r\n",
      "\r\n",
      "text = '''The quick brown fox jumps over the lazy dog'''\r\n",
      "for x in range(10000):\r\n",
      "    re.search('fox', text)"
     ]
    }
   ],
   "source": [
    "!cat data/profiling/profiletest.py"
   ]
  },
  {
   "cell_type": "code",
   "execution_count": 12,
   "metadata": {},
   "outputs": [
    {
     "name": "stdout",
     "output_type": "stream",
     "text": [
      "         40096 function calls (40095 primitive calls) in 0.014 seconds\r\n",
      "\r\n",
      "   Ordered by: standard name\r\n",
      "\r\n",
      "   ncalls  tottime  percall  cumtime  percall filename:lineno(function)\r\n",
      "        2    0.000    0.000    0.000    0.000 enum.py:284(__call__)\r\n",
      "        2    0.000    0.000    0.000    0.000 enum.py:526(__new__)\r\n",
      "        1    0.000    0.000    0.000    0.000 enum.py:836(__and__)\r\n",
      "        1    0.003    0.003    0.014    0.014 profiletest.py:1(<module>)\r\n",
      "    10000    0.003    0.000    0.011    0.000 re.py:180(search)\r\n",
      "    10000    0.004    0.000    0.005    0.000 re.py:271(_compile)\r\n",
      "        1    0.000    0.000    0.000    0.000 sre_compile.py:432(_generate_overlap_table)\r\n",
      "        1    0.000    0.000    0.000    0.000 sre_compile.py:453(_get_iscased)\r\n",
      "        1    0.000    0.000    0.000    0.000 sre_compile.py:461(_get_literal_prefix)\r\n",
      "        1    0.000    0.000    0.000    0.000 sre_compile.py:536(_compile_info)\r\n",
      "        2    0.000    0.000    0.000    0.000 sre_compile.py:595(isstring)\r\n",
      "        1    0.000    0.000    0.000    0.000 sre_compile.py:598(_code)\r\n",
      "        1    0.000    0.000    0.000    0.000 sre_compile.py:71(_compile)\r\n",
      "        1    0.000    0.000    0.000    0.000 sre_compile.py:759(compile)\r\n",
      "        1    0.000    0.000    0.000    0.000 sre_parse.py:111(__init__)\r\n",
      "        1    0.000    0.000    0.000    0.000 sre_parse.py:160(__len__)\r\n",
      "        3    0.000    0.000    0.000    0.000 sre_parse.py:164(__getitem__)\r\n",
      "        3    0.000    0.000    0.000    0.000 sre_parse.py:172(append)\r\n",
      "        1    0.000    0.000    0.000    0.000 sre_parse.py:174(getwidth)\r\n",
      "        1    0.000    0.000    0.000    0.000 sre_parse.py:224(__init__)\r\n",
      "        4    0.000    0.000    0.000    0.000 sre_parse.py:233(__next)\r\n",
      "        1    0.000    0.000    0.000    0.000 sre_parse.py:249(match)\r\n",
      "        3    0.000    0.000    0.000    0.000 sre_parse.py:254(get)\r\n",
      "        1    0.000    0.000    0.000    0.000 sre_parse.py:286(tell)\r\n",
      "        1    0.000    0.000    0.000    0.000 sre_parse.py:417(_parse_sub)\r\n",
      "        1    0.000    0.000    0.000    0.000 sre_parse.py:475(_parse)\r\n",
      "        1    0.000    0.000    0.000    0.000 sre_parse.py:76(__init__)\r\n",
      "        2    0.000    0.000    0.000    0.000 sre_parse.py:81(groups)\r\n",
      "        1    0.000    0.000    0.000    0.000 sre_parse.py:903(fix_flags)\r\n",
      "        1    0.000    0.000    0.000    0.000 sre_parse.py:919(parse)\r\n",
      "        1    0.000    0.000    0.000    0.000 {built-in method _sre.compile}\r\n",
      "        1    0.000    0.000    0.014    0.014 {built-in method builtins.exec}\r\n",
      "    10009    0.002    0.000    0.002    0.000 {built-in method builtins.isinstance}\r\n",
      "    13/12    0.000    0.000    0.000    0.000 {built-in method builtins.len}\r\n",
      "        3    0.000    0.000    0.000    0.000 {built-in method builtins.min}\r\n",
      "        3    0.000    0.000    0.000    0.000 {built-in method builtins.ord}\r\n",
      "       21    0.000    0.000    0.000    0.000 {method 'append' of 'list' objects}\r\n",
      "        1    0.000    0.000    0.000    0.000 {method 'disable' of '_lsprof.Profiler' objects}\r\n",
      "        2    0.000    0.000    0.000    0.000 {method 'extend' of 'list' objects}\r\n",
      "        1    0.000    0.000    0.000    0.000 {method 'items' of 'dict' objects}\r\n",
      "    10000    0.002    0.000    0.002    0.000 {method 'search' of 're.Pattern' objects}\r\n",
      "\r\n",
      "\r\n"
     ]
    }
   ],
   "source": [
    "!python -m cProfile data/profiling/profiletest.py"
   ]
  },
  {
   "cell_type": "code",
   "execution_count": 13,
   "metadata": {},
   "outputs": [
    {
     "name": "stdout",
     "output_type": "stream",
     "text": [
      "         40096 function calls (40095 primitive calls) in 0.014 seconds\n",
      "\n",
      "   Ordered by: internal time\n",
      "\n",
      "   ncalls  tottime  percall  cumtime  percall filename:lineno(function)\n",
      "    10000    0.003    0.000    0.005    0.000 re.py:271(_compile)\n",
      "    10000    0.003    0.000    0.011    0.000 re.py:180(search)\n",
      "        1    0.003    0.003    0.014    0.014 profiletest.py:1(<module>)\n",
      "    10000    0.002    0.000    0.002    0.000 {method 'search' of 're.Pattern' objects}\n",
      "    10009    0.002    0.000    0.002    0.000 {built-in method builtins.isinstance}\n",
      "        1    0.000    0.000    0.000    0.000 sre_compile.py:759(compile)\n",
      "        1    0.000    0.000    0.000    0.000 sre_parse.py:475(_parse)\n",
      "        1    0.000    0.000    0.000    0.000 sre_parse.py:174(getwidth)\n",
      "        1    0.000    0.000    0.000    0.000 sre_parse.py:417(_parse_sub)\n",
      "        2    0.000    0.000    0.000    0.000 enum.py:284(__call__)\n",
      "        1    0.000    0.000    0.000    0.000 sre_compile.py:432(_generate_overlap_table)\n",
      "        1    0.000    0.000    0.000    0.000 sre_compile.py:461(_get_literal_prefix)\n",
      "        4    0.000    0.000    0.000    0.000 sre_parse.py:233(__next)\n",
      "       21    0.000    0.000    0.000    0.000 {method 'append' of 'list' objects}\n",
      "    13/12    0.000    0.000    0.000    0.000 {built-in method builtins.len}\n",
      "        3    0.000    0.000    0.000    0.000 {built-in method builtins.min}\n",
      "        1    0.000    0.000    0.000    0.000 enum.py:836(__and__)\n",
      "        1    0.000    0.000    0.000    0.000 sre_compile.py:598(_code)\n",
      "        3    0.000    0.000    0.000    0.000 sre_parse.py:164(__getitem__)\n",
      "        3    0.000    0.000    0.000    0.000 sre_parse.py:172(append)\n",
      "        1    0.000    0.000    0.000    0.000 sre_parse.py:919(parse)\n",
      "        1    0.000    0.000    0.000    0.000 {method 'items' of 'dict' objects}\n",
      "        1    0.000    0.000    0.014    0.014 {built-in method builtins.exec}\n",
      "        1    0.000    0.000    0.000    0.000 {built-in method _sre.compile}\n",
      "        1    0.000    0.000    0.000    0.000 {method 'disable' of '_lsprof.Profiler' objects}\n",
      "        2    0.000    0.000    0.000    0.000 enum.py:526(__new__)\n",
      "        1    0.000    0.000    0.000    0.000 sre_compile.py:71(_compile)\n",
      "        1    0.000    0.000    0.000    0.000 sre_compile.py:536(_compile_info)\n",
      "        2    0.000    0.000    0.000    0.000 sre_compile.py:595(isstring)\n",
      "        1    0.000    0.000    0.000    0.000 sre_parse.py:76(__init__)\n",
      "        1    0.000    0.000    0.000    0.000 sre_parse.py:111(__init__)\n",
      "        1    0.000    0.000    0.000    0.000 sre_parse.py:224(__init__)\n",
      "        1    0.000    0.000    0.000    0.000 sre_parse.py:286(tell)\n",
      "        2    0.000    0.000    0.000    0.000 {method 'extend' of 'list' objects}\n",
      "        3    0.000    0.000    0.000    0.000 {built-in method builtins.ord}\n",
      "        1    0.000    0.000    0.000    0.000 sre_compile.py:453(_get_iscased)\n",
      "        2    0.000    0.000    0.000    0.000 sre_parse.py:81(groups)\n",
      "        1    0.000    0.000    0.000    0.000 sre_parse.py:160(__len__)\n",
      "        1    0.000    0.000    0.000    0.000 sre_parse.py:249(match)\n",
      "        3    0.000    0.000    0.000    0.000 sre_parse.py:254(get)\n",
      "        1    0.000    0.000    0.000    0.000 sre_parse.py:903(fix_flags)\n",
      "\n",
      "\n"
     ]
    }
   ],
   "source": [
    "!python -m cProfile -s time data/profiling/profiletest.py"
   ]
  },
  {
   "cell_type": "markdown",
   "metadata": {},
   "source": [
    "### Direct profiling\n",
    "\n",
    "We can also profile just a few Python statements or a function:"
   ]
  },
  {
   "cell_type": "code",
   "execution_count": 14,
   "metadata": {},
   "outputs": [],
   "source": [
    "import re\n",
    "import cProfile"
   ]
  },
  {
   "cell_type": "code",
   "execution_count": 15,
   "metadata": {
    "scrolled": true
   },
   "outputs": [
    {
     "name": "stdout",
     "output_type": "stream",
     "text": [
      "         214 function calls (207 primitive calls) in 0.000 seconds\n",
      "\n",
      "   Ordered by: standard name\n",
      "\n",
      "   ncalls  tottime  percall  cumtime  percall filename:lineno(function)\n",
      "        1    0.000    0.000    0.000    0.000 <string>:1(<module>)\n",
      "        2    0.000    0.000    0.000    0.000 enum.py:284(__call__)\n",
      "        2    0.000    0.000    0.000    0.000 enum.py:526(__new__)\n",
      "        1    0.000    0.000    0.000    0.000 enum.py:836(__and__)\n",
      "        1    0.000    0.000    0.000    0.000 re.py:232(compile)\n",
      "        1    0.000    0.000    0.000    0.000 re.py:271(_compile)\n",
      "        1    0.000    0.000    0.000    0.000 sre_compile.py:249(_compile_charset)\n",
      "        1    0.000    0.000    0.000    0.000 sre_compile.py:276(_optimize_charset)\n",
      "        2    0.000    0.000    0.000    0.000 sre_compile.py:453(_get_iscased)\n",
      "        1    0.000    0.000    0.000    0.000 sre_compile.py:461(_get_literal_prefix)\n",
      "        1    0.000    0.000    0.000    0.000 sre_compile.py:492(_get_charset_prefix)\n",
      "        1    0.000    0.000    0.000    0.000 sre_compile.py:536(_compile_info)\n",
      "        2    0.000    0.000    0.000    0.000 sre_compile.py:595(isstring)\n",
      "        1    0.000    0.000    0.000    0.000 sre_compile.py:598(_code)\n",
      "      3/1    0.000    0.000    0.000    0.000 sre_compile.py:71(_compile)\n",
      "        1    0.000    0.000    0.000    0.000 sre_compile.py:759(compile)\n",
      "        3    0.000    0.000    0.000    0.000 sre_parse.py:111(__init__)\n",
      "        7    0.000    0.000    0.000    0.000 sre_parse.py:160(__len__)\n",
      "       18    0.000    0.000    0.000    0.000 sre_parse.py:164(__getitem__)\n",
      "        7    0.000    0.000    0.000    0.000 sre_parse.py:172(append)\n",
      "      3/1    0.000    0.000    0.000    0.000 sre_parse.py:174(getwidth)\n",
      "        1    0.000    0.000    0.000    0.000 sre_parse.py:224(__init__)\n",
      "        8    0.000    0.000    0.000    0.000 sre_parse.py:233(__next)\n",
      "        2    0.000    0.000    0.000    0.000 sre_parse.py:249(match)\n",
      "        6    0.000    0.000    0.000    0.000 sre_parse.py:254(get)\n",
      "        1    0.000    0.000    0.000    0.000 sre_parse.py:286(tell)\n",
      "        1    0.000    0.000    0.000    0.000 sre_parse.py:417(_parse_sub)\n",
      "        2    0.000    0.000    0.000    0.000 sre_parse.py:475(_parse)\n",
      "        1    0.000    0.000    0.000    0.000 sre_parse.py:76(__init__)\n",
      "        2    0.000    0.000    0.000    0.000 sre_parse.py:81(groups)\n",
      "        1    0.000    0.000    0.000    0.000 sre_parse.py:903(fix_flags)\n",
      "        1    0.000    0.000    0.000    0.000 sre_parse.py:919(parse)\n",
      "        1    0.000    0.000    0.000    0.000 {built-in method _sre.compile}\n",
      "        1    0.000    0.000    0.000    0.000 {built-in method builtins.exec}\n",
      "       25    0.000    0.000    0.000    0.000 {built-in method builtins.isinstance}\n",
      "    29/26    0.000    0.000    0.000    0.000 {built-in method builtins.len}\n",
      "        2    0.000    0.000    0.000    0.000 {built-in method builtins.max}\n",
      "        9    0.000    0.000    0.000    0.000 {built-in method builtins.min}\n",
      "        6    0.000    0.000    0.000    0.000 {built-in method builtins.ord}\n",
      "       48    0.000    0.000    0.000    0.000 {method 'append' of 'list' objects}\n",
      "        1    0.000    0.000    0.000    0.000 {method 'disable' of '_lsprof.Profiler' objects}\n",
      "        5    0.000    0.000    0.000    0.000 {method 'find' of 'bytearray' objects}\n",
      "        1    0.000    0.000    0.000    0.000 {method 'items' of 'dict' objects}\n",
      "\n",
      "\n"
     ]
    }
   ],
   "source": [
    "cProfile.run('re.compile(\"foo|bar\")')"
   ]
  },
  {
   "cell_type": "markdown",
   "metadata": {},
   "source": [
    "We can also save the statistics to a file for analysis later:"
   ]
  },
  {
   "cell_type": "code",
   "execution_count": 16,
   "metadata": {},
   "outputs": [],
   "source": [
    "cProfile.run('re.compile(\"foo|bar\")', 're-stats')"
   ]
  },
  {
   "cell_type": "markdown",
   "metadata": {},
   "source": [
    "For analysis, we use the `pstats` module:"
   ]
  },
  {
   "cell_type": "code",
   "execution_count": 17,
   "metadata": {},
   "outputs": [],
   "source": [
    "import pstats"
   ]
  },
  {
   "cell_type": "code",
   "execution_count": 18,
   "metadata": {},
   "outputs": [],
   "source": [
    "p = pstats.Stats('re-stats')"
   ]
  },
  {
   "cell_type": "code",
   "execution_count": 19,
   "metadata": {
    "scrolled": true
   },
   "outputs": [
    {
     "name": "stdout",
     "output_type": "stream",
     "text": [
      "Wed Nov  6 07:48:55 2019    re-stats\n",
      "\n",
      "         6 function calls in 0.000 seconds\n",
      "\n",
      "   Random listing order was used\n",
      "\n",
      "   ncalls  tottime  percall  cumtime  percall filename:lineno(function)\n",
      "        1    0.000    0.000    0.000    0.000 {built-in method builtins.exec}\n",
      "        1    0.000    0.000    0.000    0.000 {built-in method builtins.isinstance}\n",
      "        1    0.000    0.000    0.000    0.000 /usr/local/Cellar/python/3.7.4_1/Frameworks/Python.framework/Versions/3.7/lib/python3.7/re.py:232(compile)\n",
      "        1    0.000    0.000    0.000    0.000 /usr/local/Cellar/python/3.7.4_1/Frameworks/Python.framework/Versions/3.7/lib/python3.7/re.py:271(_compile)\n",
      "        1    0.000    0.000    0.000    0.000 {method 'disable' of '_lsprof.Profiler' objects}\n",
      "        1    0.000    0.000    0.000    0.000 <string>:1(<module>)\n",
      "\n",
      "\n"
     ]
    },
    {
     "data": {
      "text/plain": [
       "<pstats.Stats at 0x10f30d510>"
      ]
     },
     "execution_count": 19,
     "metadata": {},
     "output_type": "execute_result"
    }
   ],
   "source": [
    "p.print_stats()"
   ]
  },
  {
   "cell_type": "code",
   "execution_count": 20,
   "metadata": {},
   "outputs": [
    {
     "name": "stdout",
     "output_type": "stream",
     "text": [
      "Wed Nov  6 07:48:55 2019    re-stats\n",
      "\n",
      "         6 function calls in 0.000 seconds\n",
      "\n",
      "   Random listing order was used\n",
      "\n",
      "   ncalls  tottime  percall  cumtime  percall filename:lineno(function)\n",
      "        1    0.000    0.000    0.000    0.000 {built-in method builtins.exec}\n",
      "        1    0.000    0.000    0.000    0.000 {built-in method builtins.isinstance}\n",
      "        1    0.000    0.000    0.000    0.000 re.py:232(compile)\n",
      "        1    0.000    0.000    0.000    0.000 re.py:271(_compile)\n",
      "        1    0.000    0.000    0.000    0.000 {method 'disable' of '_lsprof.Profiler' objects}\n",
      "        1    0.000    0.000    0.000    0.000 <string>:1(<module>)\n",
      "\n",
      "\n"
     ]
    },
    {
     "data": {
      "text/plain": [
       "<pstats.Stats at 0x10f30d510>"
      ]
     },
     "execution_count": 20,
     "metadata": {},
     "output_type": "execute_result"
    }
   ],
   "source": [
    "p.strip_dirs()\n",
    "p.print_stats()"
   ]
  },
  {
   "cell_type": "code",
   "execution_count": 21,
   "metadata": {},
   "outputs": [
    {
     "data": {
      "text/plain": [
       "<pstats.Stats at 0x10f30d510>"
      ]
     },
     "execution_count": 21,
     "metadata": {},
     "output_type": "execute_result"
    }
   ],
   "source": [
    "p.sort_stats('time')"
   ]
  },
  {
   "cell_type": "code",
   "execution_count": 22,
   "metadata": {},
   "outputs": [
    {
     "name": "stdout",
     "output_type": "stream",
     "text": [
      "Wed Nov  6 07:48:55 2019    re-stats\n",
      "\n",
      "         6 function calls in 0.000 seconds\n",
      "\n",
      "   Ordered by: internal time\n",
      "\n",
      "   ncalls  tottime  percall  cumtime  percall filename:lineno(function)\n",
      "        1    0.000    0.000    0.000    0.000 {built-in method builtins.exec}\n",
      "        1    0.000    0.000    0.000    0.000 re.py:271(_compile)\n",
      "        1    0.000    0.000    0.000    0.000 <string>:1(<module>)\n",
      "        1    0.000    0.000    0.000    0.000 {built-in method builtins.isinstance}\n",
      "        1    0.000    0.000    0.000    0.000 re.py:232(compile)\n",
      "        1    0.000    0.000    0.000    0.000 {method 'disable' of '_lsprof.Profiler' objects}\n",
      "\n",
      "\n"
     ]
    },
    {
     "data": {
      "text/plain": [
       "<pstats.Stats at 0x10f30d510>"
      ]
     },
     "execution_count": 22,
     "metadata": {},
     "output_type": "execute_result"
    }
   ],
   "source": [
    "p.print_stats()"
   ]
  },
  {
   "cell_type": "markdown",
   "metadata": {},
   "source": [
    "IPython also has a magic function to help us here, as well:"
   ]
  },
  {
   "cell_type": "code",
   "execution_count": 25,
   "metadata": {},
   "outputs": [
    {
     "name": "stdout",
     "output_type": "stream",
     "text": [
      " "
     ]
    }
   ],
   "source": [
    "%prun for x in range(10000): re.compile('foo|bar')"
   ]
  },
  {
   "cell_type": "code",
   "execution_count": 27,
   "metadata": {},
   "outputs": [
    {
     "name": "stdout",
     "output_type": "stream",
     "text": [
      " "
     ]
    }
   ],
   "source": [
    "%%prun \n",
    "for x in range(10000): \n",
    "    re.compile('foo|bar')"
   ]
  },
  {
   "cell_type": "code",
   "execution_count": 28,
   "metadata": {},
   "outputs": [],
   "source": [
    "p = cProfile.Profile()"
   ]
  },
  {
   "cell_type": "code",
   "execution_count": 30,
   "metadata": {},
   "outputs": [],
   "source": [
    "p.enable()\n",
    "for x in range(10000):\n",
    "    re.compile('re|foo')\n",
    "    lst0 = range(100)\n",
    "    lst1 = list(range(100))\n",
    "p.disable()"
   ]
  },
  {
   "cell_type": "code",
   "execution_count": 31,
   "metadata": {},
   "outputs": [
    {
     "name": "stdout",
     "output_type": "stream",
     "text": [
      "         43945 function calls (43892 primitive calls) in 3.205 seconds\n",
      "\n",
      "   Ordered by: internal time\n",
      "\n",
      "   ncalls  tottime  percall  cumtime  percall filename:lineno(function)\n",
      "        7    3.163    0.452    3.163    0.452 {method 'control' of 'select.kqueue' objects}\n",
      "        1    0.019    0.019    0.028    0.028 <ipython-input-30-97b44869a5b7>:2(<module>)\n",
      "    10174    0.005    0.000    0.007    0.000 re.py:271(_compile)\n",
      "    10174    0.002    0.000    0.009    0.000 re.py:232(compile)\n",
      "    12265    0.002    0.000    0.002    0.000 {built-in method builtins.isinstance}\n",
      "        2    0.001    0.001    0.003    0.002 inspect.py:714(getmodule)\n",
      "       49    0.001    0.000    0.001    0.000 {method 'acquire' of '_thread.lock' objects}\n",
      "     1591    0.001    0.000    0.001    0.000 {built-in method builtins.hasattr}\n",
      "        6    0.001    0.000    0.001    0.000 {built-in method posix.stat}\n",
      "      203    0.001    0.000    0.001    0.000 tokenize.py:487(_tokenize)\n",
      "        1    0.001    0.001    0.001    0.001 {built-in method time.sleep}\n",
      "        8    0.000    0.000    0.000    0.000 {built-in method builtins.compile}\n",
      "     1508    0.000    0.000    0.001    0.000 inspect.py:63(ismodule)\n",
      "      218    0.000    0.000    0.000    0.000 {method 'match' of 're.Pattern' objects}\n",
      "        3    0.000    0.000    0.000    0.000 {built-in method posix.getcwd}\n",
      "     1632    0.000    0.000    0.000    0.000 {method 'get' of 'dict' objects}\n",
      "       40    0.000    0.000    0.000    0.000 PyColorize.py:284(_inner_call_)\n",
      "       23    0.000    0.000    0.000    0.000 socket.py:337(send)\n",
      "       17    0.000    0.000    0.001    0.000 traitlets.py:1142(notify_change)\n",
      "        3    0.000    0.000    0.001    0.000 inputtransformer2.py:465(make_tokens_by_line)\n",
      "       20    0.000    0.000    0.000    0.000 encoder.py:204(iterencode)\n",
      "        7    0.000    0.000    3.195    0.456 base_events.py:1675(_run_once)\n",
      "      183    0.000    0.000    0.000    0.000 traitlets.py:526(get)\n",
      "      171    0.000    0.000    0.000    0.000 tokenize.py:147(_compile)\n",
      "     24/2    0.000    0.000    0.000    0.000 jsonutil.py:109(json_clean)\n",
      "      171    0.000    0.000    0.000    0.000 types.py:164(__get__)\n",
      "      189    0.000    0.000    0.000    0.000 traitlets.py:545(__get__)\n",
      "      198    0.000    0.000    0.000    0.000 {built-in method builtins.getattr}\n",
      "        4    0.000    0.000    0.001    0.000 PyColorize.py:207(format2)\n",
      "      208    0.000    0.000    0.000    0.000 {built-in method __new__ of type object at 0x10ce81e10}\n",
      "        5    0.000    0.000    0.001    0.000 session.py:657(send)\n",
      "       42    0.000    0.000    0.000    0.000 inputtransformer2.py:103(_find_assign_op)\n",
      "       21    0.000    0.000    0.001    0.000 traitlets.py:558(set)\n",
      "        8    0.000    0.000    0.000    0.000 attrsettr.py:50(_get_attr_opt)\n",
      "       13    0.000    0.000    0.000    0.000 _parser.py:83(get_token)\n",
      "       20    0.000    0.000    0.000    0.000 __init__.py:183(dumps)\n",
      "        1    0.000    0.000    0.001    0.001 ultratb.py:839(format_record)\n",
      "       11    0.000    0.000    0.000    0.000 {method 'isoformat' of 'datetime.datetime' objects}\n",
      "      362    0.000    0.000    0.000    0.000 {method 'append' of 'list' objects}\n",
      "        2    0.000    0.000    0.000    0.000 {built-in method builtins.dir}\n",
      "        4    0.000    0.000    0.004    0.001 inspect.py:680(getsourcefile)\n",
      "  317/314    0.000    0.000    0.000    0.000 {built-in method builtins.len}\n",
      "        7    0.000    0.000    3.163    0.452 selectors.py:553(select)\n",
      "       22    0.000    0.000    0.000    0.000 traitlets.py:587(_validate)\n",
      "        1    0.000    0.000    0.028    0.028 interactiveshell.py:3136(run_ast_nodes)\n",
      "      8/7    0.000    0.000    0.034    0.005 gen.py:716(run)\n",
      "      171    0.000    0.000    0.000    0.000 enum.py:628(value)\n",
      "       16    0.000    0.000    0.000    0.000 iostream.py:195(schedule)\n",
      "       40    0.000    0.000    0.000    0.000 PyColorize.py:328(__call__)\n",
      "        3    0.000    0.000    0.000    0.000 posixpath.py:338(normpath)\n",
      "      5/1    0.000    0.000    0.000    0.000 configurable.py:106(_find_my_config)\n",
      "       53    0.000    0.000    0.000    0.000 {built-in method _abc._abc_instancecheck}\n",
      "        4    0.000    0.000    0.035    0.009 interactiveshell.py:3287(run_code)\n",
      "       20    0.000    0.000    0.000    0.000 jsonapi.py:31(dumps)\n",
      "       20    0.000    0.000    0.000    0.000 traitlets.py:596(_cross_validate)\n",
      "       17    0.000    0.000    0.001    0.000 traitlets.py:1133(_notify_trait)\n",
      "        4    0.000    0.000    0.000    0.000 poll.py:77(poll)\n",
      "        5    0.000    0.000    0.001    0.000 session.py:598(serialize)\n",
      "      3/1    0.000    0.000    0.000    0.000 sre_parse.py:174(getwidth)\n",
      "        6    0.000    0.000    0.001    0.000 threading.py:534(wait)\n",
      "        1    0.000    0.000    0.029    0.029 interactiveshell.py:2914(run_cell_async)\n",
      "        6    0.000    0.000    0.001    0.000 iostream.py:334(flush)\n",
      "        2    0.000    0.000    0.000    0.000 sre_parse.py:475(_parse)\n",
      "        2    0.000    0.000    0.032    0.016 kernelbase.py:225(dispatch_shell)\n",
      "        6    0.000    0.000    0.000    0.000 threading.py:216(__init__)\n",
      "        6    0.000    0.000    0.000    0.000 session.py:583(sign)\n",
      "       20    0.000    0.000    0.000    0.000 encoder.py:182(encode)\n",
      "        9    0.000    0.000    0.000    0.000 {method 'replace' of 'datetime.datetime' objects}\n",
      "       14    0.000    0.000    0.000    0.000 base_events.py:702(_call_soon)\n",
      "        1    0.000    0.000    0.000    0.000 _parser.py:669(_parse)\n",
      "       22    0.000    0.000    0.000    0.000 threading.py:1092(is_alive)\n",
      "      7/4    0.000    0.000    0.032    0.008 gen.py:184(wrapper)\n",
      "        3    0.000    0.000    0.032    0.011 kernelbase.py:513(execute_request)\n",
      "        1    0.000    0.000    0.000    0.000 traitlets.py:961(setup_instance)\n",
      "       15    0.000    0.000    0.000    0.000 events.py:39(__init__)\n",
      "        1    0.000    0.000    0.001    0.001 session.py:881(deserialize)\n",
      "       49    0.000    0.000    0.000    0.000 loader.py:218(__contains__)\n",
      "        2    0.000    0.000    0.001    0.001 ultratb.py:163(findsource)\n",
      "       10    0.000    0.000    0.000    0.000 gen.py:770(handle_yield)\n",
      "       40    0.000    0.000    0.000    0.000 {method 'join' of 'str' objects}\n",
      "       76    0.000    0.000    0.000    0.000 {method 'startswith' of 'str' objects}\n",
      "      133    0.000    0.000    0.000    0.000 {built-in method builtins.issubclass}\n",
      "       20    0.000    0.000    0.000    0.000 encoder.py:104(__init__)\n",
      "       21    0.000    0.000    0.001    0.000 traitlets.py:576(__set__)\n",
      "       16    0.000    0.000    0.032    0.002 events.py:86(_run)\n",
      "       10    0.000    0.000    0.000    0.000 {method 'set_result' of '_asyncio.Future' objects}\n",
      "        1    0.000    0.000    0.000    0.000 socket.py:444(recv_multipart)\n",
      "        4    0.000    0.000    0.000    0.000 zmqstream.py:313(flush)\n",
      "       20    0.000    0.000    0.000    0.000 session.py:102(<lambda>)\n",
      "        9    0.000    0.000    0.000    0.000 contextlib.py:81(__init__)\n",
      "        1    0.000    0.000    0.000    0.000 traceback.py:318(extract)\n",
      "       30    0.000    0.000    0.000    0.000 {method 'update' of '_hashlib.HASH' objects}\n",
      "        3    0.000    0.000    0.001    0.000 inputtransformer2.py:582(transform_cell)\n",
      "        6    0.000    0.000    0.000    0.000 zmqstream.py:534(_update_handler)\n",
      "       53    0.000    0.000    0.000    0.000 abc.py:137(__instancecheck__)\n",
      "        3    0.000    0.000    0.000    0.000 posixpath.py:75(join)\n",
      "        6    0.000    0.000    0.001    0.000 threading.py:264(wait)\n",
      "        1    0.000    0.000    0.001    0.001 ultratb.py:385(_format_traceback_lines)\n",
      "       70    0.000    0.000    0.000    0.000 ipstruct.py:125(__getattr__)\n",
      "        4    0.000    0.000    0.000    0.000 codeop.py:132(__call__)\n",
      "       35    0.000    0.000    0.000    0.000 {method 'endswith' of 'str' objects}\n",
      "      136    0.000    0.000    0.000    0.000 {method 'isidentifier' of 'str' objects}\n",
      "        5    0.000    0.000    0.000    0.000 {built-in method posix.urandom}\n",
      "       48    0.000    0.000    0.000    0.000 loader.py:150(_is_section_key)\n",
      "       14    0.000    0.000    0.000    0.000 queue.py:96(empty)\n",
      "        2    0.000    0.000    0.000    0.000 _parser.py:878(_parse_numeric_token)\n",
      "      3/1    0.000    0.000    0.000    0.000 sre_compile.py:71(_compile)\n",
      "       35    0.000    0.000    0.000    0.000 bunch.py:11(__getattr__)\n",
      "        3    0.000    0.000    0.001    0.000 interactiveshell.py:3075(transform_cell)\n",
      "    26/18    0.000    0.000    0.032    0.002 {built-in method builtins.next}\n",
      "       10    0.000    0.000    0.000    0.000 functools.py:835(wrapper)\n",
      "       10    0.000    0.000    0.000    0.000 configurable.py:102(<listcomp>)\n",
      "        3    0.000    0.000    0.000    0.000 inputtransformer2.py:366(find)\n",
      "        5    0.000    0.000    0.000    0.000 session.py:121(new_id)\n",
      "        5    0.000    0.000    0.000    0.000 session.py:564(msg)\n",
      "        3    0.000    0.000    0.000    0.000 posixpath.py:376(abspath)\n",
      "        2    0.000    0.000    0.004    0.002 inspect.py:1444(getframeinfo)\n",
      "       48    0.000    0.000    0.000    0.000 loader.py:231(_has_section)\n",
      "       18    0.000    0.000    0.000    0.000 {method 'copy' of '_hashlib.HASH' objects}\n",
      "       16    0.000    0.000    0.000    0.000 {built-in method builtins.min}\n",
      "       16    0.000    0.000    0.032    0.002 {method 'run' of 'Context' objects}\n",
      "      171    0.000    0.000    0.000    0.000 {method 'span' of 're.Match' objects}\n",
      "      5/4    0.000    0.000    0.003    0.001 gen.py:700(__init__)\n",
      "        6    0.000    0.000    0.000    0.000 hmac.py:104(copy)\n",
      "       11    0.000    0.000    0.000    0.000 jsonutil.py:87(date_default)\n",
      "        2    0.000    0.000    0.000    0.000 shutil.py:1073(get_terminal_size)\n",
      "        1    0.000    0.000    0.000    0.000 history.py:691(store_inputs)\n",
      "       10    0.000    0.000    0.000    0.000 gen.py:814(convert_yielded)\n",
      "        6    0.000    0.000    0.000    0.000 hmac.py:117(_current)\n",
      "       36    0.000    0.000    0.000    0.000 {method 'encode' of 'str' objects}\n",
      "        9    0.000    0.000    0.000    0.000 threading.py:243(__exit__)\n",
      "        3    0.000    0.000    0.000    0.000 traitlets.py:486(_dynamic_default_callable)\n",
      "        3    0.000    0.000    0.001    0.000 inputtransformer2.py:573(do_token_transforms)\n",
      "        8    0.000    0.000    0.000    0.000 attrsettr.py:38(__getattr__)\n",
      "        4    0.000    0.000    0.000    0.000 asyncio.py:170(add_callback)\n",
      "        8    0.000    0.000    0.000    0.000 gen.py:141(_create_future)\n",
      "        3    0.000    0.000    0.000    0.000 _parser.py:1244(_to_decimal)\n",
      "        1    0.000    0.000    0.001    0.001 zmqshell.py:538(_showtraceback)\n",
      "       19    0.000    0.000    0.000    0.000 {method 'items' of 'dict' objects}\n",
      "       68    0.000    0.000    0.000    0.000 {method 'read' of '_io.StringIO' objects}\n",
      "        6    0.000    0.000    0.000    0.000 os.py:673(__getitem__)\n",
      "        4    0.000    0.000    0.000    0.000 inspect.py:642(getfile)\n",
      "       14    0.000    0.000    0.000    0.000 base_events.py:673(call_soon)\n",
      "        1    0.000    0.000    0.000    0.000 queue.py:121(put)\n",
      "       10    0.000    0.000    0.032    0.003 ioloop.py:735(_run_callback)\n",
      "        2    0.000    0.000    0.000    0.000 zmqstream.py:446(_handle_events)\n",
      "        5    0.000    0.000    0.000    0.000 zmqstream.py:511(_rebuild_io_state)\n",
      "       19    0.000    0.000    0.000    0.000 {built-in method builtins.max}\n",
      "        1    0.000    0.000    0.000    0.000 traitlets.py:224(getmembers)\n",
      "        1    0.000    0.000    0.006    0.006 ultratb.py:1062(format_exception_as_a_whole)\n",
      "       15    0.000    0.000    0.000    0.000 session.py:132(<genexpr>)\n",
      "        5    0.000    0.000    0.000    0.000 session.py:561(msg_header)\n",
      "     10/9    0.000    0.000    0.034    0.004 {method 'send' of 'generator' objects}\n",
      "        8    0.000    0.000    0.000    0.000 {built-in method builtins.any}\n",
      "       85    0.000    0.000    0.000    0.000 {method 'write' of '_io.StringIO' objects}\n",
      "       10    0.000    0.000    0.000    0.000 weakref.py:395(__getitem__)\n",
      "        4    0.000    0.000    0.000    0.000 decoder.py:343(raw_decode)\n",
      "        3    0.000    0.000    0.000    0.000 threading.py:335(notify)\n",
      "        6    0.000    0.000    0.000    0.000 session.py:169(utcnow)\n",
      "        2    0.000    0.000    0.000    0.000 kernelbase.py:392(schedule_dispatch)\n",
      "       79    0.000    0.000    0.000    0.000 {method 'extend' of 'list' objects}\n",
      "        9    0.000    0.000    0.000    0.000 contextlib.py:107(__enter__)\n",
      "        9    0.000    0.000    0.000    0.000 contextlib.py:116(__exit__)\n",
      "        6    0.000    0.000    0.000    0.000 {built-in method utcnow}\n",
      "        3    0.000    0.000    0.000    0.000 inputtransformer2.py:243(find)\n",
      "        1    0.000    0.000    0.007    0.007 interactiveshell.py:2002(showtraceback)\n",
      "        9    0.000    0.000    0.000    0.000 base_events.py:626(time)\n",
      "        5    0.000    0.000    0.032    0.006 ioloop.py:690(<lambda>)\n",
      "       24    0.000    0.000    0.000    0.000 hmac.py:99(update)\n",
      "        6    0.000    0.000    0.032    0.005 kernelbase.py:351(process_one)\n",
      "        3    0.000    0.000    0.000    0.000 kernelbase.py:781(_topic)\n",
      "       11    0.000    0.000    0.000    0.000 {method 'replace' of 'str' objects}\n",
      "        4    0.000    0.000    0.000    0.000 genericpath.py:16(exists)\n",
      "       10    0.000    0.000    0.000    0.000 functools.py:781(dispatch)\n",
      "        6    0.000    0.000    0.000    0.000 threading.py:499(__init__)\n",
      "        1    0.000    0.000    0.000    0.000 traitlets.py:1421(<listcomp>)\n",
      "        1    0.000    0.000    0.004    0.004 ultratb.py:349(_fixed_getinnerframes)\n",
      "        1    0.000    0.000    0.000    0.000 ultratb.py:1026(prepare_header)\n",
      "        2    0.000    0.000    0.000    0.000 kernelbase.py:800(_dispatch_abort)\n",
      "       16    0.000    0.000    0.000    0.000 {method 'decode' of 'bytes' objects}\n",
      "        9    0.000    0.000    0.000    0.000 contextlib.py:237(helper)\n",
      "        1    0.000    0.000    0.000    0.000 traitlets.py:1407(traits)\n",
      "        1    0.000    0.000    0.004    0.004 inspect.py:1495(getinnerframes)\n",
      "        6    0.000    0.000    0.000    0.000 {method 'digest' of '_hashlib.HASH' objects}\n",
      "        1    0.000    0.000    0.006    0.006 ultratb.py:1134(structured_traceback)\n",
      "        3    0.000    0.000    0.001    0.000 inputtransformer2.py:541(do_one_token_transform)\n",
      "        6    0.000    0.000    0.000    0.000 ioloop.py:243(current)\n",
      "        9    0.000    0.000    0.000    0.000 concurrent.py:174(future_set_result_unless_cancelled)\n",
      "      8/2    0.000    0.000    0.000    0.000 jsonutil.py:62(extract_dates)\n",
      "       13    0.000    0.000    0.000    0.000 _parser.py:195(__next__)\n",
      "        2    0.000    0.000    0.000    0.000 kernelbase.py:461(_publish_status)\n",
      "        2    0.000    0.000    0.000    0.000 {built-in method posix.get_terminal_size}\n",
      "       40    0.000    0.000    0.000    0.000 {method 'append' of 'collections.deque' objects}\n",
      "        4    0.000    0.000    0.000    0.000 decoder.py:332(decode)\n",
      "        4    0.000    0.000    0.000    0.000 enum.py:526(__new__)\n",
      "        1    0.000    0.000    0.000    0.000 sre_compile.py:276(_optimize_charset)\n",
      "        1    0.000    0.000    0.000    0.000 sre_parse.py:417(_parse_sub)\n",
      "       22    0.000    0.000    0.000    0.000 threading.py:1050(_wait_for_tstate_lock)\n",
      "        7    0.000    0.000    0.000    0.000 selector_events.py:547(_process_events)\n",
      "        5    0.000    0.000    0.000    0.000 hooks.py:142(__call__)\n",
      "       15    0.000    0.000    0.000    0.000 queue.py:208(_qsize)\n",
      "        4    0.000    0.000    0.000    0.000 jsonapi.py:47(loads)\n",
      "        3    0.000    0.000    0.000    0.000 _parser.py:434(append)\n",
      "        1    0.000    0.000    0.000    0.000 _parser.py:578(parse)\n",
      "        2    0.000    0.000    0.000    0.000 queues.py:254(get_nowait)\n",
      "       10    0.000    0.000    0.000    0.000 {method 'splitlines' of 'str' objects}\n",
      "       56    0.000    0.000    0.000    0.000 {method 'upper' of 'str' objects}\n",
      "       12    0.000    0.000    0.000    0.000 {built-in method _thread.allocate_lock}\n",
      "        3    0.000    0.000    0.000    0.000 posixpath.py:64(isabs)\n",
      "        1    0.000    0.000    0.000    0.000 sre_compile.py:536(_compile_info)\n",
      "        1    0.000    0.000    0.000    0.000 sre_compile.py:759(compile)\n",
      "       16    0.000    0.000    0.000    0.000 sre_parse.py:164(__getitem__)\n",
      "        1    0.000    0.000    0.000    0.000 getipython.py:17(get_ipython)\n",
      "        3    0.000    0.000    0.000    0.000 traitlets.py:516(instance_init)\n",
      "        6    0.000    0.000    0.000    0.000 py3compat.py:188(iteritems)\n",
      "        8    0.000    0.000    0.000    0.000 compilerop.py:138(extra_flags)\n",
      "       10    0.000    0.000    0.000    0.000 {built-in method binascii.b2a_hex}\n",
      "        2    0.000    0.000    0.001    0.001 interactiveshell.py:2889(should_run_async)\n",
      "        1    0.000    0.000    0.000    0.000 base_events.py:635(call_later)\n",
      "       25    0.000    0.000    0.000    0.000 base_events.py:1789(get_debug)\n",
      "       10    0.000    0.000    0.000    0.000 {method 'add_done_callback' of '_asyncio.Future' objects}\n",
      "        1    0.000    0.000    0.000    0.000 socket.py:397(send_multipart)\n",
      "        5    0.000    0.000    0.000    0.000 session.py:739(<listcomp>)\n",
      "        6    0.000    0.000    0.000    0.000 jsonutil.py:47(parse_date)\n",
      "        1    0.000    0.000    0.000    0.000 adapter.py:368(adapt)\n",
      "        1    0.000    0.000    0.030    0.030 ipkernel.py:256(do_execute)\n",
      "        2    0.000    0.000    0.000    0.000 queues.py:209(put_nowait)\n",
      "        3    0.000    0.000    0.000    0.000 jsonutil.py:177(<listcomp>)\n",
      "        1    0.000    0.000    0.000    0.000 zmqshell.py:573(set_parent)\n",
      "        9    0.000    0.000    0.000    0.000 {method 'update' of 'dict' objects}\n",
      "       40    0.000    0.000    0.000    0.000 {method 'seek' of '_io.StringIO' objects}\n",
      "        1    0.000    0.000    0.000    0.000 posixpath.py:232(expanduser)\n",
      "        7    0.000    0.000    0.000    0.000 sre_parse.py:233(__next)\n",
      "        4    0.000    0.000    0.000    0.000 signal.py:35(_enum_to_int)\n",
      "        9    0.000    0.000    0.000    0.000 threading.py:240(__enter__)\n",
      "        2    0.000    0.000    0.000    0.000 linecache.py:53(checkcache)\n",
      "        4    0.000    0.000    0.000    0.000 traitlets.py:1067(hold_trait_notifications)\n",
      "        3    0.000    0.000    0.000    0.000 traitlets.py:2535(validate_elements)\n",
      "       10    0.000    0.000    0.000    0.000 configurable.py:99(section_names)\n",
      "        7    0.000    0.000    0.000    0.000 {method 'hexdigest' of '_hashlib.HASH' objects}\n",
      "        1    0.000    0.000    0.000    0.000 compilerop.py:54(code_name)\n",
      "        1    0.000    0.000    0.000    0.000 compilerop.py:115(cache)\n",
      "        3    0.000    0.000    0.000    0.000 inputtransformer2.py:211(find)\n",
      "       16    0.000    0.000    0.000    0.000 iostream.py:93(_event_pipe)\n",
      "        9    0.000    0.000    0.000    0.000 session.py:242(extract_header)\n",
      "        1    0.000    0.000    0.000    0.000 session.py:820(feed_identities)\n",
      "        1    0.000    0.000    0.000    0.000 _parser.py:62(__init__)\n",
      "        2    0.000    0.000    0.000    0.000 _parser.py:1059(_could_be_tzname)\n",
      "        2    0.000    0.000    0.000    0.000 queues.py:225(get)\n",
      "        2    0.000    0.000    0.000    0.000 queues.py:313(__put_internal)\n",
      "       35    0.000    0.000    0.000    0.000 {method 'isdigit' of 'str' objects}\n",
      "        4    0.000    0.000    0.028    0.007 {built-in method builtins.exec}\n",
      "        5    0.000    0.000    0.000    0.000 {built-in method builtins.locals}\n",
      "        4    0.000    0.000    0.000    0.000 enum.py:284(__call__)\n",
      "        2    0.000    0.000    0.000    0.000 signal.py:45(signal)\n",
      "       12    0.000    0.000    0.000    0.000 inspect.py:687(<genexpr>)\n",
      "        2    0.000    0.000    0.000    0.000 inspect.py:702(getabsfile)\n",
      "       15    0.000    0.000    0.000    0.000 base_events.py:473(_check_closed)\n",
      "        4    0.000    0.000    0.000    0.000 poll.py:28(register)\n",
      "       14    0.000    0.000    0.000    0.000 concurrent.py:52(is_future)\n",
      "        1    0.000    0.000    0.000    0.000 zmqstream.py:489(_handle_send)\n",
      "        1    0.000    0.000    0.000    0.000 _parser.py:205(split)\n",
      "        4    0.000    0.000    0.000    0.000 _parser.py:219(isspace)\n",
      "        1    0.000    0.000    0.000    0.000 _parser.py:480(resolve_ymd)\n",
      "        1    0.000    0.000    0.000    0.000 kernelbase.py:789(_abort_queues)\n",
      "       49    0.000    0.000    0.000    0.000 {function Config.__contains__ at 0x10d5cd3b0}\n",
      "        7    0.000    0.000    0.000    0.000 {method 'release' of '_thread.lock' objects}\n",
      "        7    0.000    0.000    0.000    0.000 posixpath.py:41(_get_sep)\n",
      "        4    0.000    0.000    0.000    0.000 __init__.py:299(loads)\n",
      "        1    0.000    0.000    0.000    0.000 sre_parse.py:919(parse)\n",
      "        1    0.000    0.000    0.000    0.000 threading.py:513(set)\n",
      "        7    0.000    0.000    0.000    0.000 linecache.py:37(getlines)\n",
      "        1    0.000    0.000    0.000    0.000 configurable.py:38(__init__)\n",
      "       10    0.000    0.000    0.000    0.000 inspect.py:238(isframe)\n",
      "        5    0.000    0.000    0.000    0.000 loader.py:161(__init__)\n",
      "        2    0.000    0.000    0.000    0.000 compilerop.py:153(check_linecache_ipython)\n",
      "        3    0.000    0.000    0.000    0.000 inputtransformer2.py:21(leading_empty_lines)\n",
      "        6    0.000    0.000    0.000    0.000 inputtransformer2.py:76(__call__)\n",
      "        3    0.000    0.000    0.000    0.000 inputtransformer2.py:426(find)\n",
      "        3    0.000    0.000    0.000    0.000 builtin_trap.py:53(add_builtin)\n",
      "        5    0.000    0.000    0.000    0.000 ioloop.py:665(add_future)\n",
      "        1    0.000    0.000    0.000    0.000 zmqstream.py:267(send_multipart)\n",
      "       14    0.000    0.000    0.000    0.000 zmqstream.py:425(sending)\n",
      "        4    0.000    0.000    0.000    0.000 iostream.py:260(send_multipart)\n",
      "        6    0.000    0.000    0.000    0.000 hmac.py:136(hexdigest)\n",
      "       31    0.000    0.000    0.000    0.000 _parser.py:214(isnum)\n",
      "        1    0.000    0.000    0.000    0.000 _parser.py:227(__init__)\n",
      "        3    0.000    0.000    0.000    0.000 _parser.py:342(hms)\n",
      "        1    0.000    0.000    0.000    0.000 _parser.py:1171(_build_tzaware)\n",
      "        1    0.000    0.000    0.000    0.000 ipkernel.py:137(set_parent)\n",
      "        2    0.000    0.000    0.000    0.000 kernelbase.py:367(dispatch_queue)\n",
      "        4    0.000    0.000    0.000    0.000 queues.py:318(_consume_expired)\n",
      "       15    0.000    0.000    0.000    0.000 {built-in method posix.fspath}\n",
      "       18    0.000    0.000    0.000    0.000 {method 'popleft' of 'collections.deque' objects}\n",
      "        2    0.000    0.000    0.000    0.000 {built-in method _signal.signal}\n",
      "        9    0.000    0.000    0.000    0.000 {built-in method time.monotonic}\n",
      "        6    0.000    0.000    0.000    0.000 os.py:751(encode)\n",
      "        6    0.000    0.000    0.000    0.000 sre_parse.py:172(append)\n",
      "        2    0.000    0.000    0.000    0.000 signal.py:25(_int_to_enum)\n",
      "        6    0.000    0.000    0.000    0.000 threading.py:249(_release_save)\n",
      "        6    0.000    0.000    0.000    0.000 threading.py:252(_acquire_restore)\n",
      "       22    0.000    0.000    0.000    0.000 threading.py:507(is_set)\n",
      "        3    0.000    0.000    0.000    0.000 traitlets.py:419(__init__)\n",
      "        1    0.000    0.000    0.000    0.000 traitlets.py:950(__new__)\n",
      "        1    0.000    0.000    0.000    0.000 traitlets.py:988(__init__)\n",
      "        4    0.000    0.000    0.000    0.000 traitlets.py:2110(validate)\n",
      "        3    0.000    0.000    0.000    0.000 traitlets.py:2528(validate)\n",
      "        7    0.000    0.000    0.000    0.000 inspect.py:252(iscode)\n",
      "        1    0.000    0.000    0.000    0.000 inspect.py:1026(_getfullargs)\n",
      "        9    0.000    0.000    0.000    0.000 py3compat.py:19(encode)\n",
      "        1    0.000    0.000    0.000    0.000 configurable.py:170(_config_changed)\n",
      "        1    0.000    0.000    0.004    0.004 ultratb.py:313(wrapped)\n",
      "        1    0.000    0.000    0.000    0.000 PyColorize.py:180(__init__)\n",
      "        1    0.000    0.000    0.000    0.000 {built-in method now}\n",
      "        5    0.000    0.000    0.000    0.000 interactiveshell.py:1272(user_global_ns)\n",
      "       21    0.000    0.000    0.000    0.000 {method 'done' of '_asyncio.Future' objects}\n",
      "        1    0.000    0.000    0.000    0.000 builtin_trap.py:79(deactivate)\n",
      "        4    0.000    0.000    0.000    0.000 events.py:80(trigger)\n",
      "        1    0.000    0.000    0.000    0.000 asyncio.py:155(call_at)\n",
      "        5    0.000    0.000    0.032    0.006 gen.py:784(inner)\n",
      "        5    0.000    0.000    0.000    0.000 zmqstream.py:351(update_flag)\n",
      "        5    0.000    0.000    0.000    0.000 session.py:236(msg_header)\n",
      "       14    0.000    0.000    0.000    0.000 _parser.py:209(isword)\n",
      "        1    0.000    0.000    0.000    0.000 ipkernel.py:171(_forward_input)\n",
      "        1    0.000    0.000    0.000    0.000 <ipython-input-29-d105c79bb124>:2(<module>)\n",
      "        1    0.000    0.000    0.000    0.000 {method 'sort' of 'list' objects}\n",
      "        9    0.000    0.000    0.000    0.000 {method '__contains__' of 'frozenset' objects}\n",
      "        5    0.000    0.000    0.000    0.000 {method 'split' of 'str' objects}\n",
      "        5    0.000    0.000    0.000    0.000 {method 'find' of 'str' objects}\n",
      "        9    0.000    0.000    0.000    0.000 {method 'strip' of 'str' objects}\n",
      "       12    0.000    0.000    0.000    0.000 {built-in method builtins.setattr}\n",
      "        2    0.000    0.000    0.000    0.000 {method 'fileno' of '_io.TextIOWrapper' objects}\n",
      "        1    0.000    0.000    0.000    0.000 enum.py:836(__and__)\n",
      "        7    0.000    0.000    0.000    0.000 sre_parse.py:160(__len__)\n",
      "        1    0.000    0.000    0.000    0.000 sre_parse.py:224(__init__)\n",
      "        4    0.000    0.000    0.000    0.000 traceback.py:282(line)\n",
      "        4    0.000    0.000    0.000    0.000 __init__.py:1356(debug)\n",
      "        8    0.000    0.000    0.000    0.000 traitlets.py:1673(validate)\n",
      "        2    0.000    0.000    0.000    0.000 traitlets.py:1690(instance_init)\n",
      "        2    0.000    0.000    0.000    0.000 traitlets.py:2316(validate_elements)\n",
      "       16    0.000    0.000    0.000    0.000 inspect.py:690(<genexpr>)\n",
      "        1    0.000    0.000    0.000    0.000 configurable.py:131(_load_config)\n",
      "        1    0.000    0.000    0.001    0.001 ultratb.py:826(format_records)\n",
      "        1    0.000    0.000    0.006    0.006 ultratb.py:1379(structured_traceback)\n",
      "        6    0.000    0.000    0.000    0.000 py3compat.py:28(cast_unicode)\n",
      "        2    0.000    0.000    0.000    0.000 terminal.py:109(get_terminal_size)\n",
      "        1    0.000    0.000    0.029    0.029 interactiveshell.py:2861(_run_cell)\n",
      "        1    0.000    0.000    0.000    0.000 base_events.py:657(call_at)\n",
      "        1    0.000    0.000    0.000    0.000 base_events.py:1657(_add_callback)\n",
      "       10    0.000    0.000    0.000    0.000 {method 'result' of '_asyncio.Future' objects}\n",
      "        9    0.000    0.000    0.000    0.000 {method 'cancelled' of '_asyncio.Future' objects}\n",
      "        1    0.000    0.000    0.000    0.000 queue.py:153(get)\n",
      "        1    0.000    0.000    0.000    0.000 zmqstream.py:471(_handle_recv)\n",
      "        4    0.000    0.000    0.000    0.000 iostream.py:207(send_multipart)\n",
      "        4    0.000    0.000    0.000    0.000 session.py:105(<lambda>)\n",
      "        1    0.000    0.000    0.000    0.000 session.py:857(_add_digest)\n",
      "       12    0.000    0.000    0.000    0.000 jsonutil.py:34(_ensure_tzinfo)\n",
      "        1    0.000    0.000    0.000    0.000 _parser.py:401(__init__)\n",
      "        1    0.000    0.000    0.000    0.000 _parser.py:1114(_parsems)\n",
      "        1    0.000    0.000    0.000    0.000 _parser.py:1211(_build_naive)\n",
      "        1    0.000    0.000    0.000    0.000 ipkernel.py:144(init_metadata)\n",
      "        1    0.000    0.000    0.000    0.000 kernelbase.py:453(_publish_execute_input)\n",
      "        1    0.000    0.000    0.000    0.000 kernelbase.py:470(set_parent)\n",
      "        1    0.000    0.000    0.000    0.000 queues.py:180(full)\n",
      "        2    0.000    0.000    0.000    0.000 queues.py:373(_put)\n",
      "        1    0.000    0.000    0.029    0.029 zmqshell.py:534(run_cell)\n",
      "        1    0.000    0.000    0.000    0.000 <ipython-input-30-97b44869a5b7>:6(<module>)\n",
      "        5    0.000    0.000    0.000    0.000 {method 'find' of 'bytearray' objects}\n",
      "       14    0.000    0.000    0.000    0.000 {method 'isalpha' of 'str' objects}\n",
      "        2    0.000    0.000    0.000    0.000 {built-in method _abc._abc_subclasscheck}\n",
      "        9    0.000    0.000    0.000    0.000 {method '__enter__' of '_thread.lock' objects}\n",
      "        1    0.000    0.000    0.000    0.000 <frozen importlib._bootstrap>:416(parent)\n",
      "        1    0.000    0.000    0.000    0.000 enum.py:575(_missing_)\n",
      "        1    0.000    0.000    0.000    0.000 sre_compile.py:492(_get_charset_prefix)\n",
      "        1    0.000    0.000    0.000    0.000 sre_compile.py:598(_code)\n",
      "        2    0.000    0.000    0.000    0.000 sre_parse.py:249(match)\n",
      "        5    0.000    0.000    0.000    0.000 sre_parse.py:254(get)\n",
      "        1    0.000    0.000    0.000    0.000 selectors.py:275(_key_from_fd)\n",
      "        9    0.000    0.000    0.000    0.000 threading.py:255(_is_owned)\n",
      "        1    0.000    0.000    0.000    0.000 traceback.py:59(extract_tb)\n",
      "        3    0.000    0.000    0.000    0.000 linecache.py:15(getline)\n",
      "        8    0.000    0.000    0.000    0.000 tokenize.py:672(generate_tokens)\n",
      "        6    0.000    0.000    0.000    0.000 __init__.py:1614(isEnabledFor)\n",
      "        1    0.000    0.000    0.000    0.000 traitlets.py:188(parse_notifier_name)\n",
      "        1    0.000    0.000    0.000    0.000 traitlets.py:982(setup_instance)\n",
      "        6    0.000    0.000    0.000    0.000 traitlets.py:1047(cross_validation_lock)\n",
      "        1    0.000    0.000    0.000    0.000 traitlets.py:1868(validate)\n",
      "        1    0.000    0.000    0.000    0.000 traitlets.py:2235(validate)\n",
      "        1    0.000    0.000    0.000    0.000 traitlets.py:2323(validate)\n",
      "        8    0.000    0.000    0.000    0.000 inspect.py:228(istraceback)\n",
      "        1    0.000    0.000    0.000    0.000 inspect.py:1016(getargs)\n",
      "        1    0.000    0.000    0.000    0.000 loader.py:182(merge)\n",
      "        1    0.000    0.000    0.000    0.000 {built-in method _hashlib.openssl_sha1}\n",
      "        1    0.000    0.000    0.000    0.000 ultratb.py:327(fix_frame_records_filenames)\n",
      "        1    0.000    0.000    0.000    0.000 ultratb.py:1048(format_exception)\n",
      "        1    0.000    0.000    0.004    0.004 ultratb.py:1096(get_records)\n",
      "        1    0.000    0.000    0.006    0.006 ultratb.py:1282(structured_traceback)\n",
      "        1    0.000    0.000    0.000    0.000 display_trap.py:48(__enter__)\n",
      "        1    0.000    0.000    0.000    0.000 display_trap.py:54(__exit__)\n",
      "        1    0.000    0.000    0.000    0.000 interactiveshell.py:1528(push)\n",
      "        1    0.000    0.000    0.000    0.000 interactiveshell.py:1954(_get_exc_info)\n",
      "        1    0.000    0.000    0.000    0.000 interactiveshell.py:3105(transform_ast)\n",
      "        1    0.000    0.000    0.000    0.000 events.py:109(__init__)\n",
      "        1    0.000    0.000    0.000    0.000 builtin_trap.py:39(__enter__)\n",
      "        1    0.000    0.000    0.000    0.000 builtin_trap.py:46(__exit__)\n",
      "        1    0.000    0.000    0.000    0.000 builtin_trap.py:72(activate)\n",
      "        1    0.000    0.000    0.029    0.029 async_helpers.py:58(_pseudo_sync_runner)\n",
      "        3    0.000    0.000    0.000    0.000 async_helpers.py:141(_should_be_async)\n",
      "        1    0.000    0.000    0.000    0.000 ioloop.py:589(call_later)\n",
      "        1    0.000    0.000    0.000    0.000 asyncio.py:136(_handle_events)\n",
      "        6    0.000    0.000    0.000    0.000 gen.py:126(_value_from_stopiteration)\n",
      "        4    0.000    0.000    0.000    0.000 gen.py:526(maybe_future)\n",
      "        1    0.000    0.000    0.000    0.000 gen.py:641(<lambda>)\n",
      "        1    0.000    0.000    0.000    0.000 zmqstream.py:205(on_send)\n",
      "        2    0.000    0.000    0.000    0.000 zmqstream.py:432(_run_callback)\n",
      "        2    0.000    0.000    0.000    0.000 iostream.py:310(set_parent)\n",
      "       13    0.000    0.000    0.000    0.000 _parser.py:240(<genexpr>)\n",
      "        1    0.000    0.000    0.000    0.000 _parser.py:239(__len__)\n",
      "        2    0.000    0.000    0.000    0.000 _parser.py:325(jump)\n",
      "        3    0.000    0.000    0.000    0.000 _parser.py:335(month)\n",
      "        2    0.000    0.000    0.000    0.000 _parser.py:1009(_find_hms_idx)\n",
      "        1    0.000    0.000    0.000    0.000 _parser.py:1102(_parse_min_sec)\n",
      "        1    0.000    0.000    0.000    0.000 _parser.py:1260(parse)\n",
      "        1    0.000    0.000    0.000    0.000 ipkernel.py:189(_restore_input)\n",
      "        2    0.000    0.000    0.000    0.000 ipkernel.py:199(execution_count)\n",
      "        2    0.000    0.000    0.000    0.000 queues.py:173(qsize)\n",
      "        2    0.000    0.000    0.000    0.000 queues.py:376(_get)\n",
      "        1    0.000    0.000    0.000    0.000 <ipython-input-30-97b44869a5b7>:1(<module>)\n",
      "        1    0.000    0.000    0.000    0.000 {method 'replace' of 'bytes' objects}\n",
      "       36    0.000    0.000    0.000    0.000 {method '__getitem__' of 'dict' objects}\n",
      "        6    0.000    0.000    0.000    0.000 {method 'add' of 'set' objects}\n",
      "        4    0.000    0.000    0.000    0.000 {method 'expandtabs' of 'str' objects}\n",
      "       12    0.000    0.000    0.000    0.000 {method 'lower' of 'str' objects}\n",
      "        1    0.000    0.000    0.000    0.000 {method 'format' of 'str' objects}\n",
      "        1    0.000    0.000    0.000    0.000 {built-in method builtins.all}\n",
      "       11    0.000    0.000    0.000    0.000 {built-in method builtins.iter}\n",
      "        5    0.000    0.000    0.000    0.000 {built-in method builtins.ord}\n",
      "        1    0.000    0.000    0.000    0.000 {built-in method builtins.sum}\n",
      "        6    0.000    0.000    0.000    0.000 {built-in method _imp.lock_held}\n",
      "        8    0.000    0.000    0.000    0.000 {method 'end' of 're.Match' objects}\n",
      "        1    0.000    0.000    0.000    0.000 {built-in method _sre.compile}\n",
      "        9    0.000    0.000    0.000    0.000 {method '__exit__' of '_thread.lock' objects}\n",
      "        8    0.000    0.000    0.000    0.000 {method 'readline' of '_io.StringIO' objects}\n",
      "        2    0.000    0.000    0.000    0.000 <frozen importlib._bootstrap>:1009(_handle_fromlist)\n",
      "        2    0.000    0.000    0.000    0.000 abc.py:141(__subclasscheck__)\n",
      "        2    0.000    0.000    0.000    0.000 os.py:755(decode)\n",
      "        2    0.000    0.000    0.000    0.000 posixpath.py:52(normcase)\n",
      "        1    0.000    0.000    0.000    0.000 _collections_abc.py:664(__contains__)\n",
      "        3    0.000    0.000    0.000    0.000 {built-in method _heapq.heappush}\n",
      "        3    0.000    0.000    0.000    0.000 {built-in method _heapq.heappop}\n",
      "        1    0.000    0.000    0.000    0.000 sre_compile.py:249(_compile_charset)\n",
      "        2    0.000    0.000    0.000    0.000 sre_compile.py:453(_get_iscased)\n",
      "        2    0.000    0.000    0.000    0.000 sre_compile.py:595(isstring)\n",
      "        1    0.000    0.000    0.000    0.000 sre_parse.py:76(__init__)\n",
      "        3    0.000    0.000    0.000    0.000 sre_parse.py:111(__init__)\n",
      "        1    0.000    0.000    0.000    0.000 sre_parse.py:286(tell)\n",
      "        1    0.000    0.000    0.000    0.000 threading.py:358(notify_all)\n",
      "        2    0.000    0.000    0.000    0.000 traceback.py:243(__init__)\n",
      "        2    0.000    0.000    0.000    0.000 traceback.py:275(__iter__)\n",
      "        2    0.000    0.000    0.000    0.000 linecache.py:147(lazycache)\n",
      "        3    0.000    0.000    0.000    0.000 traitlets.py:215(__init__)\n",
      "        1    0.000    0.000    0.000    0.000 traitlets.py:805(compatible_observer)\n",
      "        1    0.000    0.000    0.000    0.000 traitlets.py:923(instance_init)\n",
      "        1    0.000    0.000    0.000    0.000 traitlets.py:1237(observe)\n",
      "        5    0.000    0.000    0.000    0.000 traitlets.py:2045(validate)\n",
      "        6    0.000    0.000    0.000    0.000 inspect.py:158(isfunction)\n",
      "        1    0.000    0.000    0.000    0.000 inspect.py:1182(getargvalues)\n",
      "        3    0.000    0.000    0.000    0.000 py3compat.py:29(cast_bytes)\n",
      "        1    0.000    0.000    0.000    0.000 ultratb.py:442(find_recursion)\n",
      "        1    0.000    0.000    0.000    0.000 debugger.py:53(make_arrow)\n",
      "        1    0.000    0.000    0.000    0.000 display_trap.py:61(set)\n",
      "        1    0.000    0.000    0.000    0.000 data.py:23(<listcomp>)\n",
      "        1    0.000    0.000    0.000    0.000 compilerop.py:96(ast_parse)\n",
      "        3    0.000    0.000    0.000    0.000 interactiveshell.py:117(<lambda>)\n",
      "        3    0.000    0.000    0.000    0.000 inputtransformer2.py:34(leading_indent)\n",
      "       10    0.000    0.000    0.000    0.000 typing.py:893(cast)\n",
      "        1    0.000    0.000    0.000    0.000 interactiveshell.py:300(__init__)\n",
      "        1    0.000    0.000    0.029    0.029 interactiveshell.py:2827(run_cell)\n",
      "        6    0.000    0.000    0.000    0.000 {built-in method _asyncio.get_event_loop}\n",
      "        3    0.000    0.000    0.000    0.000 builtin_trap.py:65(remove_builtin)\n",
      "        1    0.000    0.000    0.000    0.000 payload.py:51(read_payload)\n",
      "        4    0.000    0.000    0.000    0.000 hooks.py:207(pre_run_code_hook)\n",
      "        1    0.000    0.000    0.000    0.000 queue.py:216(_get)\n",
      "        2    0.000    0.000    0.000    0.000 ioloop.py:534(time)\n",
      "        5    0.000    0.000    0.000    0.000 gen.py:226(<lambda>)\n",
      "        1    0.000    0.000    0.000    0.000 gen.py:625(sleep)\n",
      "        6    0.000    0.000    0.000    0.000 zmqstream.py:421(receiving)\n",
      "        5    0.000    0.000    0.000    0.000 zmqstream.py:507(_check_closed)\n",
      "        1    0.000    0.000    0.000    0.000 zmqstream.py:524(_add_io_state)\n",
      "        1    0.000    0.000    0.000    0.000 zmqstream.py:542(<lambda>)\n",
      "        5    0.000    0.000    0.000    0.000 session.py:509(msg_id)\n",
      "        2    0.000    0.000    0.000    0.000 _parser.py:348(ampm)\n",
      "        1    0.000    0.000    0.000    0.000 _parser.py:360(tzoffset)\n",
      "        1    0.000    0.000    0.000    0.000 _parser.py:386(validate)\n",
      "        2    0.000    0.000    0.000    0.000 _parser.py:1064(<genexpr>)\n",
      "        1    0.000    0.000    0.000    0.000 zmqshell.py:73(set_parent)\n",
      "        1    0.000    0.000    0.000    0.000 kernelbase.py:211(should_handle)\n",
      "        1    0.000    0.000    0.000    0.000 kernelbase.py:288(pre_handler_hook)\n",
      "        1    0.000    0.000    0.000    0.000 displayhook.py:56(set_parent)\n",
      "        3    0.000    0.000    0.000    0.000 {method 'index' of 'list' objects}\n",
      "        2    0.000    0.000    0.000    0.000 {method 'pop' of 'dict' objects}\n",
      "        2    0.000    0.000    0.000    0.000 {method 'values' of 'dict' objects}\n",
      "        8    0.000    0.000    0.000    0.000 {method 'copy' of 'dict' objects}\n",
      "        2    0.000    0.000    0.000    0.000 {method 'count' of 'str' objects}\n",
      "        1    0.000    0.000    0.000    0.000 {method 'ljust' of 'str' objects}\n",
      "        1    0.000    0.000    0.000    0.000 {method 'rjust' of 'str' objects}\n",
      "        7    0.000    0.000    0.000    0.000 {method 'rstrip' of 'str' objects}\n",
      "        1    0.000    0.000    0.000    0.000 {method 'rpartition' of 'str' objects}\n",
      "        2    0.000    0.000    0.000    0.000 {built-in method builtins.callable}\n",
      "        1    0.000    0.000    0.000    0.000 {built-in method _operator._compare_digest}\n",
      "        4    0.000    0.000    0.000    0.000 {method 'getvalue' of '_io.StringIO' objects}\n",
      "        1    0.000    0.000    0.000    0.000 sre_compile.py:461(_get_literal_prefix)\n",
      "        2    0.000    0.000    0.000    0.000 sre_parse.py:81(groups)\n",
      "        1    0.000    0.000    0.000    0.000 sre_parse.py:903(fix_flags)\n",
      "        3    0.000    0.000    0.000    0.000 traceback.py:302(walk_tb)\n",
      "        2    0.000    0.000    0.000    0.000 <string>:1(__new__)\n",
      "        2    0.000    0.000    0.000    0.000 __init__.py:1368(info)\n",
      "        3    0.000    0.000    0.000    0.000 traitlets.py:216(__call__)\n",
      "        5    0.000    0.000    0.000    0.000 traitlets.py:911(__get__)\n",
      "        1    0.000    0.000    0.000    0.000 traitlets.py:1178(_add_notifiers)\n",
      "        2    0.000    0.000    0.000    0.000 traitlets.py:1694(_resolve_classes)\n",
      "        6    0.000    0.000    0.000    0.000 inspect.py:72(isclass)\n",
      "        6    0.000    0.000    0.000    0.000 inspect.py:80(ismethod)\n",
      "        1    0.000    0.000    0.000    0.000 py3compat.py:12(no_code)\n",
      "        2    0.000    0.000    0.000    0.000 py3compat.py:60(safe_unicode)\n",
      "        1    0.000    0.000    0.000    0.000 configurable.py:381(instance)\n",
      "        5    0.000    0.000    0.000    0.000 loader.py:165(_ensure_subconfig)\n",
      "        1    0.000    0.000    0.000    0.000 loader.py:252(__getitem__)\n",
      "        1    0.000    0.000    0.000    0.000 ultratb.py:923(linereader)\n",
      "        1    0.000    0.000    0.000    0.000 ultratb.py:974(<listcomp>)\n",
      "        1    0.000    0.000    0.000    0.000 ultratb.py:1120(get_parts_of_chained_exception)\n",
      "        1    0.000    0.000    0.000    0.000 display_trap.py:67(unset)\n",
      "        1    0.000    0.000    0.000    0.000 path.py:86(compress_user)\n",
      "        1    0.000    0.000    0.000    0.000 data.py:13(uniq_stable)\n",
      "        1    0.000    0.000    0.000    0.000 compilerop.py:133(<listcomp>)\n",
      "        3    0.000    0.000    0.000    0.000 inputtransformer2.py:91(cell_magic)\n"
     ]
    },
    {
     "name": "stdout",
     "output_type": "stream",
     "text": [
      "        1    0.000    0.000    0.000    0.000 interactiveshell.py:328(success)\n",
      "        1    0.000    0.000    0.000    0.000 interactiveshell.py:1072(_clear_warning_registry)\n",
      "        1    0.000    0.000    0.000    0.000 interactiveshell.py:1152(_get_call_pdb)\n",
      "        4    0.000    0.000    0.000    0.000 interactiveshell.py:3229(compare)\n",
      "        5    0.000    0.000    0.000    0.000 {built-in method _contextvars.copy_context}\n",
      "        1    0.000    0.000    0.000    0.000 history.py:741(store_output)\n",
      "        1    0.000    0.000    0.000    0.000 logger.py:167(log)\n",
      "        1    0.000    0.000    0.000    0.000 logger.py:187(log_write)\n",
      "        1    0.000    0.000    0.000    0.000 payload.py:54(clear_payload)\n",
      "        1    0.000    0.000    0.000    0.000 queue.py:212(_put)\n",
      "        1    0.000    0.000    0.000    0.000 {method 'disable' of '_lsprof.Profiler' objects}\n",
      "        1    0.000    0.000    0.000    0.000 zmqstream.py:48(stack_context_wrap)\n",
      "        1    0.000    0.000    0.000    0.000 zmqstream.py:278(<lambda>)\n",
      "        1    0.000    0.000    0.000    0.000 zmqstream.py:309(_finish_flush)\n",
      "        1    0.000    0.000    0.000    0.000 _parser.py:192(__iter__)\n",
      "        2    0.000    0.000    0.000    0.000 _parser.py:328(weekday)\n",
      "        1    0.000    0.000    0.000    0.000 _parser.py:366(convertyear)\n",
      "        1    0.000    0.000    0.000    0.000 _parser.py:488(<dictcomp>)\n",
      "        3    0.000    0.000    0.000    0.000 {method 'is_finite' of 'decimal.Decimal' objects}\n",
      "        1    0.000    0.000    0.000    0.000 _factories.py:11(__call__)\n",
      "        1    0.000    0.000    0.000    0.000 ipkernel.py:158(finish_metadata)\n",
      "        1    0.000    0.000    0.000    0.000 kernelbase.py:293(post_handler_hook)\n",
      "        1    0.000    0.000    0.000    0.000 queues.py:59(_set_timeout)\n",
      "        1    0.000    0.000    0.000    0.000 queues.py:168(maxsize)\n",
      "        1    0.000    0.000    0.000    0.000 queues.py:177(empty)\n",
      "        2    0.000    0.000    0.000    0.000 locks.py:227(clear)\n",
      "        1    0.000    0.000    0.029    0.029 {method 'send' of 'coroutine' objects}\n",
      "        7    0.000    0.000    0.000    0.000 {method 'pop' of 'list' objects}\n",
      "        2    0.000    0.000    0.000    0.000 {method 'keys' of 'dict' objects}\n",
      "        1    0.000    0.000    0.000    0.000 {method 'clear' of 'dict' objects}\n",
      "        3    0.000    0.000    0.000    0.000 {method 'mro' of 'type' objects}\n",
      "        8    0.000    0.000    0.000    0.000 {method 'isspace' of 'str' objects}\n",
      "        2    0.000    0.000    0.000    0.000 {built-in method sys.exc_info}\n",
      "        5    0.000    0.000    0.000    0.000 {built-in method posix.getpid}\n",
      "        1    0.000    0.000    0.000    0.000 {method 'remove' of 'collections.deque' objects}\n",
      "        3    0.000    0.000    0.000    0.000 {built-in method time.time}\n",
      "        4    0.000    0.000    0.000    0.000 {built-in method _thread.get_ident}\n",
      "        1    0.000    0.000    0.000    0.000 traitlets.py:1832(_validate_bounds)\n",
      "        2    0.000    0.000    0.000    0.000 traitlets.py:2246(validate_elements)\n",
      "        1    0.000    0.000    0.000    0.000 configurable.py:426(initialized)\n",
      "        1    0.000    0.000    0.000    0.000 ultratb.py:428(is_recursion_error)\n",
      "        1    0.000    0.000    0.000    0.000 ultratb.py:1121(get_chained_exception)\n",
      "        1    0.000    0.000    0.000    0.000 interactiveshell.py:325(__init__)\n",
      "        1    0.000    0.000    0.000    0.000 hooks.py:124(synchronize_with_editor)\n",
      "        1    0.000    0.000    0.000    0.000 {method 'enable' of '_lsprof.Profiler' objects}\n",
      "        1    0.000    0.000    0.000    0.000 session.py:855(<listcomp>)\n",
      "        1    0.000    0.000    0.000    0.000 session.py:936(<listcomp>)\n",
      "        1    0.000    0.000    0.000    0.000 _parser.py:408(has_year)\n",
      "        5    0.000    0.000    0.000    0.000 tz.py:74(utcoffset)\n",
      "        1    0.000    0.000    0.000    0.000 ipkernel.py:203(execution_count)\n",
      "        2    0.000    0.000    0.000    0.000 kernelbase.py:405(<lambda>)\n",
      "        1    0.000    0.000    0.000    0.000 kernelbase.py:495(init_metadata)\n",
      "\n",
      "\n"
     ]
    }
   ],
   "source": [
    "p.print_stats(sort='time')"
   ]
  },
  {
   "cell_type": "code",
   "execution_count": 32,
   "metadata": {},
   "outputs": [
    {
     "name": "stdout",
     "output_type": "stream",
     "text": [
      "261 ns ± 3.86 ns per loop (mean ± std. dev. of 7 runs, 1000000 loops each)\n"
     ]
    }
   ],
   "source": [
    "%timeit range(10000)"
   ]
  },
  {
   "cell_type": "code",
   "execution_count": 34,
   "metadata": {},
   "outputs": [
    {
     "ename": "KeyboardInterrupt",
     "evalue": "",
     "output_type": "error",
     "traceback": [
      "\u001b[0;31m---------------------------------------------------------------------------\u001b[0m",
      "\u001b[0;31mKeyboardInterrupt\u001b[0m                         Traceback (most recent call last)",
      "\u001b[0;32m<ipython-input-34-c0215d77732f>\u001b[0m in \u001b[0;36m<module>\u001b[0;34m\u001b[0m\n\u001b[0;32m----> 1\u001b[0;31m \u001b[0mget_ipython\u001b[0m\u001b[0;34m(\u001b[0m\u001b[0;34m)\u001b[0m\u001b[0;34m.\u001b[0m\u001b[0mrun_line_magic\u001b[0m\u001b[0;34m(\u001b[0m\u001b[0;34m'timeit'\u001b[0m\u001b[0;34m,\u001b[0m \u001b[0;34m'list(range(10000))'\u001b[0m\u001b[0;34m)\u001b[0m\u001b[0;34m\u001b[0m\u001b[0;34m\u001b[0m\u001b[0m\n\u001b[0m",
      "\u001b[0;32m~/.virtualenvs/py37/lib/python3.7/site-packages/IPython/core/interactiveshell.py\u001b[0m in \u001b[0;36mrun_line_magic\u001b[0;34m(self, magic_name, line, _stack_depth)\u001b[0m\n\u001b[1;32m   2311\u001b[0m                 \u001b[0mkwargs\u001b[0m\u001b[0;34m[\u001b[0m\u001b[0;34m'local_ns'\u001b[0m\u001b[0;34m]\u001b[0m \u001b[0;34m=\u001b[0m \u001b[0msys\u001b[0m\u001b[0;34m.\u001b[0m\u001b[0m_getframe\u001b[0m\u001b[0;34m(\u001b[0m\u001b[0mstack_depth\u001b[0m\u001b[0;34m)\u001b[0m\u001b[0;34m.\u001b[0m\u001b[0mf_locals\u001b[0m\u001b[0;34m\u001b[0m\u001b[0;34m\u001b[0m\u001b[0m\n\u001b[1;32m   2312\u001b[0m             \u001b[0;32mwith\u001b[0m \u001b[0mself\u001b[0m\u001b[0;34m.\u001b[0m\u001b[0mbuiltin_trap\u001b[0m\u001b[0;34m:\u001b[0m\u001b[0;34m\u001b[0m\u001b[0;34m\u001b[0m\u001b[0m\n\u001b[0;32m-> 2313\u001b[0;31m                 \u001b[0mresult\u001b[0m \u001b[0;34m=\u001b[0m \u001b[0mfn\u001b[0m\u001b[0;34m(\u001b[0m\u001b[0;34m*\u001b[0m\u001b[0margs\u001b[0m\u001b[0;34m,\u001b[0m \u001b[0;34m**\u001b[0m\u001b[0mkwargs\u001b[0m\u001b[0;34m)\u001b[0m\u001b[0;34m\u001b[0m\u001b[0;34m\u001b[0m\u001b[0m\n\u001b[0m\u001b[1;32m   2314\u001b[0m             \u001b[0;32mreturn\u001b[0m \u001b[0mresult\u001b[0m\u001b[0;34m\u001b[0m\u001b[0;34m\u001b[0m\u001b[0m\n\u001b[1;32m   2315\u001b[0m \u001b[0;34m\u001b[0m\u001b[0m\n",
      "\u001b[0;32m</Users/rick446/.virtualenvs/py37/lib/python3.7/site-packages/decorator.py:decorator-gen-60>\u001b[0m in \u001b[0;36mtimeit\u001b[0;34m(self, line, cell, local_ns)\u001b[0m\n",
      "\u001b[0;32m~/.virtualenvs/py37/lib/python3.7/site-packages/IPython/core/magic.py\u001b[0m in \u001b[0;36m<lambda>\u001b[0;34m(f, *a, **k)\u001b[0m\n\u001b[1;32m    185\u001b[0m     \u001b[0;31m# but it's overkill for just that one bit of state.\u001b[0m\u001b[0;34m\u001b[0m\u001b[0;34m\u001b[0m\u001b[0;34m\u001b[0m\u001b[0m\n\u001b[1;32m    186\u001b[0m     \u001b[0;32mdef\u001b[0m \u001b[0mmagic_deco\u001b[0m\u001b[0;34m(\u001b[0m\u001b[0marg\u001b[0m\u001b[0;34m)\u001b[0m\u001b[0;34m:\u001b[0m\u001b[0;34m\u001b[0m\u001b[0;34m\u001b[0m\u001b[0m\n\u001b[0;32m--> 187\u001b[0;31m         \u001b[0mcall\u001b[0m \u001b[0;34m=\u001b[0m \u001b[0;32mlambda\u001b[0m \u001b[0mf\u001b[0m\u001b[0;34m,\u001b[0m \u001b[0;34m*\u001b[0m\u001b[0ma\u001b[0m\u001b[0;34m,\u001b[0m \u001b[0;34m**\u001b[0m\u001b[0mk\u001b[0m\u001b[0;34m:\u001b[0m \u001b[0mf\u001b[0m\u001b[0;34m(\u001b[0m\u001b[0;34m*\u001b[0m\u001b[0ma\u001b[0m\u001b[0;34m,\u001b[0m \u001b[0;34m**\u001b[0m\u001b[0mk\u001b[0m\u001b[0;34m)\u001b[0m\u001b[0;34m\u001b[0m\u001b[0;34m\u001b[0m\u001b[0m\n\u001b[0m\u001b[1;32m    188\u001b[0m \u001b[0;34m\u001b[0m\u001b[0m\n\u001b[1;32m    189\u001b[0m         \u001b[0;32mif\u001b[0m \u001b[0mcallable\u001b[0m\u001b[0;34m(\u001b[0m\u001b[0marg\u001b[0m\u001b[0;34m)\u001b[0m\u001b[0;34m:\u001b[0m\u001b[0;34m\u001b[0m\u001b[0;34m\u001b[0m\u001b[0m\n",
      "\u001b[0;32m~/.virtualenvs/py37/lib/python3.7/site-packages/IPython/core/magics/execution.py\u001b[0m in \u001b[0;36mtimeit\u001b[0;34m(self, line, cell, local_ns)\u001b[0m\n\u001b[1;32m   1160\u001b[0m                     \u001b[0;32mbreak\u001b[0m\u001b[0;34m\u001b[0m\u001b[0;34m\u001b[0m\u001b[0m\n\u001b[1;32m   1161\u001b[0m \u001b[0;34m\u001b[0m\u001b[0m\n\u001b[0;32m-> 1162\u001b[0;31m         \u001b[0mall_runs\u001b[0m \u001b[0;34m=\u001b[0m \u001b[0mtimer\u001b[0m\u001b[0;34m.\u001b[0m\u001b[0mrepeat\u001b[0m\u001b[0;34m(\u001b[0m\u001b[0mrepeat\u001b[0m\u001b[0;34m,\u001b[0m \u001b[0mnumber\u001b[0m\u001b[0;34m)\u001b[0m\u001b[0;34m\u001b[0m\u001b[0;34m\u001b[0m\u001b[0m\n\u001b[0m\u001b[1;32m   1163\u001b[0m         \u001b[0mbest\u001b[0m \u001b[0;34m=\u001b[0m \u001b[0mmin\u001b[0m\u001b[0;34m(\u001b[0m\u001b[0mall_runs\u001b[0m\u001b[0;34m)\u001b[0m \u001b[0;34m/\u001b[0m \u001b[0mnumber\u001b[0m\u001b[0;34m\u001b[0m\u001b[0;34m\u001b[0m\u001b[0m\n\u001b[1;32m   1164\u001b[0m         \u001b[0mworst\u001b[0m \u001b[0;34m=\u001b[0m \u001b[0mmax\u001b[0m\u001b[0;34m(\u001b[0m\u001b[0mall_runs\u001b[0m\u001b[0;34m)\u001b[0m \u001b[0;34m/\u001b[0m \u001b[0mnumber\u001b[0m\u001b[0;34m\u001b[0m\u001b[0;34m\u001b[0m\u001b[0m\n",
      "\u001b[0;32m/usr/local/Cellar/python/3.7.4_1/Frameworks/Python.framework/Versions/3.7/lib/python3.7/timeit.py\u001b[0m in \u001b[0;36mrepeat\u001b[0;34m(self, repeat, number)\u001b[0m\n\u001b[1;32m    202\u001b[0m         \u001b[0mr\u001b[0m \u001b[0;34m=\u001b[0m \u001b[0;34m[\u001b[0m\u001b[0;34m]\u001b[0m\u001b[0;34m\u001b[0m\u001b[0;34m\u001b[0m\u001b[0m\n\u001b[1;32m    203\u001b[0m         \u001b[0;32mfor\u001b[0m \u001b[0mi\u001b[0m \u001b[0;32min\u001b[0m \u001b[0mrange\u001b[0m\u001b[0;34m(\u001b[0m\u001b[0mrepeat\u001b[0m\u001b[0;34m)\u001b[0m\u001b[0;34m:\u001b[0m\u001b[0;34m\u001b[0m\u001b[0;34m\u001b[0m\u001b[0m\n\u001b[0;32m--> 204\u001b[0;31m             \u001b[0mt\u001b[0m \u001b[0;34m=\u001b[0m \u001b[0mself\u001b[0m\u001b[0;34m.\u001b[0m\u001b[0mtimeit\u001b[0m\u001b[0;34m(\u001b[0m\u001b[0mnumber\u001b[0m\u001b[0;34m)\u001b[0m\u001b[0;34m\u001b[0m\u001b[0;34m\u001b[0m\u001b[0m\n\u001b[0m\u001b[1;32m    205\u001b[0m             \u001b[0mr\u001b[0m\u001b[0;34m.\u001b[0m\u001b[0mappend\u001b[0m\u001b[0;34m(\u001b[0m\u001b[0mt\u001b[0m\u001b[0;34m)\u001b[0m\u001b[0;34m\u001b[0m\u001b[0;34m\u001b[0m\u001b[0m\n\u001b[1;32m    206\u001b[0m         \u001b[0;32mreturn\u001b[0m \u001b[0mr\u001b[0m\u001b[0;34m\u001b[0m\u001b[0;34m\u001b[0m\u001b[0m\n",
      "\u001b[0;32m~/.virtualenvs/py37/lib/python3.7/site-packages/IPython/core/magics/execution.py\u001b[0m in \u001b[0;36mtimeit\u001b[0;34m(self, number)\u001b[0m\n\u001b[1;32m    167\u001b[0m         \u001b[0mgc\u001b[0m\u001b[0;34m.\u001b[0m\u001b[0mdisable\u001b[0m\u001b[0;34m(\u001b[0m\u001b[0;34m)\u001b[0m\u001b[0;34m\u001b[0m\u001b[0;34m\u001b[0m\u001b[0m\n\u001b[1;32m    168\u001b[0m         \u001b[0;32mtry\u001b[0m\u001b[0;34m:\u001b[0m\u001b[0;34m\u001b[0m\u001b[0;34m\u001b[0m\u001b[0m\n\u001b[0;32m--> 169\u001b[0;31m             \u001b[0mtiming\u001b[0m \u001b[0;34m=\u001b[0m \u001b[0mself\u001b[0m\u001b[0;34m.\u001b[0m\u001b[0minner\u001b[0m\u001b[0;34m(\u001b[0m\u001b[0mit\u001b[0m\u001b[0;34m,\u001b[0m \u001b[0mself\u001b[0m\u001b[0;34m.\u001b[0m\u001b[0mtimer\u001b[0m\u001b[0;34m)\u001b[0m\u001b[0;34m\u001b[0m\u001b[0;34m\u001b[0m\u001b[0m\n\u001b[0m\u001b[1;32m    170\u001b[0m         \u001b[0;32mfinally\u001b[0m\u001b[0;34m:\u001b[0m\u001b[0;34m\u001b[0m\u001b[0;34m\u001b[0m\u001b[0m\n\u001b[1;32m    171\u001b[0m             \u001b[0;32mif\u001b[0m \u001b[0mgcold\u001b[0m\u001b[0;34m:\u001b[0m\u001b[0;34m\u001b[0m\u001b[0;34m\u001b[0m\u001b[0m\n",
      "\u001b[0;32m<magic-timeit>\u001b[0m in \u001b[0;36minner\u001b[0;34m(_it, _timer)\u001b[0m\n",
      "\u001b[0;31mKeyboardInterrupt\u001b[0m: "
     ]
    }
   ],
   "source": [
    "%timeit list(range(10000))"
   ]
  },
  {
   "cell_type": "markdown",
   "metadata": {},
   "source": [
    "# Instrumenting high-performance code\n",
    "\n",
    "There are times when we want to profile, but we don't want to incur the performance penalty. For instance, we might want to see the profile of a running production system, without impacting its performance in a major way.\n",
    "\n",
    "For that, we can profile a _sample_ of the calls to a function."
   ]
  },
  {
   "cell_type": "code",
   "execution_count": 11,
   "metadata": {},
   "outputs": [],
   "source": [
    "import random\n",
    "import functools\n",
    "\n",
    "def instrument(profiler, probability=0.10):\n",
    "    '''Profile some of the calls to the decorated function.\n",
    "    \n",
    "    The default probability of profiling a call is 10%.\n",
    "    '''\n",
    "    def decorator(func):\n",
    "        @functools.wraps(func)\n",
    "        def wrapper(*args, **kwargs):\n",
    "            if random.random() < probability:\n",
    "                try:\n",
    "                    profiler.enable()\n",
    "                    return func(*args, **kwargs)\n",
    "                finally:\n",
    "                    profiler.disable()\n",
    "            else:\n",
    "                return func(*args, **kwargs)\n",
    "        return wrapper\n",
    "    return decorator"
   ]
  },
  {
   "cell_type": "code",
   "execution_count": 8,
   "metadata": {},
   "outputs": [],
   "source": [
    "import cProfile\n",
    "prof = cProfile.Profile()"
   ]
  },
  {
   "cell_type": "code",
   "execution_count": 37,
   "metadata": {},
   "outputs": [],
   "source": [
    "prof = cProfile.Profile()\n",
    "@instrument(prof, 0.2)\n",
    "def build_join(strings):\n",
    "    return ''.join(strings)"
   ]
  },
  {
   "cell_type": "code",
   "execution_count": 39,
   "metadata": {},
   "outputs": [],
   "source": [
    "for x in range(10000): \n",
    "    build_join(strings)"
   ]
  },
  {
   "cell_type": "code",
   "execution_count": 40,
   "metadata": {},
   "outputs": [
    {
     "name": "stdout",
     "output_type": "stream",
     "text": [
      "         5889 function calls in 0.023 seconds\n",
      "\n",
      "   Ordered by: standard name\n",
      "\n",
      "   ncalls  tottime  percall  cumtime  percall filename:lineno(function)\n",
      "     1963    0.002    0.000    0.022    0.000 <ipython-input-37-6cd157b4ed20>:2(build_join)\n",
      "     1963    0.000    0.000    0.000    0.000 {method 'disable' of '_lsprof.Profiler' objects}\n",
      "     1963    0.021    0.000    0.021    0.000 {method 'join' of 'str' objects}\n",
      "\n",
      "\n"
     ]
    }
   ],
   "source": [
    "prof.print_stats()"
   ]
  },
  {
   "cell_type": "markdown",
   "metadata": {},
   "source": [
    "# Lab\n",
    "\n",
    "Using timeit, compare the performance of searching text using a compiled versus an uncompiled regular expression:"
   ]
  },
  {
   "cell_type": "code",
   "execution_count": 1,
   "metadata": {},
   "outputs": [],
   "source": [
    "text = '''The quick brown fox jumps over the lazy dog'''"
   ]
  },
  {
   "cell_type": "code",
   "execution_count": 2,
   "metadata": {},
   "outputs": [],
   "source": [
    "import re\n",
    "pattern = 'fox'\n",
    "re_fox = re.compile(pattern)"
   ]
  },
  {
   "cell_type": "code",
   "execution_count": 3,
   "metadata": {},
   "outputs": [
    {
     "data": {
      "text/plain": [
       "<re.Match object; span=(16, 19), match='fox'>"
      ]
     },
     "execution_count": 3,
     "metadata": {},
     "output_type": "execute_result"
    }
   ],
   "source": [
    "# Compare these two approaches\n",
    "re.search('fox', text)\n",
    "re_fox.search(text)"
   ]
  },
  {
   "cell_type": "code",
   "execution_count": 4,
   "metadata": {},
   "outputs": [
    {
     "name": "stdout",
     "output_type": "stream",
     "text": [
      "616 ns ± 5.29 ns per loop (mean ± std. dev. of 7 runs, 1000000 loops each)\n"
     ]
    }
   ],
   "source": [
    "%timeit re.search('fox', text)"
   ]
  },
  {
   "cell_type": "code",
   "execution_count": 5,
   "metadata": {},
   "outputs": [
    {
     "name": "stdout",
     "output_type": "stream",
     "text": [
      "186 ns ± 4.13 ns per loop (mean ± std. dev. of 7 runs, 10000000 loops each)\n"
     ]
    }
   ],
   "source": [
    "%timeit re_fox.search(text)"
   ]
  },
  {
   "cell_type": "markdown",
   "metadata": {},
   "source": [
    "Use cProfile and pstats to profile a function that uses an uncompiled `re.search` to search the text"
   ]
  },
  {
   "cell_type": "code",
   "execution_count": 6,
   "metadata": {},
   "outputs": [
    {
     "name": "stdout",
     "output_type": "stream",
     "text": [
      "Traceback (most recent call last):\r\n",
      "  File \"/Users/nishanth.reddy/miniconda3/lib/python3.7/runpy.py\", line 193, in _run_module_as_main\r\n",
      "    \"__main__\", mod_spec)\r\n",
      "  File \"/Users/nishanth.reddy/miniconda3/lib/python3.7/runpy.py\", line 85, in _run_code\r\n",
      "    exec(code, run_globals)\r\n",
      "  File \"/Users/nishanth.reddy/miniconda3/lib/python3.7/cProfile.py\", line 185, in <module>\r\n",
      "    main()\r\n",
      "  File \"/Users/nishanth.reddy/miniconda3/lib/python3.7/cProfile.py\", line 170, in main\r\n",
      "    with open(progname, 'rb') as fp:\r\n",
      "FileNotFoundError: [Errno 2] No such file or directory: '../examples/Profiling/profiletest.py'\r\n"
     ]
    }
   ],
   "source": [
    "!python -m cProfile -s time ../examples/Profiling/profiletest.py"
   ]
  },
  {
   "cell_type": "markdown",
   "metadata": {},
   "source": [
    "Instrument the function with the above decorator, and use %timeit to compare the profiling overhead between profiling 1% of the time and 100% of the time"
   ]
  },
  {
   "cell_type": "code",
   "execution_count": 12,
   "metadata": {},
   "outputs": [],
   "source": [
    "p = cProfile.Profile()\n",
    "@instrument(p, 1.00)\n",
    "def make_re(pattern):\n",
    "    return re.compile(pattern)\n"
   ]
  },
  {
   "cell_type": "code",
   "execution_count": 13,
   "metadata": {},
   "outputs": [
    {
     "name": "stdout",
     "output_type": "stream",
     "text": [
      "14.7 ms ± 68.2 µs per loop (mean ± std. dev. of 7 runs, 100 loops each)\n"
     ]
    }
   ],
   "source": [
    "%timeit for x in range(10000): make_re('fox')"
   ]
  },
  {
   "cell_type": "code",
   "execution_count": null,
   "metadata": {},
   "outputs": [],
   "source": [
    "# 0%: 6.88 ms\n",
    "# 1%: 9 ms\n",
    "# 100%: 18 ms"
   ]
  },
  {
   "cell_type": "code",
   "execution_count": null,
   "metadata": {},
   "outputs": [],
   "source": [
    "def make_re(pattern):\n",
    "    return re.compile(pattern)"
   ]
  },
  {
   "cell_type": "code",
   "execution_count": null,
   "metadata": {},
   "outputs": [],
   "source": [
    "%timeit for x in xrange(10000): make_re('fox')"
   ]
  },
  {
   "cell_type": "code",
   "execution_count": 15,
   "metadata": {},
   "outputs": [
    {
     "name": "stdout",
     "output_type": "stream",
     "text": [
      "Python 3.7.4\r\n"
     ]
    }
   ],
   "source": [
    "!python -V"
   ]
  },
  {
   "cell_type": "code",
   "execution_count": null,
   "metadata": {},
   "outputs": [],
   "source": []
  }
 ],
 "metadata": {
  "kernelspec": {
   "display_name": "Python 3",
   "language": "python",
   "name": "python3"
  },
  "language_info": {
   "codemirror_mode": {
    "name": "ipython",
    "version": 3
   },
   "file_extension": ".py",
   "mimetype": "text/x-python",
   "name": "python",
   "nbconvert_exporter": "python",
   "pygments_lexer": "ipython3",
   "version": "3.7.4"
  }
 },
 "nbformat": 4,
 "nbformat_minor": 1
}
