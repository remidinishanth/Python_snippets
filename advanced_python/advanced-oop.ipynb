{
 "cells": [
  {
   "cell_type": "markdown",
   "metadata": {},
   "source": [
    "# Advanced Object-Oriented Programming: Metaclasses and Class Decorators\n",
    "\n",
    "A `class` is a \"factory for objects (instances)\"\n",
    "\n",
    "What is a \"factory for classes?\""
   ]
  },
  {
   "cell_type": "code",
   "execution_count": 1,
   "metadata": {},
   "outputs": [],
   "source": [
    "class MyClass1:\n",
    "    pass"
   ]
  },
  {
   "cell_type": "code",
   "execution_count": 2,
   "metadata": {},
   "outputs": [
    {
     "data": {
      "text/plain": [
       "__main__.MyClass1"
      ]
     },
     "execution_count": 2,
     "metadata": {},
     "output_type": "execute_result"
    }
   ],
   "source": [
    "obj = MyClass1()\n",
    "type(obj)"
   ]
  },
  {
   "cell_type": "code",
   "execution_count": 3,
   "metadata": {},
   "outputs": [
    {
     "data": {
      "text/plain": [
       "type"
      ]
     },
     "execution_count": 3,
     "metadata": {},
     "output_type": "execute_result"
    }
   ],
   "source": [
    "type(MyClass1)"
   ]
  },
  {
   "cell_type": "code",
   "execution_count": 4,
   "metadata": {},
   "outputs": [
    {
     "name": "stdout",
     "output_type": "stream",
     "text": [
      "Calling the metaclass\n"
     ]
    }
   ],
   "source": [
    "%%python2\n",
    "def meta(name, bases, dct):\n",
    "    print(\"Calling the metaclass\")\n",
    "    return type(name, bases, dct)\n",
    "\n",
    "class MyClass2(object):\n",
    "    __metaclass__ = meta\n"
   ]
  },
  {
   "cell_type": "code",
   "execution_count": 6,
   "metadata": {},
   "outputs": [
    {
     "name": "stdout",
     "output_type": "stream",
     "text": [
      "MyClass2 () {'__module__': '__main__', '__qualname__': 'MyClass2', 'a': 'foo', '__init__': <function MyClass2.__init__ at 0x103e1f680>}\n"
     ]
    }
   ],
   "source": [
    "def meta(name, bases, dct):\n",
    "    print(name, bases, dct)\n",
    "    return type(name, bases, dct)\n",
    "\n",
    "class MyClass2(metaclass=meta):\n",
    "    a = 'foo'\n",
    "    def __init__(self):\n",
    "        pass\n"
   ]
  },
  {
   "cell_type": "code",
   "execution_count": 7,
   "metadata": {},
   "outputs": [
    {
     "name": "stdout",
     "output_type": "stream",
     "text": [
      "MyClass2 () {'a': 'foo'}\n"
     ]
    }
   ],
   "source": [
    "dct = {'a': 'foo'}\n",
    "MyClass2 = meta('MyClass2', (), dct)"
   ]
  },
  {
   "cell_type": "code",
   "execution_count": 8,
   "metadata": {},
   "outputs": [
    {
     "data": {
      "text/plain": [
       "type"
      ]
     },
     "execution_count": 8,
     "metadata": {},
     "output_type": "execute_result"
    }
   ],
   "source": [
    "type(MyClass2)"
   ]
  },
  {
   "cell_type": "code",
   "execution_count": 9,
   "metadata": {},
   "outputs": [],
   "source": [
    "class WithAMeta(type):\n",
    "    def __new__(meta, name, bases, dct):\n",
    "        dct['a'] = 5\n",
    "        return super().__new__(meta, name, bases, dct)\n",
    "    \n",
    "class MyClass3(metaclass=WithAMeta):\n",
    "    pass"
   ]
  },
  {
   "cell_type": "code",
   "execution_count": 10,
   "metadata": {},
   "outputs": [
    {
     "data": {
      "text/plain": [
       "5"
      ]
     },
     "execution_count": 10,
     "metadata": {},
     "output_type": "execute_result"
    }
   ],
   "source": [
    "MyClass3.a"
   ]
  },
  {
   "cell_type": "code",
   "execution_count": 11,
   "metadata": {},
   "outputs": [],
   "source": [
    "MyClass3 = WithAMeta('MyClass3', (object,), {})"
   ]
  },
  {
   "cell_type": "code",
   "execution_count": 12,
   "metadata": {},
   "outputs": [
    {
     "data": {
      "text/plain": [
       "__main__.WithAMeta"
      ]
     },
     "execution_count": 12,
     "metadata": {},
     "output_type": "execute_result"
    }
   ],
   "source": [
    "type(MyClass3)"
   ]
  },
  {
   "cell_type": "code",
   "execution_count": 13,
   "metadata": {},
   "outputs": [
    {
     "data": {
      "text/plain": [
       "5"
      ]
     },
     "execution_count": 13,
     "metadata": {},
     "output_type": "execute_result"
    }
   ],
   "source": [
    "MyClass3.a"
   ]
  },
  {
   "cell_type": "markdown",
   "metadata": {},
   "source": [
    "### Metaclass trick: instance level property declaration"
   ]
  },
  {
   "cell_type": "code",
   "execution_count": 35,
   "metadata": {},
   "outputs": [],
   "source": [
    "from copy import deepcopy\n",
    "\n",
    "def property_meta(name, bases, dct):\n",
    "    public_attributes = {\n",
    "        key: value \n",
    "        for key, value in dct.items()\n",
    "        if not callable(value)\n",
    "        if not key.startswith('_')\n",
    "    }\n",
    "    dct['_public_attributes'] = public_attributes\n",
    "    return type(name, bases, dct)\n",
    "\n",
    "class PublicClass(metaclass=property_meta):\n",
    "    a = 5\n",
    "    b = 6\n",
    "    c = [7, 8, 9]\n",
    "    \n",
    "    def __init__(self):\n",
    "        for key, value in self._public_attributes.items():\n",
    "            setattr(self, key, deepcopy(value))"
   ]
  },
  {
   "cell_type": "code",
   "execution_count": 36,
   "metadata": {},
   "outputs": [
    {
     "data": {
      "text/plain": [
       "{'a': 5, 'b': 6, 'c': [7, 8, 9]}"
      ]
     },
     "execution_count": 36,
     "metadata": {},
     "output_type": "execute_result"
    }
   ],
   "source": [
    "PublicClass._public_attributes"
   ]
  },
  {
   "cell_type": "code",
   "execution_count": 37,
   "metadata": {},
   "outputs": [],
   "source": [
    "pc = PublicClass()"
   ]
  },
  {
   "cell_type": "code",
   "execution_count": 38,
   "metadata": {},
   "outputs": [
    {
     "data": {
      "text/plain": [
       "{'a': 5, 'b': 6, 'c': [7, 8, 9]}"
      ]
     },
     "execution_count": 38,
     "metadata": {},
     "output_type": "execute_result"
    }
   ],
   "source": [
    "pc.__dict__"
   ]
  },
  {
   "cell_type": "code",
   "execution_count": 39,
   "metadata": {},
   "outputs": [],
   "source": [
    "pc.c.append(10)"
   ]
  },
  {
   "cell_type": "code",
   "execution_count": 40,
   "metadata": {},
   "outputs": [
    {
     "data": {
      "text/plain": [
       "[7, 8, 9, 10]"
      ]
     },
     "execution_count": 40,
     "metadata": {},
     "output_type": "execute_result"
    }
   ],
   "source": [
    "pc.c"
   ]
  },
  {
   "cell_type": "code",
   "execution_count": 41,
   "metadata": {},
   "outputs": [
    {
     "data": {
      "text/plain": [
       "[7, 8, 9]"
      ]
     },
     "execution_count": 41,
     "metadata": {},
     "output_type": "execute_result"
    }
   ],
   "source": [
    "PublicClass.c"
   ]
  },
  {
   "cell_type": "markdown",
   "metadata": {},
   "source": [
    "(a better way is to use dataclasses from the standard lib)"
   ]
  },
  {
   "cell_type": "markdown",
   "metadata": {},
   "source": [
    "### Metaclass use case: collecting properties ('declarative programming')"
   ]
  },
  {
   "cell_type": "code",
   "execution_count": 42,
   "metadata": {},
   "outputs": [],
   "source": [
    "class ImportantField:\n",
    "    def __init__(self, value, name=None):\n",
    "        self.value = value\n",
    "        self.name = name\n",
    "        \n",
    "class CollectorMeta(type):\n",
    "    def __new__(meta, name, bases, dct):\n",
    "        important = []\n",
    "        for k, v in dct.items():\n",
    "            if isinstance(v, ImportantField):\n",
    "                if v.name is None:\n",
    "                    v.name = k\n",
    "                important.append(v)\n",
    "        dct['_important'] = important\n",
    "        return type.__new__(meta, name, bases, dct)\n",
    "        \n",
    "class MyBase(metaclass=CollectorMeta):\n",
    "    \"\"\"Use regular inheritance to get the metaclass 'for free'\"\"\"\n",
    "\n",
    "    def __repr__(self):\n",
    "        l = ['<{}'.format(self.__class__.__name__)]\n",
    "        for fld in self._important:\n",
    "            l.append(' {}={}'.format(fld.name, fld.value))\n",
    "        l.append('>')\n",
    "        return ''.join(l)\n",
    "    "
   ]
  },
  {
   "cell_type": "code",
   "execution_count": 43,
   "metadata": {},
   "outputs": [],
   "source": [
    "# Here is the \"application-level\" code you'd write\n",
    "    \n",
    "class MyClass4(MyBase):\n",
    "    a = ImportantField(1)\n",
    "    b = ImportantField(2)\n",
    "    c = ImportantField(3)"
   ]
  },
  {
   "cell_type": "code",
   "execution_count": 44,
   "metadata": {},
   "outputs": [
    {
     "data": {
      "text/plain": [
       "<MyClass4 a=1 b=2 c=3>"
      ]
     },
     "execution_count": 44,
     "metadata": {},
     "output_type": "execute_result"
    }
   ],
   "source": [
    "MyClass4()"
   ]
  },
  {
   "cell_type": "code",
   "execution_count": 46,
   "metadata": {},
   "outputs": [
    {
     "data": {
      "text/plain": [
       "[<__main__.ImportantField at 0x103ef8fd0>,\n",
       " <__main__.ImportantField at 0x103eea0d0>,\n",
       " <__main__.ImportantField at 0x103eeabd0>]"
      ]
     },
     "execution_count": 46,
     "metadata": {},
     "output_type": "execute_result"
    }
   ],
   "source": [
    "MyClass4._important"
   ]
  },
  {
   "cell_type": "markdown",
   "metadata": {},
   "source": [
    "### Aside: metaclass inheritance\n",
    "\n",
    "If ClassSub with metaclass MetaClassB extends ClassSuper with MetaClassA, then\n",
    "MetaClassB must be a subclass of MetaClassA:"
   ]
  },
  {
   "cell_type": "code",
   "execution_count": 50,
   "metadata": {},
   "outputs": [],
   "source": [
    "class MetaClassA(type):\n",
    "    pass\n",
    "\n",
    "class MetaClassB(MetaClassA):\n",
    "    pass\n",
    "\n",
    "class ClassSuper(metaclass=MetaClassA):\n",
    "    pass\n",
    "\n",
    "class ClassSub(ClassSuper, metaclass=MetaClassB):\n",
    "    pass"
   ]
  },
  {
   "cell_type": "markdown",
   "metadata": {},
   "source": [
    "### Metaclass use case: class registries"
   ]
  },
  {
   "cell_type": "code",
   "execution_count": 59,
   "metadata": {},
   "outputs": [],
   "source": [
    "class RegistryMeta(type):\n",
    "    _registry = {}\n",
    "    \n",
    "    def __new__(meta, name, bases, dct):\n",
    "        cls = type.__new__(meta, name, bases, dct)\n",
    "        meta._registry[name] = cls\n",
    "        return cls\n",
    "    \n",
    "    def lookup_meta(self, name):\n",
    "        return self._registry[name]\n",
    "\n",
    "class RegistryBase(metaclass=RegistryMeta):\n",
    "    \n",
    "    @classmethod\n",
    "    def lookup(cls, name):\n",
    "        return cls._registry[name]"
   ]
  },
  {
   "cell_type": "code",
   "execution_count": 60,
   "metadata": {},
   "outputs": [],
   "source": [
    "class Registered1(RegistryBase):\n",
    "    a = ImportantField('Registered2')\n",
    "\n",
    "class Registered2(RegistryBase):\n",
    "    pass\n",
    "    \n",
    "class Registered3(object, metaclass=RegistryMeta):\n",
    "    pass"
   ]
  },
  {
   "cell_type": "code",
   "execution_count": 61,
   "metadata": {},
   "outputs": [
    {
     "data": {
      "text/plain": [
       "__main__.Registered1"
      ]
     },
     "execution_count": 61,
     "metadata": {},
     "output_type": "execute_result"
    }
   ],
   "source": [
    "RegistryBase.lookup('Registered1')"
   ]
  },
  {
   "cell_type": "code",
   "execution_count": 62,
   "metadata": {},
   "outputs": [
    {
     "data": {
      "text/plain": [
       "__main__.Registered2"
      ]
     },
     "execution_count": 62,
     "metadata": {},
     "output_type": "execute_result"
    }
   ],
   "source": [
    "RegistryBase.lookup('Registered2')"
   ]
  },
  {
   "cell_type": "code",
   "execution_count": 63,
   "metadata": {},
   "outputs": [
    {
     "data": {
      "text/plain": [
       "__main__.Registered1"
      ]
     },
     "execution_count": 63,
     "metadata": {},
     "output_type": "execute_result"
    }
   ],
   "source": [
    "RegistryBase.lookup_meta('Registered1')"
   ]
  },
  {
   "cell_type": "code",
   "execution_count": 64,
   "metadata": {},
   "outputs": [
    {
     "data": {
      "text/plain": [
       "__main__.Registered2"
      ]
     },
     "execution_count": 64,
     "metadata": {},
     "output_type": "execute_result"
    }
   ],
   "source": [
    "RegistryBase.lookup_meta('Registered2')"
   ]
  },
  {
   "cell_type": "markdown",
   "metadata": {},
   "source": [
    "### Metaclass trick: class operators"
   ]
  },
  {
   "cell_type": "code",
   "execution_count": 73,
   "metadata": {},
   "outputs": [],
   "source": [
    "class RegistryMeta(type):\n",
    "    _registry = {}\n",
    "    \n",
    "    def __new__(meta, name, bases, dct):\n",
    "        cls = type.__new__(meta, name, bases, dct)\n",
    "        meta._registry[name] = cls\n",
    "        return cls\n",
    "    \n",
    "    def __getitem__(cls, name):\n",
    "        return cls._registry[name]\n",
    "    \n",
    "class RegistryBase(object, metaclass=RegistryMeta):\n",
    "    name = 'base'\n",
    "  \n",
    "#     sadly, this does not work...\n",
    "#     @classmethod\n",
    "#     def __getitem__(cls, name):\n",
    "#         return cls._registry[name]\n",
    "    \n",
    "class Registered1(RegistryBase):\n",
    "    pass\n",
    "\n",
    "class Registered2(RegistryBase):\n",
    "    pass"
   ]
  },
  {
   "cell_type": "code",
   "execution_count": 74,
   "metadata": {},
   "outputs": [
    {
     "data": {
      "text/plain": [
       "__main__.Registered1"
      ]
     },
     "execution_count": 74,
     "metadata": {},
     "output_type": "execute_result"
    }
   ],
   "source": [
    "RegistryBase['Registered1']"
   ]
  },
  {
   "cell_type": "code",
   "execution_count": 75,
   "metadata": {},
   "outputs": [
    {
     "data": {
      "text/plain": [
       "__main__.Registered2"
      ]
     },
     "execution_count": 75,
     "metadata": {},
     "output_type": "execute_result"
    }
   ],
   "source": [
    "RegistryBase['Registered2']"
   ]
  },
  {
   "cell_type": "markdown",
   "metadata": {},
   "source": [
    "Trick: inheritance via `+`"
   ]
  },
  {
   "cell_type": "code",
   "execution_count": 79,
   "metadata": {},
   "outputs": [],
   "source": [
    "class HierMeta(type):\n",
    "    \n",
    "    def __add__(cls, other):\n",
    "        return type(\n",
    "            f'<AnonCls>({cls.__name__}, {other.__name__})', \n",
    "            (cls, other), \n",
    "            {}\n",
    "        )\n",
    "\n",
    "class HierBase(metaclass=HierMeta): pass\n",
    "\n",
    "class R1(HierBase): pass\n",
    "class R2(HierBase): pass\n",
    "\n",
    "R3 = R1 + R2\n"
   ]
  },
  {
   "cell_type": "code",
   "execution_count": 80,
   "metadata": {},
   "outputs": [
    {
     "data": {
      "text/plain": [
       "__main__.<AnonCls>(R1, R2)"
      ]
     },
     "execution_count": 80,
     "metadata": {},
     "output_type": "execute_result"
    }
   ],
   "source": [
    "R3"
   ]
  },
  {
   "cell_type": "code",
   "execution_count": 81,
   "metadata": {},
   "outputs": [
    {
     "data": {
      "text/plain": [
       "[__main__.<AnonCls>(R1, R2),\n",
       " __main__.R1,\n",
       " __main__.R2,\n",
       " __main__.HierBase,\n",
       " object]"
      ]
     },
     "execution_count": 81,
     "metadata": {},
     "output_type": "execute_result"
    }
   ],
   "source": [
    "R3.mro()"
   ]
  },
  {
   "cell_type": "markdown",
   "metadata": {},
   "source": [
    "### Class decorators: cheap substitute for metaclasses\n",
    "\n",
    "Recall that\n",
    "\n",
    "```python\n",
    "@foo\n",
    "def func(...):\n",
    "    ...\n",
    "```\n",
    "\n",
    "really means\n",
    "\n",
    "```python\n",
    "def func(...):\n",
    "    ...\n",
    "func = foo(func)\n",
    "```"
   ]
  },
  {
   "cell_type": "markdown",
   "metadata": {},
   "source": [
    "We can do the same with classes:\n",
    "\n",
    "```python\n",
    "@foo\n",
    "class Bar:\n",
    "    ...\n",
    "```\n",
    "\n",
    "means\n",
    "\n",
    "```python\n",
    "class Bar:\n",
    "    ...\n",
    "Bar = foo(Bar)\n",
    "```"
   ]
  },
  {
   "cell_type": "code",
   "execution_count": 91,
   "metadata": {},
   "outputs": [],
   "source": [
    "class Registry(object):\n",
    "\n",
    "    def __init__(self):\n",
    "        self._registry = {}\n",
    "\n",
    "    def register(self, cls):\n",
    "        self._registry[cls.__name__] = cls\n",
    "        return cls\n",
    "\n",
    "    def __getitem__(self, name):\n",
    "        return self._registry[name]\n",
    "    \n",
    "r = Registry()"
   ]
  },
  {
   "cell_type": "code",
   "execution_count": 90,
   "metadata": {},
   "outputs": [],
   "source": [
    "# \"Application\" code\n",
    "@r.register\n",
    "class Registered1:\n",
    "    pass\n",
    "\n",
    "@r.register\n",
    "class Registered2():\n",
    "    pass"
   ]
  },
  {
   "cell_type": "code",
   "execution_count": 87,
   "metadata": {},
   "outputs": [
    {
     "data": {
      "text/plain": [
       "{'Registered1': __main__.Registered1, 'Registered2': __main__.Registered2}"
      ]
     },
     "execution_count": 87,
     "metadata": {},
     "output_type": "execute_result"
    }
   ],
   "source": [
    "r._registry"
   ]
  },
  {
   "cell_type": "code",
   "execution_count": 88,
   "metadata": {},
   "outputs": [
    {
     "data": {
      "text/plain": [
       "__main__.Registered1"
      ]
     },
     "execution_count": 88,
     "metadata": {},
     "output_type": "execute_result"
    }
   ],
   "source": [
    "r['Registered1']"
   ]
  },
  {
   "cell_type": "code",
   "execution_count": 89,
   "metadata": {},
   "outputs": [
    {
     "data": {
      "text/plain": [
       "__main__.Registered2"
      ]
     },
     "execution_count": 89,
     "metadata": {},
     "output_type": "execute_result"
    }
   ],
   "source": [
    "r['Registered2']"
   ]
  },
  {
   "cell_type": "markdown",
   "metadata": {},
   "source": [
    "Real-world example: [Flask-RESTPlus][rest+]\n",
    "\n",
    "[rest+]: https://flask-restplus.readthedocs.io/en/stable/quickstart.html#a-minimal-api"
   ]
  },
  {
   "cell_type": "markdown",
   "metadata": {},
   "source": [
    "## Metaclass semantics\n",
    "\n",
    "bar = Foo()\n",
    "\n",
    "- if Foo is a class, bar is an instance\n",
    "- if Foo is a metaclass, bar is a class\n",
    "\n",
    "- `type` is a metaclass\n",
    "- `object` is class\n",
    "- `'foo'` is an instance (of the class `str`, which has metaclass `type`)"
   ]
  },
  {
   "cell_type": "markdown",
   "metadata": {},
   "source": [
    "# Descriptors\n",
    "\n",
    "... or \"ever wonder how `@property`, `@classmethod`, and `@staticmethod` work?\"\n",
    "\n",
    "**Descriptors** are object which contain one or more of the following magic methods, and which occur in a class body:\n",
    "\n",
    "- `__get__(self, object, type)` - called when the descriptor attribute is looked up (e.g. `getattr()`)\n",
    "- `__set__(self, object, value)` - called when the descriptor attribute is set (e.g. `setattr()`)\n",
    "- `__delete__(self, object)` - called when the descriptor attribute is deleted (e.g. `delattr()` or `del obj.attr`)"
   ]
  },
  {
   "cell_type": "code",
   "execution_count": 115,
   "metadata": {},
   "outputs": [],
   "source": [
    "class MyDesc:\n",
    "    \n",
    "    def __get__(self, obj, typ):\n",
    "        print(f'Calling __get__({self}, {obj}, {typ})')\n",
    "        if obj is None:\n",
    "            return self\n",
    "\n",
    "    def __set__(self, obj, value):\n",
    "        print(f'Calling __set__({self}, {obj}, {value})')\n",
    "\n",
    "    def __delete__(self, obj):\n",
    "        print(f'Calling __del__({self}, {obj})')\n",
    "\n",
    "        \n",
    "class MyClass:\n",
    "    a = MyDesc()\n",
    "    \n",
    "    def __repr__(self):\n",
    "        return '<Instance of MyClass>'\n"
   ]
  },
  {
   "cell_type": "code",
   "execution_count": 118,
   "metadata": {},
   "outputs": [],
   "source": [
    "myobj = MyClass()"
   ]
  },
  {
   "cell_type": "code",
   "execution_count": 119,
   "metadata": {},
   "outputs": [
    {
     "name": "stdout",
     "output_type": "stream",
     "text": [
      "Calling __get__(<__main__.MyDesc object at 0x103f41290>, None, <class '__main__.MyClass'>)\n"
     ]
    },
    {
     "data": {
      "text/plain": [
       "<__main__.MyDesc at 0x103f41290>"
      ]
     },
     "execution_count": 119,
     "metadata": {},
     "output_type": "execute_result"
    }
   ],
   "source": [
    "MyClass.a"
   ]
  },
  {
   "cell_type": "code",
   "execution_count": 120,
   "metadata": {},
   "outputs": [
    {
     "name": "stdout",
     "output_type": "stream",
     "text": [
      "Calling __get__(<__main__.MyDesc object at 0x103f41290>, <Instance of MyClass>, <class '__main__.MyClass'>)\n"
     ]
    }
   ],
   "source": [
    "myobj.a"
   ]
  },
  {
   "cell_type": "code",
   "execution_count": 121,
   "metadata": {},
   "outputs": [],
   "source": [
    "# MyClass.a = 5  # Overwrites the descriptor, so don't do this"
   ]
  },
  {
   "cell_type": "code",
   "execution_count": 122,
   "metadata": {},
   "outputs": [
    {
     "name": "stdout",
     "output_type": "stream",
     "text": [
      "Calling __set__(<__main__.MyDesc object at 0x103f41290>, <Instance of MyClass>, 20)\n"
     ]
    }
   ],
   "source": [
    "myobj.a = 20"
   ]
  },
  {
   "cell_type": "code",
   "execution_count": 123,
   "metadata": {},
   "outputs": [
    {
     "name": "stdout",
     "output_type": "stream",
     "text": [
      "Calling __del__(<__main__.MyDesc object at 0x103f41290>, <Instance of MyClass>)\n"
     ]
    }
   ],
   "source": [
    "del myobj.a"
   ]
  },
  {
   "cell_type": "markdown",
   "metadata": {},
   "source": [
    "Let's re-implement @property:"
   ]
  },
  {
   "cell_type": "code",
   "execution_count": 129,
   "metadata": {},
   "outputs": [],
   "source": [
    "class myproperty():\n",
    "\n",
    "    def __init__(self, getter, setter=None, deleter=None):\n",
    "        self._getter = getter\n",
    "        self._setter = setter\n",
    "        self._deleter = deleter\n",
    "        \n",
    "    def __get__(self, obj, typ):\n",
    "        if obj is None:\n",
    "            return self\n",
    "        return self._getter(obj)\n",
    "    \n",
    "    def __set__(self, obj, value):\n",
    "        if self._setter is None:\n",
    "            raise TypeError('value is read-only')\n",
    "        self._setter(obj, value)\n",
    "        \n",
    "    def __delete__(self, obj):\n",
    "        if self._deleter is None:\n",
    "            raise TypeError('value is undeleteable')\n",
    "        self._deleter(obj)\n",
    "        \n",
    "    def setter(self, setter):\n",
    "        \"\"\"Descorator to add a setter\"\"\"\n",
    "        self._setter = setter\n",
    "        return self\n",
    "        \n",
    "            "
   ]
  },
  {
   "cell_type": "code",
   "execution_count": 130,
   "metadata": {},
   "outputs": [],
   "source": [
    "class Foo():\n",
    "    \n",
    "    @myproperty\n",
    "    def bar(self):\n",
    "        print('Calling getter for bar')\n",
    "        return 'barval'\n",
    "    \n",
    "    @bar.setter\n",
    "    def bar(self, value):\n",
    "        print('Calling setter for bar')\n",
    "        \n",
    "foo = Foo()"
   ]
  },
  {
   "cell_type": "code",
   "execution_count": 131,
   "metadata": {},
   "outputs": [
    {
     "name": "stdout",
     "output_type": "stream",
     "text": [
      "Calling getter for bar\n"
     ]
    },
    {
     "data": {
      "text/plain": [
       "'barval'"
      ]
     },
     "execution_count": 131,
     "metadata": {},
     "output_type": "execute_result"
    }
   ],
   "source": [
    "foo.bar"
   ]
  },
  {
   "cell_type": "code",
   "execution_count": 132,
   "metadata": {},
   "outputs": [
    {
     "name": "stdout",
     "output_type": "stream",
     "text": [
      "Calling setter for bar\n"
     ]
    }
   ],
   "source": [
    "foo.bar = 10"
   ]
  },
  {
   "cell_type": "code",
   "execution_count": 133,
   "metadata": {},
   "outputs": [
    {
     "ename": "TypeError",
     "evalue": "value is undeleteable",
     "output_type": "error",
     "traceback": [
      "\u001b[0;31m---------------------------------------------------------------------------\u001b[0m",
      "\u001b[0;31mTypeError\u001b[0m                                 Traceback (most recent call last)",
      "\u001b[0;32m<ipython-input-133-117e5e62e7c1>\u001b[0m in \u001b[0;36m<module>\u001b[0;34m\u001b[0m\n\u001b[0;32m----> 1\u001b[0;31m \u001b[0;32mdel\u001b[0m \u001b[0mfoo\u001b[0m\u001b[0;34m.\u001b[0m\u001b[0mbar\u001b[0m\u001b[0;34m\u001b[0m\u001b[0;34m\u001b[0m\u001b[0m\n\u001b[0m",
      "\u001b[0;32m<ipython-input-129-d14bcd32384a>\u001b[0m in \u001b[0;36m__delete__\u001b[0;34m(self, obj)\u001b[0m\n\u001b[1;32m     18\u001b[0m     \u001b[0;32mdef\u001b[0m \u001b[0m__delete__\u001b[0m\u001b[0;34m(\u001b[0m\u001b[0mself\u001b[0m\u001b[0;34m,\u001b[0m \u001b[0mobj\u001b[0m\u001b[0;34m)\u001b[0m\u001b[0;34m:\u001b[0m\u001b[0;34m\u001b[0m\u001b[0;34m\u001b[0m\u001b[0m\n\u001b[1;32m     19\u001b[0m         \u001b[0;32mif\u001b[0m \u001b[0mself\u001b[0m\u001b[0;34m.\u001b[0m\u001b[0m_deleter\u001b[0m \u001b[0;32mis\u001b[0m \u001b[0;32mNone\u001b[0m\u001b[0;34m:\u001b[0m\u001b[0;34m\u001b[0m\u001b[0;34m\u001b[0m\u001b[0m\n\u001b[0;32m---> 20\u001b[0;31m             \u001b[0;32mraise\u001b[0m \u001b[0mTypeError\u001b[0m\u001b[0;34m(\u001b[0m\u001b[0;34m'value is undeleteable'\u001b[0m\u001b[0;34m)\u001b[0m\u001b[0;34m\u001b[0m\u001b[0;34m\u001b[0m\u001b[0m\n\u001b[0m\u001b[1;32m     21\u001b[0m         \u001b[0mself\u001b[0m\u001b[0;34m.\u001b[0m\u001b[0m_deleter\u001b[0m\u001b[0;34m(\u001b[0m\u001b[0mobj\u001b[0m\u001b[0;34m)\u001b[0m\u001b[0;34m\u001b[0m\u001b[0;34m\u001b[0m\u001b[0m\n\u001b[1;32m     22\u001b[0m \u001b[0;34m\u001b[0m\u001b[0m\n",
      "\u001b[0;31mTypeError\u001b[0m: value is undeleteable"
     ]
    }
   ],
   "source": [
    "del foo.bar"
   ]
  },
  {
   "cell_type": "code",
   "execution_count": 134,
   "metadata": {},
   "outputs": [
    {
     "data": {
      "text/plain": [
       "<__main__.myproperty at 0x103f4a9d0>"
      ]
     },
     "execution_count": 134,
     "metadata": {},
     "output_type": "execute_result"
    }
   ],
   "source": [
    "Foo.bar"
   ]
  },
  {
   "cell_type": "markdown",
   "metadata": {},
   "source": [
    "## Descriptor types\n",
    "\n",
    "- A **data descriptor** is a descriptor that defines both `__get__` and `__set__`\n",
    "- A **non-data descriptor** is a descriptor that defines only `__get__`\n",
    "\n",
    "> Data and non-data descriptors differ in how overrides are calculated with respect to entries in an instance’s dictionary. If an instance’s dictionary has an entry with the same name as a data descriptor, the data descriptor takes precedence. If an instance’s dictionary has an entry with the same name as a non-data descriptor, the dictionary entry takes precedence.\n",
    "\n",
    "So order of precedence in attribute access is:\n",
    "\n",
    "- data descriptor\n",
    "- instance `__dict__`\n",
    "- non-data descriptor"
   ]
  },
  {
   "cell_type": "code",
   "execution_count": 135,
   "metadata": {},
   "outputs": [],
   "source": [
    "class Foo(): \n",
    "    pass\n",
    "\n",
    "foo = Foo()\n",
    "foo.a = 5"
   ]
  },
  {
   "cell_type": "code",
   "execution_count": 136,
   "metadata": {},
   "outputs": [
    {
     "data": {
      "text/plain": [
       "{'a': 5}"
      ]
     },
     "execution_count": 136,
     "metadata": {},
     "output_type": "execute_result"
    }
   ],
   "source": [
    "foo.__dict__"
   ]
  },
  {
   "cell_type": "code",
   "execution_count": 137,
   "metadata": {},
   "outputs": [],
   "source": [
    "class DataDescriptor():\n",
    "    \n",
    "    def __get__(self, object, type):\n",
    "        if object is None:\n",
    "            return self\n",
    "        return 'data descriptor value'\n",
    "    \n",
    "    def __set__(self, object, value):\n",
    "        # Just make it a read-only data descriptor\n",
    "        raise TypeError('read-only property')"
   ]
  },
  {
   "cell_type": "code",
   "execution_count": 138,
   "metadata": {},
   "outputs": [],
   "source": [
    "class NonDataDescriptor():\n",
    "    \n",
    "    def __get__(self, object, type):\n",
    "        if object is None:\n",
    "            return self\n",
    "        return 'non-data descriptor value'\n",
    "        "
   ]
  },
  {
   "cell_type": "code",
   "execution_count": 139,
   "metadata": {},
   "outputs": [],
   "source": [
    "class MyClass():\n",
    "    data = DataDescriptor()\n",
    "    nondata = NonDataDescriptor()"
   ]
  },
  {
   "cell_type": "code",
   "execution_count": 140,
   "metadata": {},
   "outputs": [],
   "source": [
    "obj = MyClass()\n",
    "obj.__dict__.update(\n",
    "    data='instance data',\n",
    "    nondata='instance nondata'\n",
    ")"
   ]
  },
  {
   "cell_type": "markdown",
   "metadata": {},
   "source": [
    "Data descriptors have precedence over instance data:"
   ]
  },
  {
   "cell_type": "code",
   "execution_count": 141,
   "metadata": {},
   "outputs": [
    {
     "data": {
      "text/plain": [
       "'data descriptor value'"
      ]
     },
     "execution_count": 141,
     "metadata": {},
     "output_type": "execute_result"
    }
   ],
   "source": [
    "obj.data"
   ]
  },
  {
   "cell_type": "markdown",
   "metadata": {},
   "source": [
    "Instance data has precendence over non-data descriptors:"
   ]
  },
  {
   "cell_type": "code",
   "execution_count": 142,
   "metadata": {},
   "outputs": [
    {
     "data": {
      "text/plain": [
       "'instance nondata'"
      ]
     },
     "execution_count": 142,
     "metadata": {},
     "output_type": "execute_result"
    }
   ],
   "source": [
    "obj.nondata"
   ]
  },
  {
   "cell_type": "markdown",
   "metadata": {},
   "source": [
    "## Descriptor use case: cached property"
   ]
  },
  {
   "cell_type": "code",
   "execution_count": 143,
   "metadata": {},
   "outputs": [],
   "source": [
    "class cached_property:\n",
    "    \n",
    "    def __init__(self, getter):\n",
    "        self._getter = getter\n",
    "        self._name = getter.__name__\n",
    "    \n",
    "    def __get__(self, obj, typ):\n",
    "        if obj is None:\n",
    "            return self\n",
    "        value = self._getter(obj)\n",
    "        setattr(obj, self._name, value) # put the value in the instance __dict__\n",
    "        return value"
   ]
  },
  {
   "cell_type": "code",
   "execution_count": 144,
   "metadata": {},
   "outputs": [],
   "source": [
    "class CachedExample:\n",
    "    \n",
    "    @cached_property\n",
    "    def prop(self):\n",
    "        print('Calculating CachedExample.prop')\n",
    "        return 42"
   ]
  },
  {
   "cell_type": "code",
   "execution_count": 150,
   "metadata": {},
   "outputs": [],
   "source": [
    "ce = CachedExample()"
   ]
  },
  {
   "cell_type": "code",
   "execution_count": 151,
   "metadata": {},
   "outputs": [
    {
     "name": "stdout",
     "output_type": "stream",
     "text": [
      "Calculating CachedExample.prop\n"
     ]
    },
    {
     "data": {
      "text/plain": [
       "42"
      ]
     },
     "execution_count": 151,
     "metadata": {},
     "output_type": "execute_result"
    }
   ],
   "source": [
    "ce.prop # adds prop to ce.__dict__"
   ]
  },
  {
   "cell_type": "code",
   "execution_count": 152,
   "metadata": {},
   "outputs": [
    {
     "data": {
      "text/plain": [
       "42"
      ]
     },
     "execution_count": 152,
     "metadata": {},
     "output_type": "execute_result"
    }
   ],
   "source": [
    "ce.prop  # Since prop is non-data descriptor, it is not even accessed here"
   ]
  },
  {
   "cell_type": "markdown",
   "metadata": {},
   "source": [
    "In \"real life\", this is implemented in `functools.cached_property` (in Python 3.8+)"
   ]
  },
  {
   "cell_type": "markdown",
   "metadata": {},
   "source": [
    "Open [Advanced OOP Lab](./advanced-oop-lab.ipynb)"
   ]
  },
  {
   "cell_type": "code",
   "execution_count": null,
   "metadata": {},
   "outputs": [],
   "source": []
  }
 ],
 "metadata": {
  "kernelspec": {
   "display_name": "Python 3",
   "language": "python",
   "name": "python3"
  },
  "language_info": {
   "codemirror_mode": {
    "name": "ipython",
    "version": 3
   },
   "file_extension": ".py",
   "mimetype": "text/x-python",
   "name": "python",
   "nbconvert_exporter": "python",
   "pygments_lexer": "ipython3",
   "version": "3.7.6"
  }
 },
 "nbformat": 4,
 "nbformat_minor": 1
}
