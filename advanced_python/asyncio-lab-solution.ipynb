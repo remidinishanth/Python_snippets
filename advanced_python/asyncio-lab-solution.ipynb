{
 "cells": [
  {
   "cell_type": "markdown",
   "metadata": {},
   "source": [
    "# Lab\n",
    "\n",
    "Using the following code as a basis, use async methods to fetch the temperatures in the given cities:"
   ]
  },
  {
   "cell_type": "code",
   "execution_count": 1,
   "metadata": {},
   "outputs": [],
   "source": [
    "APPID = '10d4440bbaa8581bb8da9bd1fbea5617'\n",
    "UNITS = 'metric'\n",
    "cities = [\n",
    "    'Boulder', 'Atlanta', 'San Francisco',\n",
    "    'Reno', 'Honolulu', 'Zurich', 'Dubai',\n",
    "    'Dublin','Stuttgart', 'Rome', 'Singapore', \n",
    "    'Bangalore', 'Hyderabad', 'Seattle',\n",
    "]\n",
    "\n",
    "from aiohttp_requests import requests\n",
    "\n",
    "async def get_temp(city, temps, units=UNITS, appid=APPID):\n",
    "    url = 'http://api.openweathermap.org/data/2.5/weather'\n",
    "    resp = await requests.get(url, params={\n",
    "        'q': city,\n",
    "        'units': units,\n",
    "        'appid': appid,        \n",
    "    })\n",
    "    json_data = await resp.json()\n",
    "    temp = json_data['main']['temp']\n",
    "    temps[city] = temp\n",
    "    return temp\n",
    "    \n",
    "    "
   ]
  },
  {
   "cell_type": "code",
   "execution_count": 2,
   "metadata": {},
   "outputs": [],
   "source": [
    "import asyncio\n",
    "\n",
    "temps = {}\n",
    "coroutines = [get_temp(city, temps) for city in cities]\n",
    "result = await asyncio.gather(*coroutines)"
   ]
  },
  {
   "cell_type": "code",
   "execution_count": 4,
   "metadata": {},
   "outputs": [
    {
     "data": {
      "text/plain": [
       "{'Atlanta': 13.26,\n",
       " 'Reno': 2.87,\n",
       " 'Boulder': 2.54,\n",
       " 'Honolulu': 21.95,\n",
       " 'San Francisco': 9.93,\n",
       " 'Zurich': -0.12,\n",
       " 'Dublin': 10.05,\n",
       " 'Dubai': 22.45,\n",
       " 'Rome': 12.83,\n",
       " 'Stuttgart': 0.94,\n",
       " 'Singapore': 32.05,\n",
       " 'Bangalore': 31.78,\n",
       " 'Hyderabad': 33.96,\n",
       " 'Seattle': 4.93}"
      ]
     },
     "execution_count": 4,
     "metadata": {},
     "output_type": "execute_result"
    }
   ],
   "source": [
    "temps"
   ]
  },
  {
   "cell_type": "code",
   "execution_count": 6,
   "metadata": {},
   "outputs": [
    {
     "data": {
      "text/plain": [
       "{'Boulder': 2.54,\n",
       " 'Atlanta': 13.26,\n",
       " 'San Francisco': 9.93,\n",
       " 'Reno': 2.87,\n",
       " 'Honolulu': 21.95,\n",
       " 'Zurich': -0.12,\n",
       " 'Dubai': 22.45,\n",
       " 'Dublin': 10.05,\n",
       " 'Stuttgart': 0.94,\n",
       " 'Rome': 12.83,\n",
       " 'Singapore': 32.05,\n",
       " 'Bangalore': 31.78,\n",
       " 'Hyderabad': 33.96,\n",
       " 'Seattle': 4.93}"
      ]
     },
     "execution_count": 6,
     "metadata": {},
     "output_type": "execute_result"
    }
   ],
   "source": [
    "dict(zip(cities, result))"
   ]
  },
  {
   "cell_type": "code",
   "execution_count": null,
   "metadata": {},
   "outputs": [],
   "source": []
  }
 ],
 "metadata": {
  "kernelspec": {
   "display_name": "Python 3",
   "language": "python",
   "name": "python3"
  },
  "language_info": {
   "codemirror_mode": {
    "name": "ipython",
    "version": 3
   },
   "file_extension": ".py",
   "mimetype": "text/x-python",
   "name": "python",
   "nbconvert_exporter": "python",
   "pygments_lexer": "ipython3",
   "version": "3.7.6"
  }
 },
 "nbformat": 4,
 "nbformat_minor": 2
}
