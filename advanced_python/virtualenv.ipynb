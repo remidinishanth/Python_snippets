{
 "cells": [
  {
   "cell_type": "markdown",
   "metadata": {},
   "source": [
    "# Using Virtual Environments\n",
    "\n",
    "- Difference between virtual environments (virtualenv or venv), containers, and virtual machines\n",
    "- Creating a virtual environment\n",
    "- Activating and deactivating virtualenvs\n",
    "- Installing packages in a virtual environment\n",
    "- Using requirements.txt files for reproducability\n",
    "- Using wheels for faster installations\n",
    "- Cleaning up virtualenvs"
   ]
  },
  {
   "cell_type": "markdown",
   "metadata": {},
   "source": [
    "# Virtual Machines, Containers, and Virtualenvs\n",
    "\n",
    "## Virtual Machine\n",
    "\n",
    "- Isolated image (\"guest\") of a computer running its own operating system\n",
    "- Can have different OS than the host\n",
    "- Examples: vmware, virtualbox, Amazon EC2\n",
    "\n",
    "## Container\n",
    "\n",
    "- Partially isolated environment that shares the operating system with the host\n",
    "- Same OS kernel as host, but with potentially different users/libraries/networks/etc. and system limits\n",
    "- Examples: Docker, Heroku, Amazon ECS\n",
    "\n",
    "## Virtualenv\n",
    "\n",
    "- Partially isolated **python** environment running in the same OS as the 'host'\n",
    "- **Only** Python packages and environment are isolated:  basically a \"private copy of Python\"\n",
    "- No _security_ isolation from host OS: a program running inside a virtualenv can do whatever a program running outside a virtualenv can do\n",
    "- Similar to local `node_modules` subfolder in a project for Javascript developers"
   ]
  },
  {
   "cell_type": "markdown",
   "metadata": {},
   "source": [
    "# Why Virtualenvs?\n",
    "\n",
    "- **Dependency management** - If two different Python applications require two different versions of the same package, running each app in its own virtualenv allows both versions to be available to their respective applications\n",
    "- **Keeps your system Python pristine** - Many OSes use Python to implement some of the OS tooling (RedHat in particular). This often results in an older version of Python, or particuar versions of Python packages installed globally that you *should not modify* if you want your system tools to keep working.\n",
    "- **Helps with reproducibility** - Virtualenvs allow you to note the versions of all packages installed in your venv in order to recreate the virtualenv on another machine. This prevents the \"Works on My Machine\" certification."
   ]
  },
  {
   "cell_type": "markdown",
   "metadata": {},
   "source": [
    "# Creating a virtualenv\n",
    "\n",
    "\n",
    "## Installing virtualenv\n",
    "\n",
    "Since Python 3.3, Python has included a tool to create virtual environments called `venv` in the standard library. \n",
    "\n",
    "If, however, you are developing on Ubuntu, you must separately install it anyway with `apt-get install python-venv`.\n",
    "\n"
   ]
  },
  {
   "cell_type": "markdown",
   "metadata": {},
   "source": [
    "## Creating the virtualenv\n",
    "\n",
    "To create a virtual environment, you invoke the `venv` module with the virtualenv name:\n",
    "\n",
    "```shell\n",
    "$ python -m venv env-folder\n",
    "```\n",
    "\n",
    "This command\n",
    "\n",
    "- creates a folder named `env-folder`\n",
    "- copies the Python you used to invoke `venv` into that folder\n",
    "- creates a couple of helper scripts inside env-folder to activate/deactivate the virtualenv"
   ]
  },
  {
   "cell_type": "code",
   "execution_count": 1,
   "metadata": {},
   "outputs": [
    {
     "name": "stdout",
     "output_type": "stream",
     "text": [
      "/Users/rick446/.virtualenvs/py37/bin/python\r\n"
     ]
    }
   ],
   "source": [
    "!which python"
   ]
  },
  {
   "cell_type": "code",
   "execution_count": 2,
   "metadata": {},
   "outputs": [],
   "source": [
    "!python -m venv data/env-folder"
   ]
  },
  {
   "cell_type": "markdown",
   "metadata": {},
   "source": [
    "We can see the directory structure that the virtual environment created with the `tree` command. If you don't have `tree`, you can install it on a Mac using homebrew:\n",
    "\n",
    "```bash\n",
    "$ brew install tree\n",
    "```"
   ]
  },
  {
   "cell_type": "code",
   "execution_count": 3,
   "metadata": {},
   "outputs": [
    {
     "name": "stdout",
     "output_type": "stream",
     "text": [
      "data/env-folder\r\n",
      "├── bin\r\n",
      "├── include\r\n",
      "└── lib\r\n",
      "    └── python3.7\r\n",
      "        └── site-packages\r\n",
      "            ├── __pycache__\r\n",
      "            ├── pip\r\n",
      "            │   ├── __pycache__\r\n",
      "            │   ├── _internal\r\n",
      "            │   │   ├── __pycache__\r\n",
      "            │   │   ├── cli\r\n",
      "            │   │   │   └── __pycache__\r\n",
      "            │   │   ├── commands\r\n",
      "            │   │   │   └── __pycache__\r\n",
      "            │   │   ├── distributions\r\n",
      "            │   │   │   └── __pycache__\r\n",
      "            │   │   ├── models\r\n",
      "            │   │   │   └── __pycache__\r\n",
      "            │   │   ├── operations\r\n",
      "            │   │   │   └── __pycache__\r\n",
      "            │   │   ├── req\r\n",
      "            │   │   │   └── __pycache__\r\n",
      "            │   │   ├── utils\r\n",
      "            │   │   │   └── __pycache__\r\n",
      "            │   │   └── vcs\r\n",
      "            │   │       └── __pycache__\r\n",
      "            │   └── _vendor\r\n",
      "            │       ├── __pycache__\r\n",
      "            │       ├── cachecontrol\r\n",
      "            │       │   ├── __pycache__\r\n",
      "            │       │   └── caches\r\n",
      "            │       │       └── __pycache__\r\n",
      "            │       ├── certifi\r\n",
      "            │       │   └── __pycache__\r\n",
      "            │       ├── chardet\r\n",
      "            │       │   ├── __pycache__\r\n",
      "            │       │   └── cli\r\n",
      "            │       │       └── __pycache__\r\n",
      "            │       ├── colorama\r\n",
      "            │       │   └── __pycache__\r\n",
      "            │       ├── distlib\r\n",
      "            │       │   ├── __pycache__\r\n",
      "            │       │   └── _backport\r\n",
      "            │       │       └── __pycache__\r\n",
      "            │       ├── html5lib\r\n",
      "            │       │   ├── __pycache__\r\n",
      "            │       │   ├── _trie\r\n",
      "            │       │   │   └── __pycache__\r\n",
      "            │       │   ├── filters\r\n",
      "            │       │   │   └── __pycache__\r\n",
      "            │       │   ├── treeadapters\r\n",
      "            │       │   │   └── __pycache__\r\n",
      "            │       │   ├── treebuilders\r\n",
      "            │       │   │   └── __pycache__\r\n",
      "            │       │   └── treewalkers\r\n",
      "            │       │       └── __pycache__\r\n",
      "            │       ├── idna\r\n",
      "            │       │   └── __pycache__\r\n",
      "            │       ├── lockfile\r\n",
      "            │       │   └── __pycache__\r\n",
      "            │       ├── msgpack\r\n",
      "            │       │   └── __pycache__\r\n",
      "            │       ├── packaging\r\n",
      "            │       │   └── __pycache__\r\n",
      "            │       ├── pep517\r\n",
      "            │       │   └── __pycache__\r\n",
      "            │       ├── pkg_resources\r\n",
      "            │       │   └── __pycache__\r\n",
      "            │       ├── progress\r\n",
      "            │       │   └── __pycache__\r\n",
      "            │       ├── pytoml\r\n",
      "            │       │   └── __pycache__\r\n",
      "            │       ├── requests\r\n",
      "            │       │   └── __pycache__\r\n",
      "            │       ├── urllib3\r\n",
      "            │       │   ├── __pycache__\r\n",
      "            │       │   ├── contrib\r\n",
      "            │       │   │   ├── __pycache__\r\n",
      "            │       │   │   └── _securetransport\r\n",
      "            │       │   │       └── __pycache__\r\n",
      "            │       │   ├── packages\r\n",
      "            │       │   │   ├── __pycache__\r\n",
      "            │       │   │   ├── backports\r\n",
      "            │       │   │   │   └── __pycache__\r\n",
      "            │       │   │   ├── rfc3986\r\n",
      "            │       │   │   │   └── __pycache__\r\n",
      "            │       │   │   └── ssl_match_hostname\r\n",
      "            │       │   │       └── __pycache__\r\n",
      "            │       │   └── util\r\n",
      "            │       │       └── __pycache__\r\n",
      "            │       └── webencodings\r\n",
      "            │           └── __pycache__\r\n",
      "            ├── pip-19.2.3.dist-info\r\n",
      "            ├── pkg_resources\r\n",
      "            │   ├── __pycache__\r\n",
      "            │   ├── _vendor\r\n",
      "            │   │   ├── __pycache__\r\n",
      "            │   │   └── packaging\r\n",
      "            │   │       └── __pycache__\r\n",
      "            │   └── extern\r\n",
      "            │       └── __pycache__\r\n",
      "            ├── setuptools\r\n",
      "            │   ├── __pycache__\r\n",
      "            │   ├── _vendor\r\n",
      "            │   │   ├── __pycache__\r\n",
      "            │   │   └── packaging\r\n",
      "            │   │       └── __pycache__\r\n",
      "            │   ├── command\r\n",
      "            │   │   └── __pycache__\r\n",
      "            │   └── extern\r\n",
      "            │       └── __pycache__\r\n",
      "            └── setuptools-41.2.0.dist-info\r\n",
      "\r\n",
      "112 directories\r\n"
     ]
    }
   ],
   "source": [
    "!tree -d data/env-folder"
   ]
  },
  {
   "cell_type": "code",
   "execution_count": 4,
   "metadata": {},
   "outputs": [
    {
     "name": "stdout",
     "output_type": "stream",
     "text": [
      "activate          \u001b[31measy_install\u001b[m\u001b[m*     \u001b[31mpip3\u001b[m\u001b[m*             \u001b[35mpython3\u001b[m\u001b[m@\r\n",
      "activate.csh      \u001b[31measy_install-3.7\u001b[m\u001b[m* \u001b[31mpip3.7\u001b[m\u001b[m*\r\n",
      "activate.fish     \u001b[31mpip\u001b[m\u001b[m*              \u001b[35mpython\u001b[m\u001b[m@\r\n"
     ]
    }
   ],
   "source": [
    "ls data/env-folder/bin"
   ]
  },
  {
   "cell_type": "markdown",
   "metadata": {},
   "source": [
    "### (windows note)\n",
    "\n",
    "If you are using Windows, there should be a `Scripts` folder under the environment folder instead of `bin`, and it should contain an `activate.bat` file."
   ]
  },
  {
   "cell_type": "markdown",
   "metadata": {},
   "source": [
    "You can invoke the Python in your new virtualenv by specifying the full path:"
   ]
  },
  {
   "cell_type": "code",
   "execution_count": 5,
   "metadata": {},
   "outputs": [
    {
     "name": "stdout",
     "output_type": "stream",
     "text": [
      "Python 3.7.6\r\n"
     ]
    }
   ],
   "source": [
    "!data/env-folder/bin/python --version"
   ]
  },
  {
   "cell_type": "code",
   "execution_count": 6,
   "metadata": {},
   "outputs": [
    {
     "name": "stdout",
     "output_type": "stream",
     "text": [
      "/Users/rick446/src/arborian-classes/data/env-folder/bin/python\r\n"
     ]
    }
   ],
   "source": [
    "!data/env-folder/bin/python -c 'import sys; print(sys.executable)'"
   ]
  },
  {
   "cell_type": "markdown",
   "metadata": {},
   "source": [
    "## Activating virtual environments\n",
    "\n",
    "More commonly, we will *activate* the virtualenv for our current shell by `source`-ing the `activate` script\n",
    "\n",
    "### Linux\n",
    "\n",
    "```shell\n",
    "$ source env-folder/bin/activate\n",
    "(env-folder) $\n",
    "```\n",
    "\n",
    "or\n",
    "\n",
    "```shell\n",
    "$ . env-folder/bin/activate\n",
    "(env-folder) $\n",
    "```\n",
    "\n",
    "### Windows\n",
    "\n",
    "```shell\n",
    "c:\\...> env-folder\\Scripts\\activate.bat\n",
    "(env-folder) c:\\...>\n",
    "```\n",
    "\n",
    "Activating the virtualenv does a few things to your *current shell/terminal window only*:\n",
    "\n",
    "- Puts the virtualenv's executable folder (`bin` or `Scripts`) at the beginning of your path so the virtualenv python will be picked up automatically\n",
    "- Changes your prompt so you see that you are in the virtualenv\n",
    "- Makes a `deactivate` command available to undo the changes"
   ]
  },
  {
   "cell_type": "markdown",
   "metadata": {},
   "source": [
    "## Deactivating virtual environments\n",
    "\n",
    "### Linux\n",
    "\n",
    "```shell\n",
    "(env-folder) $ deactivate\n",
    "$\n",
    "```\n",
    "\n",
    "### Windows\n",
    "\n",
    "```shell\n",
    "(env-folder) c:\\...> deactivate\n",
    "c:\\...> \n",
    "```\n"
   ]
  },
  {
   "cell_type": "code",
   "execution_count": 7,
   "metadata": {},
   "outputs": [
    {
     "name": "stdout",
     "output_type": "stream",
     "text": [
      "/Users/rick446/src/arborian-classes/src/data/env-folder/bin/python\n",
      "My prompt is now (env-folder)\n",
      "/Users/rick446/src/arborian-classes/data/env-folder/bin/python\n",
      "/Users/rick446/.virtualenvs/py37/bin/python\n",
      "/Users/rick446/.virtualenvs/py37/bin/python\n"
     ]
    }
   ],
   "source": [
    "%%bash\n",
    "source data/env-folder/bin/activate\n",
    "which python\n",
    "echo My prompt is now $PS1\n",
    "python -c 'import sys; print(sys.executable)'\n",
    "deactivate\n",
    "which python\n",
    "python -c 'import sys; print(sys.executable)'"
   ]
  },
  {
   "cell_type": "markdown",
   "metadata": {},
   "source": [
    "# Installing packages in virtual environments\n",
    "\n",
    "When the virtual environment is activated, or when you invoke the version of Python in the virtualenv, you can install third-party packages into the virtualenv without modifying your system Python:"
   ]
  },
  {
   "cell_type": "code",
   "execution_count": 8,
   "metadata": {},
   "outputs": [
    {
     "name": "stdout",
     "output_type": "stream",
     "text": [
      "/Users/rick446/src/arborian-classes/src/data/env-folder/bin/python\n",
      "Looking in links: /Users/rick446/src/wheelhouse\n",
      "Collecting pip\n",
      "Installing collected packages: pip\n",
      "  Found existing installation: pip 19.2.3\n",
      "    Uninstalling pip-19.2.3:\n",
      "      Successfully uninstalled pip-19.2.3\n",
      "Successfully installed pip-20.0.2\n",
      "Looking in links: /Users/rick446/src/wheelhouse\n",
      "Collecting numpy\n",
      "  Downloading numpy-1.18.2-cp37-cp37m-macosx_10_9_x86_64.whl (15.1 MB)\n",
      "Installing collected packages: numpy\n",
      "Successfully installed numpy-1.18.2\n",
      "<module 'numpy' from '/Users/rick446/src/arborian-classes/data/env-folder/lib/python3.7/site-packages/numpy/__init__.py'>\n"
     ]
    }
   ],
   "source": [
    "%%bash\n",
    "set -e\n",
    "source data/env-folder/bin/activate\n",
    "which python\n",
    "pip install -U pip\n",
    "python -m pip install numpy\n",
    "python -c 'import numpy; print(numpy)'"
   ]
  },
  {
   "cell_type": "markdown",
   "metadata": {},
   "source": [
    "# Using requirements.txt for reproducibility\n",
    "\n",
    "Once you have your app in your virtualenv running, you may need to reproduce the virtualenv on another machine. \n",
    "`pip` has a command `freeze` which outputs the exact versions of all packages installed in a virtualenv:"
   ]
  },
  {
   "cell_type": "code",
   "execution_count": 9,
   "metadata": {},
   "outputs": [
    {
     "name": "stdout",
     "output_type": "stream",
     "text": [
      "-f /Users/rick446/src/wheelhouse\n",
      "numpy==1.18.2\n"
     ]
    }
   ],
   "source": [
    "%%bash\n",
    "set -e\n",
    "source data/env-folder/bin/activate\n",
    "python -m pip freeze"
   ]
  },
  {
   "cell_type": "markdown",
   "metadata": {},
   "source": [
    "Normally, we'll put this into a file `requirements.txt` that we check into source control and distribute with our project:"
   ]
  },
  {
   "cell_type": "code",
   "execution_count": 10,
   "metadata": {},
   "outputs": [],
   "source": [
    "%%bash\n",
    "set -e\n",
    "source data/env-folder/bin/activate\n",
    "pip freeze > data/requirements.txt"
   ]
  },
  {
   "cell_type": "markdown",
   "metadata": {},
   "source": [
    "Once we have the requirements.txt file, we can create a new virtualenv and install all the same versions of packages into it:"
   ]
  },
  {
   "cell_type": "code",
   "execution_count": 11,
   "metadata": {},
   "outputs": [
    {
     "name": "stdout",
     "output_type": "stream",
     "text": [
      "Looking in links: /Users/rick446/src/wheelhouse, /Users/rick446/src/wheelhouse\n",
      "Collecting numpy==1.18.2 (from -r data/requirements.txt (line 2))\n",
      "  Using cached https://files.pythonhosted.org/packages/81/14/6d7c914dac1cb2b596d2adace4aa4574d20c0789780f1339d535e69e271f/numpy-1.18.2-cp37-cp37m-macosx_10_9_x86_64.whl\n",
      "Installing collected packages: numpy\n",
      "Successfully installed numpy-1.18.2\n"
     ]
    },
    {
     "name": "stderr",
     "output_type": "stream",
     "text": [
      "WARNING: You are using pip version 19.2.3, however version 20.0.2 is available.\n",
      "You should consider upgrading via the 'pip install --upgrade pip' command.\n"
     ]
    }
   ],
   "source": [
    "%%bash\n",
    "set -e\n",
    "python -m venv data/env-folder-2\n",
    "source data/env-folder-2/bin/activate\n",
    "python -m pip install -r data/requirements.txt"
   ]
  },
  {
   "cell_type": "markdown",
   "metadata": {},
   "source": [
    "# Using wheels for faster installations\n",
    "\n",
    "While `pip` tries to cache as much data as possible, we can do even better by using \"wheels.\" \n",
    "\n",
    "Wheels are Python packages that have been compiled (if necessary) for a particular target architecture and are thus much faster to install. \n",
    "\n",
    "If you're moving to a new machine (for instance, when deploying to production) it can also be useful to have the wheels cached locally so `pip` doesn't try to download the packages from the Python Package Index."
   ]
  },
  {
   "cell_type": "code",
   "execution_count": 12,
   "metadata": {},
   "outputs": [
    {
     "name": "stdout",
     "output_type": "stream",
     "text": [
      "Looking in links: /Users/rick446/src/wheelhouse\n",
      "Collecting scipy\n",
      "  Using cached scipy-1.4.1-cp37-cp37m-macosx_10_6_intel.whl (28.4 MB)\n",
      "Processing /Users/rick446/src/wheelhouse/sklearn-0.0-py2.py3-none-any.whl\n",
      "Processing /Users/rick446/src/wheelhouse/jupyter-1.0.0-py2.py3-none-any.whl\n",
      "Collecting simplejson\n",
      "  Using cached simplejson-3.17.0-cp37-cp37m-macosx_10_14_x86_64.whl (73 kB)\n",
      "Collecting pymongo\n",
      "  Using cached pymongo-3.10.1-cp37-cp37m-macosx_10_9_x86_64.whl (350 kB)\n",
      "Collecting boto3\n",
      "  Downloading boto3-1.12.26-py2.py3-none-any.whl (128 kB)\n",
      "Processing /Users/rick446/src/wheelhouse/wheel-0.34.2-py2.py3-none-any.whl\n",
      "Requirement already satisfied: numpy>=1.13.3 in /Users/rick446/src/arborian-classes/data/env-folder/lib/python3.7/site-packages (from scipy) (1.18.2)\n",
      "Collecting scikit-learn\n",
      "  Using cached scikit_learn-0.22.2.post1-cp37-cp37m-macosx_10_9_x86_64.whl (7.1 MB)\n",
      "Processing /Users/rick446/src/wheelhouse/notebook-6.0.3-py3-none-any.whl\n",
      "Processing /Users/rick446/src/wheelhouse/nbconvert-5.6.1-py2.py3-none-any.whl\n",
      "Collecting qtconsole\n",
      "  Using cached qtconsole-4.7.1-py2.py3-none-any.whl (117 kB)\n",
      "Collecting ipykernel\n",
      "  Downloading ipykernel-5.2.0-py3-none-any.whl (117 kB)\n",
      "Processing /Users/rick446/src/wheelhouse/ipywidgets-7.5.1-py2.py3-none-any.whl\n",
      "Processing /Users/rick446/src/wheelhouse/jupyter_console-6.1.0-py2.py3-none-any.whl\n",
      "Collecting botocore<1.16.0,>=1.15.26\n",
      "  Downloading botocore-1.15.26-py2.py3-none-any.whl (6.0 MB)\n",
      "Collecting jmespath<1.0.0,>=0.7.1\n",
      "  Using cached jmespath-0.9.5-py2.py3-none-any.whl (24 kB)\n",
      "Collecting s3transfer<0.4.0,>=0.3.0\n",
      "  Using cached s3transfer-0.3.3-py2.py3-none-any.whl (69 kB)\n",
      "Processing /Users/rick446/src/wheelhouse/joblib-0.14.1-py2.py3-none-any.whl\n",
      "Processing /Users/rick446/src/wheelhouse/Send2Trash-1.5.0-py3-none-any.whl\n",
      "Collecting pyzmq>=17\n",
      "  Using cached pyzmq-19.0.0-cp37-cp37m-macosx_10_9_x86_64.whl (815 kB)\n",
      "Processing /Users/rick446/src/wheelhouse/Jinja2-2.11.1-py2.py3-none-any.whl\n",
      "Collecting jupyter-core>=4.6.1\n",
      "  Using cached jupyter_core-4.6.3-py2.py3-none-any.whl (83 kB)\n",
      "Processing /Users/rick446/src/wheelhouse/ipython_genutils-0.2.0-py2.py3-none-any.whl\n",
      "Collecting jupyter-client>=5.3.4\n",
      "  Downloading jupyter_client-6.1.0-py3-none-any.whl (106 kB)\n",
      "Processing /Users/rick446/src/wheelhouse/terminado-0.8.3-py2.py3-none-any.whl\n",
      "Processing /Users/rick446/Library/Caches/pip/wheels/7d/14/fa/d88fb5da77d813ea0ffca38a2ab2a052874e9e1142bad0b348/tornado-6.0.4-cp37-cp37m-macosx_10_14_x86_64.whl\n",
      "Processing /Users/rick446/src/wheelhouse/traitlets-4.3.3-py2.py3-none-any.whl\n",
      "Processing /Users/rick446/src/wheelhouse/nbformat-5.0.4-py3-none-any.whl\n",
      "Processing /Users/rick446/src/wheelhouse/prometheus_client-0.7.1-py3-none-any.whl\n",
      "Processing /Users/rick446/src/wheelhouse/pandocfilters-1.4.2-py3-none-any.whl\n",
      "Collecting pygments\n",
      "  Using cached Pygments-2.6.1-py3-none-any.whl (914 kB)\n",
      "Processing /Users/rick446/src/wheelhouse/defusedxml-0.6.0-py2.py3-none-any.whl\n",
      "Collecting bleach\n",
      "  Downloading bleach-3.1.3-py2.py3-none-any.whl (151 kB)\n",
      "Processing /Users/rick446/src/wheelhouse/mistune-0.8.4-py2.py3-none-any.whl\n",
      "Processing /Users/rick446/src/wheelhouse/entrypoints-0.3-py2.py3-none-any.whl\n",
      "Processing /Users/rick446/src/wheelhouse/testpath-0.4.4-py2.py3-none-any.whl\n",
      "Collecting qtpy\n",
      "  Using cached QtPy-1.9.0-py2.py3-none-any.whl (54 kB)\n",
      "Processing /Users/rick446/src/wheelhouse/appnope-0.1.0-py2.py3-none-any.whl\n",
      "Collecting ipython>=5.0.0\n",
      "  Using cached ipython-7.13.0-py3-none-any.whl (780 kB)\n",
      "Processing /Users/rick446/src/wheelhouse/widgetsnbextension-3.5.1-py2.py3-none-any.whl\n",
      "Collecting prompt-toolkit!=3.0.0,!=3.0.1,<3.1.0,>=2.0.0\n",
      "  Using cached prompt_toolkit-3.0.4-py3-none-any.whl (351 kB)\n",
      "Processing /Users/rick446/src/wheelhouse/docutils-0.15.2-py3-none-any.whl\n",
      "Processing /Users/rick446/src/wheelhouse/python_dateutil-2.8.1-py2.py3-none-any.whl\n",
      "Processing /Users/rick446/src/wheelhouse/urllib3-1.25.8-py2.py3-none-any.whl\n",
      "Collecting MarkupSafe>=0.23\n",
      "  Using cached MarkupSafe-1.1.1-cp37-cp37m-macosx_10_6_intel.whl (18 kB)\n",
      "Processing /Users/rick446/src/wheelhouse/ptyprocess-0.6.0-py2.py3-none-any.whl\n",
      "Collecting decorator\n",
      "  Using cached decorator-4.4.2-py2.py3-none-any.whl (9.2 kB)\n",
      "Processing /Users/rick446/src/wheelhouse/six-1.14.0-py2.py3-none-any.whl\n",
      "Processing /Users/rick446/src/wheelhouse/jsonschema-3.2.0-py2.py3-none-any.whl\n",
      "Processing /Users/rick446/src/wheelhouse/webencodings-0.5.1-py2.py3-none-any.whl\n",
      "Requirement already satisfied: setuptools>=18.5 in /Users/rick446/src/arborian-classes/data/env-folder/lib/python3.7/site-packages (from ipython>=5.0.0->ipykernel->jupyter) (41.2.0)\n",
      "Processing /Users/rick446/src/wheelhouse/backcall-0.1.0-py3-none-any.whl\n",
      "Processing /Users/rick446/src/wheelhouse/pexpect-4.8.0-py2.py3-none-any.whl\n",
      "Processing /Users/rick446/src/wheelhouse/jedi-0.16.0-py2.py3-none-any.whl\n",
      "Processing /Users/rick446/src/wheelhouse/pickleshare-0.7.5-py2.py3-none-any.whl\n",
      "Collecting wcwidth\n",
      "  Downloading wcwidth-0.1.9-py2.py3-none-any.whl (19 kB)\n",
      "Processing /Users/rick446/src/wheelhouse/attrs-19.3.0-py2.py3-none-any.whl\n",
      "Processing /Users/rick446/Library/Caches/pip/wheels/57/74/e3/61db397ec89f304e49711ec9f68490f15814b80c1c0ee9b8c0/pyrsistent-0.15.7-cp37-cp37m-macosx_10_14_x86_64.whl\n",
      "Collecting importlib-metadata; python_version < \"3.8\"\n",
      "  Using cached importlib_metadata-1.5.0-py2.py3-none-any.whl (30 kB)\n",
      "Collecting parso>=0.5.2\n",
      "  Using cached parso-0.6.2-py2.py3-none-any.whl (97 kB)\n",
      "Collecting zipp>=0.5\n",
      "  Using cached zipp-3.1.0-py3-none-any.whl (4.9 kB)\n",
      "Installing collected packages: scipy, joblib, scikit-learn, sklearn, Send2Trash, pandocfilters, pygments, defusedxml, ipython-genutils, decorator, six, traitlets, attrs, pyrsistent, zipp, importlib-metadata, jsonschema, jupyter-core, nbformat, MarkupSafe, jinja2, webencodings, bleach, mistune, entrypoints, testpath, nbconvert, pyzmq, tornado, python-dateutil, jupyter-client, ptyprocess, terminado, appnope, backcall, pexpect, parso, jedi, pickleshare, wcwidth, prompt-toolkit, ipython, ipykernel, prometheus-client, notebook, qtpy, qtconsole, widgetsnbextension, ipywidgets, jupyter-console, jupyter, simplejson, pymongo, docutils, jmespath, urllib3, botocore, s3transfer, boto3, wheel\n",
      "Successfully installed MarkupSafe-1.1.1 Send2Trash-1.5.0 appnope-0.1.0 attrs-19.3.0 backcall-0.1.0 bleach-3.1.3 boto3-1.12.26 botocore-1.15.26 decorator-4.4.2 defusedxml-0.6.0 docutils-0.15.2 entrypoints-0.3 importlib-metadata-1.5.0 ipykernel-5.2.0 ipython-7.13.0 ipython-genutils-0.2.0 ipywidgets-7.5.1 jedi-0.16.0 jinja2-2.11.1 jmespath-0.9.5 joblib-0.14.1 jsonschema-3.2.0 jupyter-1.0.0 jupyter-client-6.1.0 jupyter-console-6.1.0 jupyter-core-4.6.3 mistune-0.8.4 nbconvert-5.6.1 nbformat-5.0.4 notebook-6.0.3 pandocfilters-1.4.2 parso-0.6.2 pexpect-4.8.0 pickleshare-0.7.5 prometheus-client-0.7.1 prompt-toolkit-3.0.4 ptyprocess-0.6.0 pygments-2.6.1 pymongo-3.10.1 pyrsistent-0.15.7 python-dateutil-2.8.1 pyzmq-19.0.0 qtconsole-4.7.1 qtpy-1.9.0 s3transfer-0.3.3 scikit-learn-0.22.2.post1 scipy-1.4.1 simplejson-3.17.0 six-1.14.0 sklearn-0.0 terminado-0.8.3 testpath-0.4.4 tornado-6.0.4 traitlets-4.3.3 urllib3-1.25.8 wcwidth-0.1.9 webencodings-0.5.1 wheel-0.34.2 widgetsnbextension-3.5.1 zipp-3.1.0\n"
     ]
    }
   ],
   "source": [
    "%%bash\n",
    "set -e\n",
    "source data/env-folder/bin/activate\n",
    "pip install scipy sklearn jupyter simplejson pymongo boto3 wheel\n",
    "pip freeze > data/requirements.txt"
   ]
  },
  {
   "cell_type": "code",
   "execution_count": 13,
   "metadata": {
    "scrolled": true
   },
   "outputs": [
    {
     "name": "stdout",
     "output_type": "stream",
     "text": [
      "-f /Users/rick446/src/wheelhouse\r\n",
      "appnope==0.1.0\r\n",
      "attrs==19.3.0\r\n",
      "backcall==0.1.0\r\n",
      "bleach==3.1.3\r\n",
      "boto3==1.12.26\r\n",
      "botocore==1.15.26\r\n",
      "decorator==4.4.2\r\n",
      "defusedxml==0.6.0\r\n",
      "docutils==0.15.2\r\n",
      "entrypoints==0.3\r\n",
      "importlib-metadata==1.5.0\r\n",
      "ipykernel==5.2.0\r\n",
      "ipython==7.13.0\r\n",
      "ipython-genutils==0.2.0\r\n",
      "ipywidgets==7.5.1\r\n",
      "jedi==0.16.0\r\n",
      "Jinja2==2.11.1\r\n",
      "jmespath==0.9.5\r\n",
      "joblib==0.14.1\r\n",
      "jsonschema==3.2.0\r\n",
      "jupyter==1.0.0\r\n",
      "jupyter-client==6.1.0\r\n",
      "jupyter-console==6.1.0\r\n",
      "jupyter-core==4.6.3\r\n",
      "MarkupSafe==1.1.1\r\n",
      "mistune==0.8.4\r\n",
      "nbconvert==5.6.1\r\n",
      "nbformat==5.0.4\r\n",
      "notebook==6.0.3\r\n",
      "numpy==1.18.2\r\n",
      "pandocfilters==1.4.2\r\n",
      "parso==0.6.2\r\n",
      "pexpect==4.8.0\r\n",
      "pickleshare==0.7.5\r\n",
      "prometheus-client==0.7.1\r\n",
      "prompt-toolkit==3.0.4\r\n",
      "ptyprocess==0.6.0\r\n",
      "Pygments==2.6.1\r\n",
      "pymongo==3.10.1\r\n",
      "pyrsistent==0.15.7\r\n",
      "python-dateutil==2.8.1\r\n",
      "pyzmq==19.0.0\r\n",
      "qtconsole==4.7.1\r\n",
      "QtPy==1.9.0\r\n",
      "s3transfer==0.3.3\r\n",
      "scikit-learn==0.22.2.post1\r\n",
      "scipy==1.4.1\r\n",
      "Send2Trash==1.5.0\r\n",
      "simplejson==3.17.0\r\n",
      "six==1.14.0\r\n",
      "sklearn==0.0\r\n",
      "terminado==0.8.3\r\n",
      "testpath==0.4.4\r\n",
      "tornado==6.0.4\r\n",
      "traitlets==4.3.3\r\n",
      "urllib3==1.25.8\r\n",
      "wcwidth==0.1.9\r\n",
      "webencodings==0.5.1\r\n",
      "widgetsnbextension==3.5.1\r\n",
      "zipp==3.1.0\r\n"
     ]
    }
   ],
   "source": [
    "cat data/requirements.txt"
   ]
  },
  {
   "cell_type": "code",
   "execution_count": 14,
   "metadata": {},
   "outputs": [
    {
     "name": "stdout",
     "output_type": "stream",
     "text": [
      "Looking in links: /Users/rick446/src/wheelhouse, /Users/rick446/src/wheelhouse\n",
      "Processing /Users/rick446/src/wheelhouse/appnope-0.1.0-py2.py3-none-any.whl\n",
      "  Saved /Users/rick446/src/arborian-classes/data/wheelhouse/appnope-0.1.0-py2.py3-none-any.whl\n",
      "Processing /Users/rick446/src/wheelhouse/attrs-19.3.0-py2.py3-none-any.whl\n",
      "  Saved /Users/rick446/src/arborian-classes/data/wheelhouse/attrs-19.3.0-py2.py3-none-any.whl\n",
      "Processing /Users/rick446/src/wheelhouse/backcall-0.1.0-py3-none-any.whl\n",
      "  Saved /Users/rick446/src/arborian-classes/data/wheelhouse/backcall-0.1.0-py3-none-any.whl\n",
      "Collecting bleach==3.1.3\n",
      "  Using cached bleach-3.1.3-py2.py3-none-any.whl (151 kB)\n",
      "  Saved /Users/rick446/src/arborian-classes/data/wheelhouse/bleach-3.1.3-py2.py3-none-any.whl\n",
      "Collecting boto3==1.12.26\n",
      "  Using cached boto3-1.12.26-py2.py3-none-any.whl (128 kB)\n",
      "  Saved /Users/rick446/src/arborian-classes/data/wheelhouse/boto3-1.12.26-py2.py3-none-any.whl\n",
      "Collecting botocore==1.15.26\n",
      "  Using cached botocore-1.15.26-py2.py3-none-any.whl (6.0 MB)\n",
      "  Saved /Users/rick446/src/arborian-classes/data/wheelhouse/botocore-1.15.26-py2.py3-none-any.whl\n",
      "Collecting decorator==4.4.2\n",
      "  Using cached decorator-4.4.2-py2.py3-none-any.whl (9.2 kB)\n",
      "  Saved /Users/rick446/src/arborian-classes/data/wheelhouse/decorator-4.4.2-py2.py3-none-any.whl\n",
      "Processing /Users/rick446/src/wheelhouse/defusedxml-0.6.0-py2.py3-none-any.whl\n",
      "  Saved /Users/rick446/src/arborian-classes/data/wheelhouse/defusedxml-0.6.0-py2.py3-none-any.whl\n",
      "Processing /Users/rick446/src/wheelhouse/docutils-0.15.2-py3-none-any.whl\n",
      "  Saved /Users/rick446/src/arborian-classes/data/wheelhouse/docutils-0.15.2-py3-none-any.whl\n",
      "Processing /Users/rick446/src/wheelhouse/entrypoints-0.3-py2.py3-none-any.whl\n",
      "  Saved /Users/rick446/src/arborian-classes/data/wheelhouse/entrypoints-0.3-py2.py3-none-any.whl\n",
      "Collecting importlib-metadata==1.5.0\n",
      "  Using cached importlib_metadata-1.5.0-py2.py3-none-any.whl (30 kB)\n",
      "  Saved /Users/rick446/src/arborian-classes/data/wheelhouse/importlib_metadata-1.5.0-py2.py3-none-any.whl\n",
      "Collecting ipykernel==5.2.0\n",
      "  Using cached ipykernel-5.2.0-py3-none-any.whl (117 kB)\n",
      "  Saved /Users/rick446/src/arborian-classes/data/wheelhouse/ipykernel-5.2.0-py3-none-any.whl\n",
      "Collecting ipython==7.13.0\n",
      "  Using cached ipython-7.13.0-py3-none-any.whl (780 kB)\n",
      "  Saved /Users/rick446/src/arborian-classes/data/wheelhouse/ipython-7.13.0-py3-none-any.whl\n",
      "Processing /Users/rick446/src/wheelhouse/ipython_genutils-0.2.0-py2.py3-none-any.whl\n",
      "  Saved /Users/rick446/src/arborian-classes/data/wheelhouse/ipython_genutils-0.2.0-py2.py3-none-any.whl\n",
      "Processing /Users/rick446/src/wheelhouse/ipywidgets-7.5.1-py2.py3-none-any.whl\n",
      "  Saved /Users/rick446/src/arborian-classes/data/wheelhouse/ipywidgets-7.5.1-py2.py3-none-any.whl\n",
      "Processing /Users/rick446/src/wheelhouse/jedi-0.16.0-py2.py3-none-any.whl\n",
      "  Saved /Users/rick446/src/arborian-classes/data/wheelhouse/jedi-0.16.0-py2.py3-none-any.whl\n",
      "Processing /Users/rick446/src/wheelhouse/Jinja2-2.11.1-py2.py3-none-any.whl\n",
      "  Saved /Users/rick446/src/arborian-classes/data/wheelhouse/Jinja2-2.11.1-py2.py3-none-any.whl\n",
      "Collecting jmespath==0.9.5\n",
      "  Using cached jmespath-0.9.5-py2.py3-none-any.whl (24 kB)\n",
      "  Saved /Users/rick446/src/arborian-classes/data/wheelhouse/jmespath-0.9.5-py2.py3-none-any.whl\n",
      "Processing /Users/rick446/src/wheelhouse/joblib-0.14.1-py2.py3-none-any.whl\n",
      "  Saved /Users/rick446/src/arborian-classes/data/wheelhouse/joblib-0.14.1-py2.py3-none-any.whl\n",
      "Processing /Users/rick446/src/wheelhouse/jsonschema-3.2.0-py2.py3-none-any.whl\n",
      "  Saved /Users/rick446/src/arborian-classes/data/wheelhouse/jsonschema-3.2.0-py2.py3-none-any.whl\n",
      "Processing /Users/rick446/src/wheelhouse/jupyter-1.0.0-py2.py3-none-any.whl\n",
      "  Saved /Users/rick446/src/arborian-classes/data/wheelhouse/jupyter-1.0.0-py2.py3-none-any.whl\n",
      "Collecting jupyter-client==6.1.0\n",
      "  Using cached jupyter_client-6.1.0-py3-none-any.whl (106 kB)\n",
      "  Saved /Users/rick446/src/arborian-classes/data/wheelhouse/jupyter_client-6.1.0-py3-none-any.whl\n",
      "Processing /Users/rick446/src/wheelhouse/jupyter_console-6.1.0-py2.py3-none-any.whl\n",
      "  Saved /Users/rick446/src/arborian-classes/data/wheelhouse/jupyter_console-6.1.0-py2.py3-none-any.whl\n",
      "Collecting jupyter-core==4.6.3\n",
      "  Using cached jupyter_core-4.6.3-py2.py3-none-any.whl (83 kB)\n",
      "  Saved /Users/rick446/src/arborian-classes/data/wheelhouse/jupyter_core-4.6.3-py2.py3-none-any.whl\n",
      "Collecting MarkupSafe==1.1.1\n",
      "  Using cached MarkupSafe-1.1.1-cp37-cp37m-macosx_10_6_intel.whl (18 kB)\n",
      "  Saved /Users/rick446/src/arborian-classes/data/wheelhouse/MarkupSafe-1.1.1-cp37-cp37m-macosx_10_6_intel.whl\n",
      "Processing /Users/rick446/src/wheelhouse/mistune-0.8.4-py2.py3-none-any.whl\n",
      "  Saved /Users/rick446/src/arborian-classes/data/wheelhouse/mistune-0.8.4-py2.py3-none-any.whl\n",
      "Processing /Users/rick446/src/wheelhouse/nbconvert-5.6.1-py2.py3-none-any.whl\n",
      "  Saved /Users/rick446/src/arborian-classes/data/wheelhouse/nbconvert-5.6.1-py2.py3-none-any.whl\n",
      "Processing /Users/rick446/src/wheelhouse/nbformat-5.0.4-py3-none-any.whl\n",
      "  Saved /Users/rick446/src/arborian-classes/data/wheelhouse/nbformat-5.0.4-py3-none-any.whl\n",
      "Processing /Users/rick446/src/wheelhouse/notebook-6.0.3-py3-none-any.whl\n",
      "  Saved /Users/rick446/src/arborian-classes/data/wheelhouse/notebook-6.0.3-py3-none-any.whl\n",
      "Collecting numpy==1.18.2\n",
      "  Using cached numpy-1.18.2-cp37-cp37m-macosx_10_9_x86_64.whl (15.1 MB)\n",
      "  Saved /Users/rick446/src/arborian-classes/data/wheelhouse/numpy-1.18.2-cp37-cp37m-macosx_10_9_x86_64.whl\n",
      "Processing /Users/rick446/src/wheelhouse/pandocfilters-1.4.2-py3-none-any.whl\n",
      "  Saved /Users/rick446/src/arborian-classes/data/wheelhouse/pandocfilters-1.4.2-py3-none-any.whl\n",
      "Collecting parso==0.6.2\n",
      "  Using cached parso-0.6.2-py2.py3-none-any.whl (97 kB)\n",
      "  Saved /Users/rick446/src/arborian-classes/data/wheelhouse/parso-0.6.2-py2.py3-none-any.whl\n",
      "Processing /Users/rick446/src/wheelhouse/pexpect-4.8.0-py2.py3-none-any.whl\n",
      "  Saved /Users/rick446/src/arborian-classes/data/wheelhouse/pexpect-4.8.0-py2.py3-none-any.whl\n",
      "Processing /Users/rick446/src/wheelhouse/pickleshare-0.7.5-py2.py3-none-any.whl\n",
      "  Saved /Users/rick446/src/arborian-classes/data/wheelhouse/pickleshare-0.7.5-py2.py3-none-any.whl\n",
      "Processing /Users/rick446/src/wheelhouse/prometheus_client-0.7.1-py3-none-any.whl\n",
      "  Saved /Users/rick446/src/arborian-classes/data/wheelhouse/prometheus_client-0.7.1-py3-none-any.whl\n",
      "Collecting prompt-toolkit==3.0.4\n",
      "  Using cached prompt_toolkit-3.0.4-py3-none-any.whl (351 kB)\n",
      "  Saved /Users/rick446/src/arborian-classes/data/wheelhouse/prompt_toolkit-3.0.4-py3-none-any.whl\n",
      "Processing /Users/rick446/src/wheelhouse/ptyprocess-0.6.0-py2.py3-none-any.whl\n",
      "  Saved /Users/rick446/src/arborian-classes/data/wheelhouse/ptyprocess-0.6.0-py2.py3-none-any.whl\n",
      "Collecting Pygments==2.6.1\n",
      "  Using cached Pygments-2.6.1-py3-none-any.whl (914 kB)\n",
      "  Saved /Users/rick446/src/arborian-classes/data/wheelhouse/Pygments-2.6.1-py3-none-any.whl\n",
      "Collecting pymongo==3.10.1\n",
      "  Using cached pymongo-3.10.1-cp37-cp37m-macosx_10_9_x86_64.whl (350 kB)\n",
      "  Saved /Users/rick446/src/arborian-classes/data/wheelhouse/pymongo-3.10.1-cp37-cp37m-macosx_10_9_x86_64.whl\n",
      "Processing /Users/rick446/Library/Caches/pip/wheels/57/74/e3/61db397ec89f304e49711ec9f68490f15814b80c1c0ee9b8c0/pyrsistent-0.15.7-cp37-cp37m-macosx_10_14_x86_64.whl\n",
      "  Saved /Users/rick446/src/arborian-classes/data/wheelhouse/pyrsistent-0.15.7-cp37-cp37m-macosx_10_14_x86_64.whl\n",
      "Processing /Users/rick446/src/wheelhouse/python_dateutil-2.8.1-py2.py3-none-any.whl\n",
      "  Saved /Users/rick446/src/arborian-classes/data/wheelhouse/python_dateutil-2.8.1-py2.py3-none-any.whl\n",
      "Collecting pyzmq==19.0.0\n",
      "  Using cached pyzmq-19.0.0-cp37-cp37m-macosx_10_9_x86_64.whl (815 kB)\n",
      "  Saved /Users/rick446/src/arborian-classes/data/wheelhouse/pyzmq-19.0.0-cp37-cp37m-macosx_10_9_x86_64.whl\n",
      "Collecting qtconsole==4.7.1\n",
      "  Using cached qtconsole-4.7.1-py2.py3-none-any.whl (117 kB)\n",
      "  Saved /Users/rick446/src/arborian-classes/data/wheelhouse/qtconsole-4.7.1-py2.py3-none-any.whl\n",
      "Collecting QtPy==1.9.0\n",
      "  Using cached QtPy-1.9.0-py2.py3-none-any.whl (54 kB)\n",
      "  Saved /Users/rick446/src/arborian-classes/data/wheelhouse/QtPy-1.9.0-py2.py3-none-any.whl\n",
      "Collecting s3transfer==0.3.3\n",
      "  Using cached s3transfer-0.3.3-py2.py3-none-any.whl (69 kB)\n",
      "  Saved /Users/rick446/src/arborian-classes/data/wheelhouse/s3transfer-0.3.3-py2.py3-none-any.whl\n",
      "Collecting scikit-learn==0.22.2.post1\n",
      "  Using cached scikit_learn-0.22.2.post1-cp37-cp37m-macosx_10_9_x86_64.whl (7.1 MB)\n",
      "  Saved /Users/rick446/src/arborian-classes/data/wheelhouse/scikit_learn-0.22.2.post1-cp37-cp37m-macosx_10_9_x86_64.whl\n",
      "Collecting scipy==1.4.1\n",
      "  Using cached scipy-1.4.1-cp37-cp37m-macosx_10_6_intel.whl (28.4 MB)\n",
      "  Saved /Users/rick446/src/arborian-classes/data/wheelhouse/scipy-1.4.1-cp37-cp37m-macosx_10_6_intel.whl\n",
      "Processing /Users/rick446/src/wheelhouse/Send2Trash-1.5.0-py3-none-any.whl\n",
      "  Saved /Users/rick446/src/arborian-classes/data/wheelhouse/Send2Trash-1.5.0-py3-none-any.whl\n",
      "Collecting simplejson==3.17.0\n",
      "  Using cached simplejson-3.17.0-cp37-cp37m-macosx_10_14_x86_64.whl (73 kB)\n",
      "  Saved /Users/rick446/src/arborian-classes/data/wheelhouse/simplejson-3.17.0-cp37-cp37m-macosx_10_14_x86_64.whl\n",
      "Processing /Users/rick446/src/wheelhouse/six-1.14.0-py2.py3-none-any.whl\n",
      "  Saved /Users/rick446/src/arborian-classes/data/wheelhouse/six-1.14.0-py2.py3-none-any.whl\n",
      "Processing /Users/rick446/src/wheelhouse/sklearn-0.0-py2.py3-none-any.whl\n",
      "  Saved /Users/rick446/src/arborian-classes/data/wheelhouse/sklearn-0.0-py2.py3-none-any.whl\n",
      "Processing /Users/rick446/src/wheelhouse/terminado-0.8.3-py2.py3-none-any.whl\n",
      "  Saved /Users/rick446/src/arborian-classes/data/wheelhouse/terminado-0.8.3-py2.py3-none-any.whl\n",
      "Processing /Users/rick446/src/wheelhouse/testpath-0.4.4-py2.py3-none-any.whl\n",
      "  Saved /Users/rick446/src/arborian-classes/data/wheelhouse/testpath-0.4.4-py2.py3-none-any.whl\n",
      "Processing /Users/rick446/Library/Caches/pip/wheels/7d/14/fa/d88fb5da77d813ea0ffca38a2ab2a052874e9e1142bad0b348/tornado-6.0.4-cp37-cp37m-macosx_10_14_x86_64.whl\n",
      "  Saved /Users/rick446/src/arborian-classes/data/wheelhouse/tornado-6.0.4-cp37-cp37m-macosx_10_14_x86_64.whl\n",
      "Processing /Users/rick446/src/wheelhouse/traitlets-4.3.3-py2.py3-none-any.whl\n",
      "  Saved /Users/rick446/src/arborian-classes/data/wheelhouse/traitlets-4.3.3-py2.py3-none-any.whl\n",
      "Processing /Users/rick446/src/wheelhouse/urllib3-1.25.8-py2.py3-none-any.whl\n",
      "  Saved /Users/rick446/src/arborian-classes/data/wheelhouse/urllib3-1.25.8-py2.py3-none-any.whl\n",
      "Collecting wcwidth==0.1.9\n",
      "  Using cached wcwidth-0.1.9-py2.py3-none-any.whl (19 kB)\n",
      "  Saved /Users/rick446/src/arborian-classes/data/wheelhouse/wcwidth-0.1.9-py2.py3-none-any.whl\n",
      "Processing /Users/rick446/src/wheelhouse/webencodings-0.5.1-py2.py3-none-any.whl\n",
      "  Saved /Users/rick446/src/arborian-classes/data/wheelhouse/webencodings-0.5.1-py2.py3-none-any.whl\n",
      "Processing /Users/rick446/src/wheelhouse/widgetsnbextension-3.5.1-py2.py3-none-any.whl\n",
      "  Saved /Users/rick446/src/arborian-classes/data/wheelhouse/widgetsnbextension-3.5.1-py2.py3-none-any.whl\n",
      "Collecting zipp==3.1.0\n",
      "  Using cached zipp-3.1.0-py3-none-any.whl (4.9 kB)\n",
      "  Saved /Users/rick446/src/arborian-classes/data/wheelhouse/zipp-3.1.0-py3-none-any.whl\n",
      "Collecting setuptools>=18.5\n",
      "  Downloading setuptools-46.1.1-py3-none-any.whl (582 kB)\n",
      "  Saved /Users/rick446/src/arborian-classes/data/wheelhouse/setuptools-46.1.1-py3-none-any.whl\n",
      "Skipping appnope, due to already being wheel.\n",
      "Skipping attrs, due to already being wheel.\n",
      "Skipping backcall, due to already being wheel.\n",
      "Skipping bleach, due to already being wheel.\n",
      "Skipping boto3, due to already being wheel.\n",
      "Skipping botocore, due to already being wheel.\n",
      "Skipping decorator, due to already being wheel.\n",
      "Skipping defusedxml, due to already being wheel.\n",
      "Skipping docutils, due to already being wheel.\n",
      "Skipping entrypoints, due to already being wheel.\n",
      "Skipping importlib-metadata, due to already being wheel.\n",
      "Skipping ipykernel, due to already being wheel.\n",
      "Skipping ipython, due to already being wheel.\n",
      "Skipping ipython-genutils, due to already being wheel.\n",
      "Skipping ipywidgets, due to already being wheel.\n",
      "Skipping jedi, due to already being wheel.\n",
      "Skipping Jinja2, due to already being wheel.\n",
      "Skipping jmespath, due to already being wheel.\n",
      "Skipping joblib, due to already being wheel.\n",
      "Skipping jsonschema, due to already being wheel.\n",
      "Skipping jupyter, due to already being wheel.\n",
      "Skipping jupyter-client, due to already being wheel.\n",
      "Skipping jupyter-console, due to already being wheel.\n",
      "Skipping jupyter-core, due to already being wheel.\n",
      "Skipping MarkupSafe, due to already being wheel.\n",
      "Skipping mistune, due to already being wheel.\n",
      "Skipping nbconvert, due to already being wheel.\n",
      "Skipping nbformat, due to already being wheel.\n",
      "Skipping notebook, due to already being wheel.\n",
      "Skipping numpy, due to already being wheel.\n",
      "Skipping pandocfilters, due to already being wheel.\n",
      "Skipping parso, due to already being wheel.\n",
      "Skipping pexpect, due to already being wheel.\n",
      "Skipping pickleshare, due to already being wheel.\n",
      "Skipping prometheus-client, due to already being wheel.\n",
      "Skipping prompt-toolkit, due to already being wheel.\n",
      "Skipping ptyprocess, due to already being wheel.\n",
      "Skipping Pygments, due to already being wheel.\n",
      "Skipping pymongo, due to already being wheel.\n",
      "Skipping pyrsistent, due to already being wheel.\n",
      "Skipping python-dateutil, due to already being wheel.\n",
      "Skipping pyzmq, due to already being wheel.\n",
      "Skipping qtconsole, due to already being wheel.\n",
      "Skipping QtPy, due to already being wheel.\n",
      "Skipping s3transfer, due to already being wheel.\n",
      "Skipping scikit-learn, due to already being wheel.\n",
      "Skipping scipy, due to already being wheel.\n",
      "Skipping Send2Trash, due to already being wheel.\n",
      "Skipping simplejson, due to already being wheel.\n",
      "Skipping six, due to already being wheel.\n",
      "Skipping sklearn, due to already being wheel.\n",
      "Skipping terminado, due to already being wheel.\n",
      "Skipping testpath, due to already being wheel.\n",
      "Skipping tornado, due to already being wheel.\n",
      "Skipping traitlets, due to already being wheel.\n",
      "Skipping urllib3, due to already being wheel.\n",
      "Skipping wcwidth, due to already being wheel.\n",
      "Skipping webencodings, due to already being wheel.\n",
      "Skipping widgetsnbextension, due to already being wheel.\n",
      "Skipping zipp, due to already being wheel.\n",
      "Skipping setuptools, due to already being wheel.\n"
     ]
    }
   ],
   "source": [
    "%%bash\n",
    "set -e\n",
    "source data/env-folder/bin/activate\n",
    "pip wheel -w data/wheelhouse -r data/requirements.txt"
   ]
  },
  {
   "cell_type": "code",
   "execution_count": 15,
   "metadata": {},
   "outputs": [
    {
     "name": "stdout",
     "output_type": "stream",
     "text": [
      "Jinja2-2.11.1-py2.py3-none-any.whl\r\n",
      "MarkupSafe-1.1.1-cp37-cp37m-macosx_10_6_intel.whl\r\n",
      "Pygments-2.6.1-py3-none-any.whl\r\n",
      "QtPy-1.9.0-py2.py3-none-any.whl\r\n",
      "Send2Trash-1.5.0-py3-none-any.whl\r\n",
      "appnope-0.1.0-py2.py3-none-any.whl\r\n",
      "attrs-19.3.0-py2.py3-none-any.whl\r\n",
      "backcall-0.1.0-py3-none-any.whl\r\n",
      "bleach-3.1.3-py2.py3-none-any.whl\r\n",
      "boto3-1.12.26-py2.py3-none-any.whl\r\n",
      "botocore-1.15.26-py2.py3-none-any.whl\r\n",
      "decorator-4.4.2-py2.py3-none-any.whl\r\n",
      "defusedxml-0.6.0-py2.py3-none-any.whl\r\n",
      "docutils-0.15.2-py3-none-any.whl\r\n",
      "entrypoints-0.3-py2.py3-none-any.whl\r\n",
      "importlib_metadata-1.5.0-py2.py3-none-any.whl\r\n",
      "ipykernel-5.2.0-py3-none-any.whl\r\n",
      "ipython-7.13.0-py3-none-any.whl\r\n",
      "ipython_genutils-0.2.0-py2.py3-none-any.whl\r\n",
      "ipywidgets-7.5.1-py2.py3-none-any.whl\r\n",
      "jedi-0.16.0-py2.py3-none-any.whl\r\n",
      "jmespath-0.9.5-py2.py3-none-any.whl\r\n",
      "joblib-0.14.1-py2.py3-none-any.whl\r\n",
      "jsonschema-3.2.0-py2.py3-none-any.whl\r\n",
      "jupyter-1.0.0-py2.py3-none-any.whl\r\n",
      "jupyter_client-6.1.0-py3-none-any.whl\r\n",
      "jupyter_console-6.1.0-py2.py3-none-any.whl\r\n",
      "jupyter_core-4.6.3-py2.py3-none-any.whl\r\n",
      "mistune-0.8.4-py2.py3-none-any.whl\r\n",
      "nbconvert-5.6.1-py2.py3-none-any.whl\r\n",
      "nbformat-5.0.4-py3-none-any.whl\r\n",
      "notebook-6.0.3-py3-none-any.whl\r\n",
      "numpy-1.18.2-cp37-cp37m-macosx_10_9_x86_64.whl\r\n",
      "pandocfilters-1.4.2-py3-none-any.whl\r\n",
      "parso-0.6.2-py2.py3-none-any.whl\r\n",
      "pexpect-4.8.0-py2.py3-none-any.whl\r\n",
      "pickleshare-0.7.5-py2.py3-none-any.whl\r\n",
      "prometheus_client-0.7.1-py3-none-any.whl\r\n",
      "prompt_toolkit-3.0.4-py3-none-any.whl\r\n",
      "ptyprocess-0.6.0-py2.py3-none-any.whl\r\n",
      "pymongo-3.10.1-cp37-cp37m-macosx_10_9_x86_64.whl\r\n",
      "pyrsistent-0.15.7-cp37-cp37m-macosx_10_14_x86_64.whl\r\n",
      "python_dateutil-2.8.1-py2.py3-none-any.whl\r\n",
      "pyzmq-19.0.0-cp37-cp37m-macosx_10_9_x86_64.whl\r\n",
      "qtconsole-4.7.1-py2.py3-none-any.whl\r\n",
      "s3transfer-0.3.3-py2.py3-none-any.whl\r\n",
      "scikit_learn-0.22.2.post1-cp37-cp37m-macosx_10_9_x86_64.whl\r\n",
      "scipy-1.4.1-cp37-cp37m-macosx_10_6_intel.whl\r\n",
      "setuptools-46.1.1-py3-none-any.whl\r\n",
      "simplejson-3.17.0-cp37-cp37m-macosx_10_14_x86_64.whl\r\n",
      "six-1.14.0-py2.py3-none-any.whl\r\n",
      "sklearn-0.0-py2.py3-none-any.whl\r\n",
      "terminado-0.8.3-py2.py3-none-any.whl\r\n",
      "testpath-0.4.4-py2.py3-none-any.whl\r\n",
      "tornado-6.0.4-cp37-cp37m-macosx_10_14_x86_64.whl\r\n",
      "traitlets-4.3.3-py2.py3-none-any.whl\r\n",
      "urllib3-1.25.8-py2.py3-none-any.whl\r\n",
      "wcwidth-0.1.9-py2.py3-none-any.whl\r\n",
      "webencodings-0.5.1-py2.py3-none-any.whl\r\n",
      "widgetsnbextension-3.5.1-py2.py3-none-any.whl\r\n",
      "zipp-3.1.0-py3-none-any.whl\r\n"
     ]
    }
   ],
   "source": [
    "ls data/wheelhouse"
   ]
  },
  {
   "cell_type": "markdown",
   "metadata": {},
   "source": [
    "Now we can distribute the `data/wheelhouse` directory with our project and install everything from the wheelhouse and not fetch from PyPI:"
   ]
  },
  {
   "cell_type": "code",
   "execution_count": 16,
   "metadata": {
    "scrolled": true
   },
   "outputs": [
    {
     "name": "stdout",
     "output_type": "stream",
     "text": [
      "Looking in links: /Users/rick446/src/wheelhouse, data/wheelhouse, /Users/rick446/src/wheelhouse\n",
      "Collecting appnope==0.1.0 (from -r data/requirements.txt (line 2))\n",
      "Collecting attrs==19.3.0 (from -r data/requirements.txt (line 3))\n",
      "Collecting backcall==0.1.0 (from -r data/requirements.txt (line 4))\n",
      "Collecting bleach==3.1.3 (from -r data/requirements.txt (line 5))\n",
      "Collecting boto3==1.12.26 (from -r data/requirements.txt (line 6))\n",
      "Collecting botocore==1.15.26 (from -r data/requirements.txt (line 7))\n",
      "Collecting decorator==4.4.2 (from -r data/requirements.txt (line 8))\n",
      "Collecting defusedxml==0.6.0 (from -r data/requirements.txt (line 9))\n",
      "Collecting docutils==0.15.2 (from -r data/requirements.txt (line 10))\n",
      "Collecting entrypoints==0.3 (from -r data/requirements.txt (line 11))\n",
      "Collecting importlib-metadata==1.5.0 (from -r data/requirements.txt (line 12))\n",
      "Collecting ipykernel==5.2.0 (from -r data/requirements.txt (line 13))\n",
      "Collecting ipython==7.13.0 (from -r data/requirements.txt (line 14))\n",
      "Collecting ipython-genutils==0.2.0 (from -r data/requirements.txt (line 15))\n",
      "Collecting ipywidgets==7.5.1 (from -r data/requirements.txt (line 16))\n",
      "Collecting jedi==0.16.0 (from -r data/requirements.txt (line 17))\n",
      "Collecting Jinja2==2.11.1 (from -r data/requirements.txt (line 18))\n",
      "Collecting jmespath==0.9.5 (from -r data/requirements.txt (line 19))\n",
      "Collecting joblib==0.14.1 (from -r data/requirements.txt (line 20))\n",
      "Collecting jsonschema==3.2.0 (from -r data/requirements.txt (line 21))\n",
      "Collecting jupyter==1.0.0 (from -r data/requirements.txt (line 22))\n",
      "Collecting jupyter-client==6.1.0 (from -r data/requirements.txt (line 23))\n",
      "Collecting jupyter-console==6.1.0 (from -r data/requirements.txt (line 24))\n",
      "Collecting jupyter-core==4.6.3 (from -r data/requirements.txt (line 25))\n",
      "Collecting MarkupSafe==1.1.1 (from -r data/requirements.txt (line 26))\n",
      "Collecting mistune==0.8.4 (from -r data/requirements.txt (line 27))\n",
      "Collecting nbconvert==5.6.1 (from -r data/requirements.txt (line 28))\n",
      "Collecting nbformat==5.0.4 (from -r data/requirements.txt (line 29))\n",
      "Collecting notebook==6.0.3 (from -r data/requirements.txt (line 30))\n",
      "Requirement already satisfied: numpy==1.18.2 in /Users/rick446/src/arborian-classes/data/env-folder-2/lib/python3.7/site-packages (from -r data/requirements.txt (line 31)) (1.18.2)\n",
      "Collecting pandocfilters==1.4.2 (from -r data/requirements.txt (line 32))\n",
      "Collecting parso==0.6.2 (from -r data/requirements.txt (line 33))\n",
      "Collecting pexpect==4.8.0 (from -r data/requirements.txt (line 34))\n",
      "Collecting pickleshare==0.7.5 (from -r data/requirements.txt (line 35))\n",
      "Collecting prometheus-client==0.7.1 (from -r data/requirements.txt (line 36))\n",
      "Collecting prompt-toolkit==3.0.4 (from -r data/requirements.txt (line 37))\n",
      "Collecting ptyprocess==0.6.0 (from -r data/requirements.txt (line 38))\n",
      "Collecting Pygments==2.6.1 (from -r data/requirements.txt (line 39))\n",
      "Collecting pymongo==3.10.1 (from -r data/requirements.txt (line 40))\n",
      "Collecting pyrsistent==0.15.7 (from -r data/requirements.txt (line 41))\n",
      "Collecting python-dateutil==2.8.1 (from -r data/requirements.txt (line 42))\n",
      "Collecting pyzmq==19.0.0 (from -r data/requirements.txt (line 43))\n",
      "Collecting qtconsole==4.7.1 (from -r data/requirements.txt (line 44))\n",
      "Collecting QtPy==1.9.0 (from -r data/requirements.txt (line 45))\n",
      "Collecting s3transfer==0.3.3 (from -r data/requirements.txt (line 46))\n",
      "Collecting scikit-learn==0.22.2.post1 (from -r data/requirements.txt (line 47))\n",
      "Collecting scipy==1.4.1 (from -r data/requirements.txt (line 48))\n",
      "Collecting Send2Trash==1.5.0 (from -r data/requirements.txt (line 49))\n",
      "Collecting simplejson==3.17.0 (from -r data/requirements.txt (line 50))\n",
      "Collecting six==1.14.0 (from -r data/requirements.txt (line 51))\n",
      "Collecting sklearn==0.0 (from -r data/requirements.txt (line 52))\n",
      "Collecting terminado==0.8.3 (from -r data/requirements.txt (line 53))\n",
      "Collecting testpath==0.4.4 (from -r data/requirements.txt (line 54))\n",
      "Collecting tornado==6.0.4 (from -r data/requirements.txt (line 55))\n",
      "Collecting traitlets==4.3.3 (from -r data/requirements.txt (line 56))\n",
      "Collecting urllib3==1.25.8 (from -r data/requirements.txt (line 57))\n",
      "Collecting wcwidth==0.1.9 (from -r data/requirements.txt (line 58))\n",
      "Collecting webencodings==0.5.1 (from -r data/requirements.txt (line 59))\n",
      "Collecting widgetsnbextension==3.5.1 (from -r data/requirements.txt (line 60))\n",
      "Collecting zipp==3.1.0 (from -r data/requirements.txt (line 61))\n",
      "Requirement already satisfied: setuptools>=18.5 in /Users/rick446/src/arborian-classes/data/env-folder-2/lib/python3.7/site-packages (from ipython==7.13.0->-r data/requirements.txt (line 14)) (41.2.0)\n",
      "Installing collected packages: appnope, attrs, backcall, webencodings, six, bleach, jmespath, urllib3, python-dateutil, docutils, botocore, s3transfer, boto3, decorator, defusedxml, entrypoints, zipp, importlib-metadata, tornado, ipython-genutils, traitlets, jupyter-core, pyzmq, jupyter-client, parso, jedi, wcwidth, prompt-toolkit, ptyprocess, pexpect, pickleshare, Pygments, ipython, ipykernel, MarkupSafe, Jinja2, pyrsistent, jsonschema, nbformat, testpath, pandocfilters, mistune, nbconvert, Send2Trash, terminado, prometheus-client, notebook, widgetsnbextension, ipywidgets, joblib, jupyter-console, QtPy, qtconsole, jupyter, pymongo, scipy, scikit-learn, simplejson, sklearn\n",
      "Successfully installed Jinja2-2.11.1 MarkupSafe-1.1.1 Pygments-2.6.1 QtPy-1.9.0 Send2Trash-1.5.0 appnope-0.1.0 attrs-19.3.0 backcall-0.1.0 bleach-3.1.3 boto3-1.12.26 botocore-1.15.26 decorator-4.4.2 defusedxml-0.6.0 docutils-0.15.2 entrypoints-0.3 importlib-metadata-1.5.0 ipykernel-5.2.0 ipython-7.13.0 ipython-genutils-0.2.0 ipywidgets-7.5.1 jedi-0.16.0 jmespath-0.9.5 joblib-0.14.1 jsonschema-3.2.0 jupyter-1.0.0 jupyter-client-6.1.0 jupyter-console-6.1.0 jupyter-core-4.6.3 mistune-0.8.4 nbconvert-5.6.1 nbformat-5.0.4 notebook-6.0.3 pandocfilters-1.4.2 parso-0.6.2 pexpect-4.8.0 pickleshare-0.7.5 prometheus-client-0.7.1 prompt-toolkit-3.0.4 ptyprocess-0.6.0 pymongo-3.10.1 pyrsistent-0.15.7 python-dateutil-2.8.1 pyzmq-19.0.0 qtconsole-4.7.1 s3transfer-0.3.3 scikit-learn-0.22.2.post1 scipy-1.4.1 simplejson-3.17.0 six-1.14.0 sklearn-0.0 terminado-0.8.3 testpath-0.4.4 tornado-6.0.4 traitlets-4.3.3 urllib3-1.25.8 wcwidth-0.1.9 webencodings-0.5.1 widgetsnbextension-3.5.1 zipp-3.1.0\n"
     ]
    }
   ],
   "source": [
    "%%bash\n",
    "set -e\n",
    "source data/env-folder-2/bin/activate\n",
    "pip install --no-index -f data/wheelhouse -r data/requirements.txt"
   ]
  },
  {
   "cell_type": "markdown",
   "metadata": {},
   "source": [
    "# Cleaning up virtualenvs\n",
    "\n",
    "Since a virtualenv is just a directory, we can 'clean it up' by removing the directory:"
   ]
  },
  {
   "cell_type": "code",
   "execution_count": 17,
   "metadata": {},
   "outputs": [],
   "source": [
    "!rm -r data/env-folder data/env-folder-2 data/wheelhouse data/requirements.txt"
   ]
  },
  {
   "cell_type": "markdown",
   "metadata": {},
   "source": [
    "# Lab\n",
    "\n",
    "Open [virtualenv lab][virtualenv-lab]\n",
    "\n",
    "[virtualenv-lab]: ./virtualenv-lab.ipynb"
   ]
  }
 ],
 "metadata": {
  "kernelspec": {
   "display_name": "Python 3",
   "language": "python",
   "name": "python3"
  },
  "language_info": {
   "codemirror_mode": {
    "name": "ipython",
    "version": 3
   },
   "file_extension": ".py",
   "mimetype": "text/x-python",
   "name": "python",
   "nbconvert_exporter": "python",
   "pygments_lexer": "ipython3",
   "version": "3.7.6"
  }
 },
 "nbformat": 4,
 "nbformat_minor": 2
}
