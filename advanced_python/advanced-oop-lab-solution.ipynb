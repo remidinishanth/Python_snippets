{
 "cells": [
  {
   "cell_type": "markdown",
   "metadata": {},
   "source": [
    "# Lab: Metaclass\n",
    "\n",
    "Write a metaclass that allows us to use `class` syntax to create a `dict`, e.g.\n",
    "\n",
    "```python\n",
    "class MyDict(metaclass=Dictify):\n",
    "    a = 1\n",
    "    b = 2\n",
    "```\n",
    "\n",
    "creates the dict `{'a': 1, 'b': 2}`\n",
    "\n",
    "Hint: Metaclasses and class decorators are not required to return classes!"
   ]
  },
  {
   "cell_type": "code",
   "execution_count": 1,
   "metadata": {},
   "outputs": [
    {
     "data": {
      "text/plain": [
       "{'a': 1, 'b': 2, 'c': 'foo'}"
      ]
     },
     "execution_count": 1,
     "metadata": {},
     "output_type": "execute_result"
    }
   ],
   "source": [
    "class Dictify(type):\n",
    "    def __new__(meta, name, bases, dct):\n",
    "        return {\n",
    "            k: v for k, v in dct.items()\n",
    "            if not k.startswith('_')\n",
    "        }\n",
    "    \n",
    "class MyDict(metaclass=Dictify):\n",
    "    a = 1\n",
    "    b = 2\n",
    "    c = 'foo'\n",
    "    \n",
    "MyDict"
   ]
  },
  {
   "cell_type": "code",
   "execution_count": 2,
   "metadata": {},
   "outputs": [
    {
     "data": {
      "text/plain": [
       "{'a': 1, 'b': 2, 'c': 'foo'}"
      ]
     },
     "execution_count": 2,
     "metadata": {},
     "output_type": "execute_result"
    }
   ],
   "source": [
    "def dictify(name, bases, dct):\n",
    "    return {\n",
    "        k: v for k, v in dct.items()\n",
    "        if not k.startswith('_')\n",
    "    }\n",
    "\n",
    "class MyDict2(metaclass=dictify):\n",
    "    a = 1\n",
    "    b = 2\n",
    "    c = 'foo'\n",
    "    \n",
    "MyDict2"
   ]
  },
  {
   "cell_type": "markdown",
   "metadata": {},
   "source": [
    "# Lab: Descriptor\n",
    "\n",
    "Write a (non-data) descriptor that will allow us to calculate an attribute value the *first* time it is loaded, and cache it for subsequent loads."
   ]
  },
  {
   "cell_type": "code",
   "execution_count": 21,
   "metadata": {},
   "outputs": [],
   "source": [
    "class reify:\n",
    "    def __init__(self, getter):\n",
    "        self._getter = getter\n",
    "        \n",
    "    def __get__(self, instance, type):\n",
    "        print('Calling the descriptor')\n",
    "        if instance is None:\n",
    "            return self\n",
    "        value = self._getter(instance)\n",
    "        instance.__dict__[self._getter.__name__] = value\n",
    "        return value\n",
    "\n",
    "class MyClass:\n",
    "    \n",
    "    @reify\n",
    "    def a(self):\n",
    "        print('Calculate a!')\n",
    "        return 'a'"
   ]
  },
  {
   "cell_type": "code",
   "execution_count": 22,
   "metadata": {},
   "outputs": [
    {
     "name": "stdout",
     "output_type": "stream",
     "text": [
      "Calling the descriptor\n",
      "Calculate a!\n"
     ]
    },
    {
     "data": {
      "text/plain": [
       "'a'"
      ]
     },
     "execution_count": 22,
     "metadata": {},
     "output_type": "execute_result"
    }
   ],
   "source": [
    "obj = MyClass2()\n",
    "obj.a"
   ]
  },
  {
   "cell_type": "code",
   "execution_count": 23,
   "metadata": {},
   "outputs": [
    {
     "data": {
      "text/plain": [
       "'a'"
      ]
     },
     "execution_count": 23,
     "metadata": {},
     "output_type": "execute_result"
    }
   ],
   "source": [
    "obj.a"
   ]
  },
  {
   "cell_type": "markdown",
   "metadata": {},
   "source": [
    "Implement the descriptor above as a *data* descriptor:"
   ]
  },
  {
   "cell_type": "code",
   "execution_count": 32,
   "metadata": {},
   "outputs": [],
   "source": [
    "sentry = object()\n",
    "\n",
    "class reify():\n",
    "    def __init__(self, getter):\n",
    "        self._getter = getter\n",
    "        \n",
    "    def __get__(self, instance, typ):\n",
    "        #print('Calling the descriptor')\n",
    "        if instance is None:\n",
    "            return self\n",
    "        cache = getattr(instance, '_instance_cache', {})\n",
    "        instance._instance_cache = cache\n",
    "        cached_value = cache.get(id(self), sentry)\n",
    "        if cached_value is sentry:\n",
    "            cached_value = self._getter(instance)\n",
    "            cache[id(self)] = cached_value\n",
    "        return cached_value\n",
    "\n",
    "class MyClassData():\n",
    "    \n",
    "    @reify\n",
    "    def a(self):\n",
    "        print('Calculate a!')\n",
    "        return 'a'"
   ]
  },
  {
   "cell_type": "code",
   "execution_count": 33,
   "metadata": {},
   "outputs": [
    {
     "name": "stdout",
     "output_type": "stream",
     "text": [
      "Calculate a!\n"
     ]
    },
    {
     "data": {
      "text/plain": [
       "'a'"
      ]
     },
     "execution_count": 33,
     "metadata": {},
     "output_type": "execute_result"
    }
   ],
   "source": [
    "obj = MyClassData()\n",
    "obj.a"
   ]
  },
  {
   "cell_type": "code",
   "execution_count": 34,
   "metadata": {},
   "outputs": [
    {
     "data": {
      "text/plain": [
       "'a'"
      ]
     },
     "execution_count": 34,
     "metadata": {},
     "output_type": "execute_result"
    }
   ],
   "source": [
    "obj.a"
   ]
  },
  {
   "cell_type": "code",
   "execution_count": 35,
   "metadata": {},
   "outputs": [
    {
     "name": "stdout",
     "output_type": "stream",
     "text": [
      "Calculate a!\n"
     ]
    },
    {
     "data": {
      "text/plain": [
       "'a'"
      ]
     },
     "execution_count": 35,
     "metadata": {},
     "output_type": "execute_result"
    }
   ],
   "source": [
    "obj1 = MyClassData()\n",
    "obj1.a"
   ]
  },
  {
   "cell_type": "code",
   "execution_count": 36,
   "metadata": {},
   "outputs": [
    {
     "name": "stdout",
     "output_type": "stream",
     "text": [
      "Calling the descriptor\n",
      "Calculate a!\n"
     ]
    },
    {
     "data": {
      "text/plain": [
       "'a'"
      ]
     },
     "execution_count": 36,
     "metadata": {},
     "output_type": "execute_result"
    }
   ],
   "source": [
    "obj2 = MyClass()\n",
    "obj2.a"
   ]
  },
  {
   "cell_type": "code",
   "execution_count": 37,
   "metadata": {},
   "outputs": [
    {
     "name": "stdout",
     "output_type": "stream",
     "text": [
      "581 ns ± 13.4 ns per loop (mean ± std. dev. of 7 runs, 1000000 loops each)\n"
     ]
    }
   ],
   "source": [
    "%timeit obj1.a"
   ]
  },
  {
   "cell_type": "code",
   "execution_count": 38,
   "metadata": {},
   "outputs": [
    {
     "name": "stdout",
     "output_type": "stream",
     "text": [
      "50.5 ns ± 0.788 ns per loop (mean ± std. dev. of 7 runs, 10000000 loops each)\n"
     ]
    }
   ],
   "source": [
    "%timeit obj2.a"
   ]
  }
 ],
 "metadata": {
  "kernelspec": {
   "display_name": "Python 3",
   "language": "python",
   "name": "python3"
  },
  "language_info": {
   "codemirror_mode": {
    "name": "ipython",
    "version": 3
   },
   "file_extension": ".py",
   "mimetype": "text/x-python",
   "name": "python",
   "nbconvert_exporter": "python",
   "pygments_lexer": "ipython3",
   "version": "3.7.6"
  }
 },
 "nbformat": 4,
 "nbformat_minor": 2
}
