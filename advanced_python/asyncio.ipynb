{
 "cells": [
  {
   "cell_type": "markdown",
   "metadata": {},
   "source": [
    "# Concurrency, parallelism, and asynchronous I/O\n",
    "\n",
    "## Concurrency\n",
    "\n",
    "> the appearance of doing more than one thing at a time (can be time-sliced)\n",
    "\n",
    "- Easy to do with the `threading` or `multiprocessing` libraries in Python\n",
    "- `libevent`, `gevent`, etc. provide concurrency as well\n",
    "\n",
    "## Parallelism\n",
    "\n",
    "> *actually* doing more than one thing at a time (multi-core/hyperthreading/distributed)\n",
    "\n",
    "- The GIL prevents this in many *threaded* environments (**including** `libevent`, `gevent`, etc.)\n",
    "\n",
    "## Asynchronous programming\n",
    "\n",
    "> programming style where rather than blocking on I/O, we find something useful to do, and \"come back\" to the I/O later\n",
    "\n",
    "- `twisted` did this with reactors and callbacks\n",
    "- `libevent`, `gevent`, et. al. are *implicitly asynchronous* (things that would block in a thread instead yield to\n",
    "an **event loop**, which finds something useful to do\n",
    "- In Py3, (particularly 3.6+), we have an *explicitly asynchronous* style we can use (and 3.7 added `async`/`await` syntax to support it)"
   ]
  },
  {
   "cell_type": "markdown",
   "metadata": {},
   "source": [
    "# Raise StopIteration(value)"
   ]
  },
  {
   "cell_type": "code",
   "execution_count": 1,
   "metadata": {},
   "outputs": [],
   "source": [
    "def mygen():\n",
    "    if False:\n",
    "        yield\n",
    "    return 'Something'"
   ]
  },
  {
   "cell_type": "code",
   "execution_count": 2,
   "metadata": {},
   "outputs": [],
   "source": [
    "gen = mygen()"
   ]
  },
  {
   "cell_type": "code",
   "execution_count": 3,
   "metadata": {},
   "outputs": [
    {
     "ename": "StopIteration",
     "evalue": "Something",
     "output_type": "error",
     "traceback": [
      "\u001b[0;31m---------------------------------------------------------------------------\u001b[0m",
      "\u001b[0;31mStopIteration\u001b[0m                             Traceback (most recent call last)",
      "\u001b[0;32m<ipython-input-3-6e72e47198db>\u001b[0m in \u001b[0;36m<module>\u001b[0;34m\u001b[0m\n\u001b[0;32m----> 1\u001b[0;31m \u001b[0mnext\u001b[0m\u001b[0;34m(\u001b[0m\u001b[0mgen\u001b[0m\u001b[0;34m)\u001b[0m\u001b[0;34m\u001b[0m\u001b[0;34m\u001b[0m\u001b[0m\n\u001b[0m",
      "\u001b[0;31mStopIteration\u001b[0m: Something"
     ]
    }
   ],
   "source": [
    "next(gen)"
   ]
  },
  {
   "cell_type": "code",
   "execution_count": 4,
   "metadata": {},
   "outputs": [],
   "source": [
    "def myprint():\n",
    "    value = yield from mygen()\n",
    "    print(value)"
   ]
  },
  {
   "cell_type": "code",
   "execution_count": 5,
   "metadata": {},
   "outputs": [
    {
     "name": "stdout",
     "output_type": "stream",
     "text": [
      "Something\n"
     ]
    },
    {
     "data": {
      "text/plain": [
       "[]"
      ]
     },
     "execution_count": 5,
     "metadata": {},
     "output_type": "execute_result"
    }
   ],
   "source": [
    "list(myprint())"
   ]
  },
  {
   "cell_type": "markdown",
   "metadata": {},
   "source": [
    "Asyncio in Py3.4-3.5"
   ]
  },
  {
   "cell_type": "code",
   "execution_count": 6,
   "metadata": {},
   "outputs": [
    {
     "name": "stdout",
     "output_type": "stream",
     "text": [
      "Overwriting data/asyncio-examples/asyncio-old.py\n"
     ]
    }
   ],
   "source": [
    "%%file data/asyncio-examples/asyncio-old.py\n",
    "import asyncio\n",
    "import logging\n",
    "\n",
    "logging.basicConfig(\n",
    "    level=logging.INFO,\n",
    "    format='%(asctime)s %(levelname)s:%(name)s:%(message)s')\n",
    "\n",
    "log = logging.getLogger()\n",
    "\n",
    "def main():\n",
    "    loop = asyncio.get_event_loop()    \n",
    "    loop.run_until_complete(asyncio.gather(coroutine_1(), coroutine_2()))\n",
    "    \n",
    "    \n",
    "@asyncio.coroutine\n",
    "def coroutine_1():\n",
    "    log.info('coroutine_1 is active on the event loop')\n",
    "\n",
    "    log.info('coroutine_1 yielding control. Going to be blocked for 4 seconds')\n",
    "    yield from asyncio.sleep(4)\n",
    "\n",
    "    log.info('coroutine_1 resumed. coroutine_1 exiting')\n",
    "    \n",
    "\n",
    "@asyncio.coroutine\n",
    "def coroutine_2():\n",
    "    log.info('coroutine_2 is active on the event loop')\n",
    "\n",
    "    log.info('coroutine_2 yielding control. Going to be blocked for 5 seconds')\n",
    "    yield from asyncio.sleep(5)\n",
    "\n",
    "    log.info('coroutine_2 resumed. coroutine_2 exiting')\n",
    "    \n",
    "\n",
    "if __name__ == '__main__':\n",
    "    main()"
   ]
  },
  {
   "cell_type": "code",
   "execution_count": 7,
   "metadata": {},
   "outputs": [
    {
     "name": "stdout",
     "output_type": "stream",
     "text": [
      "2020-03-23 17:22:48,360 INFO:root:coroutine_1 is active on the event loop\n",
      "2020-03-23 17:22:48,360 INFO:root:coroutine_1 yielding control. Going to be blocked for 4 seconds\n",
      "2020-03-23 17:22:48,360 INFO:root:coroutine_2 is active on the event loop\n",
      "2020-03-23 17:22:48,360 INFO:root:coroutine_2 yielding control. Going to be blocked for 5 seconds\n",
      "2020-03-23 17:22:52,362 INFO:root:coroutine_1 resumed. coroutine_1 exiting\n",
      "2020-03-23 17:22:53,362 INFO:root:coroutine_2 resumed. coroutine_2 exiting\n"
     ]
    }
   ],
   "source": [
    "!python data/asyncio-examples/asyncio-old.py"
   ]
  },
  {
   "cell_type": "markdown",
   "metadata": {},
   "source": [
    "Asyncio with `async/await`"
   ]
  },
  {
   "cell_type": "code",
   "execution_count": 8,
   "metadata": {},
   "outputs": [
    {
     "name": "stdout",
     "output_type": "stream",
     "text": [
      "Overwriting data/asyncio-examples/asyncio-new.py\n"
     ]
    }
   ],
   "source": [
    "%%file data/asyncio-examples/asyncio-new.py\n",
    "import asyncio\n",
    "import logging\n",
    "\n",
    "logging.basicConfig(\n",
    "    level=logging.INFO,\n",
    "    format='%(asctime)s %(levelname)s:%(name)s:%(message)s')\n",
    "\n",
    "log = logging.getLogger()\n",
    "\n",
    "def main():\n",
    "    loop = asyncio.get_event_loop()    \n",
    "    loop.run_until_complete(asyncio.gather(coroutine_1(), coroutine_2()))\n",
    "    \n",
    "    \n",
    "async def coroutine_1():\n",
    "    log.info('coroutine_1 is active on the event loop')\n",
    "\n",
    "    log.info('coroutine_1 yielding control. Going to be blocked for 4 seconds')\n",
    "    await asyncio.sleep(4)\n",
    "\n",
    "    log.info('coroutine_1 resumed. coroutine_1 exiting')\n",
    "    \n",
    "\n",
    "async def coroutine_2():\n",
    "    log.info('coroutine_2 is active on the event loop')\n",
    "\n",
    "    log.info('coroutine_2 yielding control. Going to be blocked for 5 seconds')\n",
    "    await asyncio.sleep(5)\n",
    "\n",
    "    log.info('coroutine_2 resumed. coroutine_2 exiting')\n",
    "    \n",
    "\n",
    "if __name__ == '__main__':\n",
    "    main()"
   ]
  },
  {
   "cell_type": "code",
   "execution_count": 9,
   "metadata": {},
   "outputs": [
    {
     "name": "stdout",
     "output_type": "stream",
     "text": [
      "2020-03-23 17:22:53,561 INFO:root:coroutine_1 is active on the event loop\n",
      "2020-03-23 17:22:53,562 INFO:root:coroutine_1 yielding control. Going to be blocked for 4 seconds\n",
      "2020-03-23 17:22:53,562 INFO:root:coroutine_2 is active on the event loop\n",
      "2020-03-23 17:22:53,562 INFO:root:coroutine_2 yielding control. Going to be blocked for 5 seconds\n",
      "2020-03-23 17:22:57,566 INFO:root:coroutine_1 resumed. coroutine_1 exiting\n",
      "2020-03-23 17:22:58,562 INFO:root:coroutine_2 resumed. coroutine_2 exiting\n"
     ]
    }
   ],
   "source": [
    "!python data/asyncio-examples/asyncio-new.py"
   ]
  },
  {
   "cell_type": "markdown",
   "metadata": {},
   "source": [
    "Slightly more complex: simple web crawler"
   ]
  },
  {
   "cell_type": "code",
   "execution_count": 10,
   "metadata": {},
   "outputs": [
    {
     "name": "stdout",
     "output_type": "stream",
     "text": [
      "Looking in links: /Users/rick446/src/wheelhouse\n",
      "Requirement already satisfied: aiohttp-requests in /Users/rick446/.virtualenvs/py37/lib/python3.7/site-packages (0.1.2)\n",
      "Requirement already satisfied: beautifulsoup4 in /Users/rick446/.virtualenvs/py37/lib/python3.7/site-packages (4.8.1)\n",
      "Requirement already satisfied: aiodns in /Users/rick446/.virtualenvs/py37/lib/python3.7/site-packages (from aiohttp-requests) (2.0.0)\n",
      "Requirement already satisfied: aiohttp<=3.0.9 in /Users/rick446/.virtualenvs/py37/lib/python3.7/site-packages (from aiohttp-requests) (3.0.9)\n",
      "Requirement already satisfied: cchardet in /Users/rick446/.virtualenvs/py37/lib/python3.7/site-packages (from aiohttp-requests) (2.1.4)\n",
      "Requirement already satisfied: soupsieve>=1.2 in /Users/rick446/.virtualenvs/py37/lib/python3.7/site-packages (from beautifulsoup4) (1.9.5)\n",
      "Requirement already satisfied: pycares>=3.0.0 in /Users/rick446/.virtualenvs/py37/lib/python3.7/site-packages (from aiodns->aiohttp-requests) (3.0.0)\n",
      "Requirement already satisfied: async-timeout<3.0,>=1.2 in /Users/rick446/.virtualenvs/py37/lib/python3.7/site-packages (from aiohttp<=3.0.9->aiohttp-requests) (2.0.1)\n",
      "Requirement already satisfied: attrs>=17.3.0 in /Users/rick446/.virtualenvs/py37/lib/python3.7/site-packages (from aiohttp<=3.0.9->aiohttp-requests) (19.1.0)\n",
      "Requirement already satisfied: yarl<2.0,>=1.0 in /Users/rick446/.virtualenvs/py37/lib/python3.7/site-packages (from aiohttp<=3.0.9->aiohttp-requests) (1.3.0)\n",
      "Requirement already satisfied: multidict<5.0,>=4.0 in /Users/rick446/.virtualenvs/py37/lib/python3.7/site-packages (from aiohttp<=3.0.9->aiohttp-requests) (4.5.2)\n",
      "Requirement already satisfied: chardet<4.0,>=2.0 in /Users/rick446/.virtualenvs/py37/lib/python3.7/site-packages (from aiohttp<=3.0.9->aiohttp-requests) (3.0.4)\n",
      "Requirement already satisfied: cffi>=1.5.0 in /Users/rick446/.virtualenvs/py37/lib/python3.7/site-packages (from pycares>=3.0.0->aiodns->aiohttp-requests) (1.12.3)\n",
      "Requirement already satisfied: idna>=2.0 in /Users/rick446/.virtualenvs/py37/lib/python3.7/site-packages (from yarl<2.0,>=1.0->aiohttp<=3.0.9->aiohttp-requests) (2.8)\n",
      "Requirement already satisfied: pycparser in /Users/rick446/.virtualenvs/py37/lib/python3.7/site-packages (from cffi>=1.5.0->pycares>=3.0.0->aiodns->aiohttp-requests) (2.19)\n",
      "\u001b[33mYou are using pip version 19.0.3, however version 20.0.2 is available.\n",
      "You should consider upgrading via the 'pip install --upgrade pip' command.\u001b[0m\n"
     ]
    }
   ],
   "source": [
    "!python3 -m pip install aiohttp-requests beautifulsoup4"
   ]
  },
  {
   "cell_type": "code",
   "execution_count": 11,
   "metadata": {},
   "outputs": [],
   "source": [
    "from urllib.parse import urljoin, splittype\n",
    "\n",
    "import bs4\n",
    "from aiohttp_requests import requests\n",
    "\n",
    "async def get_links(url):\n",
    "    response = await requests.get(url, ssl=False)\n",
    "    text = await response.text()\n",
    "    soup = bs4.BeautifulSoup(text, 'html.parser')\n",
    "    hrefs = (a.attrs.get('href') for a in soup.find_all('a'))\n",
    "    hrefs = (href for href in hrefs if href)\n",
    "    hrefs = (urljoin(url, href) for href in hrefs)\n",
    "    hrefs = (href for href in hrefs if splittype(href)[0] in ('http', 'https'))\n",
    "    hrefs = (href.split('#')[0] for href in hrefs)\n",
    "    return list(hrefs)\n"
   ]
  },
  {
   "cell_type": "code",
   "execution_count": 12,
   "metadata": {},
   "outputs": [],
   "source": [
    "import re\n",
    "import asyncio\n",
    "from urllib.parse import urlparse\n",
    "\n",
    "hrefs_seen = set()\n",
    "is_python = re.compile(r'www\\.python\\.org')\n",
    "queue = asyncio.Queue()\n",
    "\n",
    "def valid_host(href):\n",
    "    pr = urlparse(href)\n",
    "    return is_python.search(pr.netloc)\n",
    "\n",
    "async def queue_url(url):\n",
    "    if url not in hrefs_seen and valid_host(url):\n",
    "        hrefs_seen.add(url)\n",
    "        await queue.put(url)\n",
    "        \n",
    "async def handle_page(url):\n",
    "    print(f'Handling {url}')\n",
    "    for link in await get_links(url):\n",
    "        await queue_url(link)    \n",
    "        \n",
    "async def crawl():\n",
    "    try:\n",
    "        while len(hrefs_seen) < 200:\n",
    "            url = queue.get_nowait()\n",
    "            await handle_page(url)\n",
    "    except asyncio.QueueEmpty:\n",
    "        print('No more urls!')"
   ]
  },
  {
   "cell_type": "code",
   "execution_count": 13,
   "metadata": {},
   "outputs": [],
   "source": [
    "ROOT = 'https://www.python.org'"
   ]
  },
  {
   "cell_type": "code",
   "execution_count": 14,
   "metadata": {},
   "outputs": [
    {
     "name": "stdout",
     "output_type": "stream",
     "text": [
      "Handling https://www.python.org\n"
     ]
    }
   ],
   "source": [
    "await handle_page(ROOT)"
   ]
  },
  {
   "cell_type": "code",
   "execution_count": 15,
   "metadata": {
    "scrolled": false
   },
   "outputs": [
    {
     "name": "stdout",
     "output_type": "stream",
     "text": [
      "Handling https://www.python.org\n",
      "Handling https://www.python.org/\n",
      "Handling https://www.python.org/psf-landing/\n",
      "Handling https://www.python.org/jobs/\n",
      "Handling https://www.python.org/community/\n",
      "Handling https://www.python.org/psf/donations/\n",
      "Handling https://www.python.org/community/irc/\n",
      "Handling https://www.python.org/about/\n",
      "Handling https://www.python.org/about/apps/\n",
      "Handling https://www.python.org/about/quotes/\n",
      "Handling https://www.python.org/about/gettingstarted/\n",
      "Handling https://www.python.org/about/help/\n",
      "Handling https://www.python.org/downloads/\n"
     ]
    },
    {
     "data": {
      "text/plain": [
       "[None, None, None, None, None, None, None, None]"
      ]
     },
     "execution_count": 15,
     "metadata": {},
     "output_type": "execute_result"
    }
   ],
   "source": [
    "await asyncio.gather(*[crawl() for i in range(8)])"
   ]
  },
  {
   "cell_type": "code",
   "execution_count": 16,
   "metadata": {
    "scrolled": true
   },
   "outputs": [
    {
     "name": "stdout",
     "output_type": "stream",
     "text": [
      "https://www.python.org/downloads/source/\n",
      "https://www.python.org/downloads/windows/\n",
      "https://www.python.org/downloads/mac-osx/\n",
      "https://www.python.org/download/other/\n",
      "https://www.python.org/download/alternatives\n",
      "https://www.python.org/doc/\n",
      "https://www.python.org/doc/av\n",
      "https://www.python.org/doc/essays/\n",
      "https://www.python.org/community/survey\n",
      "https://www.python.org/community/diversity/\n",
      "https://www.python.org/community/lists/\n",
      "https://www.python.org/community/forums/\n",
      "https://www.python.org/psf/annual-report/2019/\n",
      "https://www.python.org/community/workshops/\n",
      "https://www.python.org/community/sigs/\n",
      "https://www.python.org/community/logos/\n",
      "https://www.python.org/community/merchandise/\n",
      "https://www.python.org/community/awards\n",
      "https://www.python.org/psf/conduct/\n",
      "https://www.python.org/success-stories/\n",
      "https://www.python.org/success-stories/category/arts/\n",
      "https://www.python.org/success-stories/category/business/\n",
      "https://www.python.org/success-stories/category/education/\n",
      "https://www.python.org/success-stories/category/engineering/\n",
      "https://www.python.org/success-stories/category/government/\n",
      "https://www.python.org/success-stories/category/scientific/\n",
      "https://www.python.org/success-stories/category/software-development/\n",
      "https://www.python.org/blogs/\n",
      "https://www.python.org/psf/newsletter/\n",
      "https://www.python.org/events/\n",
      "https://www.python.org/events/python-events\n",
      "https://www.python.org/events/python-user-group/\n",
      "https://www.python.org/events/python-events/past/\n",
      "https://www.python.org/events/python-user-group/past/\n",
      "https://www.python.org/shell/\n",
      "https://www.python.org/downloads/release/python-382/\n",
      "https://www.python.org/events/calendars/\n",
      "https://www.python.org/events/python-user-group/957/\n",
      "https://www.python.org/events/python-user-group/962/\n",
      "https://www.python.org/events/python-user-group/900/\n",
      "https://www.python.org/events/python-events/879/\n",
      "https://www.python.org/events/python-events/902/\n",
      "https://www.python.org/success-stories/building-an-open-source-and-cross-platform-azure-cli-with-python/\n",
      "https://www.python.org/about/apps\n",
      "https://www.python.org/dev/peps/\n",
      "https://www.python.org/dev/peps/peps.rss\n",
      "https://www.python.org/psf/\n",
      "https://www.python.org/users/membership/\n",
      "https://www.python.org/dev/\n",
      "https://www.python.org/dev/core-mentorship/\n",
      "https://www.python.org/dev/security/\n",
      "https://www.python.org/about/legal/\n",
      "https://www.python.org/privacy/\n",
      "https://www.python.org/psf/sponsorship/sponsors/\n",
      "https://www.python.org/community/sigs/current/edu-sig\n",
      "https://www.python.org/psf/about/\n",
      "https://www.python.org/psf/mission/\n",
      "https://www.python.org/psf/records/\n",
      "https://www.python.org/psf/committees/\n",
      "https://www.python.org/nominations/elections/\n",
      "https://www.python.org/psf/sponsorship/\n",
      "https://www.python.org/psf/membership/\n",
      "https://www.python.org/psf/members/\n",
      "https://www.python.org/psf/league/\n",
      "https://www.python.org/community/awards/\n",
      "https://www.python.org/psf/volunteer/\n",
      "https://www.python.org/psf/contrib/\n",
      "https://www.python.org/psf/fraud/\n",
      "https://www.python.org/psf/grants/\n",
      "https://www.python.org/psf/grants/faq/\n",
      "https://www.python.org/psf/bylaws/\n",
      "https://www.python.org/psf/trademarks/\n",
      "https://www.python.org/psf/weblog-policy/\n",
      "https://www.python.org/psf/license\n",
      "https://www.python.org/psf/press-release/\n",
      "https://www.python.org/psf/membership\n",
      "https://www.python.org/psf/volunteer\n",
      "https://www.python.org/community/awards/psf-awards/\n",
      "https://www.python.org/psf/about\n",
      "https://www.python.org/psf/wirexfer\n",
      "https://www.python.org/m/files/irs_determination.pdf\n",
      "https://www.python.org/jobs/types/\n",
      "https://www.python.org/jobs/type/back-end/\n",
      "https://www.python.org/jobs/type/big-data/\n",
      "https://www.python.org/jobs/type/cloud/\n",
      "https://www.python.org/jobs/type/database/\n",
      "https://www.python.org/jobs/type/evangelism/\n",
      "https://www.python.org/jobs/type/finance/\n",
      "https://www.python.org/jobs/type/front-end/\n",
      "https://www.python.org/jobs/type/image-processing/\n",
      "https://www.python.org/jobs/type/integration/\n",
      "https://www.python.org/jobs/type/lead/\n",
      "https://www.python.org/jobs/type/machine-learning/\n",
      "https://www.python.org/jobs/type/management/\n",
      "https://www.python.org/jobs/type/numeric-processing/\n",
      "https://www.python.org/jobs/type/operations/\n",
      "https://www.python.org/jobs/type/systems/\n",
      "https://www.python.org/jobs/type/testing/\n",
      "https://www.python.org/jobs/type/text-processing/\n",
      "https://www.python.org/jobs/type/web/\n",
      "https://www.python.org/jobs/categories/\n",
      "https://www.python.org/jobs/category/administrator/\n",
      "https://www.python.org/jobs/category/developer-engineer/\n",
      "https://www.python.org/jobs/category/other/\n",
      "https://www.python.org/jobs/category/researcher-scientist/\n",
      "https://www.python.org/jobs/locations/\n",
      "https://www.python.org/jobs/location/telecommute/\n",
      "https://www.python.org/jobs/location/arequipa-arequipa-peru/\n",
      "https://www.python.org/jobs/location/arlington-va-or-white-river-junction-vt-va-or-vt-united-states-of-america/\n",
      "https://www.python.org/jobs/location/bangalore-karnataka-india/\n",
      "https://www.python.org/jobs/location/barcelona-catalonia-spain/\n",
      "https://www.python.org/jobs/location/barcelona-spain/\n",
      "https://www.python.org/jobs/location/bogota-colombia-bogota-colombia/\n",
      "https://www.python.org/jobs/location/boston-ma-usa/\n",
      "https://www.python.org/jobs/location/brisbane-queensland-australia/\n",
      "https://www.python.org/jobs/location/bristol-uk/\n",
      "https://www.python.org/jobs/location/bristol-united-kingdom/\n",
      "https://www.python.org/jobs/location/cambridge-united-kingdom/\n",
      "https://www.python.org/jobs/location/cebu-philippines/\n",
      "https://www.python.org/jobs/location/coimbatore-tamilnadu-india/\n",
      "https://www.python.org/jobs/location/copenhagen-denmark/\n",
      "https://www.python.org/jobs/location/dubai-dubai-united-arab-emirates/\n",
      "https://www.python.org/jobs/location/dublin-ireland/\n",
      "https://www.python.org/jobs/location/edgewood-maryland-usa/\n",
      "https://www.python.org/jobs/location/grand-rapids-michigan-us/\n",
      "https://www.python.org/jobs/location/hampton-virginia-usa/\n",
      "https://www.python.org/jobs/location/huntington-beach-ca-united-states/\n",
      "https://www.python.org/jobs/location/hyderabad-telangana-india/\n",
      "https://www.python.org/jobs/location/jersey-city-new-jersey-usa/\n",
      "https://www.python.org/jobs/location/kolkata-west-bengal-india/\n",
      "https://www.python.org/jobs/location/lille-france/\n",
      "https://www.python.org/jobs/location/lisboa-portugal/\n",
      "https://www.python.org/jobs/location/lodz-lodzkie-polska/\n",
      "https://www.python.org/jobs/location/london-hammersmith-united-kingdom/\n",
      "https://www.python.org/jobs/location/london-london-united-kingdom/\n",
      "https://www.python.org/jobs/location/london-or-southampton-england/\n",
      "https://www.python.org/jobs/location/london-uk/\n",
      "https://www.python.org/jobs/location/london-united-kingdom/\n",
      "https://www.python.org/jobs/location/london-victoria-station-london/\n",
      "https://www.python.org/jobs/location/lviv-lviv-ukraine/\n",
      "https://www.python.org/jobs/location/madrid-spain/\n",
      "https://www.python.org/jobs/location/medellin-antioquia-colombia/\n",
      "https://www.python.org/jobs/location/melbourne-victoria-australia/\n",
      "https://www.python.org/jobs/location/milton-keynes-buckinghamshire-england/\n",
      "https://www.python.org/jobs/location/montreal-quebec-canada/\n",
      "https://www.python.org/jobs/location/nashville-tn-united-states/\n",
      "https://www.python.org/jobs/location/new-haven-ct-us/\n",
      "https://www.python.org/jobs/location/new-york-ny-united-states/\n",
      "https://www.python.org/jobs/location/new-york-usa/\n",
      "https://www.python.org/jobs/location/oakland-ca-united-states/\n",
      "https://www.python.org/jobs/location/ottawa-ontario-canada/\n",
      "https://www.python.org/jobs/location/palo-alto-ca-united-states/\n",
      "https://www.python.org/jobs/location/paris-france/\n",
      "https://www.python.org/jobs/location/pittsburgh-pa-and-palo-alto-ca-pennsylvania-united-states/\n",
      "https://www.python.org/jobs/location/pittsburgh-pennsylvania-united-states/\n",
      "https://www.python.org/jobs/location/remote-connecticut-united-states/\n",
      "https://www.python.org/jobs/location/remote-remote/\n",
      "https://www.python.org/jobs/location/seattle-washington-united-states/\n",
      "https://www.python.org/jobs/location/seattle-washington-us/\n",
      "https://www.python.org/jobs/location/singapore-singapore-singapore/\n",
      "https://www.python.org/jobs/location/sydney-nsw-australia/\n",
      "https://www.python.org/jobs/location/tempe-arizona-united-states/\n",
      "https://www.python.org/jobs/location/toronto-ontario-canada/\n",
      "https://www.python.org/jobs/location/torrance-california-usa/\n",
      "https://www.python.org/jobs/location/vadodara-gujarat-india/\n",
      "https://www.python.org/jobs/location/vienna-austria/\n",
      "https://www.python.org/jobs/location/warsaw-poland/\n",
      "https://www.python.org/jobs/location/washington-dc-metro-area-northern-virginia-usa/\n",
      "https://www.python.org/jobs/location/washington-dc-united-states/\n",
      "https://www.python.org/jobs/location/washington-district-of-columbia-united-states/\n",
      "https://www.python.org/jobs/location/wayanad-kerala-india/\n",
      "https://www.python.org/jobs/create/\n",
      "https://www.python.org/jobs/4465/\n",
      "https://www.python.org/jobs/4464/\n",
      "https://www.python.org/jobs/4463/\n",
      "https://www.python.org/jobs/4462/\n",
      "https://www.python.org/jobs/4461/\n",
      "https://www.python.org/jobs/4460/\n",
      "https://www.python.org/jobs/4458/\n",
      "https://www.python.org/jobs/4455/\n",
      "https://www.python.org/jobs/4454/\n",
      "https://www.python.org/jobs/4453/\n",
      "https://www.python.org/jobs/4452/\n",
      "https://www.python.org/jobs/4450/\n",
      "https://www.python.org/jobs/4449/\n",
      "https://www.python.org/jobs/4448/\n",
      "https://www.python.org/jobs/4446/\n",
      "https://www.python.org/jobs/4445/\n",
      "https://www.python.org/jobs/4442/\n",
      "https://www.python.org/jobs/4441/\n",
      "https://www.python.org/jobs/4440/\n",
      "https://www.python.org/jobs/4439/\n",
      "https://www.python.org/jobs/4438/\n",
      "https://www.python.org/jobs/4437/\n",
      "https://www.python.org/jobs/4436/\n",
      "https://www.python.org/jobs/4435/\n",
      "https://www.python.org/jobs/4433/\n",
      "https://www.python.org/jobs/?page=1\n",
      "https://www.python.org/jobs/?page=2\n",
      "https://www.python.org/jobs/?page=3\n",
      "https://www.python.org/jobs/?page=4\n",
      "https://www.python.org/community/jobs/howto/\n",
      "https://www.python.org/accounts/login/?next=/jobs/create/\n",
      "https://www.python.org/accounts/login/?next=/jobs/mine/\n",
      "https://www.python.org/jobs/feed/rss/\n",
      "https://www.python.org/community/lists\n",
      "https://www.python.org/psf\n",
      "https://www.python.org/doc/nonenglish/\n",
      "https://www.python.org/search\n",
      "https://www.python.org/download/\n",
      "https://www.python.org/news/security\n",
      "https://www.python.org/about/website/\n",
      "https://www.python.org/ftp/python/3.8.2/python-3.8.2-macosx10.9.pkg\n",
      "https://www.python.org/ftp/python/3.8.2/Python-3.8.2.tar.xz\n",
      "https://www.python.org/ftp/python/3.8.2/python-3.8.2.exe\n",
      "https://www.python.org/download/pre-releases/\n",
      "https://www.python.org/downloads/release/python-377/\n",
      "https://www.python.org/downloads/release/python-381/\n",
      "https://www.python.org/downloads/release/python-376/\n",
      "https://www.python.org/downloads/release/python-3610/\n",
      "https://www.python.org/downloads/release/python-359/\n",
      "https://www.python.org/downloads/release/python-358/\n",
      "https://www.python.org/downloads/release/python-2717/\n",
      "https://www.python.org/downloads/release/python-375/\n",
      "https://www.python.org/downloads/release/python-380/\n",
      "https://www.python.org/downloads/release/python-374/\n",
      "https://www.python.org/downloads/release/python-369/\n",
      "https://www.python.org/downloads/release/python-373/\n",
      "https://www.python.org/downloads/release/python-3410/\n",
      "https://www.python.org/downloads/release/python-357/\n",
      "https://www.python.org/downloads/release/python-2716/\n",
      "https://www.python.org/downloads/release/python-372/\n",
      "https://www.python.org/downloads/release/python-368/\n",
      "https://www.python.org/downloads/release/python-371/\n",
      "https://www.python.org/downloads/release/python-367/\n",
      "https://www.python.org/downloads/release/python-356/\n",
      "https://www.python.org/downloads/release/python-349/\n",
      "https://www.python.org/downloads/release/python-370/\n",
      "https://www.python.org/downloads/release/python-366/\n",
      "https://www.python.org/downloads/release/python-2715/\n",
      "https://www.python.org/downloads/release/python-365/\n",
      "https://www.python.org/downloads/release/python-348/\n",
      "https://www.python.org/downloads/release/python-355/\n",
      "https://www.python.org/downloads/release/python-364/\n",
      "https://www.python.org/downloads/release/python-363/\n",
      "https://www.python.org/downloads/release/python-337/\n",
      "https://www.python.org/downloads/release/python-2714/\n",
      "https://www.python.org/downloads/release/python-347/\n",
      "https://www.python.org/downloads/release/python-354/\n",
      "https://www.python.org/downloads/release/python-362/\n",
      "https://www.python.org/downloads/release/python-361/\n",
      "https://www.python.org/downloads/release/python-346/\n",
      "https://www.python.org/downloads/release/python-353/\n",
      "https://www.python.org/downloads/release/python-360/\n",
      "https://www.python.org/downloads/release/python-2713/\n",
      "https://www.python.org/downloads/release/python-345/\n",
      "https://www.python.org/downloads/release/python-352/\n",
      "https://www.python.org/downloads/release/python-2712/\n",
      "https://www.python.org/downloads/release/python-344/\n",
      "https://www.python.org/downloads/release/python-351/\n",
      "https://www.python.org/downloads/release/python-2711/\n",
      "https://www.python.org/downloads/release/python-350/\n",
      "https://www.python.org/downloads/release/python-2710/\n",
      "https://www.python.org/downloads/release/python-343/\n",
      "https://www.python.org/downloads/release/python-279/\n",
      "https://www.python.org/downloads/release/python-342/\n",
      "https://www.python.org/downloads/release/python-336/\n",
      "https://www.python.org/downloads/release/python-326/\n",
      "https://www.python.org/downloads/release/python-278/\n",
      "https://www.python.org/downloads/release/python-277/\n",
      "https://www.python.org/downloads/release/python-341/\n",
      "https://www.python.org/downloads/release/python-340/\n",
      "https://www.python.org/downloads/release/python-335/\n",
      "https://www.python.org/downloads/release/python-334/\n",
      "https://www.python.org/downloads/release/python-333/\n",
      "https://www.python.org/downloads/release/python-276/\n",
      "https://www.python.org/downloads/release/python-269/\n",
      "https://www.python.org/downloads/release/python-325/\n",
      "https://www.python.org/downloads/release/python-332/\n",
      "https://www.python.org/downloads/release/python-275/\n",
      "https://www.python.org/downloads/release/python-274/\n",
      "https://www.python.org/downloads/release/python-331/\n",
      "https://www.python.org/downloads/release/python-324/\n",
      "https://www.python.org/downloads/release/python-330/\n",
      "https://www.python.org/downloads/release/python-323/\n",
      "https://www.python.org/downloads/release/python-268/\n",
      "https://www.python.org/downloads/release/python-273/\n",
      "https://www.python.org/downloads/release/python-315/\n",
      "https://www.python.org/downloads/release/python-322/\n",
      "https://www.python.org/downloads/release/python-321/\n",
      "https://www.python.org/downloads/release/python-272/\n",
      "https://www.python.org/downloads/release/python-314/\n",
      "https://www.python.org/downloads/release/python-267/\n",
      "https://www.python.org/downloads/release/python-256/\n",
      "https://www.python.org/downloads/release/python-320/\n",
      "https://www.python.org/downloads/release/python-313/\n",
      "https://www.python.org/downloads/release/python-271/\n",
      "https://www.python.org/downloads/release/python-266/\n",
      "https://www.python.org/downloads/release/python-270/\n",
      "https://www.python.org/downloads/release/python-312/\n",
      "https://www.python.org/downloads/release/python-265/\n",
      "https://www.python.org/downloads/release/python-255/\n",
      "https://www.python.org/downloads/release/python-264/\n",
      "https://www.python.org/downloads/release/python-263/\n",
      "https://www.python.org/downloads/release/python-311/\n",
      "https://www.python.org/downloads/release/python-310/\n",
      "https://www.python.org/downloads/release/python-262/\n",
      "https://www.python.org/downloads/release/python-301/\n",
      "https://www.python.org/downloads/release/python-254/\n",
      "https://www.python.org/downloads/release/python-253/\n",
      "https://www.python.org/downloads/release/python-246/\n",
      "https://www.python.org/downloads/release/python-261/\n",
      "https://www.python.org/downloads/release/python-300/\n",
      "https://www.python.org/downloads/release/python-260/\n",
      "https://www.python.org/downloads/release/python-237/\n",
      "https://www.python.org/downloads/release/python-245/\n",
      "https://www.python.org/downloads/release/python-252/\n",
      "https://www.python.org/downloads/release/python-251/\n",
      "https://www.python.org/downloads/release/python-236/\n",
      "https://www.python.org/downloads/release/python-244/\n",
      "https://www.python.org/downloads/release/python-250/\n",
      "https://www.python.org/downloads/release/python-243/\n",
      "https://www.python.org/downloads/release/python-242/\n",
      "https://www.python.org/downloads/release/python-241/\n",
      "https://www.python.org/downloads/release/python-235/\n",
      "https://www.python.org/downloads/release/python-240/\n",
      "https://www.python.org/downloads/release/python-234/\n",
      "https://www.python.org/downloads/release/python-233/\n",
      "https://www.python.org/downloads/release/python-232/\n",
      "https://www.python.org/downloads/release/python-231/\n",
      "https://www.python.org/downloads/release/python-230/\n",
      "https://www.python.org/downloads/release/python-223/\n",
      "https://www.python.org/downloads/release/python-222/\n",
      "https://www.python.org/downloads/release/python-221/\n",
      "https://www.python.org/downloads/release/python-213/\n",
      "https://www.python.org/downloads/release/python-220/\n",
      "https://www.python.org/downloads/release/python-201/\n",
      "https://www.python.org/download/releases/\n",
      "https://www.python.org/ftp/python/2.7.17/Python-2.7.17.tar.xz\n",
      "https://www.python.org/download/source/\n",
      "https://www.python.org/download/alternatives/\n",
      "https://www.python.org/dev/peps/pep-0569/\n",
      "https://www.python.org/dev/peps/pep-0537/\n",
      "https://www.python.org/dev/peps/pep-0494/\n",
      "https://www.python.org/dev/peps/pep-0478/\n",
      "https://www.python.org/dev/peps/pep-0429/\n",
      "https://www.python.org/dev/peps/pep-0373/\n",
      "https://www.python.org/downloads/unpacking\n",
      "https://www.python.org/downloads/source\n"
     ]
    }
   ],
   "source": [
    "while queue.qsize():\n",
    "    print(await queue.get())"
   ]
  },
  {
   "cell_type": "markdown",
   "metadata": {},
   "source": [
    "# Lab\n",
    "\n",
    "Open [AsyncIO Lab](asyncio-lab.ipynb)"
   ]
  },
  {
   "cell_type": "code",
   "execution_count": null,
   "metadata": {},
   "outputs": [],
   "source": []
  }
 ],
 "metadata": {
  "kernelspec": {
   "display_name": "Python 3",
   "language": "python",
   "name": "python3"
  },
  "language_info": {
   "codemirror_mode": {
    "name": "ipython",
    "version": 3
   },
   "file_extension": ".py",
   "mimetype": "text/x-python",
   "name": "python",
   "nbconvert_exporter": "python",
   "pygments_lexer": "ipython3",
   "version": "3.7.6"
  }
 },
 "nbformat": 4,
 "nbformat_minor": 2
}
