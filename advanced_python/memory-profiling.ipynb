{
 "cells": [
  {
   "cell_type": "markdown",
   "metadata": {},
   "source": [
    "# Guppy / hpy"
   ]
  },
  {
   "cell_type": "code",
   "execution_count": 1,
   "metadata": {},
   "outputs": [
    {
     "name": "stdout",
     "output_type": "stream",
     "text": [
      "Requirement already satisfied: guppy3 in /Users/rick446/.virtualenvs/py37/lib/python3.7/site-packages (3.0.8)\n",
      "\u001b[33mYou are using pip version 19.0.3, however version 19.3.1 is available.\n",
      "You should consider upgrading via the 'pip install --upgrade pip' command.\u001b[0m\n"
     ]
    }
   ],
   "source": [
    "!pip install guppy3"
   ]
  },
  {
   "cell_type": "code",
   "execution_count": 2,
   "metadata": {},
   "outputs": [],
   "source": [
    "from guppy import hpy"
   ]
  },
  {
   "cell_type": "code",
   "execution_count": 3,
   "metadata": {},
   "outputs": [],
   "source": [
    "hp = hpy()"
   ]
  },
  {
   "cell_type": "code",
   "execution_count": 4,
   "metadata": {},
   "outputs": [
    {
     "data": {
      "text/plain": [
       "Partition of a set of 233492 objects. Total size = 29194855 bytes.\n",
       " Index  Count   %     Size   % Cumulative  % Kind (class / dict of class)\n",
       "     0  72019  31  7649417  26   7649417  26 str\n",
       "     1  63332  27  5262456  18  12911873  44 tuple\n",
       "     2  29099  12  2148807   7  15060680  52 bytes\n",
       "     3  14646   6  2118744   7  17179424  59 types.CodeType\n",
       "     4   1951   1  1900080   7  19079504  65 type\n",
       "     5  13070   6  1882080   6  20961584  72 function\n",
       "     6   4179   2  1647536   6  22609120  77 dict (no owner)\n",
       "     7    763   0  1050104   4  23659224  81 dict of module\n",
       "     8   1951   1   940296   3  24599520  84 dict of type\n",
       "     9      3   0   393768   1  24993288  86 _io.BufferedWriter\n",
       "<747 more rows. Type e.g. '_.more' to view.>"
      ]
     },
     "execution_count": 4,
     "metadata": {},
     "output_type": "execute_result"
    }
   ],
   "source": [
    "hp.heap()"
   ]
  },
  {
   "cell_type": "code",
   "execution_count": 5,
   "metadata": {},
   "outputs": [],
   "source": [
    "hp.setrelheap()   # ignore what we've seen so far"
   ]
  },
  {
   "cell_type": "code",
   "execution_count": 6,
   "metadata": {},
   "outputs": [],
   "source": [
    "l = range(10000)"
   ]
  },
  {
   "cell_type": "code",
   "execution_count": 7,
   "metadata": {
    "scrolled": false
   },
   "outputs": [
    {
     "data": {
      "text/plain": [
       "Partition of a set of 251 objects. Total size = 33714 bytes.\n",
       " Index  Count   %     Size   % Cumulative  % Kind (class / dict of class)\n",
       "     0     19   8    10056  30     10056  30 types.FrameType\n",
       "     1     17   7     4600  14     14656  43 dict (no owner)\n",
       "     2     36  14     2512   7     17168  51 tuple\n",
       "     3     12   5     1728   5     18896  56 function\n",
       "     4     15   6     1288   4     20184  60 list\n",
       "     5     14   6     1232   4     21416  64 builtins.weakref\n",
       "     6     10   4     1120   3     22536  67 asyncio.events.Handle\n",
       "     7      8   3     1088   3     23624  70 _asyncio.Future\n",
       "     8     16   6     1061   3     24685  73 str\n",
       "     9      6   2      960   3     25645  76 dict of tornado.gen.Runner\n",
       "<31 more rows. Type e.g. '_.more' to view.>"
      ]
     },
     "execution_count": 7,
     "metadata": {},
     "output_type": "execute_result"
    }
   ],
   "source": [
    "h = hp.heap()\n",
    "h"
   ]
  },
  {
   "cell_type": "code",
   "execution_count": 8,
   "metadata": {},
   "outputs": [
    {
     "data": {
      "text/plain": [
       "24.0"
      ]
     },
     "execution_count": 8,
     "metadata": {},
     "output_type": "execute_result"
    }
   ],
   "source": [
    "233832 / 9743."
   ]
  },
  {
   "cell_type": "code",
   "execution_count": 9,
   "metadata": {},
   "outputs": [
    {
     "data": {
      "text/plain": [
       "Partition of a set of 251 objects. Total size = 33714 bytes.\n",
       " Index  Count   %     Size   % Cumulative  % Type\n",
       "     0     19   8    10056  30     10056  30 types.FrameType\n",
       "     1     36  14     7120  21     17176  51 dict\n",
       "     2     36  14     2512   7     19688  58 tuple\n",
       "     3     12   5     1728   5     21416  64 function\n",
       "     4     15   6     1288   4     22704  67 list\n",
       "     5     14   6     1232   4     23936  71 builtins.weakref\n",
       "     6     10   4     1120   3     25056  74 asyncio.events.Handle\n",
       "     7      8   3     1088   3     26144  78 _asyncio.Future\n",
       "     8     16   6     1061   3     27205  81 str\n",
       "     9     16   6      896   3     28101  83 builtins.cell\n",
       "<22 more rows. Type e.g. '_.more' to view.>"
      ]
     },
     "execution_count": 9,
     "metadata": {},
     "output_type": "execute_result"
    }
   ],
   "source": [
    "h.bytype"
   ]
  },
  {
   "cell_type": "code",
   "execution_count": 10,
   "metadata": {},
   "outputs": [
    {
     "data": {
      "text/plain": [
       "257"
      ]
     },
     "execution_count": 10,
     "metadata": {},
     "output_type": "execute_result"
    }
   ],
   "source": [
    "10000 - 9743"
   ]
  },
  {
   "cell_type": "code",
   "execution_count": 11,
   "metadata": {},
   "outputs": [
    {
     "data": {
      "text/plain": [
       "Partition of a set of 251 objects. Total size = 33714 bytes.\n",
       " Index  Count   %     Size   % Cumulative  % Referrers by Kind (class / dict of class)\n",
       "     0    219  87    31212  93     31212  93 <Nothing>\n",
       "     1     14   6     1232   4     32444  96 guppy.heapy.heapyc.HeapView\n",
       "     2      6   2      414   1     32858  97 tuple\n",
       "     3      5   2      309   1     33167  98 list\n",
       "     4      2   1      194   1     33361  99 set\n",
       "     5      2   1      176   1     33537  99 dict (no owner)\n",
       "     6      2   1      129   0     33666 100 dict (no owner), dict of module, list\n",
       "     7      1   0       48   0     33714 100 dict of module"
      ]
     },
     "execution_count": 11,
     "metadata": {},
     "output_type": "execute_result"
    }
   ],
   "source": [
    "h.byrcs"
   ]
  },
  {
   "cell_type": "code",
   "execution_count": 12,
   "metadata": {},
   "outputs": [
    {
     "name": "stdout",
     "output_type": "stream",
     "text": [
      "id of l is 0x10f653870\n"
     ]
    }
   ],
   "source": [
    "print('id of l is {}'.format(hex(id(l))))"
   ]
  },
  {
   "cell_type": "code",
   "execution_count": 13,
   "metadata": {},
   "outputs": [
    {
     "data": {
      "text/plain": [
       "Set of 251 <mixed> objects. Total size = 33714 bytes.\n",
       " Index     Size   %   Cumulative  %   Brief\n",
       "     0      680   2.0       680   2.0 types.FrameType: <run_cell_async at 0x7fa561059e30>\n",
       "     1      640   1.9      1320   3.9 types.FrameType: <run_ast_nodes at 0x7fa561101a10>\n",
       "     2      584   1.7      1904   5.6 types.FrameType: <do_execute at 0x7fa5610595d0>\n",
       "     3      576   1.7      2480   7.4 types.FrameType: <execute_request at 0x7fa561059160>\n",
       "     4      568   1.7      3048   9.0 types.FrameType: <run_code at 0x7fa55ef48f80>\n",
       "     5      552   1.6      3600  10.7 types.FrameType: <_run_cell at 0x7fa561059c00>\n",
       "     6      552   1.6      4152  12.3 types.FrameType: <dispatch_shell at 0x7fa561302070>\n",
       "     7      536   1.6      4688  13.9 types.FrameType: <wrapper at 0x7fa55ec89b80>\n",
       "     8      536   1.6      5224  15.5 types.FrameType: <wrapper at 0x7fa5610593b0>\n",
       "     9      536   1.6      5760  17.1 types.FrameType: <wrapper at 0x7fa5615c48e0>\n",
       "<241 more rows. Type e.g. '_.more' to view.>"
      ]
     },
     "execution_count": 13,
     "metadata": {},
     "output_type": "execute_result"
    }
   ],
   "source": [
    "h.byid"
   ]
  },
  {
   "cell_type": "code",
   "execution_count": 14,
   "metadata": {},
   "outputs": [
    {
     "data": {
      "text/plain": [
       "Set of 219 <mixed> objects. Total size = 31212 bytes.\n",
       " Index     Size   %   Cumulative  %   Brief\n",
       "     0      680   2.2       680   2.2 types.FrameType: <run_cell_async at 0x7fa561059e30>\n",
       "     1      640   2.1      1320   4.2 types.FrameType: <run_ast_nodes at 0x7fa561101a10>\n",
       "     2      584   1.9      1904   6.1 types.FrameType: <do_execute at 0x7fa5610595d0>\n",
       "     3      576   1.8      2480   7.9 types.FrameType: <execute_request at 0x7fa561059160>\n",
       "     4      568   1.8      3048   9.8 types.FrameType: <run_code at 0x7fa55ef48f80>\n",
       "     5      552   1.8      3600  11.5 types.FrameType: <_run_cell at 0x7fa561059c00>\n",
       "     6      552   1.8      4152  13.3 types.FrameType: <dispatch_shell at 0x7fa561302070>\n",
       "     7      536   1.7      4688  15.0 types.FrameType: <wrapper at 0x7fa55ec89b80>\n",
       "     8      536   1.7      5224  16.7 types.FrameType: <wrapper at 0x7fa5610593b0>\n",
       "     9      536   1.7      5760  18.5 types.FrameType: <wrapper at 0x7fa5615c48e0>\n",
       "<209 more rows. Type e.g. '_.more' to view.>"
      ]
     },
     "execution_count": 14,
     "metadata": {},
     "output_type": "execute_result"
    }
   ],
   "source": [
    "h.byrcs[0].byid"
   ]
  },
  {
   "cell_type": "code",
   "execution_count": 15,
   "metadata": {},
   "outputs": [
    {
     "data": {
      "text/plain": [
       "Partition of a set of 251 objects. Total size = 33714 bytes.\n",
       " Index  Count   %     Size   % Cumulative  % Referred Via:\n",
       "     0    235  94    32638  97     32638  97\n",
       "     1      2   1      208   1     32846  97 '[2]'\n",
       "     2      2   1      158   0     33004  98 '[3]'\n",
       "     3      2   1      129   0     33133  98 '[0]'\n",
       "     4      3   1       99   0     33232  99 '[1]'\n",
       "     5      1   0       88   0     33320  99 \"['<ipython-input-6-80f64dd38807>']\"\n",
       "     6      1   0       88   0     33408  99 \"['<ipython-input-7-19b0b47ad60c>']\"\n",
       "     7      1   0       65   0     33473  99 \"['_i6']\", '[6]'\n",
       "     8      1   0       65   0     33538  99 '[6]'\n",
       "     9      1   0       64   0     33602 100 \"['_i7']\", '[7]'\n",
       "<2 more rows. Type e.g. '_.more' to view.>"
      ]
     },
     "execution_count": 15,
     "metadata": {},
     "output_type": "execute_result"
    }
   ],
   "source": [
    "h.byvia"
   ]
  },
  {
   "cell_type": "markdown",
   "metadata": {},
   "source": [
    "# Pympler"
   ]
  },
  {
   "cell_type": "code",
   "execution_count": 16,
   "metadata": {},
   "outputs": [
    {
     "name": "stdout",
     "output_type": "stream",
     "text": [
      "Requirement already satisfied: pympler in /Users/rick446/.virtualenvs/py37/lib/python3.7/site-packages (0.7)\n",
      "\u001b[33mYou are using pip version 19.0.3, however version 19.3.1 is available.\n",
      "You should consider upgrading via the 'pip install --upgrade pip' command.\u001b[0m\n"
     ]
    }
   ],
   "source": [
    "!pip install pympler"
   ]
  },
  {
   "cell_type": "code",
   "execution_count": 17,
   "metadata": {},
   "outputs": [],
   "source": [
    "import sys"
   ]
  },
  {
   "cell_type": "code",
   "execution_count": 18,
   "metadata": {},
   "outputs": [],
   "source": [
    "from pympler import asizeof"
   ]
  },
  {
   "cell_type": "code",
   "execution_count": 19,
   "metadata": {},
   "outputs": [
    {
     "data": {
      "text/plain": [
       "296"
      ]
     },
     "execution_count": 19,
     "metadata": {},
     "output_type": "execute_result"
    }
   ],
   "source": [
    "lst = [1, 2, 'foo', (1, 2)]\n",
    "asizeof.asizeof(lst)"
   ]
  },
  {
   "cell_type": "code",
   "execution_count": 20,
   "metadata": {},
   "outputs": [
    {
     "data": {
      "text/plain": [
       "104"
      ]
     },
     "execution_count": 20,
     "metadata": {},
     "output_type": "execute_result"
    }
   ],
   "source": [
    "sys.getsizeof(lst)"
   ]
  },
  {
   "cell_type": "code",
   "execution_count": 21,
   "metadata": {},
   "outputs": [],
   "source": [
    "from collections import namedtuple\n",
    "Point = namedtuple('Point', 'x y')"
   ]
  },
  {
   "cell_type": "code",
   "execution_count": 22,
   "metadata": {},
   "outputs": [
    {
     "data": {
      "text/plain": [
       "136"
      ]
     },
     "execution_count": 22,
     "metadata": {},
     "output_type": "execute_result"
    }
   ],
   "source": [
    "asizeof.asizeof(Point(1, 2))"
   ]
  },
  {
   "cell_type": "code",
   "execution_count": 23,
   "metadata": {},
   "outputs": [],
   "source": [
    "class CPoint(object):\n",
    "    __slots__ = ('x', 'y')\n",
    "    def __init__(self, x, y):\n",
    "        self.x, self.y = x, y\n",
    "        "
   ]
  },
  {
   "cell_type": "code",
   "execution_count": 24,
   "metadata": {},
   "outputs": [],
   "source": [
    "class NSPoint(object):\n",
    "    def __init__(self, x, y):\n",
    "        self.x, self.y = x, y\n",
    "        "
   ]
  },
  {
   "cell_type": "code",
   "execution_count": 25,
   "metadata": {},
   "outputs": [
    {
     "data": {
      "text/plain": [
       "128"
      ]
     },
     "execution_count": 25,
     "metadata": {},
     "output_type": "execute_result"
    }
   ],
   "source": [
    "asizeof.asizeof(CPoint(1, 2))"
   ]
  },
  {
   "cell_type": "code",
   "execution_count": 26,
   "metadata": {},
   "outputs": [
    {
     "data": {
      "text/plain": [
       "360"
      ]
     },
     "execution_count": 26,
     "metadata": {},
     "output_type": "execute_result"
    }
   ],
   "source": [
    "asizeof.asizeof(NSPoint(1, 2))"
   ]
  },
  {
   "cell_type": "code",
   "execution_count": 27,
   "metadata": {},
   "outputs": [
    {
     "name": "stdout",
     "output_type": "stream",
     "text": [
      "[1, 2, 'foo', (1, 2)] size=296 flat=104\n",
      "    (1, 2) size=72 flat=72\n",
      "    'foo' size=56 flat=56\n",
      "    1 size=32 flat=32\n",
      "    2 size=32 flat=32\n"
     ]
    }
   ],
   "source": [
    "print(asizeof.asized(lst, detail=1).format())"
   ]
  },
  {
   "cell_type": "code",
   "execution_count": 28,
   "metadata": {},
   "outputs": [
    {
     "data": {
      "text/plain": [
       "264"
      ]
     },
     "execution_count": 28,
     "metadata": {},
     "output_type": "execute_result"
    }
   ],
   "source": [
    "104 + 72 + 40 + 24 + 24"
   ]
  },
  {
   "cell_type": "code",
   "execution_count": 29,
   "metadata": {
    "scrolled": true
   },
   "outputs": [
    {
     "name": "stdout",
     "output_type": "stream",
     "text": [
      "[1001, 1002, 'foo', (1021, 1022)] size=360 flat=104\n",
      "    (1021, 1022) size=136 flat=72\n",
      "    'foo' size=56 flat=56\n",
      "    1001 size=32 flat=32\n",
      "    1002 size=32 flat=32\n"
     ]
    }
   ],
   "source": [
    "lst2 = [1001, 1002, 'foo', (1021, 1022)]\n",
    "print(asizeof.asized(lst2, detail=1).format())"
   ]
  },
  {
   "cell_type": "code",
   "execution_count": 30,
   "metadata": {},
   "outputs": [
    {
     "data": {
      "text/plain": [
       "312"
      ]
     },
     "execution_count": 30,
     "metadata": {},
     "output_type": "execute_result"
    }
   ],
   "source": [
    "104 + 120 + 40 + 24 + 24"
   ]
  },
  {
   "cell_type": "code",
   "execution_count": 31,
   "metadata": {},
   "outputs": [
    {
     "data": {
      "text/plain": [
       "104"
      ]
     },
     "execution_count": 31,
     "metadata": {},
     "output_type": "execute_result"
    }
   ],
   "source": [
    "import sys\n",
    "sys.getsizeof(lst2)"
   ]
  },
  {
   "cell_type": "code",
   "execution_count": 32,
   "metadata": {},
   "outputs": [],
   "source": [
    "import numpy as np\n",
    "arr = np.array([x * 1.1 for x in range(1024)])"
   ]
  },
  {
   "cell_type": "code",
   "execution_count": 33,
   "metadata": {},
   "outputs": [],
   "source": [
    "lst = [x * 1.1 for x in range(1024)]"
   ]
  },
  {
   "cell_type": "code",
   "execution_count": 34,
   "metadata": {},
   "outputs": [
    {
     "data": {
      "text/plain": [
       "33608"
      ]
     },
     "execution_count": 34,
     "metadata": {},
     "output_type": "execute_result"
    }
   ],
   "source": [
    "asizeof.asizeof(lst)"
   ]
  },
  {
   "cell_type": "code",
   "execution_count": 35,
   "metadata": {},
   "outputs": [
    {
     "data": {
      "text/plain": [
       "'array([0.0000e+00, 1.1000e+00, 2.2000e....e+03, 1.1242e+03,\\\\n       1.1253e+03]) size=8288 flat=8288'"
      ]
     },
     "execution_count": 35,
     "metadata": {},
     "output_type": "execute_result"
    }
   ],
   "source": [
    "asizeof.asized(arr, detail=1).format()"
   ]
  },
  {
   "cell_type": "code",
   "execution_count": 36,
   "metadata": {},
   "outputs": [],
   "source": [
    "from pympler import tracker"
   ]
  },
  {
   "cell_type": "code",
   "execution_count": 37,
   "metadata": {},
   "outputs": [],
   "source": [
    "tr = tracker.SummaryTracker()"
   ]
  },
  {
   "cell_type": "code",
   "execution_count": 38,
   "metadata": {},
   "outputs": [
    {
     "name": "stdout",
     "output_type": "stream",
     "text": [
      "                               types |   # objects |   total size\n",
      "==================================== | =========== | ============\n",
      "                        <class 'list |        9897 |   1013.38 KB\n",
      "                         <class 'str |        9896 |    712.53 KB\n",
      "                         <class 'int |        2039 |     55.75 KB\n",
      "                       <class 'bytes |          13 |      1.47 KB\n",
      "                 function (<lambda>) |           6 |    864     B\n",
      "                       <class 'tuple |          11 |    752     B\n",
      "                        <class 'cell |          12 |    672     B\n",
      "                        <class 'dict |           3 |    480     B\n",
      "       <class 'asyncio.events.Handle |           4 |    448     B\n",
      "             <class '_asyncio.Future |           3 |    408     B\n",
      "                   <class 'generator |           3 |    384     B\n",
      "  <class 'builtin_function_or_method |           3 |    240     B\n",
      "          <class 'tornado.gen.Runner |           3 |    192     B\n",
      "                     <class 'weakref |           2 |    176     B\n",
      "                     <class 'Context |           2 |    160     B\n"
     ]
    }
   ],
   "source": [
    "tr.print_diff()"
   ]
  },
  {
   "cell_type": "code",
   "execution_count": 39,
   "metadata": {},
   "outputs": [],
   "source": [
    "lst = list(range(1000, 2000))"
   ]
  },
  {
   "cell_type": "code",
   "execution_count": 40,
   "metadata": {},
   "outputs": [
    {
     "name": "stdout",
     "output_type": "stream",
     "text": [
      "                               types |   # objects |   total size\n",
      "==================================== | =========== | ============\n",
      "                         <class 'int |        1001 |     27.37 KB\n",
      "                 function (<lambda>) |           7 |   1008     B\n",
      "                        <class 'dict |           6 |    960     B\n",
      "       <class 'asyncio.events.Handle |           8 |    896     B\n",
      "             <class '_asyncio.Future |           6 |    816     B\n",
      "                       <class 'tuple |          13 |    800     B\n",
      "                   <class 'generator |           6 |    768     B\n",
      "                     <class 'Context |           9 |    720     B\n",
      "                         <class 'str |           9 |    646     B\n",
      "          <class 'tornado.gen.Runner |           6 |    384     B\n",
      "                      <class 'method |           4 |    288     B\n",
      "           <class 'functools.partial |           3 |    288     B\n",
      "                        <class 'cell |           5 |    280     B\n",
      "                     <class 'weakref |           2 |    176     B\n",
      "  <class 'asyncio.events.TimerHandle |           1 |    128     B\n"
     ]
    }
   ],
   "source": [
    "tr.print_diff()"
   ]
  },
  {
   "cell_type": "code",
   "execution_count": 41,
   "metadata": {},
   "outputs": [
    {
     "name": "stdout",
     "output_type": "stream",
     "text": [
      "                          types |   # objects |   total size\n",
      "=============================== | =========== | ============\n",
      "                   <class 'dict |           3 |      1.54 KB\n",
      "            function (<lambda>) |           4 |    576     B\n",
      "      <class 'collections.deque |           0 |    528     B\n",
      "  <class 'asyncio.events.Handle |           4 |    448     B\n",
      "        <class '_asyncio.Future |           3 |    408     B\n",
      "              <class 'generator |           3 |    384     B\n",
      "                  <class 'tuple |           6 |    360     B\n",
      "                    <class 'str |           5 |    356     B\n",
      "                <class 'Context |           4 |    320     B\n",
      "                   <class 'cell |           4 |    224     B\n",
      "     <class 'tornado.gen.Runner |           3 |    192     B\n",
      "                 <class 'method |           2 |    144     B\n",
      "                  <class 'bytes |           1 |     97     B\n",
      "      <class 'functools.partial |           1 |     96     B\n",
      "                  <class 'float |           1 |     24     B\n"
     ]
    }
   ],
   "source": [
    "tr.print_diff()"
   ]
  },
  {
   "cell_type": "code",
   "execution_count": null,
   "metadata": {},
   "outputs": [],
   "source": []
  }
 ],
 "metadata": {
  "kernelspec": {
   "display_name": "Python 3",
   "language": "python",
   "name": "python3"
  },
  "language_info": {
   "codemirror_mode": {
    "name": "ipython",
    "version": 3
   },
   "file_extension": ".py",
   "mimetype": "text/x-python",
   "name": "python",
   "nbconvert_exporter": "python",
   "pygments_lexer": "ipython3",
   "version": "3.7.4"
  }
 },
 "nbformat": 4,
 "nbformat_minor": 1
}
