{
 "cells": [
  {
   "cell_type": "markdown",
   "metadata": {},
   "source": [
    "# Packaging Projects for Distribution\n",
    "\n",
    "- Creating a basic Python project with `setup.py` and `setup.cfg`\n",
    "- Specifying dependencies\n",
    "- Activating projects in a virtualenv with `setup.py develop`\n",
    "- Distributing data with your project\n",
    "- Using entry points to create console scripts\n",
    "- Uploading source distributions to PyPI"
   ]
  },
  {
   "cell_type": "markdown",
   "metadata": {},
   "source": [
    "# First, some terminology...\n",
    "\n",
    "- a Python **module** is typically a single file ending in `.py` located somewhere along `sys.path` that you can use with the Python `import` statement\n",
    "- a Python **package** is a folder located somewhere along `sys.path` containing a \"magic\" file `__init__.py` which can also be imported. If you import a package, Python is actually importing the `__init__.py` *module* in that *package*. You can also import modules or subpackages from a package.\n",
    "- a Python **project** is a unit of distribution of Python code (it's something you can `pip install`)"
   ]
  },
  {
   "cell_type": "markdown",
   "metadata": {},
   "source": [
    "# Creating a basic Python project with `setup.py` and `setup.cfg`\n",
    "\n",
    "To create a project for distribution, you'll need to create a directory with:\n",
    "\n",
    "- one or more Python packages to distribute\n",
    "- a `setup.py` file\n",
    "- (optionally) a `setup.cfg` file"
   ]
  },
  {
   "cell_type": "code",
   "execution_count": null,
   "metadata": {},
   "outputs": [],
   "source": [
    "%%bash\n",
    "rm -r data/MyProject\n",
    "mkdir -p data/MyProject/mypackage"
   ]
  },
  {
   "cell_type": "code",
   "execution_count": null,
   "metadata": {
    "scrolled": true
   },
   "outputs": [],
   "source": [
    "%%file data/MyProject/mypackage/__init__.py\n",
    "print('This is the __init__ file for mypackage')"
   ]
  },
  {
   "cell_type": "code",
   "execution_count": null,
   "metadata": {},
   "outputs": [],
   "source": [
    "%%file data/MyProject/mypackage/mymodule.py\n",
    "print('This is mymodule')\n",
    "\n",
    "\n",
    "def greet(name):\n",
    "    print(f'Hello, {name}!')"
   ]
  },
  {
   "cell_type": "code",
   "execution_count": null,
   "metadata": {},
   "outputs": [],
   "source": [
    "!find data/MyProject"
   ]
  },
  {
   "cell_type": "markdown",
   "metadata": {},
   "source": [
    "For this demo, we'll use `setup.cfg` to provide metadata for our project, so we only need a minimal setup.py:"
   ]
  },
  {
   "cell_type": "code",
   "execution_count": null,
   "metadata": {},
   "outputs": [],
   "source": [
    "%%file data/MyProject/setup.py\n",
    "from setuptools import setup\n",
    "\n",
    "\n",
    "setup()"
   ]
  },
  {
   "cell_type": "markdown",
   "metadata": {},
   "source": [
    "We can create the `setup.cfg` file to specify how `setuptools` will build and distribute our project:"
   ]
  },
  {
   "cell_type": "code",
   "execution_count": 1,
   "metadata": {},
   "outputs": [
    {
     "name": "stdout",
     "output_type": "stream",
     "text": [
      "Writing data/MyProject/setup.cfg\n"
     ]
    }
   ],
   "source": [
    "%%file data/MyProject/setup.cfg\n",
    "[metadata]\n",
    "name = MyProject\n",
    "version = 0.1\n",
    "url = file:///\n",
    "author = Some Person\n",
    "author_email = somebody@example.com\n",
    "description = This should be a short description of our project\n",
    "long_description = file: README.md\n",
    "# classifiers =\n",
    "#     Programming Language :: Python :: 3\n",
    "#     Programming Language :: Python :: 3.7\n",
    "# keywords = test, class"
   ]
  },
  {
   "cell_type": "markdown",
   "metadata": {},
   "source": [
    "It's always nice to provide a README as well:"
   ]
  },
  {
   "cell_type": "code",
   "execution_count": 2,
   "metadata": {},
   "outputs": [
    {
     "name": "stdout",
     "output_type": "stream",
     "text": [
      "Writing data/MyProject/README.md\n"
     ]
    }
   ],
   "source": [
    "%%file data/MyProject/README.md\n",
    "# MyProject\n",
    "\n",
    "This project is a test setuptools project."
   ]
  },
  {
   "cell_type": "markdown",
   "metadata": {},
   "source": [
    "## Creating a source distribution\n",
    "\n",
    "The entry point for all our project management commands is `setup.py`.\n",
    "\n",
    "We can create a simple source distribution of our project by calling `python setup.py sdist`:"
   ]
  },
  {
   "cell_type": "code",
   "execution_count": 3,
   "metadata": {},
   "outputs": [
    {
     "name": "stdout",
     "output_type": "stream",
     "text": [
      "running sdist\n",
      "running egg_info\n",
      "creating MyProject.egg-info\n",
      "writing MyProject.egg-info/PKG-INFO\n",
      "writing dependency_links to MyProject.egg-info/dependency_links.txt\n",
      "writing top-level names to MyProject.egg-info/top_level.txt\n",
      "writing manifest file 'MyProject.egg-info/SOURCES.txt'\n",
      "reading manifest file 'MyProject.egg-info/SOURCES.txt'\n",
      "writing manifest file 'MyProject.egg-info/SOURCES.txt'\n",
      "running check\n",
      "creating MyProject-0.1\n",
      "creating MyProject-0.1/MyProject.egg-info\n",
      "copying files to MyProject-0.1...\n",
      "copying README.md -> MyProject-0.1\n",
      "copying setup.cfg -> MyProject-0.1\n",
      "copying setup.py -> MyProject-0.1\n",
      "copying MyProject.egg-info/PKG-INFO -> MyProject-0.1/MyProject.egg-info\n",
      "copying MyProject.egg-info/SOURCES.txt -> MyProject-0.1/MyProject.egg-info\n",
      "copying MyProject.egg-info/dependency_links.txt -> MyProject-0.1/MyProject.egg-info\n",
      "copying MyProject.egg-info/top_level.txt -> MyProject-0.1/MyProject.egg-info\n",
      "Writing MyProject-0.1/setup.cfg\n",
      "creating dist\n",
      "Creating tar archive\n",
      "removing 'MyProject-0.1' (and everything under it)\n"
     ]
    },
    {
     "name": "stderr",
     "output_type": "stream",
     "text": [
      "rm: dist: No such file or directory\n"
     ]
    }
   ],
   "source": [
    "%%bash\n",
    "cd data/MyProject\n",
    "rm -r dist\n",
    "python setup.py sdist"
   ]
  },
  {
   "cell_type": "code",
   "execution_count": 4,
   "metadata": {},
   "outputs": [
    {
     "name": "stdout",
     "output_type": "stream",
     "text": [
      "MyProject-0.1/\r\n",
      "MyProject-0.1/MyProject.egg-info/\r\n",
      "MyProject-0.1/MyProject.egg-info/PKG-INFO\r\n",
      "MyProject-0.1/MyProject.egg-info/SOURCES.txt\r\n",
      "MyProject-0.1/MyProject.egg-info/dependency_links.txt\r\n",
      "MyProject-0.1/MyProject.egg-info/top_level.txt\r\n",
      "MyProject-0.1/PKG-INFO\r\n",
      "MyProject-0.1/README.md\r\n",
      "MyProject-0.1/setup.cfg\r\n",
      "MyProject-0.1/setup.py\r\n"
     ]
    }
   ],
   "source": [
    "!tar tzf data/MyProject/dist/MyProject-0.1.tar.gz"
   ]
  },
  {
   "cell_type": "markdown",
   "metadata": {},
   "source": [
    "## Adding our packages\n",
    "\n",
    "So we have an empty project (no packages/modules). We need to tell setuptools to actually include our package explicitly:"
   ]
  },
  {
   "cell_type": "code",
   "execution_count": 5,
   "metadata": {},
   "outputs": [
    {
     "name": "stdout",
     "output_type": "stream",
     "text": [
      "Overwriting data/MyProject/setup.cfg\n"
     ]
    }
   ],
   "source": [
    "%%file data/MyProject/setup.cfg\n",
    "[metadata]\n",
    "name = MyProject\n",
    "url = file:///\n",
    "author = Some Person\n",
    "author_email = somebody@example.com\n",
    "version = 0.1\n",
    "description = This should be a short description of our project\n",
    "long_description = file: README.md\n",
    "classifiers =\n",
    "    Programming Language :: Python :: 3\n",
    "    Programming Language :: Python :: 3.7\n",
    "keywords = test, class\n",
    "\n",
    "[options]\n",
    "packages = mypackage"
   ]
  },
  {
   "cell_type": "code",
   "execution_count": 6,
   "metadata": {},
   "outputs": [
    {
     "name": "stdout",
     "output_type": "stream",
     "text": [
      "running sdist\n",
      "running egg_info\n",
      "writing MyProject.egg-info/PKG-INFO\n",
      "writing dependency_links to MyProject.egg-info/dependency_links.txt\n",
      "writing top-level names to MyProject.egg-info/top_level.txt\n",
      "reading manifest file 'MyProject.egg-info/SOURCES.txt'\n",
      "writing manifest file 'MyProject.egg-info/SOURCES.txt'\n",
      "running check\n",
      "creating MyProject-0.1\n",
      "creating MyProject-0.1/MyProject.egg-info\n",
      "creating MyProject-0.1/mypackage\n",
      "copying files to MyProject-0.1...\n",
      "copying README.md -> MyProject-0.1\n",
      "copying setup.cfg -> MyProject-0.1\n",
      "copying setup.py -> MyProject-0.1\n",
      "copying MyProject.egg-info/PKG-INFO -> MyProject-0.1/MyProject.egg-info\n",
      "copying MyProject.egg-info/SOURCES.txt -> MyProject-0.1/MyProject.egg-info\n",
      "copying MyProject.egg-info/dependency_links.txt -> MyProject-0.1/MyProject.egg-info\n",
      "copying MyProject.egg-info/top_level.txt -> MyProject-0.1/MyProject.egg-info\n",
      "copying mypackage/__init__.py -> MyProject-0.1/mypackage\n",
      "copying mypackage/mymodule.py -> MyProject-0.1/mypackage\n",
      "Writing MyProject-0.1/setup.cfg\n",
      "Creating tar archive\n",
      "removing 'MyProject-0.1' (and everything under it)\n"
     ]
    }
   ],
   "source": [
    "%%bash\n",
    "cd data/MyProject\n",
    "python setup.py sdist"
   ]
  },
  {
   "cell_type": "code",
   "execution_count": 7,
   "metadata": {},
   "outputs": [
    {
     "name": "stdout",
     "output_type": "stream",
     "text": [
      "MyProject-0.1/\r\n",
      "MyProject-0.1/MyProject.egg-info/\r\n",
      "MyProject-0.1/MyProject.egg-info/PKG-INFO\r\n",
      "MyProject-0.1/MyProject.egg-info/SOURCES.txt\r\n",
      "MyProject-0.1/MyProject.egg-info/dependency_links.txt\r\n",
      "MyProject-0.1/MyProject.egg-info/top_level.txt\r\n",
      "MyProject-0.1/PKG-INFO\r\n",
      "MyProject-0.1/README.md\r\n",
      "MyProject-0.1/mypackage/\r\n",
      "MyProject-0.1/mypackage/__init__.py\r\n",
      "MyProject-0.1/mypackage/mymodule.py\r\n",
      "MyProject-0.1/setup.cfg\r\n",
      "MyProject-0.1/setup.py\r\n"
     ]
    }
   ],
   "source": [
    "!tar tzf data/MyProject/dist/MyProject-0.1.tar.gz"
   ]
  },
  {
   "cell_type": "markdown",
   "metadata": {},
   "source": [
    "## Specifying dependencies\n",
    "\n",
    "We can tell setuptools that we depend on particular versions (or version ranges) of other packages with an `install_requires` option:"
   ]
  },
  {
   "cell_type": "code",
   "execution_count": 12,
   "metadata": {},
   "outputs": [
    {
     "name": "stdout",
     "output_type": "stream",
     "text": [
      "Overwriting data/MyProject/setup.cfg\n"
     ]
    }
   ],
   "source": [
    "%%file data/MyProject/setup.cfg\n",
    "[metadata]\n",
    "name = MyProject\n",
    "url = file:///\n",
    "author = Some Person\n",
    "author_email = somebody@example.com\n",
    "version = 0.1\n",
    "description = This should be a short description of our project\n",
    "long_description = file: README.md\n",
    "classifiers =\n",
    "    Programming Language :: Python :: 3\n",
    "    Programming Language :: Python :: 3.7\n",
    "keywords = test, class\n",
    "\n",
    "[options]\n",
    "packages = mypackage\n",
    "install_requires = \n",
    "    numpy>=1.16.0,<1.17"
   ]
  },
  {
   "cell_type": "code",
   "execution_count": 13,
   "metadata": {},
   "outputs": [
    {
     "name": "stdout",
     "output_type": "stream",
     "text": [
      "running sdist\n",
      "running egg_info\n",
      "writing MyProject.egg-info/PKG-INFO\n",
      "writing dependency_links to MyProject.egg-info/dependency_links.txt\n",
      "writing requirements to MyProject.egg-info/requires.txt\n",
      "writing top-level names to MyProject.egg-info/top_level.txt\n",
      "reading manifest file 'MyProject.egg-info/SOURCES.txt'\n",
      "writing manifest file 'MyProject.egg-info/SOURCES.txt'\n",
      "running check\n",
      "creating MyProject-0.1\n",
      "creating MyProject-0.1/MyProject.egg-info\n",
      "creating MyProject-0.1/mypackage\n",
      "copying files to MyProject-0.1...\n",
      "copying README.md -> MyProject-0.1\n",
      "copying setup.cfg -> MyProject-0.1\n",
      "copying setup.py -> MyProject-0.1\n",
      "copying MyProject.egg-info/PKG-INFO -> MyProject-0.1/MyProject.egg-info\n",
      "copying MyProject.egg-info/SOURCES.txt -> MyProject-0.1/MyProject.egg-info\n",
      "copying MyProject.egg-info/dependency_links.txt -> MyProject-0.1/MyProject.egg-info\n",
      "copying MyProject.egg-info/requires.txt -> MyProject-0.1/MyProject.egg-info\n",
      "copying MyProject.egg-info/top_level.txt -> MyProject-0.1/MyProject.egg-info\n",
      "copying mypackage/__init__.py -> MyProject-0.1/mypackage\n",
      "copying mypackage/mymodule.py -> MyProject-0.1/mypackage\n",
      "Writing MyProject-0.1/setup.cfg\n",
      "Creating tar archive\n",
      "removing 'MyProject-0.1' (and everything under it)\n"
     ]
    }
   ],
   "source": [
    "%%bash\n",
    "cd data/MyProject\n",
    "python setup.py sdist"
   ]
  },
  {
   "cell_type": "code",
   "execution_count": 14,
   "metadata": {},
   "outputs": [
    {
     "name": "stdout",
     "output_type": "stream",
     "text": [
      "numpy<1.17,>=1.16.0\r\n"
     ]
    }
   ],
   "source": [
    "cat data/MyProject/MyProject.egg-info/requires.txt"
   ]
  },
  {
   "cell_type": "markdown",
   "metadata": {},
   "source": [
    "# Activating projects using `setup.py develop`\n",
    "\n",
    "When we're developing our project, we probably want its packages to be importable as though it were 'installed' in our virtualenv. To do this, we can invoke `setup.py` with the `develop` option. \n",
    "\n",
    "This creates a `MyProject.egg-link` file in a location along `sys.path` which makes your packages importable from anwhere that uses the virtualenv.\n",
    "\n",
    "Note:\n",
    "\n",
    "`pip install -e .` has equivalent effect to `python setup.py develop`"
   ]
  },
  {
   "cell_type": "code",
   "execution_count": 15,
   "metadata": {
    "scrolled": false
   },
   "outputs": [
    {
     "name": "stdout",
     "output_type": "stream",
     "text": [
      "running develop\n",
      "running egg_info\n",
      "writing MyProject.egg-info/PKG-INFO\n",
      "writing dependency_links to MyProject.egg-info/dependency_links.txt\n",
      "writing requirements to MyProject.egg-info/requires.txt\n",
      "writing top-level names to MyProject.egg-info/top_level.txt\n",
      "reading manifest file 'MyProject.egg-info/SOURCES.txt'\n",
      "writing manifest file 'MyProject.egg-info/SOURCES.txt'\n",
      "running build_ext\n",
      "Creating /Users/rick446/src/arborian-classes/data/MyProject/env/lib/python3.7/site-packages/MyProject.egg-link (link to .)\n",
      "Adding MyProject 0.1 to easy-install.pth file\n",
      "\n",
      "Installed /Users/rick446/src/arborian-classes/data/MyProject\n",
      "Processing dependencies for MyProject==0.1\n",
      "Searching for numpy<1.17,>=1.16.0\n",
      "Reading https://pypi.org/simple/numpy/\n",
      "Downloading https://files.pythonhosted.org/packages/71/13/c4ad2b3d3dfe9254616a2f9aa4b640d6d099a65f93aeec4527566368ee34/numpy-1.16.6-cp37-cp37m-macosx_10_9_x86_64.whl#sha256=97ddfa7688295d460ee48a4d76337e9fdd2506d9d1d0eee7f0348b42b430da4c\n",
      "Best match: numpy 1.16.6\n",
      "Processing numpy-1.16.6-cp37-cp37m-macosx_10_9_x86_64.whl\n",
      "Installing numpy-1.16.6-cp37-cp37m-macosx_10_9_x86_64.whl to /Users/rick446/src/arborian-classes/data/MyProject/env/lib/python3.7/site-packages\n",
      "Adding numpy 1.16.6 to easy-install.pth file\n",
      "Installing f2py script to /Users/rick446/src/arborian-classes/data/MyProject/env/bin\n",
      "Installing f2py3 script to /Users/rick446/src/arborian-classes/data/MyProject/env/bin\n",
      "Installing f2py3.7 script to /Users/rick446/src/arborian-classes/data/MyProject/env/bin\n",
      "\n",
      "Installed /Users/rick446/src/arborian-classes/data/MyProject/env/lib/python3.7/site-packages/numpy-1.16.6-py3.7-macosx-10.14-x86_64.egg\n",
      "Finished processing dependencies for MyProject==0.1\n"
     ]
    }
   ],
   "source": [
    "%%bash\n",
    "cd data/MyProject\n",
    "rm -fr env\n",
    "python -m venv env\n",
    "source env/bin/activate\n",
    "python setup.py develop"
   ]
  },
  {
   "cell_type": "code",
   "execution_count": 16,
   "metadata": {},
   "outputs": [
    {
     "name": "stdout",
     "output_type": "stream",
     "text": [
      "/Users/rick446/src/arborian-classes/data/MyProject\r\n",
      "./numpy-1.16.6-py3.7-macosx-10.14-x86_64.egg\r\n"
     ]
    }
   ],
   "source": [
    "cat data/MyProject/env/lib/python3.7/site-packages/easy-install.pth"
   ]
  },
  {
   "cell_type": "code",
   "execution_count": 17,
   "metadata": {},
   "outputs": [
    {
     "name": "stdout",
     "output_type": "stream",
     "text": [
      "This is the __init__ file for mypackage\n",
      "This is mymodule\n",
      "Hello, class!\n"
     ]
    }
   ],
   "source": [
    "%%bash\n",
    "source data/MyProject/env/bin/activate\n",
    "cd /usr/bin\n",
    "python -c 'import mypackage.mymodule; mypackage.mymodule.greet(\"class\")'"
   ]
  },
  {
   "cell_type": "markdown",
   "metadata": {},
   "source": [
    "## Distributing data with our project\n",
    "\n",
    "Normally, only Python files are included with our project. In order to include non-Python files, we need to specify those as well:"
   ]
  },
  {
   "cell_type": "code",
   "execution_count": 18,
   "metadata": {},
   "outputs": [
    {
     "name": "stdout",
     "output_type": "stream",
     "text": [
      "Writing data/MyProject/mypackage/template.txt\n"
     ]
    }
   ],
   "source": [
    "%%file data/MyProject/mypackage/template.txt\n",
    "This is an awesome template that greets you.\n",
    "\n",
    "Hello, ${name}!"
   ]
  },
  {
   "cell_type": "code",
   "execution_count": 19,
   "metadata": {},
   "outputs": [
    {
     "name": "stdout",
     "output_type": "stream",
     "text": [
      "Overwriting data/MyProject/mypackage/mymodule.py\n"
     ]
    }
   ],
   "source": [
    "%%file data/MyProject/mypackage/mymodule.py\n",
    "import os, string\n",
    "\n",
    "\n",
    "def greet(name):\n",
    "    with open(os.path.join(\n",
    "        os.path.dirname(__file__),\n",
    "        'template.txt'\n",
    "    )) as f:\n",
    "        template = string.Template(f.read())\n",
    "    print(template.safe_substitute({'name': name}))"
   ]
  },
  {
   "cell_type": "code",
   "execution_count": 20,
   "metadata": {},
   "outputs": [
    {
     "name": "stdout",
     "output_type": "stream",
     "text": [
      "running sdist\n",
      "running egg_info\n",
      "writing MyProject.egg-info/PKG-INFO\n",
      "writing dependency_links to MyProject.egg-info/dependency_links.txt\n",
      "writing requirements to MyProject.egg-info/requires.txt\n",
      "writing top-level names to MyProject.egg-info/top_level.txt\n",
      "reading manifest file 'MyProject.egg-info/SOURCES.txt'\n",
      "writing manifest file 'MyProject.egg-info/SOURCES.txt'\n",
      "running check\n",
      "creating MyProject-0.1\n",
      "creating MyProject-0.1/MyProject.egg-info\n",
      "creating MyProject-0.1/mypackage\n",
      "copying files to MyProject-0.1...\n",
      "copying README.md -> MyProject-0.1\n",
      "copying setup.cfg -> MyProject-0.1\n",
      "copying setup.py -> MyProject-0.1\n",
      "copying MyProject.egg-info/PKG-INFO -> MyProject-0.1/MyProject.egg-info\n",
      "copying MyProject.egg-info/SOURCES.txt -> MyProject-0.1/MyProject.egg-info\n",
      "copying MyProject.egg-info/dependency_links.txt -> MyProject-0.1/MyProject.egg-info\n",
      "copying MyProject.egg-info/requires.txt -> MyProject-0.1/MyProject.egg-info\n",
      "copying MyProject.egg-info/top_level.txt -> MyProject-0.1/MyProject.egg-info\n",
      "copying mypackage/__init__.py -> MyProject-0.1/mypackage\n",
      "copying mypackage/mymodule.py -> MyProject-0.1/mypackage\n",
      "Writing MyProject-0.1/setup.cfg\n",
      "Creating tar archive\n",
      "removing 'MyProject-0.1' (and everything under it)\n"
     ]
    }
   ],
   "source": [
    "%%bash\n",
    "cd data/MyProject\n",
    "python setup.py sdist"
   ]
  },
  {
   "cell_type": "code",
   "execution_count": 21,
   "metadata": {},
   "outputs": [
    {
     "name": "stdout",
     "output_type": "stream",
     "text": [
      "Overwriting data/MyProject/setup.cfg\n"
     ]
    }
   ],
   "source": [
    "%%file data/MyProject/setup.cfg\n",
    "[metadata]\n",
    "name = MyProject\n",
    "url = file:///\n",
    "author = Some Person\n",
    "author_email = somebody@example.com\n",
    "version = 0.1\n",
    "description = This should be a short description of our project\n",
    "long_description = file: README.md\n",
    "classifiers =\n",
    "    Programming Language :: Python :: 3\n",
    "    Programming Language :: Python :: 3.7\n",
    "keywords = test, class\n",
    "\n",
    "[options]\n",
    "packages = mypackage\n",
    "install_requires = \n",
    "    numpy>=1.16.0<1.17\n",
    "    \n",
    "[options.package_data]\n",
    "* = *.txt"
   ]
  },
  {
   "cell_type": "code",
   "execution_count": 22,
   "metadata": {},
   "outputs": [
    {
     "name": "stdout",
     "output_type": "stream",
     "text": [
      "running sdist\n",
      "running egg_info\n",
      "writing MyProject.egg-info/PKG-INFO\n",
      "writing dependency_links to MyProject.egg-info/dependency_links.txt\n",
      "writing requirements to MyProject.egg-info/requires.txt\n",
      "writing top-level names to MyProject.egg-info/top_level.txt\n",
      "reading manifest file 'MyProject.egg-info/SOURCES.txt'\n",
      "writing manifest file 'MyProject.egg-info/SOURCES.txt'\n",
      "running check\n",
      "creating MyProject-0.1\n",
      "creating MyProject-0.1/MyProject.egg-info\n",
      "creating MyProject-0.1/mypackage\n",
      "copying files to MyProject-0.1...\n",
      "copying README.md -> MyProject-0.1\n",
      "copying setup.cfg -> MyProject-0.1\n",
      "copying setup.py -> MyProject-0.1\n",
      "copying MyProject.egg-info/PKG-INFO -> MyProject-0.1/MyProject.egg-info\n",
      "copying MyProject.egg-info/SOURCES.txt -> MyProject-0.1/MyProject.egg-info\n",
      "copying MyProject.egg-info/dependency_links.txt -> MyProject-0.1/MyProject.egg-info\n",
      "copying MyProject.egg-info/requires.txt -> MyProject-0.1/MyProject.egg-info\n",
      "copying MyProject.egg-info/top_level.txt -> MyProject-0.1/MyProject.egg-info\n",
      "copying mypackage/__init__.py -> MyProject-0.1/mypackage\n",
      "copying mypackage/mymodule.py -> MyProject-0.1/mypackage\n",
      "copying mypackage/template.txt -> MyProject-0.1/mypackage\n",
      "Writing MyProject-0.1/setup.cfg\n",
      "Creating tar archive\n",
      "removing 'MyProject-0.1' (and everything under it)\n"
     ]
    }
   ],
   "source": [
    "%%bash\n",
    "cd data/MyProject\n",
    "python setup.py sdist"
   ]
  },
  {
   "cell_type": "code",
   "execution_count": 23,
   "metadata": {},
   "outputs": [
    {
     "name": "stdout",
     "output_type": "stream",
     "text": [
      "This is the __init__ file for mypackage\n",
      "This is an awesome template that greets you.\n",
      "\n",
      "Hello, class!\n",
      "\n"
     ]
    }
   ],
   "source": [
    "%%bash\n",
    "source data/MyProject/env/bin/activate\n",
    "cd /\n",
    "python -c 'import mypackage.mymodule; mypackage.mymodule.greet(\"class\")'"
   ]
  },
  {
   "cell_type": "markdown",
   "metadata": {},
   "source": [
    "# Using entry_points for console_scripts\n",
    "\n",
    "If you need to create a new command-line tool, a nice approach is to use the `entry_points` feature of `setuptools`:"
   ]
  },
  {
   "cell_type": "code",
   "execution_count": 24,
   "metadata": {},
   "outputs": [
    {
     "name": "stdout",
     "output_type": "stream",
     "text": [
      "Overwriting data/MyProject/setup.cfg\n"
     ]
    }
   ],
   "source": [
    "%%file data/MyProject/setup.cfg\n",
    "[metadata]\n",
    "name = MyProject\n",
    "url = file:///\n",
    "author = Some Person\n",
    "author_email = somebody@example.com\n",
    "version = 0.1\n",
    "description = This should be a short description of our project\n",
    "long_description = file: README.md\n",
    "classifiers =\n",
    "    Programming Language :: Python :: 3\n",
    "    Programming Language :: Python :: 3.7\n",
    "keywords = test, class\n",
    "\n",
    "[options]\n",
    "packages = mypackage\n",
    "install_requires = \n",
    "    numpy>=1.16.0<1.17\n",
    "    \n",
    "[options.package_data]\n",
    "* = *.txt\n",
    "\n",
    "[options.entry_points]\n",
    "console_scripts =\n",
    "  my-greet=mypackage.mymodule:greet_main"
   ]
  },
  {
   "cell_type": "code",
   "execution_count": 25,
   "metadata": {},
   "outputs": [
    {
     "name": "stdout",
     "output_type": "stream",
     "text": [
      "Overwriting data/MyProject/mypackage/mymodule.py\n"
     ]
    }
   ],
   "source": [
    "%%file data/MyProject/mypackage/mymodule.py\n",
    "import os, sys, string\n",
    "\n",
    "\n",
    "def greet(name):\n",
    "    with open(os.path.join(\n",
    "        os.path.dirname(__file__),\n",
    "        'template.txt'\n",
    "    )) as f:\n",
    "        template = string.Template(f.read())\n",
    "    print(template.safe_substitute({'name': name}))\n",
    "    \n",
    "    \n",
    "def greet_main():\n",
    "    if len(sys.argv) > 1:\n",
    "        name = sys.argv[1]\n",
    "    else:\n",
    "        name = 'unknown human'\n",
    "    greet(name)"
   ]
  },
  {
   "cell_type": "code",
   "execution_count": 26,
   "metadata": {
    "scrolled": true
   },
   "outputs": [
    {
     "name": "stdout",
     "output_type": "stream",
     "text": [
      "running develop\n",
      "running egg_info\n",
      "writing MyProject.egg-info/PKG-INFO\n",
      "writing dependency_links to MyProject.egg-info/dependency_links.txt\n",
      "writing entry points to MyProject.egg-info/entry_points.txt\n",
      "writing requirements to MyProject.egg-info/requires.txt\n",
      "writing top-level names to MyProject.egg-info/top_level.txt\n",
      "reading manifest file 'MyProject.egg-info/SOURCES.txt'\n",
      "writing manifest file 'MyProject.egg-info/SOURCES.txt'\n",
      "running build_ext\n",
      "Creating /Users/rick446/src/arborian-classes/data/MyProject/env/lib/python3.7/site-packages/MyProject.egg-link (link to .)\n",
      "MyProject 0.1 is already the active version in easy-install.pth\n",
      "Installing my-greet script to /Users/rick446/src/arborian-classes/data/MyProject/env/bin\n",
      "\n",
      "Installed /Users/rick446/src/arborian-classes/data/MyProject\n",
      "Processing dependencies for MyProject==0.1\n",
      "Searching for numpy==1.16.6\n",
      "Best match: numpy 1.16.6\n",
      "Processing numpy-1.16.6-py3.7-macosx-10.14-x86_64.egg\n",
      "numpy 1.16.6 is already the active version in easy-install.pth\n",
      "Installing f2py script to /Users/rick446/src/arborian-classes/data/MyProject/env/bin\n",
      "Installing f2py3 script to /Users/rick446/src/arborian-classes/data/MyProject/env/bin\n",
      "Installing f2py3.7 script to /Users/rick446/src/arborian-classes/data/MyProject/env/bin\n",
      "\n",
      "Using /Users/rick446/src/arborian-classes/data/MyProject/env/lib/python3.7/site-packages/numpy-1.16.6-py3.7-macosx-10.14-x86_64.egg\n",
      "Finished processing dependencies for MyProject==0.1\n"
     ]
    }
   ],
   "source": [
    "%%bash\n",
    "cd data/MyProject\n",
    "source env/bin/activate\n",
    "python setup.py develop  # or pip install -e ."
   ]
  },
  {
   "cell_type": "code",
   "execution_count": 27,
   "metadata": {},
   "outputs": [
    {
     "name": "stdout",
     "output_type": "stream",
     "text": [
      "This is the __init__ file for mypackage\n",
      "This is an awesome template that greets you.\n",
      "\n",
      "Hello, unknown human!\n",
      "\n"
     ]
    }
   ],
   "source": [
    "!data/MyProject/env/bin/my-greet"
   ]
  },
  {
   "cell_type": "code",
   "execution_count": 28,
   "metadata": {},
   "outputs": [
    {
     "name": "stdout",
     "output_type": "stream",
     "text": [
      "This is the __init__ file for mypackage\r\n",
      "This is an awesome template that greets you.\r\n",
      "\r\n",
      "Hello, class!\r\n",
      "\r\n"
     ]
    }
   ],
   "source": [
    "!data/MyProject/env/bin/my-greet class"
   ]
  },
  {
   "cell_type": "code",
   "execution_count": 29,
   "metadata": {},
   "outputs": [
    {
     "name": "stdout",
     "output_type": "stream",
     "text": [
      "#!/Users/rick446/src/arborian-classes/data/MyProject/env/bin/python\r\n",
      "# EASY-INSTALL-ENTRY-SCRIPT: 'MyProject','console_scripts','my-greet'\r\n",
      "__requires__ = 'MyProject'\r\n",
      "import re\r\n",
      "import sys\r\n",
      "from pkg_resources import load_entry_point\r\n",
      "\r\n",
      "if __name__ == '__main__':\r\n",
      "    sys.argv[0] = re.sub(r'(-script\\.pyw?|\\.exe)?$', '', sys.argv[0])\r\n",
      "    sys.exit(\r\n",
      "        load_entry_point('MyProject', 'console_scripts', 'my-greet')()\r\n",
      "    )\r\n"
     ]
    }
   ],
   "source": [
    "cat data/MyProject/env/bin/my-greet"
   ]
  },
  {
   "cell_type": "markdown",
   "metadata": {},
   "source": [
    "# Registering with PyPI\n",
    "\n",
    "You'll need to create an account at http://pypi.org"
   ]
  },
  {
   "cell_type": "code",
   "execution_count": 38,
   "metadata": {},
   "outputs": [
    {
     "name": "stdout",
     "output_type": "stream",
     "text": [
      "Overwriting data/MyProject/setup.cfg\n"
     ]
    }
   ],
   "source": [
    "%%file data/MyProject/setup.cfg\n",
    "[metadata]\n",
    ";; change name to make it unique\n",
    "name = ProductionalizingProject-1\n",
    "url = https://github.com/DevelopIntelligence\n",
    "author = Some Person\n",
    "author_email = somebody@example.com\n",
    "version = 0.5.3\n",
    "description = This should be a short description of our project\n",
    "long_description = file: README.md\n",
    "classifiers =\n",
    "    Programming Language :: Python :: 3\n",
    "    Programming Language :: Python :: 3.7\n",
    "keywords = test, class\n",
    "\n",
    "[options]\n",
    "packages = mypackage\n",
    "install_requires = \n",
    "    jupyter\n",
    "    flask\n",
    "    numpy>=1.16.0<1.17\n",
    "    \n",
    "[options.package_data]\n",
    "* = *.txt"
   ]
  },
  {
   "cell_type": "code",
   "execution_count": 39,
   "metadata": {},
   "outputs": [
    {
     "name": "stdout",
     "output_type": "stream",
     "text": [
      "Looking in links: /Users/rick446/src/wheelhouse\n",
      "Collecting twine\n",
      "  Using cached https://files.pythonhosted.org/packages/99/94/08b3b933c611416dad89c8abcc94a6d6c29e8609987235b6e7f10b42de82/twine-3.1.1-py3-none-any.whl\n",
      "Collecting tqdm>=4.14 (from twine)\n",
      "  Using cached https://files.pythonhosted.org/packages/47/55/fd9170ba08a1a64a18a7f8a18f088037316f2a41be04d2fe6ece5a653e8f/tqdm-4.43.0-py2.py3-none-any.whl\n",
      "Collecting requests-toolbelt!=0.9.0,>=0.8.0 (from twine)\n",
      "  Using cached https://files.pythonhosted.org/packages/60/ef/7681134338fc097acef8d9b2f8abe0458e4d87559c689a8c306d0957ece5/requests_toolbelt-0.9.1-py2.py3-none-any.whl\n",
      "Collecting importlib-metadata; python_version < \"3.8\" (from twine)\n",
      "  Using cached https://files.pythonhosted.org/packages/8b/03/a00d504808808912751e64ccf414be53c29cad620e3de2421135fcae3025/importlib_metadata-1.5.0-py2.py3-none-any.whl\n",
      "Collecting keyring>=15.1 (from twine)\n",
      "  Downloading https://files.pythonhosted.org/packages/04/21/42d92822959a37ccc390742c2706c8b06cc6a29c10a5ef2e8d22cf0e2e33/keyring-21.2.0-py3-none-any.whl\n",
      "Requirement already satisfied: setuptools>=0.7.0 in ./env/lib/python3.7/site-packages (from twine) (41.2.0)\n",
      "Collecting readme-renderer>=21.0 (from twine)\n",
      "  Downloading https://files.pythonhosted.org/packages/ec/1c/1250524c071ee847732b2ba884b88db568059eea9b997f9f7b7ceb78f691/readme_renderer-25.0-py2.py3-none-any.whl\n",
      "Collecting requests>=2.20 (from twine)\n",
      "Collecting pkginfo>=1.4.2 (from twine)\n",
      "  Using cached https://files.pythonhosted.org/packages/e6/d5/451b913307b478c49eb29084916639dc53a88489b993530fed0a66bab8b9/pkginfo-1.5.0.1-py2.py3-none-any.whl\n",
      "Collecting zipp>=0.5 (from importlib-metadata; python_version < \"3.8\"->twine)\n",
      "  Using cached https://files.pythonhosted.org/packages/b2/34/bfcb43cc0ba81f527bc4f40ef41ba2ff4080e047acb0586b56b3d017ace4/zipp-3.1.0-py3-none-any.whl\n",
      "Collecting Pygments>=2.5.1 (from readme-renderer>=21.0->twine)\n",
      "  Using cached https://files.pythonhosted.org/packages/2d/68/106af3ae51daf807e9cdcba6a90e518954eb8b70341cee52995540a53ead/Pygments-2.6.1-py3-none-any.whl\n",
      "Collecting bleach>=2.1.0 (from readme-renderer>=21.0->twine)\n",
      "  Using cached https://files.pythonhosted.org/packages/b6/89/dbd5e87a9d990f05a571deabd77c297f6b45213a16b177b76515c73878c5/bleach-3.1.3-py2.py3-none-any.whl\n",
      "Collecting six (from readme-renderer>=21.0->twine)\n",
      "Collecting docutils>=0.13.1 (from readme-renderer>=21.0->twine)\n",
      "  Using cached https://files.pythonhosted.org/packages/81/44/8a15e45ffa96e6cf82956dd8d7af9e666357e16b0d93b253903475ee947f/docutils-0.16-py2.py3-none-any.whl\n",
      "Collecting certifi>=2017.4.17 (from requests>=2.20->twine)\n",
      "Collecting idna<3,>=2.5 (from requests>=2.20->twine)\n",
      "Collecting chardet<4,>=3.0.2 (from requests>=2.20->twine)\n",
      "Collecting urllib3!=1.25.0,!=1.25.1,<1.26,>=1.21.1 (from requests>=2.20->twine)\n",
      "Collecting webencodings (from bleach>=2.1.0->readme-renderer>=21.0->twine)\n",
      "Installing collected packages: tqdm, certifi, idna, chardet, urllib3, requests, requests-toolbelt, zipp, importlib-metadata, keyring, Pygments, webencodings, six, bleach, docutils, readme-renderer, pkginfo, twine\n",
      "Successfully installed Pygments-2.6.1 bleach-3.1.3 certifi-2019.11.28 chardet-3.0.4 docutils-0.16 idna-2.9 importlib-metadata-1.5.0 keyring-21.2.0 pkginfo-1.5.0.1 readme-renderer-25.0 requests-2.23.0 requests-toolbelt-0.9.1 six-1.14.0 tqdm-4.43.0 twine-3.1.1 urllib3-1.25.8 webencodings-0.5.1 zipp-3.1.0\n",
      "running sdist\n",
      "running egg_info\n",
      "creating ProductionalizingProject_1.egg-info\n",
      "writing ProductionalizingProject_1.egg-info/PKG-INFO\n",
      "writing dependency_links to ProductionalizingProject_1.egg-info/dependency_links.txt\n",
      "writing requirements to ProductionalizingProject_1.egg-info/requires.txt\n",
      "writing top-level names to ProductionalizingProject_1.egg-info/top_level.txt\n",
      "writing manifest file 'ProductionalizingProject_1.egg-info/SOURCES.txt'\n",
      "reading manifest file 'ProductionalizingProject_1.egg-info/SOURCES.txt'\n",
      "writing manifest file 'ProductionalizingProject_1.egg-info/SOURCES.txt'\n",
      "running check\n",
      "creating ProductionalizingProject-1-0.5.3\n",
      "creating ProductionalizingProject-1-0.5.3/ProductionalizingProject_1.egg-info\n",
      "creating ProductionalizingProject-1-0.5.3/mypackage\n",
      "copying files to ProductionalizingProject-1-0.5.3...\n",
      "copying README.md -> ProductionalizingProject-1-0.5.3\n",
      "copying setup.cfg -> ProductionalizingProject-1-0.5.3\n",
      "copying setup.py -> ProductionalizingProject-1-0.5.3\n",
      "copying ProductionalizingProject_1.egg-info/PKG-INFO -> ProductionalizingProject-1-0.5.3/ProductionalizingProject_1.egg-info\n",
      "copying ProductionalizingProject_1.egg-info/SOURCES.txt -> ProductionalizingProject-1-0.5.3/ProductionalizingProject_1.egg-info\n",
      "copying ProductionalizingProject_1.egg-info/dependency_links.txt -> ProductionalizingProject-1-0.5.3/ProductionalizingProject_1.egg-info\n",
      "copying ProductionalizingProject_1.egg-info/requires.txt -> ProductionalizingProject-1-0.5.3/ProductionalizingProject_1.egg-info\n",
      "copying ProductionalizingProject_1.egg-info/top_level.txt -> ProductionalizingProject-1-0.5.3/ProductionalizingProject_1.egg-info\n",
      "copying mypackage/__init__.py -> ProductionalizingProject-1-0.5.3/mypackage\n",
      "copying mypackage/mymodule.py -> ProductionalizingProject-1-0.5.3/mypackage\n",
      "copying mypackage/template.txt -> ProductionalizingProject-1-0.5.3/mypackage\n",
      "Writing ProductionalizingProject-1-0.5.3/setup.cfg\n",
      "Creating tar archive\n",
      "removing 'ProductionalizingProject-1-0.5.3' (and everything under it)\n",
      "Uploading distributions to https://upload.pypi.org/legacy/\n",
      "Uploading ProductionalizingProject-1-0.5.3.tar.gz\n",
      "\r",
      "  0%|          | 0.00/4.35k [00:00<?, ?B/s]\r",
      "100%|██████████| 4.35k/4.35k [00:00<00:00, 29.4kB/s]\r",
      "100%|██████████| 4.35k/4.35k [00:01<00:00, 3.02kB/s]\n",
      "\n",
      "View at:\n",
      "https://pypi.org/project/ProductionalizingProject-1/0.5.3/\n"
     ]
    },
    {
     "name": "stderr",
     "output_type": "stream",
     "text": [
      "WARNING: You are using pip version 19.2.3, however version 20.0.2 is available.\n",
      "You should consider upgrading via the 'pip install --upgrade pip' command.\n"
     ]
    }
   ],
   "source": [
    "%%bash\n",
    "cd data/MyProject\n",
    "rm dist/*   # clean up old distributions\n",
    "source env/bin/activate\n",
    "pip install twine\n",
    "python setup.py sdist\n",
    "twine upload dist/*"
   ]
  },
  {
   "cell_type": "code",
   "execution_count": 45,
   "metadata": {},
   "outputs": [
    {
     "name": "stdout",
     "output_type": "stream",
     "text": [
      "usage: twine [-h] [--version] {check,register,upload}\r\n",
      "\r\n",
      "positional arguments:\r\n",
      "  {check,register,upload}\r\n",
      "\r\n",
      "optional arguments:\r\n",
      "  -h, --help            show this help message and exit\r\n",
      "  --version             show program's version number and exit\r\n"
     ]
    }
   ],
   "source": [
    "!data/MyProject/env/bin/twine --help\n"
   ]
  },
  {
   "cell_type": "code",
   "execution_count": 46,
   "metadata": {},
   "outputs": [],
   "source": [
    "!python -m venv env-tmp"
   ]
  },
  {
   "cell_type": "code",
   "execution_count": 47,
   "metadata": {},
   "outputs": [
    {
     "name": "stdout",
     "output_type": "stream",
     "text": [
      "Looking in links: /Users/rick446/src/wheelhouse\n",
      "Collecting ProductionalizingProject-1\n",
      "  Downloading https://files.pythonhosted.org/packages/90/b6/bc38405f7dab35b3f5f4e72d1f6390ae5a85a3ebf14b4c305ca787cea497/ProductionalizingProject-1-0.5.3.tar.gz\n",
      "Collecting jupyter (from ProductionalizingProject-1)\n",
      "Collecting flask (from ProductionalizingProject-1)\n",
      "Collecting numpy>=1.16.0<1.17 (from ProductionalizingProject-1)\n",
      "  Using cached https://files.pythonhosted.org/packages/81/14/6d7c914dac1cb2b596d2adace4aa4574d20c0789780f1339d535e69e271f/numpy-1.18.2-cp37-cp37m-macosx_10_9_x86_64.whl\n",
      "Collecting notebook (from jupyter->ProductionalizingProject-1)\n",
      "Collecting qtconsole (from jupyter->ProductionalizingProject-1)\n",
      "  Using cached https://files.pythonhosted.org/packages/d6/de/2a0bda85367881e27370a206a561326a99fbb05ab9402f4c4ad59761eec4/qtconsole-4.7.1-py2.py3-none-any.whl\n",
      "Collecting jupyter-console (from jupyter->ProductionalizingProject-1)\n",
      "Collecting ipywidgets (from jupyter->ProductionalizingProject-1)\n",
      "Collecting nbconvert (from jupyter->ProductionalizingProject-1)\n",
      "Collecting ipykernel (from jupyter->ProductionalizingProject-1)\n",
      "  Using cached https://files.pythonhosted.org/packages/78/13/cc35fa7aef711d1b384ed8cf4304d1b16c38d8f91c1e8fb1466eae96f828/ipykernel-5.2.0-py3-none-any.whl\n",
      "Collecting Werkzeug>=0.15 (from flask->ProductionalizingProject-1)\n",
      "Collecting itsdangerous>=0.24 (from flask->ProductionalizingProject-1)\n",
      "Collecting Jinja2>=2.10.1 (from flask->ProductionalizingProject-1)\n",
      "Collecting click>=5.1 (from flask->ProductionalizingProject-1)\n",
      "  Downloading https://files.pythonhosted.org/packages/dd/c0/4d8f43a9b16e289f36478422031b8a63b54b6ac3b1ba605d602f10dd54d6/click-7.1.1-py2.py3-none-any.whl (82kB)\n",
      "Collecting ipython-genutils (from notebook->jupyter->ProductionalizingProject-1)\n",
      "Collecting traitlets>=4.2.1 (from notebook->jupyter->ProductionalizingProject-1)\n",
      "Collecting nbformat (from notebook->jupyter->ProductionalizingProject-1)\n",
      "Collecting jupyter-core>=4.6.1 (from notebook->jupyter->ProductionalizingProject-1)\n",
      "  Using cached https://files.pythonhosted.org/packages/63/0d/df2d17cdf389cea83e2efa9a4d32f7d527ba78667e0153a8e676e957b2f7/jupyter_core-4.6.3-py2.py3-none-any.whl\n",
      "Collecting terminado>=0.8.1 (from notebook->jupyter->ProductionalizingProject-1)\n",
      "Collecting Send2Trash (from notebook->jupyter->ProductionalizingProject-1)\n",
      "Collecting tornado>=5.0 (from notebook->jupyter->ProductionalizingProject-1)\n",
      "  Using cached https://files.pythonhosted.org/packages/95/84/119a46d494f008969bf0c775cb2c6b3579d3c4cc1bb1b41a022aa93ee242/tornado-6.0.4.tar.gz\n",
      "Collecting pyzmq>=17 (from notebook->jupyter->ProductionalizingProject-1)\n",
      "  Using cached https://files.pythonhosted.org/packages/2a/55/b6ae78c63ab164715aa4915caed44b7bdfb03af0a421edbbf198b6f9371d/pyzmq-19.0.0-cp37-cp37m-macosx_10_9_x86_64.whl\n",
      "Collecting prometheus-client (from notebook->jupyter->ProductionalizingProject-1)\n",
      "Collecting jupyter-client>=5.3.4 (from notebook->jupyter->ProductionalizingProject-1)\n",
      "  Using cached https://files.pythonhosted.org/packages/e6/d8/b5c03e0810549e74ed29eefb894f566fd806e2be2a25a5dccad29fe42a78/jupyter_client-6.1.0-py3-none-any.whl\n",
      "Collecting qtpy (from qtconsole->jupyter->ProductionalizingProject-1)\n",
      "  Using cached https://files.pythonhosted.org/packages/cd/fd/9972948f02e967b691cc0ca1f26124826a3b88cb38f412a8b7935b8c3c72/QtPy-1.9.0-py2.py3-none-any.whl\n",
      "Collecting pygments (from qtconsole->jupyter->ProductionalizingProject-1)\n",
      "  Using cached https://files.pythonhosted.org/packages/2d/68/106af3ae51daf807e9cdcba6a90e518954eb8b70341cee52995540a53ead/Pygments-2.6.1-py3-none-any.whl\n",
      "Collecting ipython (from jupyter-console->jupyter->ProductionalizingProject-1)\n",
      "  Using cached https://files.pythonhosted.org/packages/61/6f/69f1eec859ce48a86660529b166b6ea466f0f4ab98e4fc0807b835aa22c6/ipython-7.13.0-py3-none-any.whl\n",
      "Collecting prompt-toolkit!=3.0.0,!=3.0.1,<3.1.0,>=2.0.0 (from jupyter-console->jupyter->ProductionalizingProject-1)\n",
      "  Using cached https://files.pythonhosted.org/packages/ab/29/d744cee89937b7e52a5c20ca237a6c77298f757965eb3eb0c653df1bfb14/prompt_toolkit-3.0.4-py3-none-any.whl\n",
      "Collecting widgetsnbextension~=3.5.0 (from ipywidgets->jupyter->ProductionalizingProject-1)\n",
      "Collecting pandocfilters>=1.4.1 (from nbconvert->jupyter->ProductionalizingProject-1)\n",
      "Collecting defusedxml (from nbconvert->jupyter->ProductionalizingProject-1)\n",
      "Collecting bleach (from nbconvert->jupyter->ProductionalizingProject-1)\n",
      "  Using cached https://files.pythonhosted.org/packages/b6/89/dbd5e87a9d990f05a571deabd77c297f6b45213a16b177b76515c73878c5/bleach-3.1.3-py2.py3-none-any.whl\n",
      "Collecting mistune<2,>=0.8.1 (from nbconvert->jupyter->ProductionalizingProject-1)\n",
      "Collecting entrypoints>=0.2.2 (from nbconvert->jupyter->ProductionalizingProject-1)\n",
      "Collecting testpath (from nbconvert->jupyter->ProductionalizingProject-1)\n",
      "Collecting appnope; platform_system == \"Darwin\" (from ipykernel->jupyter->ProductionalizingProject-1)\n",
      "Collecting MarkupSafe>=0.23 (from Jinja2>=2.10.1->flask->ProductionalizingProject-1)\n",
      "  Using cached https://files.pythonhosted.org/packages/ce/c6/f000f1af136ef74e4a95e33785921c73595c5390403f102e9b231b065b7a/MarkupSafe-1.1.1-cp37-cp37m-macosx_10_6_intel.whl\n",
      "Collecting six (from traitlets>=4.2.1->notebook->jupyter->ProductionalizingProject-1)\n",
      "Collecting decorator (from traitlets>=4.2.1->notebook->jupyter->ProductionalizingProject-1)\n",
      "  Using cached https://files.pythonhosted.org/packages/ed/1b/72a1821152d07cf1d8b6fce298aeb06a7eb90f4d6d41acec9861e7cc6df0/decorator-4.4.2-py2.py3-none-any.whl\n",
      "Collecting jsonschema!=2.5.0,>=2.4 (from nbformat->notebook->jupyter->ProductionalizingProject-1)\n",
      "Collecting ptyprocess; os_name != \"nt\" (from terminado>=0.8.1->notebook->jupyter->ProductionalizingProject-1)\n",
      "Collecting python-dateutil>=2.1 (from jupyter-client>=5.3.4->notebook->jupyter->ProductionalizingProject-1)\n",
      "Requirement already satisfied: setuptools>=18.5 in ./env-tmp/lib/python3.7/site-packages (from ipython->jupyter-console->jupyter->ProductionalizingProject-1) (41.2.0)\n",
      "Collecting pexpect; sys_platform != \"win32\" (from ipython->jupyter-console->jupyter->ProductionalizingProject-1)\n",
      "Collecting backcall (from ipython->jupyter-console->jupyter->ProductionalizingProject-1)\n",
      "Collecting pickleshare (from ipython->jupyter-console->jupyter->ProductionalizingProject-1)\n",
      "Collecting jedi>=0.10 (from ipython->jupyter-console->jupyter->ProductionalizingProject-1)\n",
      "Collecting wcwidth (from prompt-toolkit!=3.0.0,!=3.0.1,<3.1.0,>=2.0.0->jupyter-console->jupyter->ProductionalizingProject-1)\n",
      "  Using cached https://files.pythonhosted.org/packages/f6/d5/1ecdac957e3ea12c1b319fcdee8b6917ffaff8b4644d673c4d72d2f20b49/wcwidth-0.1.9-py2.py3-none-any.whl\n",
      "Collecting webencodings (from bleach->nbconvert->jupyter->ProductionalizingProject-1)\n",
      "Collecting importlib-metadata; python_version < \"3.8\" (from jsonschema!=2.5.0,>=2.4->nbformat->notebook->jupyter->ProductionalizingProject-1)\n",
      "  Using cached https://files.pythonhosted.org/packages/8b/03/a00d504808808912751e64ccf414be53c29cad620e3de2421135fcae3025/importlib_metadata-1.5.0-py2.py3-none-any.whl\n",
      "Collecting attrs>=17.4.0 (from jsonschema!=2.5.0,>=2.4->nbformat->notebook->jupyter->ProductionalizingProject-1)\n",
      "Collecting pyrsistent>=0.14.0 (from jsonschema!=2.5.0,>=2.4->nbformat->notebook->jupyter->ProductionalizingProject-1)\n",
      "Collecting parso>=0.5.2 (from jedi>=0.10->ipython->jupyter-console->jupyter->ProductionalizingProject-1)\n",
      "  Using cached https://files.pythonhosted.org/packages/da/15/888f80e429a971d3838124adde705d7b07650aa3a59f4db07d61f653b8cd/parso-0.6.2-py2.py3-none-any.whl\n",
      "Collecting zipp>=0.5 (from importlib-metadata; python_version < \"3.8\"->jsonschema!=2.5.0,>=2.4->nbformat->notebook->jupyter->ProductionalizingProject-1)\n",
      "  Using cached https://files.pythonhosted.org/packages/b2/34/bfcb43cc0ba81f527bc4f40ef41ba2ff4080e047acb0586b56b3d017ace4/zipp-3.1.0-py3-none-any.whl\n",
      "Installing collected packages: ipython-genutils, six, decorator, traitlets, zipp, importlib-metadata, attrs, pyrsistent, jsonschema, jupyter-core, nbformat, MarkupSafe, Jinja2, pandocfilters, defusedxml, webencodings, bleach, mistune, entrypoints, testpath, pygments, nbconvert, ptyprocess, tornado, terminado, Send2Trash, pyzmq, pexpect, wcwidth, prompt-toolkit, backcall, appnope, pickleshare, parso, jedi, ipython, python-dateutil, jupyter-client, ipykernel, prometheus-client, notebook, qtpy, qtconsole, jupyter-console, widgetsnbextension, ipywidgets, jupyter, Werkzeug, itsdangerous, click, flask, numpy, ProductionalizingProject-1\n",
      "  Running setup.py install for tornado: started\n",
      "    Running setup.py install for tornado: finished with status 'done'\n",
      "  Running setup.py install for ProductionalizingProject-1: started\n",
      "    Running setup.py install for ProductionalizingProject-1: finished with status 'done'\n",
      "Successfully installed Jinja2-2.11.1 MarkupSafe-1.1.1 ProductionalizingProject-1-0.5.3 Send2Trash-1.5.0 Werkzeug-1.0.0 appnope-0.1.0 attrs-19.3.0 backcall-0.1.0 bleach-3.1.3 click-7.1.1 decorator-4.4.2 defusedxml-0.6.0 entrypoints-0.3 flask-1.1.1 importlib-metadata-1.5.0 ipykernel-5.2.0 ipython-7.13.0 ipython-genutils-0.2.0 ipywidgets-7.5.1 itsdangerous-1.1.0 jedi-0.16.0 jsonschema-3.2.0 jupyter-1.0.0 jupyter-client-6.1.0 jupyter-console-6.1.0 jupyter-core-4.6.3 mistune-0.8.4 nbconvert-5.6.1 nbformat-5.0.4 notebook-6.0.3 numpy-1.18.2 pandocfilters-1.4.2 parso-0.6.2 pexpect-4.8.0 pickleshare-0.7.5 prometheus-client-0.7.1 prompt-toolkit-3.0.4 ptyprocess-0.6.0 pygments-2.6.1 pyrsistent-0.15.7 python-dateutil-2.8.1 pyzmq-19.0.0 qtconsole-4.7.1 qtpy-1.9.0 six-1.14.0 terminado-0.8.3 testpath-0.4.4 tornado-6.0.4 traitlets-4.3.3 wcwidth-0.1.9 webencodings-0.5.1 widgetsnbextension-3.5.1 zipp-3.1.0\n"
     ]
    },
    {
     "name": "stderr",
     "output_type": "stream",
     "text": [
      "WARNING: You are using pip version 19.2.3, however version 20.0.2 is available.\n",
      "You should consider upgrading via the 'pip install --upgrade pip' command.\n"
     ]
    }
   ],
   "source": [
    "%%bash\n",
    "source env-tmp/bin/activate\n",
    "pip install ProductionalizingProject-1"
   ]
  },
  {
   "cell_type": "code",
   "execution_count": 48,
   "metadata": {},
   "outputs": [
    {
     "name": "stdout",
     "output_type": "stream",
     "text": [
      "-f /Users/rick446/src/wheelhouse\n",
      "appnope==0.1.0\n",
      "attrs==19.3.0\n",
      "backcall==0.1.0\n",
      "bleach==3.1.3\n",
      "click==7.1.1\n",
      "decorator==4.4.2\n",
      "defusedxml==0.6.0\n",
      "entrypoints==0.3\n",
      "Flask==1.1.1\n",
      "importlib-metadata==1.5.0\n",
      "ipykernel==5.2.0\n",
      "ipython==7.13.0\n",
      "ipython-genutils==0.2.0\n",
      "ipywidgets==7.5.1\n",
      "itsdangerous==1.1.0\n",
      "jedi==0.16.0\n",
      "Jinja2==2.11.1\n",
      "jsonschema==3.2.0\n",
      "jupyter==1.0.0\n",
      "jupyter-client==6.1.0\n",
      "jupyter-console==6.1.0\n",
      "jupyter-core==4.6.3\n",
      "MarkupSafe==1.1.1\n",
      "mistune==0.8.4\n",
      "nbconvert==5.6.1\n",
      "nbformat==5.0.4\n",
      "notebook==6.0.3\n",
      "numpy==1.18.2\n",
      "pandocfilters==1.4.2\n",
      "parso==0.6.2\n",
      "pexpect==4.8.0\n",
      "pickleshare==0.7.5\n",
      "ProductionalizingProject-1==0.5.3\n",
      "prometheus-client==0.7.1\n",
      "prompt-toolkit==3.0.4\n",
      "ptyprocess==0.6.0\n",
      "Pygments==2.6.1\n",
      "pyrsistent==0.15.7\n",
      "python-dateutil==2.8.1\n",
      "pyzmq==19.0.0\n",
      "qtconsole==4.7.1\n",
      "QtPy==1.9.0\n",
      "Send2Trash==1.5.0\n",
      "six==1.14.0\n",
      "terminado==0.8.3\n",
      "testpath==0.4.4\n",
      "tornado==6.0.4\n",
      "traitlets==4.3.3\n",
      "wcwidth==0.1.9\n",
      "webencodings==0.5.1\n",
      "Werkzeug==1.0.0\n",
      "widgetsnbextension==3.5.1\n",
      "zipp==3.1.0\n"
     ]
    }
   ],
   "source": [
    "%%bash\n",
    "source env-tmp/bin/activate\n",
    "pip freeze"
   ]
  },
  {
   "cell_type": "code",
   "execution_count": 49,
   "metadata": {},
   "outputs": [],
   "source": [
    "!rm -r env-tmp"
   ]
  },
  {
   "cell_type": "markdown",
   "metadata": {},
   "source": [
    "# Lab\n",
    "\n",
    "Open [packaging lab][packaging-lab]\n",
    "\n",
    "[packaging-lab]: ./packaging-lab.ipynb"
   ]
  }
 ],
 "metadata": {
  "kernelspec": {
   "display_name": "Python 3",
   "language": "python",
   "name": "python3"
  },
  "language_info": {
   "codemirror_mode": {
    "name": "ipython",
    "version": 3
   },
   "file_extension": ".py",
   "mimetype": "text/x-python",
   "name": "python",
   "nbconvert_exporter": "python",
   "pygments_lexer": "ipython3",
   "version": "3.7.6"
  }
 },
 "nbformat": 4,
 "nbformat_minor": 2
}
