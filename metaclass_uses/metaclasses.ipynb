{
 "cells": [
  {
   "cell_type": "markdown",
   "id": "e11dfae0",
   "metadata": {
    "slideshow": {
     "slide_type": "slide"
    }
   },
   "source": [
    "# Metaclasses"
   ]
  },
  {
   "cell_type": "markdown",
   "id": "c369d737",
   "metadata": {
    "slideshow": {
     "slide_type": "slide"
    }
   },
   "source": [
    "### Meaning of meta\n",
    "```\n",
    "google dictionary: referring to itself or to the conventions of its genre; self-referential\n",
    "\n",
    "merriam dictionary: concerning or providing information about members of its own category\n",
    "```"
   ]
  },
  {
   "cell_type": "markdown",
   "id": "415b16c1",
   "metadata": {
    "slideshow": {
     "slide_type": "fragment"
    }
   },
   "source": [
    "### Metaprogramming\n",
    "\n",
    "Just like metadata is data about data, metaprogramming is writing programs that manipulate programs.\n",
    "\n",
    "```\n",
    "Metaprogramming is a programming technique in which computer programs have the ability to treat other programs as their data. \n",
    "\n",
    "It means that a program can be designed to read, generate, analyze or transform other programs, and even modify itself while running.\n",
    "```"
   ]
  },
  {
   "cell_type": "markdown",
   "id": "2facc8f6",
   "metadata": {
    "slideshow": {
     "slide_type": "fragment"
    }
   },
   "source": [
    "### Metaclasses in Python:\n",
    "\n",
    "* Metaclasses are a way to do metaprogramming in Python.\n",
    "* metaclass is a class whose instances are classes\n",
    "* classes for classes (hence “meta” in their name)."
   ]
  },
  {
   "cell_type": "markdown",
   "id": "660bb85d",
   "metadata": {
    "slideshow": {
     "slide_type": "slide"
    }
   },
   "source": [
    "### Introduction\n",
    "\n",
    "If you've been programming in Python for a while, you might know that everything is an object, and classes create objects/instances.\n",
    "\n",
    "But if everything is an object (and classes are also objects), who creates those classes? This is what we will discuss."
   ]
  },
  {
   "cell_type": "markdown",
   "id": "6b3bfed7",
   "metadata": {
    "slideshow": {
     "slide_type": "slide"
    }
   },
   "source": [
    "In most languages, classes are just pieces of code that describe how to produce an object. \n",
    "\n",
    "That's kinda true in Python too:"
   ]
  },
  {
   "cell_type": "code",
   "execution_count": 1,
   "id": "a4d33b0d",
   "metadata": {
    "slideshow": {
     "slide_type": "fragment"
    }
   },
   "outputs": [
    {
     "name": "stdout",
     "output_type": "stream",
     "text": [
      "<__main__.ObjectCreator object at 0x7fc9589e7220>\n"
     ]
    }
   ],
   "source": [
    "class ObjectCreator(object):\n",
    "    pass\n",
    "\n",
    "my_object = ObjectCreator()\n",
    "print(my_object)"
   ]
  },
  {
   "cell_type": "markdown",
   "id": "d2942de7",
   "metadata": {
    "slideshow": {
     "slide_type": "slide"
    }
   },
   "source": [
    "But classes are more than that in Python. Classes are objects too.\n",
    "\n",
    "Yes, objects."
   ]
  },
  {
   "cell_type": "markdown",
   "id": "0c532384",
   "metadata": {
    "slideshow": {
     "slide_type": "fragment"
    }
   },
   "source": [
    "As soon as you use the keyword class, Python executes it and creates an object. The instruction\n",
    "\n",
    "```python\n",
    ">>> class ObjectCreator(object):\n",
    "...       pass\n",
    "...\n",
    "```\n",
    "\n",
    "creates in memory an object with the name ObjectCreator."
   ]
  },
  {
   "cell_type": "markdown",
   "id": "635d8e84",
   "metadata": {
    "slideshow": {
     "slide_type": "slide"
    }
   },
   "source": [
    "This object (the class) is itself capable of creating objects (the instances), and this is why it's a class.\n",
    "\n",
    "But still, it's an object, and therefore:\n",
    "\n",
    "* you can assign it to a variable\n",
    "* you can copy it\n",
    "* you can add attributes to it\n",
    "* you can pass it as a function parameter"
   ]
  },
  {
   "cell_type": "markdown",
   "id": "15a67370",
   "metadata": {
    "slideshow": {
     "slide_type": "slide"
    }
   },
   "source": [
    "```python\n",
    ">>> class A:\n",
    "...     x = 4\n",
    "...\n",
    ">>> A\n",
    "<class '__main__.A'>\n",
    "\n",
    ">>> a = A()\n",
    ">>> a.x\n",
    "4\n",
    "\n",
    ">>> B = A  # you can assign a class to a variable\n",
    ">>> B\n",
    "<class '__main__.A'>\n",
    "\n",
    ">>> c = B()\n",
    ">>> c.x\n",
    "4\n",
    "\n",
    ">>> A.y = 5  # you can add attributes to a class\n",
    ">>> a.y\n",
    "5\n",
    ">>> c.y\n",
    "5\n",
    "\n",
    ">>> def f(some_class):\n",
    "...     d = some_class()\n",
    "...     print(d)\n",
    "...\n",
    ">>> f(A)  # you can pass a class as a parameter\n",
    "<__main__.A object at 0x7fb52014eaf0>\n",
    "```"
   ]
  },
  {
   "cell_type": "markdown",
   "id": "be2f97a6",
   "metadata": {
    "slideshow": {
     "slide_type": "slide"
    }
   },
   "source": [
    "Classes are objects as well. As a result, a class must have a type. What is the type of a class?"
   ]
  },
  {
   "cell_type": "markdown",
   "id": "21beb333",
   "metadata": {
    "slideshow": {
     "slide_type": "fragment"
    }
   },
   "source": [
    "An object’s type determines the **operations that the object supports** (e.g., “does it have a length?”) and also defines the **possible values for objects** of that type.\n",
    "* Capabilities of data (E.g: Ints can be added 12 + 12 = 24)\n",
    "* Constraints of data (E.g: We cannot add int and str together)\n",
    "* Meaning of data (E.g: datetime actually gives the representation of point in time)"
   ]
  },
  {
   "cell_type": "markdown",
   "id": "2ed5cb45",
   "metadata": {
    "slideshow": {
     "slide_type": "slide"
    }
   },
   "source": [
    "```python\n",
    ">>> class Foo:\n",
    "...     pass\n",
    "...\n",
    ">>> x = Foo()\n",
    "\n",
    ">>> type(x)\n",
    "<class '__main__.Foo'>\n",
    "\n",
    ">>> type(Foo)\n",
    "<class 'type'>\n",
    "\n",
    ">>> type(type)\n",
    "<class 'type'>\n",
    "```"
   ]
  },
  {
   "cell_type": "markdown",
   "id": "735fbfc6",
   "metadata": {
    "slideshow": {
     "slide_type": "fragment"
    }
   },
   "source": [
    "```python\n",
    ">>> type(type)\n",
    "<class 'type'>\n",
    "```"
   ]
  },
  {
   "attachments": {
    "image.png": {
     "image/png": "[encoded data removed]"
    }
   },
   "cell_type": "markdown",
   "id": "90ea8524",
   "metadata": {
    "slideshow": {
     "slide_type": "fragment"
    }
   },
   "source": [
    "![image.png](attachment:image.png)"
   ]
  },
  {
   "cell_type": "markdown",
   "id": "4b1369c5",
   "metadata": {
    "slideshow": {
     "slide_type": "slide"
    }
   },
   "source": [
    "```python\n",
    ">>> print(type(1))\n",
    "<class 'int'>\n",
    "\n",
    ">>> print(type(\"1\"))\n",
    "<class 'str'>\n",
    "\n",
    ">>> def func():\n",
    "...     pass\n",
    "...\n",
    ">>> type(func)\n",
    "<class 'function'>\n",
    "\n",
    ">>> for t in int, float, dict, list, tuple:\n",
    "...     print(type(t))\n",
    "...\n",
    "<class 'type'>\n",
    "<class 'type'>\n",
    "<class 'type'>\n",
    "<class 'type'>\n",
    "<class 'type'>\n",
    "```"
   ]
  },
  {
   "cell_type": "markdown",
   "id": "a018e7a7",
   "metadata": {
    "slideshow": {
     "slide_type": "fragment"
    }
   },
   "source": [
    "This creation of the class object is controlled by a special kind of object\n",
    "called a metaclass.\n",
    "\n",
    "type is a metaclass, of which classes are instances.\n",
    "\n",
    "All classes in Python by default have type as a metaclass."
   ]
  },
  {
   "cell_type": "markdown",
   "id": "96827651",
   "metadata": {
    "slideshow": {
     "slide_type": "fragment"
    }
   },
   "source": [
    "```python\n",
    "class type(object)\n",
    " |  type(object_or_name, bases, dict)\n",
    " |  type(object) -> the object's type\n",
    " |  type(name, bases, dict) -> a new type\n",
    "```"
   ]
  },
  {
   "cell_type": "markdown",
   "id": "2f7433d6",
   "metadata": {
    "slideshow": {
     "slide_type": "slide"
    }
   },
   "source": [
    "```python\n",
    "class Car:\n",
    "    def __init__(self, color):\n",
    "        self._color = color\n",
    "    \n",
    "    def drive(self):\n",
    "        print(\"You are driving a car\")\n",
    "        \n",
    "my_car = Car('red')\n",
    "```\n",
    "\n",
    "```python\n",
    ">>> my_car\n",
    "<__main__.Car object at 0x7fb52014eb50>\n",
    "```"
   ]
  },
  {
   "cell_type": "markdown",
   "id": "eef1bb5e",
   "metadata": {
    "slideshow": {
     "slide_type": "fragment"
    }
   },
   "source": [
    "Inside the instance: All the attributes are stored inside a dictionary\n",
    "\n",
    "```python\n",
    ">>> my_car.__dict__\n",
    "{'_color': 'red'}\n",
    "```"
   ]
  },
  {
   "cell_type": "markdown",
   "id": "0a44b97a",
   "metadata": {
    "slideshow": {
     "slide_type": "fragment"
    }
   },
   "source": [
    "Where is **drive** method? Instance maintains a reference to it's class\n",
    "\n",
    "```python\n",
    ">>> my_car.__class__\n",
    "<class '__main__.Car'>\n",
    "```\n",
    "\n",
    "```python\n",
    ">>> my_car.__class__.__dict__\n",
    "mappingproxy({\n",
    "    '__module__': '__main__', \n",
    "    '__init__': <function Car.__init__ at 0x7fb5081a3c10>, \n",
    "    'drive': <function Car.drive at 0x7fb5000e6dc0>, \n",
    "    '__dict__': <attribute '__dict__' of 'Car' objects>, \n",
    "    '__weakref__': <attribute '__weakref__' of 'Car' objects>, \n",
    "    '__doc__': None})\n",
    "```\n",
    "\n",
    "A mappingproxy is simply a dict with no `__setattr__` method(prevent direct dictionary updates). This helps python speed up simple attribute lookups for classes."
   ]
  },
  {
   "cell_type": "markdown",
   "id": "afcf333f",
   "metadata": {
    "slideshow": {
     "slide_type": "slide"
    }
   },
   "source": [
    "```python\n",
    "class Car:\n",
    "    def __init__(self, color):\n",
    "        self._color = color\n",
    "    \n",
    "    def drive(self):\n",
    "        print(\"You are driving a car\")\n",
    "```"
   ]
  },
  {
   "cell_type": "markdown",
   "id": "de2ed1fb",
   "metadata": {
    "slideshow": {
     "slide_type": "fragment"
    }
   },
   "source": [
    "### Defining a Class Dynamically\n",
    "\n",
    "```python\n",
    "type(name, bases, attributes) \n",
    "```\n",
    "\n",
    "```python\n",
    "def drive(self):\n",
    "    print(\"You are driving a car\")\n",
    "    \n",
    "def init(self, color):\n",
    "    self._color = color\n",
    "    \n",
    "attrs = {'__init__': init, 'drive': drive}\n",
    "superclasses = (object, )\n",
    "\n",
    "Car = type(\"Car\", superclasses, attrs)\n",
    "```\n",
    "\n",
    "This is what Python does when you use the keyword class, and it does so by using a metaclass."
   ]
  },
  {
   "cell_type": "markdown",
   "id": "7fd0abed",
   "metadata": {
    "slideshow": {
     "slide_type": "slide"
    }
   },
   "source": [
    "### What are metaclasses?\n",
    "\n",
    "Metaclasses are the 'stuff' that creates classes.\n",
    "\n",
    "You define classes in order to create objects, right?\n",
    "\n",
    "But we learned that Python classes are objects.\n",
    "\n",
    "Well, metaclasses are what create these objects.\n",
    "\n",
    "\n",
    "Simply stated, a metaclass is an object that knows how to create and\n",
    "manage classes"
   ]
  },
  {
   "cell_type": "markdown",
   "id": "b65645c2",
   "metadata": {
    "slideshow": {
     "slide_type": "fragment"
    }
   },
   "source": [
    "type is the built-in metaclass Python uses, but of course, you can create your own metaclass.\n",
    "\n",
    "All classes in Python by default have type as a metaclass."
   ]
  },
  {
   "cell_type": "markdown",
   "id": "ffe0120a",
   "metadata": {
    "slideshow": {
     "slide_type": "fragment"
    }
   },
   "source": [
    "In Python 2, you can add a `__metaclass__` attribute when you write a class.\n",
    "\n",
    "In Python3, we use `metaclass` keyword.\n",
    "\n",
    "```python\n",
    "class Foo:                   # In Python 3, use the syntax\n",
    "    __metaclass__ = type     # class Foo(metaclass=type)\n",
    "    ...\n",
    "```"
   ]
  },
  {
   "cell_type": "markdown",
   "id": "afed8aa8",
   "metadata": {
    "slideshow": {
     "slide_type": "slide"
    }
   },
   "source": [
    "```python\n",
    "class Foo(object):\n",
    "    __metaclass__ = something...\n",
    "    [...]\n",
    "```\n",
    "\n",
    "If you do so, Python will use the metaclass to create the class `Foo`.\n",
    "\n",
    "Careful, it's tricky.\n",
    "\n",
    "You write class `Foo(object)` first, but the class object Foo is not created in memory yet.\n",
    "\n",
    "Python will look for `__metaclass__` in the class definition. If it finds it, it will use it to create the object class `Foo`. If it doesn't, it will use `type` to create the class."
   ]
  },
  {
   "cell_type": "markdown",
   "id": "afcd2b7e",
   "metadata": {
    "slideshow": {
     "slide_type": "fragment"
    }
   },
   "source": [
    "Now the big question is, what can you put in `__metaclass__`?\n",
    "\n",
    "The answer is something that can create a class.\n",
    "\n",
    "And what can create a class? type, or anything that subclasses or uses it."
   ]
  },
  {
   "cell_type": "markdown",
   "id": "1873f3d3",
   "metadata": {
    "slideshow": {
     "slide_type": "slide"
    }
   },
   "source": [
    "### Object Creation\n",
    "\n",
    "The `__new__()` is a class method that is called to create an instance.\n",
    "\n",
    "The `__init__()` method initializes the attributes of an object and is called immediately after an object has been newly created."
   ]
  },
  {
   "cell_type": "markdown",
   "id": "89fbfce8",
   "metadata": {
    "slideshow": {
     "slide_type": "fragment"
    }
   },
   "source": [
    "The `__new__()` and `__init__()` methods are used together to create and initialize\n",
    "new instances.\n",
    "\n",
    "When an object is created by calling `A(args)`, it is translated into the following steps:\n",
    "\n",
    "```python\n",
    "x = A.__new__(A,args)\n",
    "if isinstance(x, A): x.__init__(args)\n",
    "```"
   ]
  },
  {
   "cell_type": "markdown",
   "id": "e2bcedc4",
   "metadata": {
    "slideshow": {
     "slide_type": "fragment"
    }
   },
   "source": [
    "That `__call__()` method in turn invokes the following:\n",
    "\n",
    "* `__new__()`\n",
    "* `__init__()`"
   ]
  },
  {
   "cell_type": "markdown",
   "id": "28f6bd20",
   "metadata": {
    "slideshow": {
     "slide_type": "fragment"
    }
   },
   "source": [
    "In user-defined objects, it is rare to define `__new__()`, it is usually only defined in metaclasses or in user-defined objects that happen to inherit from one of the immutable types(int, str, tuples, and so on)."
   ]
  },
  {
   "cell_type": "markdown",
   "id": "e57a811d",
   "metadata": {
    "slideshow": {
     "slide_type": "slide"
    }
   },
   "source": [
    "### Uses for metaclasses\n",
    "\n",
    "The primary use of metaclasses is in frameworks that want to assert more control\n",
    "over the definition of user-defined objects.\n",
    "\n",
    "You can use metaclasses to enforce different guidelines on the attributes, methods, and their values.\n",
    "* Domain restriction of values\n",
    "* Implicit conversion of values to custom classes (you might want to hide all of these complexities from users writing the class)\n",
    "* Enforcing different naming conventions and style guidelines (like \"every method should have a docstring\")\n",
    "* Adding new attributes to a class\n",
    "\n",
    "The main reason to use metaclasses over having all of this logic defined in the class definitions itself is to avoid the code repetition throughout the codebase.\n",
    "\n",
    "\n",
    "Real world uses of metaclasses\n",
    "* Abstract base classes\n",
    "* Registration of classes\n",
    "* Creating APIs in libraries and frameworks"
   ]
  },
  {
   "cell_type": "markdown",
   "id": "939ec0a0",
   "metadata": {
    "slideshow": {
     "slide_type": "slide"
    }
   },
   "source": [
    "When a custom metaclass is defined, it typically inherits from type() and reimplements methods such as `__init__()` or `__new__()`.\n",
    "\n",
    "```python\n",
    ">>> class CustomMetaClass(type):\n",
    "...     def __init__(cls, name, bases, attrs):\n",
    "...             for name, value in attrs.items():\n",
    "...                     print('{} :{}'.format(name, value))\n",
    "```\n",
    "\n",
    "```python\n",
    ">>> class SomeClass(metaclass=CustomMetaClass):\n",
    "...     class_attribute = \"Some string\"\n",
    "...\n",
    "__module__ :__main__\n",
    "__qualname__ :SomeClass\n",
    "class_attribute :Some string\n",
    "```"
   ]
  },
  {
   "cell_type": "markdown",
   "id": "2751ed80",
   "metadata": {
    "slideshow": {
     "slide_type": "slide"
    }
   },
   "source": [
    "Here is an example of a metaclass that forces all methods to have a\n",
    "documentation string:\n",
    "\n",
    "```python\n",
    "class DocMeta(type):\n",
    "    def __init__(self, name, bases, dict):\n",
    "        for key, value in dict.items():\n",
    "            # Skip special and private methods\n",
    "            if key.startswith(\"__\"): continue\n",
    "                \n",
    "            # Skip anything not callable\n",
    "            if not hasattr(value, \"__call__\"): continue\n",
    "            \n",
    "            # Check for a doc-string\n",
    "            if not getattr(value, \"__doc__\"):\n",
    "                raise TypeError(\"%s must have a docstring\" % key)\n",
    "            \n",
    "            type.__init__(self,name,bases,dict)\n",
    "```"
   ]
  },
  {
   "cell_type": "markdown",
   "id": "1fd19d92",
   "metadata": {
    "slideshow": {
     "slide_type": "fragment"
    }
   },
   "source": [
    "To use this metaclass, a class needs to explicitly select it. \n",
    "\n",
    "The most common technique for doing this is to first define a base class such as the following:\n",
    "\n",
    "```python\n",
    "class Documented:               # In Python 3, use the syntax\n",
    "    __metaclass__ = DocMeta     # class Documented(metaclass=DocMeta)\n",
    "```\n",
    "\n",
    "```python\n",
    "class Foo(Documented):\n",
    "    def spam(self, a, b):\n",
    "        \"spam does something\"\n",
    "        pass\n",
    "```"
   ]
  },
  {
   "cell_type": "markdown",
   "id": "2a25293e",
   "metadata": {
    "slideshow": {
     "slide_type": "slide"
    }
   },
   "source": [
    "Say we want to use snake_case(after all, it's Python!) for class attributes and method. \n",
    "\n",
    "Can we write a metaclass to change all those camelCase attributes to snake_case?"
   ]
  },
  {
   "cell_type": "markdown",
   "id": "73573194",
   "metadata": {
    "slideshow": {
     "slide_type": "fragment"
    }
   },
   "source": [
    "```python\n",
    "def camel_to_snake(name):\n",
    "    \"\"\"A function that converts camelCase to snake_case.\"\"\"\n",
    "    import re\n",
    "    s1 = re.sub('(.)([A-Z][a-z]+)', r'\\1_\\2', name)\n",
    "    return re.sub('([a-z0-9])([A-Z])', r'\\1_\\2', s1).lower()\n",
    "\n",
    "class SnakeCaseMetaclass(type):\n",
    "    def __new__(snakecase_metaclass, future_class_name,\n",
    "                future_class_parents, future_class_attr):\n",
    "        snakecase_attrs = {}\n",
    "        for name, val in future_class_attr.items():\n",
    "            snakecase_attrs[camel_to_snake(name)] = val\n",
    "        return type(future_class_name, future_class_parents,\n",
    "                    snakecase_attrs)\n",
    "```"
   ]
  },
  {
   "cell_type": "markdown",
   "id": "5aabbc9b",
   "metadata": {
    "slideshow": {
     "slide_type": "fragment"
    }
   },
   "source": [
    "```python\n",
    ">>> class SomeClass(metaclass=SnakeCaseMetaclass):\n",
    "...     camelCaseVar = 5\n",
    "\n",
    ">>> SomeClass.camelCaseVar\n",
    "AttributeError: type object 'SomeClass' has no attribute 'camelCaseVar'\n",
    "\n",
    ">>> SomeClass.camel_case_var\n",
    "5\n",
    "```"
   ]
  },
  {
   "cell_type": "markdown",
   "id": "df34cf78",
   "metadata": {
    "slideshow": {
     "slide_type": "fragment"
    }
   },
   "source": [
    "You might have wondered why we use `__new__` instead of `__init__` here.\n",
    "\n",
    "* `__new__` is actually the first step in creating an instance. It is responsible for returning a new instance of your class.\n",
    "\n",
    "* `__init__`, on the other hand, doesn't return anything. It's only responsible for initializing the instance after it's been created.\n",
    "\n",
    "A simple rule of thumb to remember: Use `new` when you need to control the creation of a new instance; use `init` when you need to control the initialization of a new instance."
   ]
  },
  {
   "cell_type": "markdown",
   "id": "e1855de1",
   "metadata": {
    "slideshow": {
     "slide_type": "slide"
    }
   },
   "source": [
    "### Registration of classes\n",
    "\n",
    "```python\n",
    "handlers = {}\n",
    "\n",
    "class CustomMetaclass(type):\n",
    "    def __new__(meta, name, bases, attrs):\n",
    "        cls = type.__new__(meta, name, bases, attrs)\n",
    "        for ext in attrs[\"formats\"]:\n",
    "            handlers[ext] = cls\n",
    "        return cls\n",
    "\n",
    "class Handler(metaclass=CustomMetaclass):\n",
    "    formats =  ()   #common stuff for all kinds of file format handlers\n",
    "\n",
    "class ImageHandler(Handler):\n",
    "    formats = \"jpeg\", \"png\"\n",
    "\n",
    "class AudioHandler(Handler):\n",
    "    formats = \"mp3\", \"wav\"\n",
    "```\n",
    "\n",
    "```python\n",
    ">>> handlers\n",
    "{\n",
    "    'jpeg': <class '__main__.ImageHandler'>, \n",
    "    'png': <class '__main__.ImageHandler'>, \n",
    "    'mp3': <class '__main__.AudioHandler'>, \n",
    "    'wav': <class '__main__.AudioHandler'>\n",
    "}\n",
    "```"
   ]
  },
  {
   "cell_type": "markdown",
   "id": "dcb04a78",
   "metadata": {
    "slideshow": {
     "slide_type": "slide"
    }
   },
   "source": [
    "### Singleton class in Python\n",
    "\n",
    "```python\n",
    "class SingletonMeta(type):\n",
    "    \n",
    "    _instances = {}\n",
    "    \n",
    "    def __call__(cls, *args, **kwargs):\n",
    "        if cls not in cls._instances:\n",
    "            instance = super().__call__(*args, **kwargs)\n",
    "            cls._instances[cls] = instance\n",
    "        return cls._instances[cls]\n",
    "```\n",
    "\n",
    "```python\n",
    "class Singleton(metaclass=SingletonMeta):\n",
    "    def some_business_logic(self):\n",
    "        \"\"\"\n",
    "        Finally, any singleton should define some business logic, which can be\n",
    "        executed on its instance.\n",
    "        \"\"\"\n",
    "        # ...\n",
    "```\n",
    "\n",
    "```python\n",
    ">>> s1 = Singleton()\n",
    ">>> s2 = Singleton()\n",
    ">>>\n",
    ">>> id(s1) == id(s2)\n",
    "True\n",
    "```"
   ]
  },
  {
   "cell_type": "markdown",
   "id": "760e6e1e",
   "metadata": {
    "slideshow": {
     "slide_type": "fragment"
    }
   },
   "source": [
    "Defining a custom `__call__()` method in the metaclass allows custom behavior when the class is called, e.g. not always creating a new instance."
   ]
  },
  {
   "cell_type": "markdown",
   "id": "2ca67c97",
   "metadata": {
    "slideshow": {
     "slide_type": "slide"
    }
   },
   "source": [
    "### Validation of subclasses\n",
    "\n",
    "We define an algorithm in the base class, but we leave one or more steps (or attributes) as abstract methods (or properties), to be overridden in a subclass. Consider this example:\n",
    "\n",
    "```python\n",
    "import abc\n",
    "\n",
    "class JsonExporter(abc.ABC):\n",
    "    def export(self):\n",
    "        # do some stuff\n",
    "        with open(self._filename) as f:\n",
    "            for row in self._build_row_from_raw_data():\n",
    "                pass  # do some other stuff\n",
    "    \n",
    "    @property\n",
    "    @abc.abstractmethod\n",
    "    def _filename(self):\n",
    "        pass\n",
    "    \n",
    "    @abc.abstractmethod\n",
    "    def _build_row_from_raw_data(self, raw_data):\n",
    "        pass\n",
    "    \n",
    "\n",
    "class InvoicesExporter(JsonExporter):\n",
    "    _filename = 'invoices.json'\n",
    "    \n",
    "    def _build_row_from_raw_data(self, raw_data):\n",
    "        return {'invoice_uuid': raw_data[0]}\n",
    "```"
   ]
  },
  {
   "cell_type": "markdown",
   "id": "e732f4d2",
   "metadata": {
    "slideshow": {
     "slide_type": "slide"
    }
   },
   "source": [
    "If we, for example, would like to check more things, like the uniqueness of filenames or its correctness (e.g. always ends with .json) we can write a metaclass for that as well:"
   ]
  },
  {
   "cell_type": "markdown",
   "id": "bc8b82a0",
   "metadata": {
    "slideshow": {
     "slide_type": "fragment"
    }
   },
   "source": [
    "```python\n",
    "import inspect\n",
    "\n",
    "\"\"\"\n",
    "We inherit from abc metaclass (ABCMeta) to avoid metaclasses conflicts\n",
    "\"\"\"\n",
    "class JsonExporterMeta(abc.ABCMeta):\n",
    "    _filenames = set()\n",
    "    \n",
    "    def __new__(cls, name, bases, namespace):\n",
    "        # first execute abc logic\n",
    "        new_cls = super().__new__(cls, name, bases, namespace)\n",
    "        \n",
    "        \"\"\"\n",
    "        There is no need to run validations against abstract class\n",
    "        \"\"\"\n",
    "        if inspect.isabstract(new_cls):  # 2\n",
    "            return new_cls\n",
    "        \n",
    "        \"\"\"\n",
    "        Validate if _filename is a string\n",
    "        \"\"\"\n",
    "        if not isinstance(namespace['_filename'], str):\n",
    "            raise TypeError(f'_filename attribute of {name} class has to be string!')\n",
    "            \n",
    "        \"\"\"\n",
    "        Validate if a _filename has a .json extension\n",
    "        \"\"\"\n",
    "        if not namespace['_filename'].endswith('.json'):\n",
    "            raise ValueError(f'_filename attribute of {name} class has to end with \".json\"!')\n",
    "            \n",
    "        \"\"\"\n",
    "        Validate uniqueness of _filename among other subclasses.\n",
    "        This uses a metaclass attribute _filenames - a set of strings         \n",
    "        to remember all _filenames of subclasses\n",
    "        \"\"\"\n",
    "        if namespace['_filename'] in cls._filenames:\n",
    "            raise ValueError(f'_filename attribute of {name} class is not unique!')\n",
    "            \n",
    "        cls._filenames.add(namespace['_filename'])\n",
    "        \n",
    "        return new_cls\n",
    "```"
   ]
  },
  {
   "cell_type": "markdown",
   "id": "4de7da70",
   "metadata": {
    "slideshow": {
     "slide_type": "slide"
    }
   },
   "source": [
    "```python\n",
    "\"\"\"\n",
    "Now, we will not be inheriting from abc.ABC but we will use our new metaclass instead\n",
    "\"\"\"\n",
    "class JsonExporter(metaclass=JsonExporterMeta):\n",
    "    pass  # The rest of the class remains unchanged, same as above\n",
    "\n",
    "\n",
    "class BadExporter(JsonExporter):\n",
    "    _filename = 0x1233  # That's going to fail one of the checks\n",
    "    \n",
    "    def _build_row_from_raw_data(self, raw_data):\n",
    "        return {'invoice_uuid': raw_data[0]}\n",
    "    \n",
    "Traceback (most recent call last):\n",
    "  File \"<stdin>\", line 1, in <module>\n",
    "  File \"<stdin>\", line 18, in __new__\n",
    "TypeError: _filename attribute of BadExporter class has to be string!\n",
    "```"
   ]
  },
  {
   "cell_type": "markdown",
   "id": "79eb51fd",
   "metadata": {
    "slideshow": {
     "slide_type": "slide"
    }
   },
   "source": [
    "#### collecting properties ('declarative programming')\n",
    "\n",
    "```python\n",
    "class ImportantField:\n",
    "    def __init__(self, value, name=None):\n",
    "        self.value = value\n",
    "        self.name = name\n",
    "\n",
    "class CollectorMeta(type):\n",
    "    def __new__(meta, name, bases, dct):\n",
    "        important = []\n",
    "        for k, v in dct.items():\n",
    "            if isinstance(v, ImportantField):\n",
    "                if v.name is None:\n",
    "                    v.name = k\n",
    "                important.append(v)\n",
    "        dct['_important'] = important\n",
    "        return type.__new__(meta, name, bases, dct)\n",
    "\n",
    "class MyBase(metaclass=CollectorMeta):\n",
    "    \"\"\"Use regular inheritance to get the metaclass 'for free'\"\"\"\n",
    "    \n",
    "    def __repr__(self):\n",
    "        l = ['<{}'.format(self.__class__.__name__)]\n",
    "        for fld in self._important:\n",
    "            l.append(' {}={}'.format(fld.name, fld.value))\n",
    "        l.append('>')\n",
    "        return ''.join(l)\n",
    "```"
   ]
  },
  {
   "cell_type": "markdown",
   "id": "95a821e3",
   "metadata": {
    "slideshow": {
     "slide_type": "fragment"
    }
   },
   "source": [
    "Here is the \"application-level\" code you'd write\n",
    "\n",
    "```python\n",
    ">>> class MyClass4(MyBase):\n",
    "...     a = ImportantField(1)\n",
    "...     b = ImportantField(2)\n",
    "...     c = ImportantField(3)\n",
    "...\n",
    ">>>\n",
    ">>> MyClass4()\n",
    "<MyClass4 a=1 b=2 c=3>\n",
    ">>>\n",
    ">>> MyClass4._important\n",
    "[<__main__.ImportantField object at 0x7fb5000eb490>, <__main__.ImportantField object at 0x7fb5000eb340>, <__main__.ImportantField object at 0x7fb5000eb790>]\n",
    "```"
   ]
  },
  {
   "cell_type": "markdown",
   "id": "b741d46e",
   "metadata": {
    "slideshow": {
     "slide_type": "slide"
    }
   },
   "source": [
    "Ref: \n",
    "* https://developer.ibm.com/tutorials/ba-metaprogramming-python/\n",
    "* https://stackoverflow.com/questions/100003/what-are-metaclasses-in-python\n",
    "* https://breadcrumbscollector.tech/when-to-use-metaclasses-in-python-5-interesting-use-cases/\n",
    "* https://python-3-patterns-idioms-test.readthedocs.io/en/latest/Metaprogramming.html"
   ]
  }
 ],
 "metadata": {
  "celltoolbar": "Slideshow",
  "kernelspec": {
   "display_name": "Python 3 (ipykernel)",
   "language": "python",
   "name": "python3"
  },
  "language_info": {
   "codemirror_mode": {
    "name": "ipython",
    "version": 3
   },
   "file_extension": ".py",
   "mimetype": "text/x-python",
   "name": "python",
   "nbconvert_exporter": "python",
   "pygments_lexer": "ipython3",
   "version": "3.9.5"
  }
 },
 "nbformat": 4,
 "nbformat_minor": 5
}
