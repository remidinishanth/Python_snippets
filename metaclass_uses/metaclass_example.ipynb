{
 "cells": [
  {
   "cell_type": "markdown",
   "metadata": {},
   "source": [
    "Metaclasses allow the developer to declare an API/interface of classes or subclasses according to one specification, but internally provide more functionality when classes are created"
   ]
  },
  {
   "cell_type": "markdown",
   "metadata": {},
   "source": [
    "**type** in Python enables us to find the type of an object. We can proceed to check the type of object we created above."
   ]
  },
  {
   "cell_type": "code",
   "execution_count": 1,
   "metadata": {},
   "outputs": [
    {
     "data": {
      "text/plain": [
       "function"
      ]
     },
     "execution_count": 1,
     "metadata": {},
     "output_type": "execute_result"
    }
   ],
   "source": [
    "# Functions & Classes\n",
    "def fun():\n",
    "    pass\n",
    "\n",
    "type(fun)"
   ]
  },
  {
   "cell_type": "code",
   "execution_count": 2,
   "metadata": {},
   "outputs": [
    {
     "name": "stdout",
     "output_type": "stream",
     "text": [
      "<__main__.War object at 0x7fef3c742910>\n"
     ]
    }
   ],
   "source": [
    "class War():\n",
    "    pass\n",
    "\n",
    "my_War = War()\n",
    "print(my_War)"
   ]
  },
  {
   "cell_type": "code",
   "execution_count": 3,
   "metadata": {},
   "outputs": [
    {
     "data": {
      "text/plain": [
       "__main__.War"
      ]
     },
     "execution_count": 3,
     "metadata": {},
     "output_type": "execute_result"
    }
   ],
   "source": [
    "type(my_War)"
   ]
  },
  {
   "cell_type": "code",
   "execution_count": 4,
   "metadata": {},
   "outputs": [
    {
     "data": {
      "text/plain": [
       "type"
      ]
     },
     "execution_count": 4,
     "metadata": {},
     "output_type": "execute_result"
    }
   ],
   "source": [
    "type(War)"
   ]
  },
  {
   "cell_type": "code",
   "execution_count": 5,
   "metadata": {},
   "outputs": [
    {
     "data": {
      "text/plain": [
       "type"
      ]
     },
     "execution_count": 5,
     "metadata": {},
     "output_type": "execute_result"
    }
   ],
   "source": [
    "type(type)"
   ]
  },
  {
   "cell_type": "code",
   "execution_count": 6,
   "metadata": {},
   "outputs": [
    {
     "data": {
      "text/plain": [
       "True"
      ]
     },
     "execution_count": 6,
     "metadata": {},
     "output_type": "execute_result"
    }
   ],
   "source": [
    "type(type) == type(War)"
   ]
  },
  {
   "cell_type": "code",
   "execution_count": 9,
   "metadata": {},
   "outputs": [
    {
     "name": "stdout",
     "output_type": "stream",
     "text": [
      "['__class__', '__delattr__', '__dict__', '__dir__', '__doc__', '__eq__', '__format__', '__ge__', '__getattribute__', '__gt__', '__hash__', '__init__', '__init_subclass__', '__le__', '__lt__', '__module__', '__ne__', '__new__', '__reduce__', '__reduce_ex__', '__repr__', '__setattr__', '__sizeof__', '__str__', '__subclasshook__', '__weakref__', 'useful_value']\n"
     ]
    }
   ],
   "source": [
    "# Classes are mutable\n",
    "War.useful_value = 'abcd'\n",
    "print(str(dir(War))) # for compacted view"
   ]
  },
  {
   "cell_type": "code",
   "execution_count": 10,
   "metadata": {},
   "outputs": [
    {
     "ename": "TypeError",
     "evalue": "can't set attributes of built-in/extension type 'type'",
     "output_type": "error",
     "traceback": [
      "\u001b[0;31m---------------------------------------------------------------------------\u001b[0m",
      "\u001b[0;31mTypeError\u001b[0m                                 Traceback (most recent call last)",
      "\u001b[0;32m<ipython-input-10-284a0feba600>\u001b[0m in \u001b[0;36m<module>\u001b[0;34m\u001b[0m\n\u001b[0;32m----> 1\u001b[0;31m \u001b[0mtype\u001b[0m\u001b[0;34m.\u001b[0m\u001b[0museful_value\u001b[0m \u001b[0;34m=\u001b[0m \u001b[0;34m'abcd'\u001b[0m\u001b[0;34m\u001b[0m\u001b[0;34m\u001b[0m\u001b[0m\n\u001b[0m",
      "\u001b[0;31mTypeError\u001b[0m: can't set attributes of built-in/extension type 'type'"
     ]
    }
   ],
   "source": [
    "type.useful_value = 'abcd'"
   ]
  },
  {
   "cell_type": "code",
   "execution_count": 17,
   "metadata": {},
   "outputs": [
    {
     "name": "stdout",
     "output_type": "stream",
     "text": [
      "<__main__.Car object at 0x7fef3c80cc10>\n",
      "['__class__', '__delattr__', '__dict__', '__dir__', '__doc__', '__eq__', '__format__', '__ge__', '__getattribute__', '__gt__', '__hash__', '__init__', '__init_subclass__', '__le__', '__lt__', '__module__', '__ne__', '__new__', '__reduce__', '__reduce_ex__', '__repr__', '__setattr__', '__sizeof__', '__str__', '__subclasshook__', '__weakref__', '_color', 'drive']\n",
      "{'_color': 'red'}\n"
     ]
    }
   ],
   "source": [
    "# Class example\n",
    "class Car:\n",
    "    def __init__(self, color):\n",
    "        self._color = color\n",
    "    \n",
    "    def drive(self):\n",
    "        print(\"You are driving the car\")\n",
    "\n",
    "my_car = Car('red')\n",
    "\n",
    "print(my_car)\n",
    "\n",
    "print(str(dir(my_car)))"
   ]
  },
  {
   "cell_type": "code",
   "execution_count": 19,
   "metadata": {},
   "outputs": [
    {
     "data": {
      "text/plain": [
       "{'_color': 'red'}"
      ]
     },
     "execution_count": 19,
     "metadata": {},
     "output_type": "execute_result"
    }
   ],
   "source": [
    "# inside the instance\n",
    "my_car.__dict__"
   ]
  },
  {
   "cell_type": "code",
   "execution_count": 21,
   "metadata": {},
   "outputs": [
    {
     "data": {
      "text/plain": [
       "__main__.Car"
      ]
     },
     "execution_count": 21,
     "metadata": {},
     "output_type": "execute_result"
    }
   ],
   "source": [
    "# inside the class\n",
    "my_car.__class__"
   ]
  },
  {
   "cell_type": "code",
   "execution_count": 26,
   "metadata": {},
   "outputs": [
    {
     "data": {
      "text/plain": [
       "type"
      ]
     },
     "execution_count": 26,
     "metadata": {},
     "output_type": "execute_result"
    }
   ],
   "source": [
    "my_car.__class__.__class__"
   ]
  },
  {
   "cell_type": "code",
   "execution_count": 22,
   "metadata": {},
   "outputs": [
    {
     "data": {
      "text/plain": [
       "mappingproxy({'__module__': '__main__',\n",
       "              '__init__': <function __main__.Car.__init__(self, color)>,\n",
       "              'drive': <function __main__.Car.drive(self)>,\n",
       "              '__dict__': <attribute '__dict__' of 'Car' objects>,\n",
       "              '__weakref__': <attribute '__weakref__' of 'Car' objects>,\n",
       "              '__doc__': None})"
      ]
     },
     "execution_count": 22,
     "metadata": {},
     "output_type": "execute_result"
    }
   ],
   "source": [
    "my_car.__class__.__dict__"
   ]
  },
  {
   "cell_type": "code",
   "execution_count": 23,
   "metadata": {},
   "outputs": [
    {
     "data": {
      "text/plain": [
       "(object,)"
      ]
     },
     "execution_count": 23,
     "metadata": {},
     "output_type": "execute_result"
    }
   ],
   "source": [
    "# inside the object\n",
    "my_car.__class__.__bases__"
   ]
  },
  {
   "cell_type": "code",
   "execution_count": 24,
   "metadata": {},
   "outputs": [
    {
     "data": {
      "text/plain": [
       "dict_keys(['__repr__', '__hash__', '__str__', '__getattribute__', '__setattr__', '__delattr__', '__lt__', '__le__', '__eq__', '__ne__', '__gt__', '__ge__', '__init__', '__new__', '__reduce_ex__', '__reduce__', '__subclasshook__', '__init_subclass__', '__format__', '__sizeof__', '__dir__', '__class__', '__doc__'])"
      ]
     },
     "execution_count": 24,
     "metadata": {},
     "output_type": "execute_result"
    }
   ],
   "source": [
    "object.__dict__.keys()"
   ]
  },
  {
   "cell_type": "code",
   "execution_count": 30,
   "metadata": {},
   "outputs": [
    {
     "name": "stdout",
     "output_type": "stream",
     "text": [
      "<class 'type'>\n",
      "<class '__main__.MyMeta'>\n",
      "<class '__main__.MyMeta'>\n"
     ]
    }
   ],
   "source": [
    "# When defining a class and no metaclass is defined the default type metaclass will be used.\n",
    "class MyMeta(type):\n",
    "    pass\n",
    "\n",
    "class MyClass(metaclass=MyMeta):\n",
    "    pass\n",
    "\n",
    "class MySubclass(MyClass):\n",
    "    pass\n",
    "\n",
    "print(type(MyMeta))\n",
    "print(type(MyClass))\n",
    "print(type(MySubclass))\n",
    "\n",
    "# REF: https://docs.python.org/3/reference/datamodel.html#metaclasses"
   ]
  },
  {
   "cell_type": "markdown",
   "metadata": {},
   "source": [
    "`__new__` and `__init__`\n",
    "\n",
    "Metaclasses can also be defined in one of the two ways shown below. We'll explain the difference between them below."
   ]
  },
  {
   "cell_type": "code",
   "execution_count": 28,
   "metadata": {},
   "outputs": [],
   "source": [
    "class MetaOne(type):\n",
    "    def __new__(cls, name, bases, dict):\n",
    "        pass\n",
    "\n",
    "class MetaTwo(type):\n",
    "    def __init__(self, name, bases, dict):\n",
    "        pass"
   ]
  },
  {
   "cell_type": "markdown",
   "metadata": {},
   "source": [
    "`__new__` is used when one wants to define dict or bases tuples before the class is created. The return value of `__new__`is usually an instance of `cls`. `__new__` allows subclasses of immutable types to customize instance creation. It can be overridden in custom metaclasses to customize class creation. `__init__` is usually called after the object has been created so as to initialize it."
   ]
  },
  {
   "cell_type": "code",
   "execution_count": 36,
   "metadata": {},
   "outputs": [
    {
     "name": "stdout",
     "output_type": "stream",
     "text": [
      "3\n",
      "3.14\n"
     ]
    }
   ],
   "source": [
    "# Classes are objects, too\n",
    "\n",
    "# Classes are first-class objects in Python, just like class instances (as well as functions & methods).\n",
    "\n",
    "# Therefore, classes can be assigned to variables and passed as arguments.\n",
    "\n",
    "# Consider first a trivial example:\n",
    "def as_number(n, class_=int):\n",
    "    return class_(n)\n",
    "\n",
    "# With no \"class_\" argument, just returns int(n). \n",
    "# But it accepts a class as an argument to override behavior.\n",
    "\n",
    "print(as_number(\"3\")) # 3\n",
    "print(as_number(\"3.14\", float)) # 3.14\n",
    "\n",
    "# Actually, that function would take any callable, including classes"
   ]
  },
  {
   "cell_type": "code",
   "execution_count": 40,
   "metadata": {},
   "outputs": [
    {
     "name": "stdout",
     "output_type": "stream",
     "text": [
      "mammal\n",
      "plant\n"
     ]
    }
   ],
   "source": [
    "import random\n",
    "class Cat(object):\n",
    "    kingdom = 'mammal'\n",
    "    def __init__(self, sex, name=None):\n",
    "        self.sex = sex\n",
    "        self.name = name\n",
    "        if not self.name:\n",
    "            self.name = random.choice({\n",
    "                'm': ['Edgar', 'Sabin', 'Setzer'],\n",
    "                'f': ['Terra', 'Celes', 'Relm'],\n",
    "            })[self.sex[0]]\n",
    "    def adopt(self, owner): [...]\n",
    "        \n",
    "shadow = Cat('male', name='Shadow')\n",
    "\n",
    "# First, a new objet is created, assigned to the shadow variable, and given the type of Cat\n",
    "\n",
    "# Class variables are assigned as references back to the variables on the class\n",
    "\n",
    "print(shadow.kingdom)\n",
    "Cat.kingdom = 'plant'\n",
    "print(shadow.kingdom)\n",
    "\n",
    "# Methods on the class are bound to the instance(This is what makes the \"self\" magic work).\n",
    "\n",
    "# Cat.adopt(owner_obj) raises error saying that adopt must be called with Cat instance\n",
    "\n",
    "# After the instance has been setup, __init__ runs\n",
    "\n",
    "# Key point to take away from the above is that instances are constructed at runtime form the classes."
   ]
  },
  {
   "cell_type": "code",
   "execution_count": 45,
   "metadata": {},
   "outputs": [],
   "source": [
    "def adopt(self, owner):\n",
    "    pass\n",
    "\n",
    "def init(self, sex, name=None):\n",
    "    self.sex = sex\n",
    "    self.name = name\n",
    "    if not self.name:\n",
    "        self.name = random.choice({\n",
    "            'm': ['Edgar', 'Sabin', 'Setzer'],\n",
    "            'f': ['Terra', 'Celes', 'Relm'],\n",
    "        })[self.sex[0]]\n",
    "        \n",
    "\n",
    "attrs = {'__init__': init, 'adopt': adopt,\n",
    "       'kingdom': 'mammal',}\n",
    "\n",
    "superclasses = (object, )\n",
    "\n",
    "Cat = type('Cat', superclasses, attrs)\n",
    "\n",
    "# Last statement is a call to the type constructor, \n",
    "# which takes three positional arguments class name, superclasses, attributes\n",
    "\n",
    "# Two methods are being called type.__new__ and type.__init__"
   ]
  },
  {
   "cell_type": "code",
   "execution_count": 29,
   "metadata": {},
   "outputs": [],
   "source": [
    "# Singleton Design using a Metaclass\n",
    "class SingletonMeta(type):\n",
    "    _instances = {}\n",
    "    def __call__(cls, *args, **kwargs):\n",
    "        if cls not in cls._instances:\n",
    "            cls._instances[cls] = super(SingletonMeta,cls).__call__(*args, **kwargs)\n",
    "        return cls._instances[cls]\n",
    "\n",
    "class SingletonClass(metaclass=SingletonMeta):\n",
    "    pass"
   ]
  },
  {
   "cell_type": "markdown",
   "metadata": {},
   "source": [
    "Defining classes\n",
    "\n",
    "```python\n",
    "class ClassName(Parent1, ...):\n",
    "\n",
    "def __new__(cls, ...):\n",
    "    \n",
    "def __init__(self, ...):\n",
    "```\n",
    "\n",
    "\n",
    "\n",
    "Attribute Lookup\n",
    "\n",
    "```python\n",
    "__getattr__(self, name)\n",
    "\n",
    "__getattribute__(self, name)\n",
    "```"
   ]
  },
  {
   "cell_type": "code",
   "execution_count": null,
   "metadata": {},
   "outputs": [],
   "source": []
  }
 ],
 "metadata": {
  "kernelspec": {
   "display_name": "Python 3",
   "language": "python",
   "name": "python3"
  },
  "language_info": {
   "codemirror_mode": {
    "name": "ipython",
    "version": 3
   },
   "file_extension": ".py",
   "mimetype": "text/x-python",
   "name": "python",
   "nbconvert_exporter": "python",
   "pygments_lexer": "ipython3",
   "version": "3.8.0"
  }
 },
 "nbformat": 4,
 "nbformat_minor": 1
}
