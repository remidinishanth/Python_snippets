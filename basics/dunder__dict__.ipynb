{
 "cells": [
  {
   "cell_type": "markdown",
   "id": "455b2239",
   "metadata": {},
   "source": [
    "#### module `__dict__`\n",
    "A special attribute of every module is `__dict__`. This is the dictionary containing the module’s symbol table.\n",
    "\n",
    "Modifying this dictionary will actually change the module’s symbol table, but direct assignment to the `__dict__ `attribute is not possible (you can write `m.__dict__['a'] = 1`, which defines `m.a` to be `1`, but you can’t write `m.__dict__ = {}`). Modifying `__dict__` directly is not recommended.\n",
    "\n",
    "Modules built into the interpreter are written like this: `<module 'sys' (built-in)>`. If loaded from a file, they are written as `<module 'os' from '/usr/local/lib/pythonX.Y/os.pyc'>`.\n",
    "\n",
    "\n",
    "#### `object.__dict__`\n",
    "\n",
    "A dictionary or other mapping object used to store an object’s (writable) attributes.\n"
   ]
  },
  {
   "cell_type": "code",
   "execution_count": 16,
   "id": "2451add9",
   "metadata": {},
   "outputs": [
    {
     "name": "stdout",
     "output_type": "stream",
     "text": [
      "{}\n",
      "{'temp': 1}\n",
      "1\n"
     ]
    }
   ],
   "source": [
    "def func():\n",
    "    pass\n",
    "\n",
    "print(func.__dict__)\n",
    "\n",
    "func.temp = 1\n",
    "\n",
    "print(func.__dict__)\n",
    "\n",
    "print(func.__dict__['temp'])"
   ]
  },
  {
   "cell_type": "markdown",
   "id": "9d8be4b7",
   "metadata": {},
   "source": [
    "`\"eggs\" in spam.__dict__` is `True` if and only if `spam` has a member or method named `eggs`."
   ]
  },
  {
   "cell_type": "code",
   "execution_count": 13,
   "id": "be416312",
   "metadata": {},
   "outputs": [
    {
     "name": "stdout",
     "output_type": "stream",
     "text": [
      "{'__module__': '__main__', 'a': 1, 'temp_function': <function TempClass.temp_function at 0x7fafe0105c10>, '__dict__': <attribute '__dict__' of 'TempClass' objects>, '__weakref__': <attribute '__weakref__' of 'TempClass' objects>, '__doc__': None}\n"
     ]
    }
   ],
   "source": [
    "class TempClass:\n",
    "    a = 1\n",
    "    def temp_function(self):\n",
    "        pass\n",
    "\n",
    "print(TempClass.__dict__)"
   ]
  },
  {
   "cell_type": "code",
   "execution_count": 52,
   "id": "1dbde4ef",
   "metadata": {},
   "outputs": [
    {
     "data": {
      "text/plain": [
       "mappingproxy({'__module__': '__main__',\n",
       "              '__dict__': <attribute '__dict__' of 'A' objects>,\n",
       "              '__weakref__': <attribute '__weakref__' of 'A' objects>,\n",
       "              '__doc__': None})"
      ]
     },
     "execution_count": 52,
     "metadata": {},
     "output_type": "execute_result"
    }
   ],
   "source": [
    "class A(object): pass\n",
    "\n",
    "A.__dict__\n",
    "\n",
    "\"\"\"\n",
    "mappingproxy({'__module__': '__main__',\n",
    "              '__dict__': <attribute '__dict__' of 'A' objects>,\n",
    "              '__weakref__': <attribute '__weakref__' of 'A' objects>,\n",
    "              '__doc__': None})\n",
    "\"\"\"\n",
    "\n",
    "type(A.__dict__)  # <class 'mappingproxy'>\n",
    "\n",
    "a = A()\n",
    "\n",
    "type(a.__dict__)  # <class 'dict'>\n",
    "\n",
    "type(a)   # <class '__main__.A'>\n",
    "\n",
    "type(A)   # <class 'type'>\n",
    "\n",
    "type(type.__dict__)  # <class 'mappingproxy'>\n",
    "\n",
    "\n",
    "# Let's check what's A.__dict__['__dict__']\n",
    "\n",
    "A.__dict__['__dict__']  # <attribute '__dict__' of 'A' objects>\n",
    "\n",
    "type(A.__dict__['__dict__'])  # <class 'getset_descriptor'>\n",
    "\n",
    "assert a.__dict__ == A.__dict__['__dict__'].__get__(a)\n",
    "\n",
    "assert A.__dict__ == type.__dict__['__dict__'].__get__(A)\n",
    "\n",
    "# From the above example, it seems that instance attributes are stored by their class,\n",
    "# and class attributes are stored by their metaclass. This is also validated by:\n",
    "\n",
    "assert a.__dict__ == A.__getattribute__(a, '__dict__')\n",
    "assert A.__dict__ == type.__getattribute__(A, '__dict__')\n",
    "\n",
    "vars(A)"
   ]
  },
  {
   "cell_type": "markdown",
   "id": "d68af4fe",
   "metadata": {},
   "source": [
    "Read more about this at [descriptor-protocol](https://docs.python.org/3/howto/descriptor.html#descriptor-protocol)\n",
    "\n",
    "The short version:\n",
    "\n",
    "* For an instance a of a class `A`, access to `a.__dict__` is provided by `A.__dict__['__dict__']` which is the same as `vars(A)['__dict__']`.\n",
    "* For a class A, access to `A.__dict__` is provided by `type.__dict__['__dict__']` (in theory) which is the same as `vars(type)['__dict__']`."
   ]
  },
  {
   "cell_type": "code",
   "execution_count": 26,
   "id": "b7cdc7be",
   "metadata": {},
   "outputs": [
    {
     "ename": "AttributeError",
     "evalue": "'method' object has no attribute 'whoami'",
     "output_type": "error",
     "traceback": [
      "\u001b[0;31m---------------------------------------------------------------------------\u001b[0m",
      "\u001b[0;31mAttributeError\u001b[0m                            Traceback (most recent call last)",
      "\u001b[0;32m<ipython-input-26-47023bb7c11c>\u001b[0m in \u001b[0;36m<module>\u001b[0;34m\u001b[0m\n\u001b[1;32m      5\u001b[0m \u001b[0mc\u001b[0m \u001b[0;34m=\u001b[0m \u001b[0mC\u001b[0m\u001b[0;34m(\u001b[0m\u001b[0;34m)\u001b[0m\u001b[0;34m\u001b[0m\u001b[0;34m\u001b[0m\u001b[0m\n\u001b[1;32m      6\u001b[0m \u001b[0;34m\u001b[0m\u001b[0m\n\u001b[0;32m----> 7\u001b[0;31m \u001b[0mc\u001b[0m\u001b[0;34m.\u001b[0m\u001b[0mmethod\u001b[0m\u001b[0;34m.\u001b[0m\u001b[0mwhoami\u001b[0m \u001b[0;34m=\u001b[0m \u001b[0;34m'my name is method'\u001b[0m  \u001b[0;31m# can't set on the method\u001b[0m\u001b[0;34m\u001b[0m\u001b[0;34m\u001b[0m\u001b[0m\n\u001b[0m",
      "\u001b[0;31mAttributeError\u001b[0m: 'method' object has no attribute 'whoami'"
     ]
    }
   ],
   "source": [
    "class C:\n",
    "    def method(self):\n",
    "        pass\n",
    "\n",
    "c = C()\n",
    "\n",
    "c.method.whoami = 'my name is method'  # can't set on the method"
   ]
  },
  {
   "cell_type": "code",
   "execution_count": 27,
   "id": "39ad795e",
   "metadata": {},
   "outputs": [
    {
     "data": {
      "text/plain": [
       "'my name is method'"
      ]
     },
     "execution_count": 27,
     "metadata": {},
     "output_type": "execute_result"
    }
   ],
   "source": [
    "c.method.__func__.whoami = 'my name is method'\n",
    "c.method.whoami"
   ]
  },
  {
   "cell_type": "code",
   "execution_count": null,
   "id": "97692605",
   "metadata": {},
   "outputs": [],
   "source": []
  }
 ],
 "metadata": {
  "kernelspec": {
   "display_name": "Python 3",
   "language": "python",
   "name": "python3"
  },
  "language_info": {
   "codemirror_mode": {
    "name": "ipython",
    "version": 3
   },
   "file_extension": ".py",
   "mimetype": "text/x-python",
   "name": "python",
   "nbconvert_exporter": "python",
   "pygments_lexer": "ipython3",
   "version": "3.8.0"
  }
 },
 "nbformat": 4,
 "nbformat_minor": 5
}
